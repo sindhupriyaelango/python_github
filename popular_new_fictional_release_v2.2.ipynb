{
 "cells": [
  {
   "cell_type": "markdown",
   "metadata": {},
   "source": [
    "## Popular Fiction In The New Release"
   ]
  },
  {
   "cell_type": "markdown",
   "metadata": {},
   "source": [
    "Objective:\n",
    "   \n",
    "   Find the top fictional books for each month from the newly released section, based on the average rating given by readers. At the end of each month, i want to read newly released fictional book which has highest avg rating. I want to automate the process of searching the books with highest avg rating in goodreads and then get the links to order them from bookdepository in my mail.\n",
    "\n",
    "Websites uesd: www.goodreads.com, www.bookdepository.com\n",
    "\n",
    "How to solve the problem using python\n",
    "1. Get the data (booktitle,author,average rating,etc)from www.goodreads.com website and save it in a csv file to make data analysis. This is done using HTTP requests using python's request library and pulling data out of html files with BeautifulSoup library.\n",
    "\n",
    "\n",
    "2. Clean the data extracted from goodreads website. split the data into seperate columns if requires, check for null and NaN values.\n",
    "\n",
    "\n",
    "3. Analyse the data and identify the Top n books based on average rating. For the top n books show the no of ratings and reviews in visual representation with the help of plotting library plotly.\n",
    "\n",
    "\n",
    "4. Generate an eMail with will inculde corresponding bookdepository links (www.bookdepository.com) for each top n book for ordering\n",
    "\n",
    "\n",
    "Individual Project by Elango Sindhu Priya\n"
   ]
  },
  {
   "cell_type": "code",
   "execution_count": null,
   "metadata": {},
   "outputs": [],
   "source": [
    "#import the libraries"
   ]
  },
  {
   "cell_type": "code",
   "execution_count": 293,
   "metadata": {},
   "outputs": [],
   "source": [
    "import requests\n",
    "from bs4 import BeautifulSoup\n",
    "import datetime as dt\n",
    "from tqdm import tqdm as pb\n",
    "import pandas as pd\n",
    "from IPython.display import display\n",
    "import seaborn as sns \n",
    "\n",
    "import plotly.graph_objs as go\n",
    "from plotly.offline import download_plotlyjs, init_notebook_mode, plot, iplot\n",
    "\n",
    "import smtplib\n",
    "import os\n",
    "from email.mime.text import MIMEText\n",
    "from email.mime.image import MIMEImage\n",
    "from email.mime.multipart import MIMEMultipart"
   ]
  },
  {
   "cell_type": "code",
   "execution_count": 2,
   "metadata": {},
   "outputs": [
    {
     "data": {
      "text/html": [
       "        <script type=\"text/javascript\">\n",
       "        window.PlotlyConfig = {MathJaxConfig: 'local'};\n",
       "        if (window.MathJax) {MathJax.Hub.Config({SVG: {font: \"STIX-Web\"}});}\n",
       "        if (typeof require !== 'undefined') {\n",
       "        require.undef(\"plotly\");\n",
       "        requirejs.config({\n",
       "            paths: {\n",
       "                'plotly': ['https://cdn.plot.ly/plotly-latest.min']\n",
       "            }\n",
       "        });\n",
       "        require(['plotly'], function(Plotly) {\n",
       "            window._Plotly = Plotly;\n",
       "        });\n",
       "        }\n",
       "        </script>\n",
       "        "
      ]
     },
     "metadata": {},
     "output_type": "display_data"
    }
   ],
   "source": [
    "init_notebook_mode(connected=True)"
   ]
  },
  {
   "cell_type": "code",
   "execution_count": null,
   "metadata": {},
   "outputs": [],
   "source": [
    "#to display all the rows\n",
    "pd.set_option('display.max_rows', df.shape[0]+1)\n",
    "#pd.options.display.max_columns = None"
   ]
  },
  {
   "cell_type": "markdown",
   "metadata": {},
   "source": [
    "## Define Functions"
   ]
  },
  {
   "cell_type": "code",
   "execution_count": 424,
   "metadata": {},
   "outputs": [],
   "source": [
    "last_month = (pd.Period(dt.datetime.now(), 'M') - 1).strftime('%B')\n",
    "url=\"https://www.goodreads.com/genres/new_releases/fiction\"\n",
    "\n",
    "# func - send the HTTP request and use BeautifulSoup to pull out the data from response\n",
    "def get_soup(url, headers=None):\n",
    "    resp = requests.get(url, headers=headers)\n",
    "    data_html = resp.text\n",
    "    soup = BeautifulSoup(data_html)\n",
    "    return soup\n",
    "\n",
    "#to get the last month's year\n",
    "def year():\n",
    "    last_year = (pd.Period(dt.datetime.now(),'Y') - 1).strftime('%Y')\n",
    "    current_year = pd.Period(dt.datetime.now(),'Y').strftime('%Y')\n",
    "    if last_month=='December':\n",
    "        return last_year\n",
    "    else:\n",
    "        return current_year\n",
    "    \n",
    "#data extraction through request library\n",
    "def data_extraction():\n",
    "    #url=\"https://www.goodreads.com/genres/new_releases/fiction\"\n",
    "    rows= []\n",
    "    soup = get_soup(url)   \n",
    "    for tag_a in pb(soup.find_all(\"a\")):\n",
    "        book_link = str(tag_a.get(\"href\"))\n",
    "        if book_link.startswith(\"/book/show\"):\n",
    "            fullurl = \"https://www.goodreads.com\" + book_link\n",
    "            soup = get_soup(fullurl)\n",
    "            BookTitle = (soup.find(\"h1\", {\"id\": \"bookTitle\"})).text.strip()\n",
    "            AuthorName = (soup.find(\"span\", {\"itemprop\": \"name\"})).text\n",
    "            Avg_Rating = (soup.find(\"span\", {\"itemprop\": \"ratingValue\"})).text\n",
    "            Rating_Count = (soup.find(\"meta\", {\"itemprop\": \"ratingCount\"})).get(\"content\")\n",
    "            Review_count = (soup.find(\"meta\", {\"itemprop\": \"reviewCount\"})).get(\"content\")\n",
    "            desc = (soup.find(\"div\", {\"id\": \"details\"}))\n",
    "            if desc and len(desc.find_all(\"div\", {\"class\": \"row\"})) == 2:\n",
    "                desc_str= desc.find_all(\"div\", {\"class\": \"row\"})[1].text.strip()\n",
    "                Page_Count= desc.find_all(\"div\", {\"class\": \"row\"})[0].text.strip()\n",
    "            row = (BookTitle,AuthorName,Avg_Rating,Rating_Count,Review_count,desc_str,Page_Count)\n",
    "            rows.append(row)\n",
    "    df = pd.DataFrame(rows)\n",
    "    columns = ['BookTitle','AuthorName','Avg_Rating','No_of_Rating','No_of_Review','Description','Page_Count']\n",
    "    df.to_csv(f'GoodReads_NewRelease_Info_raw_{last_month}.csv',index = False, header=columns)\n",
    "    print(\"-----Data extraction completed-----\")\n",
    "    print(\"Extracted data is stored in csv file\")\n",
    "    \n",
    "def data_cleaning():\n",
    "    #open the dataset\n",
    "    File_name = f\"GoodReads_NewRelease_Info_raw_{last_month}.csv\"\n",
    "    df = pd.read_csv(File_name)\n",
    "    #split the Description column into Publication_Month,Publication_Year, Publication_Company using string split()\n",
    "    desc_split = df['Description'].str.split(\"\\n\",expand = True) #set expand = True to split into two columns\n",
    "    df[\"Publication_Date\"]= desc_split[1].str.strip()\n",
    "    df[\"Publication_Company\"]= desc_split[2].str.strip()\n",
    "\n",
    "    pcomp_split = df[\"Publication_Company\"].str.split(\"by\",n=1,expand = True) #n=1 max seperation in a string\n",
    "    df[\"Publication_Company\"] = pcomp_split[1].str.strip()\n",
    "\n",
    "    date_split = df[\"Publication_Date\"].str.split(\" \",expand = True) \n",
    "    df['Publication_Month'] =  date_split[0].str.strip()\n",
    "    df['Publication_Year'] =  date_split[2].str.strip()\n",
    "\n",
    "    df.drop(columns =[\"Description\"], inplace = True) # drop the column\n",
    "    df.drop(columns =[\"Publication_Date\"], inplace = True) # drop the column\n",
    "    #Filter the dataset - to include only the data from October 2019\n",
    "    df = df[(df.Publication_Month == last_month)&(df.Publication_Year == year())]\n",
    "    \n",
    "    df['Page_NO'] = df['Page_Count'].str.extract('(\\d+)', expand=True) #to get the page no \\d -no +-multiple times\n",
    "    df[\"Page_NO\"].fillna(0, inplace = True) \n",
    "    df[\"Page_NO\"] = df[\"Page_NO\"].astype(int) \n",
    "    desc_split = df['Page_Count'].str.split(\",\",expand = True) #set expand = True to split into  columns\n",
    "    df[\"Type\"]= desc_split[0].str.strip()\n",
    "    df[\"Type\"].replace(to_replace= '([0-9]+ )\\w+',value='No format',regex=True,inplace=True)\n",
    "    df.drop(columns =[\"Page_Count\"], inplace = True) # drop the column\n",
    "\n",
    "    # to ensure Avg_rating does not have NaN values\n",
    "    bool_series = pd.notnull(df[\"Avg_Rating\"])\n",
    "    \n",
    "    #check for null/Nan values in dataframe\n",
    "    nan_values = df.isna().sum()\n",
    "    print(\"sum of NaN values in each column:\\n\",nan_values)\n",
    "    \n",
    "    print(\"\\nTypes of each column:\\n\",df.dtypes) # print the column dtype\n",
    "    \n",
    "    #save the cleansed dataset into a csv file\n",
    "    df.to_csv(f\"GoodReads_NewRelease_Info_clean_{last_month}.csv\",index = False)\n",
    "    print(\"\\n-----Data cleaning completed-----\")\n",
    "    print(\"New csv file with cleansed data is created\")\n",
    "\n",
    "def color_negative_red(value):\n",
    "    if value > 0 and value < 300:\n",
    "        color = 'green'\n",
    "    elif value ==0:\n",
    "        color = 'red'\n",
    "    else:\n",
    "        color = 'black'\n",
    "    return 'color: %s' % color\n",
    "\n",
    "def color_negative_green(value):\n",
    "    if value == 'Kindle Edition':\n",
    "        color = 'blue'\n",
    "    elif value == 'ebook':\n",
    "        color = 'darkorange'\n",
    "    else:\n",
    "        color = 'black'\n",
    "    return 'color: %s' % color\n",
    "\n",
    "def clean_data():\n",
    "    File_name = f\"GoodReads_NewRelease_Info_clean_{last_month}.csv\"\n",
    "    df = pd.read_csv(File_name)\n",
    "    cm = sns.light_palette(\"green\", as_cmap=True)\n",
    "    print(\"\\n\\n*Page_NO-green - quick read books with less than 300 pages\")\n",
    "    print(\"*Page_NO-yellow - book with highest no of pages\")\n",
    "    display(df.style\n",
    "    .applymap(color_negative_red, subset=['Page_NO'])\n",
    "    .applymap(color_negative_green, subset=['Type'])\n",
    "    .background_gradient(cmap=cm,subset=['Avg_Rating','No_of_Rating','No_of_Review'])\n",
    "    .highlight_null(null_color='red')\n",
    "    .highlight_max(subset=['Page_NO']))\n",
    "    \n",
    "def data_analyse():\n",
    "    File_name = f\"GoodReads_NewRelease_Info_clean_{last_month}.csv\"\n",
    "    df = pd.read_csv(File_name)\n",
    "    # to find top books based on the Avg_Rating\n",
    "    Avg_Rating_df = df.sort_values('Avg_Rating',ascending=False).copy()\n",
    "    #display the top 10 books based on Avg_Rating\n",
    "    Avg_Rating_df[['BookTitle','Avg_Rating']].head(10)\n",
    "    #plot the grapg to show the no of ratings and review for each\\ top n books having highest Avg_Rating\n",
    "    df1 = (df.nlargest(10,\"Avg_Rating\"))\n",
    "    objs = [\n",
    "        go.Bar(x=df1.BookTitle, y=df1.No_of_Rating, name=\"No of Rating\",marker=dict(color='rgb(49,130,189)'),text=df1['Avg_Rating']),\n",
    "        go.Bar(x=df1.BookTitle, y=df1.No_of_Review, name=\"No of Review\",text=df1['Avg_Rating']),\n",
    "    ]\n",
    "    layout = go.Layout(\n",
    "        title='Top 10 Books With Highest Average Rating'\n",
    "    )\n",
    "    fig = go.Figure(data=objs, layout=layout)\n",
    "    iplot(fig)\n",
    "    #catef=gorize & group_by the books based on Avg_Rating collumn\n",
    "    #plot to show the percantage of books in each category\n",
    "    def func(x):\n",
    "        if x < 3.5:\n",
    "            return \"3.5 and less\"\n",
    "        elif x < 4.5:\n",
    "            return \"4.5-3.5\"\n",
    "        else:\n",
    "            return \"4.5-5.0\"\n",
    "    df[\"Rating_range\"] = df.Avg_Rating.apply(func)\n",
    "    res = df.groupby(\"Rating_range\")[\"Avg_Rating\"].count()\n",
    "    labels = ['3.5 and less','4.5-3.5','4.5-5.0']\n",
    "    values = [res[0],res[1],res[2]]\n",
    "    layout = go.Layout(title='Percantage of Books under Each Rating Category')\n",
    "    fig = go.Figure(data=[go.Pie(labels=labels, values=values)],layout=layout)\n",
    "    #fig.show()\n",
    "    iplot(fig)\n",
    "    df2 = df[(df['Page_NO'] > 0) & (df['Page_NO'] <=300)]\n",
    "    objs = [\n",
    "            go.Bar(x=df2.BookTitle, y=df2.Page_NO, name=\"Page count\",text=df2['Avg_Rating']),\n",
    "        ]\n",
    "    layout = go.Layout(\n",
    "            title='Quick Read Books with less than 300 Pages'\n",
    "        )\n",
    "    fig = go.Figure(data=objs, layout=layout)\n",
    "    iplot(fig)\n",
    "    print(\"-----Data analyse completed-----\")\n",
    "    send_mail(Avg_Rating_df,get_no_of_links())\n",
    "    print(\"email send\")\n",
    "#func to send mail  \n",
    "#include book details(name & author) and links in the email body\n",
    "def send_mail(data,No_of_links):\n",
    "    \n",
    "    #smtp connetion to send mail\n",
    "    smtp_ssl_host = 'smtp.gmail.com'  # smtp.mail.yahoo.com\n",
    "    smtp_ssl_port = 465\n",
    "    username = 'pthnproject@gmail.com'\n",
    "    password = 'sejvvtapcahsjyqa'\n",
    "    sender = 'pthnproject@gmail.com'\n",
    "    targets = 'sindhupriya.e@gmail.com'\n",
    "    \n",
    "    msg = MIMEMultipart()\n",
    "    \n",
    "    msg['Subject'] = f\"Happy Reading {last_month}\"\n",
    "    msg['From'] = sender\n",
    "    msg['To'] = ', '.join(targets)\n",
    "    \n",
    "    #intro\n",
    "    intro = f\"\"\"<pre>\n",
    "        Book Depository Links to October Releases \n",
    "        Top {No_of_links} Books with Highest Average Rating in the fictional section \n",
    "    \n",
    "        Clink on the Links to order</pre>\"\"\"\n",
    "    txt = MIMEText(intro,'html')\n",
    "    msg.attach(txt)\n",
    "    \n",
    "    #body\n",
    "    item_no =1\n",
    "    for item in range(0,No_of_links):\n",
    "        book_details = ((data['BookTitle'].values[item]).strip()) +\" by \"+ ((data['AuthorName'].values[item]).strip())\n",
    "        book_link = book_details.replace(\" \", \"+\")\n",
    "        url = f\"https://www.bookdepository.com/search?searchTerm={book_link}\"\n",
    "        Link = url\n",
    "        \n",
    "        email_body= f\"\"\"<pre> \n",
    "        {item_no}.{book_details}\n",
    "        {Link}</pre>\"\"\"\n",
    "        item_no +=1\n",
    "        \n",
    "        txt = MIMEText(email_body,'html')\n",
    "        msg.attach(txt)\n",
    "        \n",
    "    print(\"sending email......\")\n",
    "    \n",
    "    #image\n",
    "    filepath = \"Reading quotes.jpeg\"\n",
    "    with open(filepath, 'rb') as f:\n",
    "        img = MIMEImage(f.read())\n",
    "\n",
    "    img.add_header('Content-Disposition',\n",
    "               'attachment',\n",
    "               filename=os.path.basename(filepath))\n",
    "    msg.attach(img)\n",
    "\n",
    "    server = smtplib.SMTP_SSL(smtp_ssl_host, smtp_ssl_port)\n",
    "    server.login(username, password)\n",
    "    server.sendmail(sender, targets, msg.as_string())\n",
    "    server.quit()\n",
    "    \n",
    "#to get the no of links \n",
    "def get_no_of_links():\n",
    "    while True:\n",
    "        amount = input(\"Enter the No of Links to be send in mail: \")\n",
    "        try:\n",
    "            val = int(amount)\n",
    "            if val > 0:\n",
    "                break\n",
    "            else:\n",
    "                print(\"No of Links can't be negative or Zero, try again\")\n",
    "        except ValueError:\n",
    "            print(\"No of Links must be a number, try again\")\n",
    "    return val\n",
    "\n",
    "def main():\n",
    "    #data_extraction() #calls get_soup()\n",
    "    data_cleaning()\n",
    "    clean_data()\n",
    "    data_analyse() #calls send_mail() & get_no_of_links()"
   ]
  },
  {
   "cell_type": "code",
   "execution_count": 425,
   "metadata": {
    "scrolled": true
   },
   "outputs": [
    {
     "name": "stdout",
     "output_type": "stream",
     "text": [
      "sum of NaN values in each column:\n",
      " BookTitle              0\n",
      "AuthorName             0\n",
      "Avg_Rating             0\n",
      "No_of_Rating           0\n",
      "No_of_Review           0\n",
      "Publication_Company    2\n",
      "Publication_Month      0\n",
      "Publication_Year       0\n",
      "Page_NO                0\n",
      "Type                   0\n",
      "dtype: int64\n",
      "\n",
      "Types of each column:\n",
      " BookTitle               object\n",
      "AuthorName              object\n",
      "Avg_Rating             float64\n",
      "No_of_Rating             int64\n",
      "No_of_Review             int64\n",
      "Publication_Company     object\n",
      "Publication_Month       object\n",
      "Publication_Year        object\n",
      "Page_NO                  int64\n",
      "Type                    object\n",
      "dtype: object\n",
      "\n",
      "-----Data cleaning completed-----\n",
      "New csv file with cleansed data is created\n",
      "\n",
      "\n",
      "*Page_NO-green - quick read books with less than 300 pages\n",
      "*Page_NO-yellow - book with highest no of pages\n"
     ]
    },
    {
     "data": {
      "text/html": [
       "<style  type=\"text/css\" >\n",
       "    #T_93509980_1fe2_11ea_bc5d_acde48001122row0_col2 {\n",
       "            background-color:  #6fbd6f;\n",
       "            color:  #000000;\n",
       "            : ;\n",
       "        }    #T_93509980_1fe2_11ea_bc5d_acde48001122row0_col3 {\n",
       "            background-color:  #008000;\n",
       "            color:  #f1f1f1;\n",
       "            : ;\n",
       "        }    #T_93509980_1fe2_11ea_bc5d_acde48001122row0_col4 {\n",
       "            background-color:  #008000;\n",
       "            color:  #f1f1f1;\n",
       "            : ;\n",
       "        }    #T_93509980_1fe2_11ea_bc5d_acde48001122row0_col8 {\n",
       "            color:  black;\n",
       "            : ;\n",
       "            : ;\n",
       "        }    #T_93509980_1fe2_11ea_bc5d_acde48001122row0_col9 {\n",
       "            color:  black;\n",
       "            : ;\n",
       "        }    #T_93509980_1fe2_11ea_bc5d_acde48001122row1_col2 {\n",
       "            background-color:  #82c882;\n",
       "            color:  #000000;\n",
       "            : ;\n",
       "        }    #T_93509980_1fe2_11ea_bc5d_acde48001122row1_col3 {\n",
       "            background-color:  #d0f3d0;\n",
       "            color:  #000000;\n",
       "            : ;\n",
       "        }    #T_93509980_1fe2_11ea_bc5d_acde48001122row1_col4 {\n",
       "            background-color:  #c2ecc2;\n",
       "            color:  #000000;\n",
       "            : ;\n",
       "        }    #T_93509980_1fe2_11ea_bc5d_acde48001122row1_col8 {\n",
       "            color:  black;\n",
       "            : ;\n",
       "            : ;\n",
       "        }    #T_93509980_1fe2_11ea_bc5d_acde48001122row1_col9 {\n",
       "            color:  black;\n",
       "            : ;\n",
       "        }    #T_93509980_1fe2_11ea_bc5d_acde48001122row2_col2 {\n",
       "            background-color:  #8fcf8f;\n",
       "            color:  #000000;\n",
       "            : ;\n",
       "        }    #T_93509980_1fe2_11ea_bc5d_acde48001122row2_col3 {\n",
       "            background-color:  #c7eec7;\n",
       "            color:  #000000;\n",
       "            : ;\n",
       "        }    #T_93509980_1fe2_11ea_bc5d_acde48001122row2_col4 {\n",
       "            background-color:  #c4edc4;\n",
       "            color:  #000000;\n",
       "            : ;\n",
       "        }    #T_93509980_1fe2_11ea_bc5d_acde48001122row2_col8 {\n",
       "            color:  green;\n",
       "            : ;\n",
       "            : ;\n",
       "        }    #T_93509980_1fe2_11ea_bc5d_acde48001122row2_col9 {\n",
       "            color:  black;\n",
       "            : ;\n",
       "        }    #T_93509980_1fe2_11ea_bc5d_acde48001122row3_col2 {\n",
       "            background-color:  #96d396;\n",
       "            color:  #000000;\n",
       "            : ;\n",
       "        }    #T_93509980_1fe2_11ea_bc5d_acde48001122row3_col3 {\n",
       "            background-color:  #c8efc8;\n",
       "            color:  #000000;\n",
       "            : ;\n",
       "        }    #T_93509980_1fe2_11ea_bc5d_acde48001122row3_col4 {\n",
       "            background-color:  #c5edc5;\n",
       "            color:  #000000;\n",
       "            : ;\n",
       "        }    #T_93509980_1fe2_11ea_bc5d_acde48001122row3_col8 {\n",
       "            color:  black;\n",
       "            : ;\n",
       "            : ;\n",
       "        }    #T_93509980_1fe2_11ea_bc5d_acde48001122row3_col9 {\n",
       "            color:  blue;\n",
       "            : ;\n",
       "        }    #T_93509980_1fe2_11ea_bc5d_acde48001122row4_col2 {\n",
       "            background-color:  #7ac37a;\n",
       "            color:  #000000;\n",
       "            : ;\n",
       "        }    #T_93509980_1fe2_11ea_bc5d_acde48001122row4_col3 {\n",
       "            background-color:  #d7f7d7;\n",
       "            color:  #000000;\n",
       "            : ;\n",
       "        }    #T_93509980_1fe2_11ea_bc5d_acde48001122row4_col4 {\n",
       "            background-color:  #e3fee3;\n",
       "            color:  #000000;\n",
       "            : ;\n",
       "        }    #T_93509980_1fe2_11ea_bc5d_acde48001122row4_col8 {\n",
       "            color:  black;\n",
       "            : ;\n",
       "            : ;\n",
       "        }    #T_93509980_1fe2_11ea_bc5d_acde48001122row4_col9 {\n",
       "            color:  black;\n",
       "            : ;\n",
       "        }    #T_93509980_1fe2_11ea_bc5d_acde48001122row5_col2 {\n",
       "            background-color:  #8bcd8b;\n",
       "            color:  #000000;\n",
       "            : ;\n",
       "        }    #T_93509980_1fe2_11ea_bc5d_acde48001122row5_col3 {\n",
       "            background-color:  #d6f7d6;\n",
       "            color:  #000000;\n",
       "            : ;\n",
       "        }    #T_93509980_1fe2_11ea_bc5d_acde48001122row5_col4 {\n",
       "            background-color:  #d9f8d9;\n",
       "            color:  #000000;\n",
       "            : ;\n",
       "        }    #T_93509980_1fe2_11ea_bc5d_acde48001122row5_col8 {\n",
       "            color:  black;\n",
       "            : ;\n",
       "            : ;\n",
       "        }    #T_93509980_1fe2_11ea_bc5d_acde48001122row5_col9 {\n",
       "            color:  darkorange;\n",
       "            : ;\n",
       "        }    #T_93509980_1fe2_11ea_bc5d_acde48001122row6_col2 {\n",
       "            background-color:  #8acc8a;\n",
       "            color:  #000000;\n",
       "            : ;\n",
       "        }    #T_93509980_1fe2_11ea_bc5d_acde48001122row6_col3 {\n",
       "            background-color:  #ddfbdd;\n",
       "            color:  #000000;\n",
       "            : ;\n",
       "        }    #T_93509980_1fe2_11ea_bc5d_acde48001122row6_col4 {\n",
       "            background-color:  #e0fce0;\n",
       "            color:  #000000;\n",
       "            : ;\n",
       "        }    #T_93509980_1fe2_11ea_bc5d_acde48001122row6_col8 {\n",
       "            color:  green;\n",
       "            : ;\n",
       "            : ;\n",
       "        }    #T_93509980_1fe2_11ea_bc5d_acde48001122row6_col9 {\n",
       "            color:  black;\n",
       "            : ;\n",
       "        }    #T_93509980_1fe2_11ea_bc5d_acde48001122row7_col2 {\n",
       "            background-color:  #a1d9a1;\n",
       "            color:  #000000;\n",
       "            : ;\n",
       "        }    #T_93509980_1fe2_11ea_bc5d_acde48001122row7_col3 {\n",
       "            background-color:  #d9f8d9;\n",
       "            color:  #000000;\n",
       "            : ;\n",
       "        }    #T_93509980_1fe2_11ea_bc5d_acde48001122row7_col4 {\n",
       "            background-color:  #caf0ca;\n",
       "            color:  #000000;\n",
       "            : ;\n",
       "        }    #T_93509980_1fe2_11ea_bc5d_acde48001122row7_col8 {\n",
       "            color:  black;\n",
       "            : ;\n",
       "            : ;\n",
       "        }    #T_93509980_1fe2_11ea_bc5d_acde48001122row7_col9 {\n",
       "            color:  black;\n",
       "            : ;\n",
       "        }    #T_93509980_1fe2_11ea_bc5d_acde48001122row8_col2 {\n",
       "            background-color:  #9ed89e;\n",
       "            color:  #000000;\n",
       "            : ;\n",
       "        }    #T_93509980_1fe2_11ea_bc5d_acde48001122row8_col3 {\n",
       "            background-color:  #e4fee4;\n",
       "            color:  #000000;\n",
       "            : ;\n",
       "        }    #T_93509980_1fe2_11ea_bc5d_acde48001122row8_col4 {\n",
       "            background-color:  #e2fde2;\n",
       "            color:  #000000;\n",
       "            : ;\n",
       "        }    #T_93509980_1fe2_11ea_bc5d_acde48001122row8_col8 {\n",
       "            color:  black;\n",
       "            : ;\n",
       "            : ;\n",
       "        }    #T_93509980_1fe2_11ea_bc5d_acde48001122row8_col9 {\n",
       "            color:  black;\n",
       "            : ;\n",
       "        }    #T_93509980_1fe2_11ea_bc5d_acde48001122row9_col2 {\n",
       "            background-color:  #a8dda8;\n",
       "            color:  #000000;\n",
       "            : ;\n",
       "        }    #T_93509980_1fe2_11ea_bc5d_acde48001122row9_col3 {\n",
       "            background-color:  #defbde;\n",
       "            color:  #000000;\n",
       "            : ;\n",
       "        }    #T_93509980_1fe2_11ea_bc5d_acde48001122row9_col4 {\n",
       "            background-color:  #e0fce0;\n",
       "            color:  #000000;\n",
       "            : ;\n",
       "        }    #T_93509980_1fe2_11ea_bc5d_acde48001122row9_col8 {\n",
       "            color:  black;\n",
       "            : ;\n",
       "            : ;\n",
       "        }    #T_93509980_1fe2_11ea_bc5d_acde48001122row9_col9 {\n",
       "            color:  black;\n",
       "            : ;\n",
       "        }    #T_93509980_1fe2_11ea_bc5d_acde48001122row10_col2 {\n",
       "            background-color:  #4daa4d;\n",
       "            color:  #000000;\n",
       "            : ;\n",
       "        }    #T_93509980_1fe2_11ea_bc5d_acde48001122row10_col3 {\n",
       "            background-color:  #dbf9db;\n",
       "            color:  #000000;\n",
       "            : ;\n",
       "        }    #T_93509980_1fe2_11ea_bc5d_acde48001122row10_col4 {\n",
       "            background-color:  #dcfadc;\n",
       "            color:  #000000;\n",
       "            : ;\n",
       "        }    #T_93509980_1fe2_11ea_bc5d_acde48001122row10_col8 {\n",
       "            color:  black;\n",
       "            : ;\n",
       "            : ;\n",
       "        }    #T_93509980_1fe2_11ea_bc5d_acde48001122row10_col9 {\n",
       "            color:  blue;\n",
       "            : ;\n",
       "        }    #T_93509980_1fe2_11ea_bc5d_acde48001122row11_col2 {\n",
       "            background-color:  #5eb45e;\n",
       "            color:  #000000;\n",
       "            : ;\n",
       "        }    #T_93509980_1fe2_11ea_bc5d_acde48001122row11_col3 {\n",
       "            background-color:  #e0fce0;\n",
       "            color:  #000000;\n",
       "            : ;\n",
       "        }    #T_93509980_1fe2_11ea_bc5d_acde48001122row11_col4 {\n",
       "            background-color:  #dcfadc;\n",
       "            color:  #000000;\n",
       "            : ;\n",
       "        }    #T_93509980_1fe2_11ea_bc5d_acde48001122row11_col8 {\n",
       "            color:  green;\n",
       "            : ;\n",
       "            : ;\n",
       "        }    #T_93509980_1fe2_11ea_bc5d_acde48001122row11_col9 {\n",
       "            color:  black;\n",
       "            : ;\n",
       "        }    #T_93509980_1fe2_11ea_bc5d_acde48001122row12_col2 {\n",
       "            background-color:  #4dab4d;\n",
       "            color:  #000000;\n",
       "            : ;\n",
       "        }    #T_93509980_1fe2_11ea_bc5d_acde48001122row12_col3 {\n",
       "            background-color:  #e4fee4;\n",
       "            color:  #000000;\n",
       "            : ;\n",
       "        }    #T_93509980_1fe2_11ea_bc5d_acde48001122row12_col4 {\n",
       "            background-color:  #e4fee4;\n",
       "            color:  #000000;\n",
       "            : ;\n",
       "        }    #T_93509980_1fe2_11ea_bc5d_acde48001122row12_col8 {\n",
       "            color:  black;\n",
       "            : ;\n",
       "            : ;\n",
       "        }    #T_93509980_1fe2_11ea_bc5d_acde48001122row12_col9 {\n",
       "            color:  darkorange;\n",
       "            : ;\n",
       "        }    #T_93509980_1fe2_11ea_bc5d_acde48001122row13_col2 {\n",
       "            background-color:  #98d498;\n",
       "            color:  #000000;\n",
       "            : ;\n",
       "        }    #T_93509980_1fe2_11ea_bc5d_acde48001122row13_col3 {\n",
       "            background-color:  #e4fee4;\n",
       "            color:  #000000;\n",
       "            : ;\n",
       "        }    #T_93509980_1fe2_11ea_bc5d_acde48001122row13_col4 {\n",
       "            background-color:  #e0fce0;\n",
       "            color:  #000000;\n",
       "            : ;\n",
       "        }    #T_93509980_1fe2_11ea_bc5d_acde48001122row13_col8 {\n",
       "            color:  black;\n",
       "            : ;\n",
       "            : ;\n",
       "        }    #T_93509980_1fe2_11ea_bc5d_acde48001122row13_col9 {\n",
       "            color:  black;\n",
       "            : ;\n",
       "        }    #T_93509980_1fe2_11ea_bc5d_acde48001122row14_col2 {\n",
       "            background-color:  #70be70;\n",
       "            color:  #000000;\n",
       "            : ;\n",
       "        }    #T_93509980_1fe2_11ea_bc5d_acde48001122row14_col3 {\n",
       "            background-color:  #e3fee3;\n",
       "            color:  #000000;\n",
       "            : ;\n",
       "        }    #T_93509980_1fe2_11ea_bc5d_acde48001122row14_col4 {\n",
       "            background-color:  #e1fde1;\n",
       "            color:  #000000;\n",
       "            : ;\n",
       "        }    #T_93509980_1fe2_11ea_bc5d_acde48001122row14_col8 {\n",
       "            color:  black;\n",
       "            : ;\n",
       "            : ;\n",
       "        }    #T_93509980_1fe2_11ea_bc5d_acde48001122row14_col9 {\n",
       "            color:  black;\n",
       "            : ;\n",
       "        }    #T_93509980_1fe2_11ea_bc5d_acde48001122row15_col2 {\n",
       "            background-color:  #93d193;\n",
       "            color:  #000000;\n",
       "            : ;\n",
       "        }    #T_93509980_1fe2_11ea_bc5d_acde48001122row15_col3 {\n",
       "            background-color:  #e1fde1;\n",
       "            color:  #000000;\n",
       "            : ;\n",
       "        }    #T_93509980_1fe2_11ea_bc5d_acde48001122row15_col4 {\n",
       "            background-color:  #defbde;\n",
       "            color:  #000000;\n",
       "            : ;\n",
       "        }    #T_93509980_1fe2_11ea_bc5d_acde48001122row15_col8 {\n",
       "            color:  black;\n",
       "            : ;\n",
       "            : ;\n",
       "        }    #T_93509980_1fe2_11ea_bc5d_acde48001122row15_col9 {\n",
       "            color:  black;\n",
       "            : ;\n",
       "        }    #T_93509980_1fe2_11ea_bc5d_acde48001122row16_col2 {\n",
       "            background-color:  #a5dba5;\n",
       "            color:  #000000;\n",
       "            : ;\n",
       "        }    #T_93509980_1fe2_11ea_bc5d_acde48001122row16_col3 {\n",
       "            background-color:  #d4f6d4;\n",
       "            color:  #000000;\n",
       "            : ;\n",
       "        }    #T_93509980_1fe2_11ea_bc5d_acde48001122row16_col4 {\n",
       "            background-color:  #dbf9db;\n",
       "            color:  #000000;\n",
       "            : ;\n",
       "        }    #T_93509980_1fe2_11ea_bc5d_acde48001122row16_col8 {\n",
       "            color:  black;\n",
       "            : ;\n",
       "            : ;\n",
       "        }    #T_93509980_1fe2_11ea_bc5d_acde48001122row16_col9 {\n",
       "            color:  black;\n",
       "            : ;\n",
       "        }    #T_93509980_1fe2_11ea_bc5d_acde48001122row17_col2 {\n",
       "            background-color:  #c2ecc2;\n",
       "            color:  #000000;\n",
       "            : ;\n",
       "        }    #T_93509980_1fe2_11ea_bc5d_acde48001122row17_col3 {\n",
       "            background-color:  #e3fee3;\n",
       "            color:  #000000;\n",
       "            : ;\n",
       "        }    #T_93509980_1fe2_11ea_bc5d_acde48001122row17_col4 {\n",
       "            background-color:  #e3fee3;\n",
       "            color:  #000000;\n",
       "            : ;\n",
       "        }    #T_93509980_1fe2_11ea_bc5d_acde48001122row17_col8 {\n",
       "            color:  black;\n",
       "            : ;\n",
       "            : ;\n",
       "        }    #T_93509980_1fe2_11ea_bc5d_acde48001122row17_col9 {\n",
       "            color:  black;\n",
       "            : ;\n",
       "        }    #T_93509980_1fe2_11ea_bc5d_acde48001122row18_col2 {\n",
       "            background-color:  #b4e4b4;\n",
       "            color:  #000000;\n",
       "            : ;\n",
       "        }    #T_93509980_1fe2_11ea_bc5d_acde48001122row18_col3 {\n",
       "            background-color:  #e3fee3;\n",
       "            color:  #000000;\n",
       "            : ;\n",
       "        }    #T_93509980_1fe2_11ea_bc5d_acde48001122row18_col4 {\n",
       "            background-color:  #e3fee3;\n",
       "            color:  #000000;\n",
       "            : ;\n",
       "        }    #T_93509980_1fe2_11ea_bc5d_acde48001122row18_col8 {\n",
       "            color:  green;\n",
       "            : ;\n",
       "            : ;\n",
       "        }    #T_93509980_1fe2_11ea_bc5d_acde48001122row18_col9 {\n",
       "            color:  black;\n",
       "            : ;\n",
       "        }    #T_93509980_1fe2_11ea_bc5d_acde48001122row19_col2 {\n",
       "            background-color:  #7dc57d;\n",
       "            color:  #000000;\n",
       "            : ;\n",
       "        }    #T_93509980_1fe2_11ea_bc5d_acde48001122row19_col3 {\n",
       "            background-color:  #e3fee3;\n",
       "            color:  #000000;\n",
       "            : ;\n",
       "        }    #T_93509980_1fe2_11ea_bc5d_acde48001122row19_col4 {\n",
       "            background-color:  #e2fde2;\n",
       "            color:  #000000;\n",
       "            : ;\n",
       "        }    #T_93509980_1fe2_11ea_bc5d_acde48001122row19_col8 {\n",
       "            color:  black;\n",
       "            : ;\n",
       "            : ;\n",
       "        }    #T_93509980_1fe2_11ea_bc5d_acde48001122row19_col9 {\n",
       "            color:  blue;\n",
       "            : ;\n",
       "        }    #T_93509980_1fe2_11ea_bc5d_acde48001122row20_col2 {\n",
       "            background-color:  #82c882;\n",
       "            color:  #000000;\n",
       "            : ;\n",
       "        }    #T_93509980_1fe2_11ea_bc5d_acde48001122row20_col3 {\n",
       "            background-color:  #e1fde1;\n",
       "            color:  #000000;\n",
       "            : ;\n",
       "        }    #T_93509980_1fe2_11ea_bc5d_acde48001122row20_col4 {\n",
       "            background-color:  #dcfadc;\n",
       "            color:  #000000;\n",
       "            : ;\n",
       "        }    #T_93509980_1fe2_11ea_bc5d_acde48001122row20_col8 {\n",
       "            color:  black;\n",
       "            : ;\n",
       "            : ;\n",
       "        }    #T_93509980_1fe2_11ea_bc5d_acde48001122row20_col9 {\n",
       "            color:  blue;\n",
       "            : ;\n",
       "        }    #T_93509980_1fe2_11ea_bc5d_acde48001122row21_col2 {\n",
       "            background-color:  #70be70;\n",
       "            color:  #000000;\n",
       "            : ;\n",
       "        }    #T_93509980_1fe2_11ea_bc5d_acde48001122row21_col3 {\n",
       "            background-color:  #e2fde2;\n",
       "            color:  #000000;\n",
       "            : ;\n",
       "        }    #T_93509980_1fe2_11ea_bc5d_acde48001122row21_col4 {\n",
       "            background-color:  #e2fde2;\n",
       "            color:  #000000;\n",
       "            : ;\n",
       "        }    #T_93509980_1fe2_11ea_bc5d_acde48001122row21_col8 {\n",
       "            color:  black;\n",
       "            : ;\n",
       "            : ;\n",
       "        }    #T_93509980_1fe2_11ea_bc5d_acde48001122row21_col9 {\n",
       "            color:  black;\n",
       "            : ;\n",
       "        }    #T_93509980_1fe2_11ea_bc5d_acde48001122row22_col2 {\n",
       "            background-color:  #80c780;\n",
       "            color:  #000000;\n",
       "            : ;\n",
       "        }    #T_93509980_1fe2_11ea_bc5d_acde48001122row22_col3 {\n",
       "            background-color:  #e4fee4;\n",
       "            color:  #000000;\n",
       "            : ;\n",
       "        }    #T_93509980_1fe2_11ea_bc5d_acde48001122row22_col4 {\n",
       "            background-color:  #e3fee3;\n",
       "            color:  #000000;\n",
       "            : ;\n",
       "        }    #T_93509980_1fe2_11ea_bc5d_acde48001122row22_col8 {\n",
       "            color:  black;\n",
       "            : ;\n",
       "            : ;\n",
       "        }    #T_93509980_1fe2_11ea_bc5d_acde48001122row22_col9 {\n",
       "            color:  black;\n",
       "            : ;\n",
       "        }    #T_93509980_1fe2_11ea_bc5d_acde48001122row23_col2 {\n",
       "            background-color:  #8bcd8b;\n",
       "            color:  #000000;\n",
       "            : ;\n",
       "        }    #T_93509980_1fe2_11ea_bc5d_acde48001122row23_col3 {\n",
       "            background-color:  #e4fee4;\n",
       "            color:  #000000;\n",
       "            : ;\n",
       "        }    #T_93509980_1fe2_11ea_bc5d_acde48001122row23_col4 {\n",
       "            background-color:  #e5ffe5;\n",
       "            color:  #000000;\n",
       "            : ;\n",
       "        }    #T_93509980_1fe2_11ea_bc5d_acde48001122row23_col8 {\n",
       "            color:  black;\n",
       "            : ;\n",
       "            : ;\n",
       "        }    #T_93509980_1fe2_11ea_bc5d_acde48001122row23_col9 {\n",
       "            color:  black;\n",
       "            : ;\n",
       "        }    #T_93509980_1fe2_11ea_bc5d_acde48001122row24_col2 {\n",
       "            background-color:  #98d498;\n",
       "            color:  #000000;\n",
       "            : ;\n",
       "        }    #T_93509980_1fe2_11ea_bc5d_acde48001122row24_col3 {\n",
       "            background-color:  #dffcdf;\n",
       "            color:  #000000;\n",
       "            : ;\n",
       "        }    #T_93509980_1fe2_11ea_bc5d_acde48001122row24_col4 {\n",
       "            background-color:  #e3fee3;\n",
       "            color:  #000000;\n",
       "            : ;\n",
       "        }    #T_93509980_1fe2_11ea_bc5d_acde48001122row24_col8 {\n",
       "            color:  black;\n",
       "            : ;\n",
       "            : ;\n",
       "        }    #T_93509980_1fe2_11ea_bc5d_acde48001122row24_col9 {\n",
       "            color:  black;\n",
       "            : ;\n",
       "        }    #T_93509980_1fe2_11ea_bc5d_acde48001122row25_col2 {\n",
       "            background-color:  #94d294;\n",
       "            color:  #000000;\n",
       "            : ;\n",
       "        }    #T_93509980_1fe2_11ea_bc5d_acde48001122row25_col3 {\n",
       "            background-color:  #e2fde2;\n",
       "            color:  #000000;\n",
       "            : ;\n",
       "        }    #T_93509980_1fe2_11ea_bc5d_acde48001122row25_col4 {\n",
       "            background-color:  #e2fde2;\n",
       "            color:  #000000;\n",
       "            : ;\n",
       "        }    #T_93509980_1fe2_11ea_bc5d_acde48001122row25_col8 {\n",
       "            color:  black;\n",
       "            : ;\n",
       "            : ;\n",
       "        }    #T_93509980_1fe2_11ea_bc5d_acde48001122row25_col9 {\n",
       "            color:  black;\n",
       "            : ;\n",
       "        }    #T_93509980_1fe2_11ea_bc5d_acde48001122row26_col2 {\n",
       "            background-color:  #5fb55f;\n",
       "            color:  #000000;\n",
       "            : ;\n",
       "        }    #T_93509980_1fe2_11ea_bc5d_acde48001122row26_col3 {\n",
       "            background-color:  #defbde;\n",
       "            color:  #000000;\n",
       "            : ;\n",
       "        }    #T_93509980_1fe2_11ea_bc5d_acde48001122row26_col4 {\n",
       "            background-color:  #e1fde1;\n",
       "            color:  #000000;\n",
       "            : ;\n",
       "        }    #T_93509980_1fe2_11ea_bc5d_acde48001122row26_col8 {\n",
       "            color:  black;\n",
       "            : ;\n",
       "            : ;\n",
       "        }    #T_93509980_1fe2_11ea_bc5d_acde48001122row26_col9 {\n",
       "            color:  black;\n",
       "            : ;\n",
       "        }    #T_93509980_1fe2_11ea_bc5d_acde48001122row27_col2 {\n",
       "            background-color:  #7dc57d;\n",
       "            color:  #000000;\n",
       "            : ;\n",
       "        }    #T_93509980_1fe2_11ea_bc5d_acde48001122row27_col3 {\n",
       "            background-color:  #dffcdf;\n",
       "            color:  #000000;\n",
       "            : ;\n",
       "        }    #T_93509980_1fe2_11ea_bc5d_acde48001122row27_col4 {\n",
       "            background-color:  #ddfbdd;\n",
       "            color:  #000000;\n",
       "            : ;\n",
       "        }    #T_93509980_1fe2_11ea_bc5d_acde48001122row27_col8 {\n",
       "            color:  black;\n",
       "            : ;\n",
       "            : ;\n",
       "        }    #T_93509980_1fe2_11ea_bc5d_acde48001122row27_col9 {\n",
       "            color:  darkorange;\n",
       "            : ;\n",
       "        }    #T_93509980_1fe2_11ea_bc5d_acde48001122row28_col2 {\n",
       "            background-color:  #82c882;\n",
       "            color:  #000000;\n",
       "            : ;\n",
       "        }    #T_93509980_1fe2_11ea_bc5d_acde48001122row28_col3 {\n",
       "            background-color:  #e0fce0;\n",
       "            color:  #000000;\n",
       "            : ;\n",
       "        }    #T_93509980_1fe2_11ea_bc5d_acde48001122row28_col4 {\n",
       "            background-color:  #e2fde2;\n",
       "            color:  #000000;\n",
       "            : ;\n",
       "        }    #T_93509980_1fe2_11ea_bc5d_acde48001122row28_col8 {\n",
       "            color:  red;\n",
       "            : ;\n",
       "            : ;\n",
       "        }    #T_93509980_1fe2_11ea_bc5d_acde48001122row28_col9 {\n",
       "            color:  blue;\n",
       "            : ;\n",
       "        }    #T_93509980_1fe2_11ea_bc5d_acde48001122row29_col2 {\n",
       "            background-color:  #b6e5b6;\n",
       "            color:  #000000;\n",
       "            : ;\n",
       "        }    #T_93509980_1fe2_11ea_bc5d_acde48001122row29_col3 {\n",
       "            background-color:  #e1fde1;\n",
       "            color:  #000000;\n",
       "            : ;\n",
       "        }    #T_93509980_1fe2_11ea_bc5d_acde48001122row29_col4 {\n",
       "            background-color:  #e2fde2;\n",
       "            color:  #000000;\n",
       "            : ;\n",
       "        }    #T_93509980_1fe2_11ea_bc5d_acde48001122row29_col8 {\n",
       "            color:  green;\n",
       "            : ;\n",
       "            : ;\n",
       "        }    #T_93509980_1fe2_11ea_bc5d_acde48001122row29_col9 {\n",
       "            color:  black;\n",
       "            : ;\n",
       "        }    #T_93509980_1fe2_11ea_bc5d_acde48001122row30_col2 {\n",
       "            background-color:  #57b057;\n",
       "            color:  #000000;\n",
       "            : ;\n",
       "        }    #T_93509980_1fe2_11ea_bc5d_acde48001122row30_col3 {\n",
       "            background-color:  #e4fee4;\n",
       "            color:  #000000;\n",
       "            : ;\n",
       "        }    #T_93509980_1fe2_11ea_bc5d_acde48001122row30_col4 {\n",
       "            background-color:  #e5ffe5;\n",
       "            color:  #000000;\n",
       "            : ;\n",
       "        }    #T_93509980_1fe2_11ea_bc5d_acde48001122row30_col8 {\n",
       "            color:  black;\n",
       "            : ;\n",
       "            : ;\n",
       "        }    #T_93509980_1fe2_11ea_bc5d_acde48001122row30_col9 {\n",
       "            color:  blue;\n",
       "            : ;\n",
       "        }    #T_93509980_1fe2_11ea_bc5d_acde48001122row31_col2 {\n",
       "            background-color:  #44a644;\n",
       "            color:  #000000;\n",
       "            : ;\n",
       "        }    #T_93509980_1fe2_11ea_bc5d_acde48001122row31_col3 {\n",
       "            background-color:  #e4fee4;\n",
       "            color:  #000000;\n",
       "            : ;\n",
       "        }    #T_93509980_1fe2_11ea_bc5d_acde48001122row31_col4 {\n",
       "            background-color:  #dffcdf;\n",
       "            color:  #000000;\n",
       "            : ;\n",
       "        }    #T_93509980_1fe2_11ea_bc5d_acde48001122row31_col8 {\n",
       "            color:  green;\n",
       "            : ;\n",
       "            : ;\n",
       "        }    #T_93509980_1fe2_11ea_bc5d_acde48001122row31_col9 {\n",
       "            color:  black;\n",
       "            : ;\n",
       "        }    #T_93509980_1fe2_11ea_bc5d_acde48001122row32_col2 {\n",
       "            background-color:  #acdfac;\n",
       "            color:  #000000;\n",
       "            : ;\n",
       "        }    #T_93509980_1fe2_11ea_bc5d_acde48001122row32_col3 {\n",
       "            background-color:  #e5ffe5;\n",
       "            color:  #000000;\n",
       "            : ;\n",
       "        }    #T_93509980_1fe2_11ea_bc5d_acde48001122row32_col4 {\n",
       "            background-color:  #e5ffe5;\n",
       "            color:  #000000;\n",
       "            : ;\n",
       "        }    #T_93509980_1fe2_11ea_bc5d_acde48001122row32_col8 {\n",
       "            color:  black;\n",
       "            : ;\n",
       "            : ;\n",
       "        }    #T_93509980_1fe2_11ea_bc5d_acde48001122row32_col9 {\n",
       "            color:  black;\n",
       "            : ;\n",
       "        }    #T_93509980_1fe2_11ea_bc5d_acde48001122row33_col2 {\n",
       "            background-color:  #72bf72;\n",
       "            color:  #000000;\n",
       "            : ;\n",
       "        }    #T_93509980_1fe2_11ea_bc5d_acde48001122row33_col3 {\n",
       "            background-color:  #e5ffe5;\n",
       "            color:  #000000;\n",
       "            : ;\n",
       "        }    #T_93509980_1fe2_11ea_bc5d_acde48001122row33_col4 {\n",
       "            background-color:  #e5ffe5;\n",
       "            color:  #000000;\n",
       "            : ;\n",
       "        }    #T_93509980_1fe2_11ea_bc5d_acde48001122row33_col8 {\n",
       "            color:  red;\n",
       "            : ;\n",
       "            : ;\n",
       "        }    #T_93509980_1fe2_11ea_bc5d_acde48001122row33_col9 {\n",
       "            color:  black;\n",
       "            : ;\n",
       "        }    #T_93509980_1fe2_11ea_bc5d_acde48001122row34_col2 {\n",
       "            background-color:  #0e870e;\n",
       "            color:  #f1f1f1;\n",
       "            : ;\n",
       "        }    #T_93509980_1fe2_11ea_bc5d_acde48001122row34_col3 {\n",
       "            background-color:  #e4fee4;\n",
       "            color:  #000000;\n",
       "            : ;\n",
       "        }    #T_93509980_1fe2_11ea_bc5d_acde48001122row34_col4 {\n",
       "            background-color:  #e5ffe5;\n",
       "            color:  #000000;\n",
       "            : ;\n",
       "        }    #T_93509980_1fe2_11ea_bc5d_acde48001122row34_col8 {\n",
       "            color:  black;\n",
       "            : ;\n",
       "            : ;\n",
       "        }    #T_93509980_1fe2_11ea_bc5d_acde48001122row34_col9 {\n",
       "            color:  black;\n",
       "            : ;\n",
       "        }    #T_93509980_1fe2_11ea_bc5d_acde48001122row35_col2 {\n",
       "            background-color:  #44a544;\n",
       "            color:  #000000;\n",
       "            : ;\n",
       "        }    #T_93509980_1fe2_11ea_bc5d_acde48001122row35_col3 {\n",
       "            background-color:  #e5ffe5;\n",
       "            color:  #000000;\n",
       "            : ;\n",
       "        }    #T_93509980_1fe2_11ea_bc5d_acde48001122row35_col4 {\n",
       "            background-color:  #e5ffe5;\n",
       "            color:  #000000;\n",
       "            : ;\n",
       "        }    #T_93509980_1fe2_11ea_bc5d_acde48001122row35_col8 {\n",
       "            color:  black;\n",
       "            : ;\n",
       "            : ;\n",
       "        }    #T_93509980_1fe2_11ea_bc5d_acde48001122row35_col9 {\n",
       "            color:  black;\n",
       "            : ;\n",
       "        }    #T_93509980_1fe2_11ea_bc5d_acde48001122row36_col2 {\n",
       "            background-color:  #3aa03a;\n",
       "            color:  #000000;\n",
       "            : ;\n",
       "        }    #T_93509980_1fe2_11ea_bc5d_acde48001122row36_col3 {\n",
       "            background-color:  #e3fee3;\n",
       "            color:  #000000;\n",
       "            : ;\n",
       "        }    #T_93509980_1fe2_11ea_bc5d_acde48001122row36_col4 {\n",
       "            background-color:  #ddfbdd;\n",
       "            color:  #000000;\n",
       "            : ;\n",
       "        }    #T_93509980_1fe2_11ea_bc5d_acde48001122row36_col8 {\n",
       "            color:  black;\n",
       "            : ;\n",
       "            : ;\n",
       "        }    #T_93509980_1fe2_11ea_bc5d_acde48001122row36_col9 {\n",
       "            color:  black;\n",
       "            : ;\n",
       "        }    #T_93509980_1fe2_11ea_bc5d_acde48001122row37_col2 {\n",
       "            background-color:  #70be70;\n",
       "            color:  #000000;\n",
       "            : ;\n",
       "        }    #T_93509980_1fe2_11ea_bc5d_acde48001122row37_col3 {\n",
       "            background-color:  #e5ffe5;\n",
       "            color:  #000000;\n",
       "            : ;\n",
       "        }    #T_93509980_1fe2_11ea_bc5d_acde48001122row37_col4 {\n",
       "            background-color:  #e5ffe5;\n",
       "            color:  #000000;\n",
       "            : ;\n",
       "        }    #T_93509980_1fe2_11ea_bc5d_acde48001122row37_col8 {\n",
       "            color:  black;\n",
       "            : ;\n",
       "            : ;\n",
       "        }    #T_93509980_1fe2_11ea_bc5d_acde48001122row37_col9 {\n",
       "            color:  blue;\n",
       "            : ;\n",
       "        }    #T_93509980_1fe2_11ea_bc5d_acde48001122row38_col2 {\n",
       "            background-color:  #cbf1cb;\n",
       "            color:  #000000;\n",
       "            : ;\n",
       "        }    #T_93509980_1fe2_11ea_bc5d_acde48001122row38_col3 {\n",
       "            background-color:  #e5ffe5;\n",
       "            color:  #000000;\n",
       "            : ;\n",
       "        }    #T_93509980_1fe2_11ea_bc5d_acde48001122row38_col4 {\n",
       "            background-color:  #e4fee4;\n",
       "            color:  #000000;\n",
       "            : ;\n",
       "        }    #T_93509980_1fe2_11ea_bc5d_acde48001122row38_col8 {\n",
       "            color:  black;\n",
       "            : ;\n",
       "            : ;\n",
       "        }    #T_93509980_1fe2_11ea_bc5d_acde48001122row38_col9 {\n",
       "            color:  blue;\n",
       "            : ;\n",
       "        }    #T_93509980_1fe2_11ea_bc5d_acde48001122row39_col2 {\n",
       "            background-color:  #4dab4d;\n",
       "            color:  #000000;\n",
       "            : ;\n",
       "        }    #T_93509980_1fe2_11ea_bc5d_acde48001122row39_col3 {\n",
       "            background-color:  #e5ffe5;\n",
       "            color:  #000000;\n",
       "            : ;\n",
       "        }    #T_93509980_1fe2_11ea_bc5d_acde48001122row39_col4 {\n",
       "            background-color:  #e4fee4;\n",
       "            color:  #000000;\n",
       "            : ;\n",
       "        }    #T_93509980_1fe2_11ea_bc5d_acde48001122row39_col8 {\n",
       "            color:  black;\n",
       "            : ;\n",
       "            : ;\n",
       "        }    #T_93509980_1fe2_11ea_bc5d_acde48001122row39_col9 {\n",
       "            color:  blue;\n",
       "            : ;\n",
       "        }    #T_93509980_1fe2_11ea_bc5d_acde48001122row40_col2 {\n",
       "            background-color:  #70be70;\n",
       "            color:  #000000;\n",
       "            : ;\n",
       "        }    #T_93509980_1fe2_11ea_bc5d_acde48001122row40_col3 {\n",
       "            background-color:  #e5ffe5;\n",
       "            color:  #000000;\n",
       "            : ;\n",
       "        }    #T_93509980_1fe2_11ea_bc5d_acde48001122row40_col4 {\n",
       "            background-color:  #e4fee4;\n",
       "            color:  #000000;\n",
       "            : ;\n",
       "        }    #T_93509980_1fe2_11ea_bc5d_acde48001122row40_col8 {\n",
       "            color:  black;\n",
       "            : ;\n",
       "            : ;\n",
       "        }    #T_93509980_1fe2_11ea_bc5d_acde48001122row40_col9 {\n",
       "            color:  black;\n",
       "            : ;\n",
       "        }    #T_93509980_1fe2_11ea_bc5d_acde48001122row41_col2 {\n",
       "            background-color:  #82c882;\n",
       "            color:  #000000;\n",
       "            : ;\n",
       "        }    #T_93509980_1fe2_11ea_bc5d_acde48001122row41_col3 {\n",
       "            background-color:  #e1fde1;\n",
       "            color:  #000000;\n",
       "            : ;\n",
       "        }    #T_93509980_1fe2_11ea_bc5d_acde48001122row41_col4 {\n",
       "            background-color:  #e2fde2;\n",
       "            color:  #000000;\n",
       "            : ;\n",
       "        }    #T_93509980_1fe2_11ea_bc5d_acde48001122row41_col5 {\n",
       "            background-color:  red;\n",
       "        }    #T_93509980_1fe2_11ea_bc5d_acde48001122row41_col8 {\n",
       "            color:  black;\n",
       "            : ;\n",
       "            background-color:  yellow;\n",
       "        }    #T_93509980_1fe2_11ea_bc5d_acde48001122row41_col9 {\n",
       "            color:  blue;\n",
       "            : ;\n",
       "        }    #T_93509980_1fe2_11ea_bc5d_acde48001122row42_col2 {\n",
       "            background-color:  #44a644;\n",
       "            color:  #000000;\n",
       "            : ;\n",
       "        }    #T_93509980_1fe2_11ea_bc5d_acde48001122row42_col3 {\n",
       "            background-color:  #e1fde1;\n",
       "            color:  #000000;\n",
       "            : ;\n",
       "        }    #T_93509980_1fe2_11ea_bc5d_acde48001122row42_col4 {\n",
       "            background-color:  #e4fee4;\n",
       "            color:  #000000;\n",
       "            : ;\n",
       "        }    #T_93509980_1fe2_11ea_bc5d_acde48001122row42_col8 {\n",
       "            color:  black;\n",
       "            : ;\n",
       "            : ;\n",
       "        }    #T_93509980_1fe2_11ea_bc5d_acde48001122row42_col9 {\n",
       "            color:  black;\n",
       "            : ;\n",
       "        }    #T_93509980_1fe2_11ea_bc5d_acde48001122row43_col2 {\n",
       "            background-color:  #a9dea9;\n",
       "            color:  #000000;\n",
       "            : ;\n",
       "        }    #T_93509980_1fe2_11ea_bc5d_acde48001122row43_col3 {\n",
       "            background-color:  #e5ffe5;\n",
       "            color:  #000000;\n",
       "            : ;\n",
       "        }    #T_93509980_1fe2_11ea_bc5d_acde48001122row43_col4 {\n",
       "            background-color:  #e5ffe5;\n",
       "            color:  #000000;\n",
       "            : ;\n",
       "        }    #T_93509980_1fe2_11ea_bc5d_acde48001122row43_col8 {\n",
       "            color:  red;\n",
       "            : ;\n",
       "            : ;\n",
       "        }    #T_93509980_1fe2_11ea_bc5d_acde48001122row43_col9 {\n",
       "            color:  darkorange;\n",
       "            : ;\n",
       "        }    #T_93509980_1fe2_11ea_bc5d_acde48001122row44_col2 {\n",
       "            background-color:  #a9dea9;\n",
       "            color:  #000000;\n",
       "            : ;\n",
       "        }    #T_93509980_1fe2_11ea_bc5d_acde48001122row44_col3 {\n",
       "            background-color:  #e5ffe5;\n",
       "            color:  #000000;\n",
       "            : ;\n",
       "        }    #T_93509980_1fe2_11ea_bc5d_acde48001122row44_col4 {\n",
       "            background-color:  #e4fee4;\n",
       "            color:  #000000;\n",
       "            : ;\n",
       "        }    #T_93509980_1fe2_11ea_bc5d_acde48001122row44_col8 {\n",
       "            color:  black;\n",
       "            : ;\n",
       "            : ;\n",
       "        }    #T_93509980_1fe2_11ea_bc5d_acde48001122row44_col9 {\n",
       "            color:  darkorange;\n",
       "            : ;\n",
       "        }    #T_93509980_1fe2_11ea_bc5d_acde48001122row45_col2 {\n",
       "            background-color:  #a6dca6;\n",
       "            color:  #000000;\n",
       "            : ;\n",
       "        }    #T_93509980_1fe2_11ea_bc5d_acde48001122row45_col3 {\n",
       "            background-color:  #dffcdf;\n",
       "            color:  #000000;\n",
       "            : ;\n",
       "        }    #T_93509980_1fe2_11ea_bc5d_acde48001122row45_col4 {\n",
       "            background-color:  #e2fde2;\n",
       "            color:  #000000;\n",
       "            : ;\n",
       "        }    #T_93509980_1fe2_11ea_bc5d_acde48001122row45_col8 {\n",
       "            color:  black;\n",
       "            : ;\n",
       "            : ;\n",
       "        }    #T_93509980_1fe2_11ea_bc5d_acde48001122row45_col9 {\n",
       "            color:  black;\n",
       "            : ;\n",
       "        }    #T_93509980_1fe2_11ea_bc5d_acde48001122row46_col2 {\n",
       "            background-color:  #2a972a;\n",
       "            color:  #000000;\n",
       "            : ;\n",
       "        }    #T_93509980_1fe2_11ea_bc5d_acde48001122row46_col3 {\n",
       "            background-color:  #e5ffe5;\n",
       "            color:  #000000;\n",
       "            : ;\n",
       "        }    #T_93509980_1fe2_11ea_bc5d_acde48001122row46_col4 {\n",
       "            background-color:  #e5ffe5;\n",
       "            color:  #000000;\n",
       "            : ;\n",
       "        }    #T_93509980_1fe2_11ea_bc5d_acde48001122row46_col5 {\n",
       "            background-color:  red;\n",
       "        }    #T_93509980_1fe2_11ea_bc5d_acde48001122row46_col8 {\n",
       "            color:  green;\n",
       "            : ;\n",
       "            : ;\n",
       "        }    #T_93509980_1fe2_11ea_bc5d_acde48001122row46_col9 {\n",
       "            color:  blue;\n",
       "            : ;\n",
       "        }    #T_93509980_1fe2_11ea_bc5d_acde48001122row47_col2 {\n",
       "            background-color:  #4fac4f;\n",
       "            color:  #000000;\n",
       "            : ;\n",
       "        }    #T_93509980_1fe2_11ea_bc5d_acde48001122row47_col3 {\n",
       "            background-color:  #e5ffe5;\n",
       "            color:  #000000;\n",
       "            : ;\n",
       "        }    #T_93509980_1fe2_11ea_bc5d_acde48001122row47_col4 {\n",
       "            background-color:  #e5ffe5;\n",
       "            color:  #000000;\n",
       "            : ;\n",
       "        }    #T_93509980_1fe2_11ea_bc5d_acde48001122row47_col8 {\n",
       "            color:  black;\n",
       "            : ;\n",
       "            : ;\n",
       "        }    #T_93509980_1fe2_11ea_bc5d_acde48001122row47_col9 {\n",
       "            color:  blue;\n",
       "            : ;\n",
       "        }    #T_93509980_1fe2_11ea_bc5d_acde48001122row48_col2 {\n",
       "            background-color:  #94d294;\n",
       "            color:  #000000;\n",
       "            : ;\n",
       "        }    #T_93509980_1fe2_11ea_bc5d_acde48001122row48_col3 {\n",
       "            background-color:  #e3fee3;\n",
       "            color:  #000000;\n",
       "            : ;\n",
       "        }    #T_93509980_1fe2_11ea_bc5d_acde48001122row48_col4 {\n",
       "            background-color:  #e4fee4;\n",
       "            color:  #000000;\n",
       "            : ;\n",
       "        }    #T_93509980_1fe2_11ea_bc5d_acde48001122row48_col8 {\n",
       "            color:  green;\n",
       "            : ;\n",
       "            : ;\n",
       "        }    #T_93509980_1fe2_11ea_bc5d_acde48001122row48_col9 {\n",
       "            color:  black;\n",
       "            : ;\n",
       "        }    #T_93509980_1fe2_11ea_bc5d_acde48001122row49_col2 {\n",
       "            background-color:  #e5ffe5;\n",
       "            color:  #000000;\n",
       "            : ;\n",
       "        }    #T_93509980_1fe2_11ea_bc5d_acde48001122row49_col3 {\n",
       "            background-color:  #e5ffe5;\n",
       "            color:  #000000;\n",
       "            : ;\n",
       "        }    #T_93509980_1fe2_11ea_bc5d_acde48001122row49_col4 {\n",
       "            background-color:  #e5ffe5;\n",
       "            color:  #000000;\n",
       "            : ;\n",
       "        }    #T_93509980_1fe2_11ea_bc5d_acde48001122row49_col8 {\n",
       "            color:  green;\n",
       "            : ;\n",
       "            : ;\n",
       "        }    #T_93509980_1fe2_11ea_bc5d_acde48001122row49_col9 {\n",
       "            color:  black;\n",
       "            : ;\n",
       "        }    #T_93509980_1fe2_11ea_bc5d_acde48001122row50_col2 {\n",
       "            background-color:  #4ba94b;\n",
       "            color:  #000000;\n",
       "            : ;\n",
       "        }    #T_93509980_1fe2_11ea_bc5d_acde48001122row50_col3 {\n",
       "            background-color:  #e3fee3;\n",
       "            color:  #000000;\n",
       "            : ;\n",
       "        }    #T_93509980_1fe2_11ea_bc5d_acde48001122row50_col4 {\n",
       "            background-color:  #e4fee4;\n",
       "            color:  #000000;\n",
       "            : ;\n",
       "        }    #T_93509980_1fe2_11ea_bc5d_acde48001122row50_col8 {\n",
       "            color:  black;\n",
       "            : ;\n",
       "            : ;\n",
       "        }    #T_93509980_1fe2_11ea_bc5d_acde48001122row50_col9 {\n",
       "            color:  blue;\n",
       "            : ;\n",
       "        }    #T_93509980_1fe2_11ea_bc5d_acde48001122row51_col2 {\n",
       "            background-color:  #46a746;\n",
       "            color:  #000000;\n",
       "            : ;\n",
       "        }    #T_93509980_1fe2_11ea_bc5d_acde48001122row51_col3 {\n",
       "            background-color:  #e5ffe5;\n",
       "            color:  #000000;\n",
       "            : ;\n",
       "        }    #T_93509980_1fe2_11ea_bc5d_acde48001122row51_col4 {\n",
       "            background-color:  #e5ffe5;\n",
       "            color:  #000000;\n",
       "            : ;\n",
       "        }    #T_93509980_1fe2_11ea_bc5d_acde48001122row51_col8 {\n",
       "            color:  red;\n",
       "            : ;\n",
       "            : ;\n",
       "        }    #T_93509980_1fe2_11ea_bc5d_acde48001122row51_col9 {\n",
       "            color:  black;\n",
       "            : ;\n",
       "        }    #T_93509980_1fe2_11ea_bc5d_acde48001122row52_col2 {\n",
       "            background-color:  #6dbc6d;\n",
       "            color:  #000000;\n",
       "            : ;\n",
       "        }    #T_93509980_1fe2_11ea_bc5d_acde48001122row52_col3 {\n",
       "            background-color:  #e3fee3;\n",
       "            color:  #000000;\n",
       "            : ;\n",
       "        }    #T_93509980_1fe2_11ea_bc5d_acde48001122row52_col4 {\n",
       "            background-color:  #e1fde1;\n",
       "            color:  #000000;\n",
       "            : ;\n",
       "        }    #T_93509980_1fe2_11ea_bc5d_acde48001122row52_col8 {\n",
       "            color:  green;\n",
       "            : ;\n",
       "            : ;\n",
       "        }    #T_93509980_1fe2_11ea_bc5d_acde48001122row52_col9 {\n",
       "            color:  darkorange;\n",
       "            : ;\n",
       "        }    #T_93509980_1fe2_11ea_bc5d_acde48001122row53_col2 {\n",
       "            background-color:  #5ab25a;\n",
       "            color:  #000000;\n",
       "            : ;\n",
       "        }    #T_93509980_1fe2_11ea_bc5d_acde48001122row53_col3 {\n",
       "            background-color:  #e5ffe5;\n",
       "            color:  #000000;\n",
       "            : ;\n",
       "        }    #T_93509980_1fe2_11ea_bc5d_acde48001122row53_col4 {\n",
       "            background-color:  #e4fee4;\n",
       "            color:  #000000;\n",
       "            : ;\n",
       "        }    #T_93509980_1fe2_11ea_bc5d_acde48001122row53_col8 {\n",
       "            color:  green;\n",
       "            : ;\n",
       "            : ;\n",
       "        }    #T_93509980_1fe2_11ea_bc5d_acde48001122row53_col9 {\n",
       "            color:  darkorange;\n",
       "            : ;\n",
       "        }    #T_93509980_1fe2_11ea_bc5d_acde48001122row54_col2 {\n",
       "            background-color:  #92d192;\n",
       "            color:  #000000;\n",
       "            : ;\n",
       "        }    #T_93509980_1fe2_11ea_bc5d_acde48001122row54_col3 {\n",
       "            background-color:  #e4fee4;\n",
       "            color:  #000000;\n",
       "            : ;\n",
       "        }    #T_93509980_1fe2_11ea_bc5d_acde48001122row54_col4 {\n",
       "            background-color:  #e0fce0;\n",
       "            color:  #000000;\n",
       "            : ;\n",
       "        }    #T_93509980_1fe2_11ea_bc5d_acde48001122row54_col8 {\n",
       "            color:  red;\n",
       "            : ;\n",
       "            : ;\n",
       "        }    #T_93509980_1fe2_11ea_bc5d_acde48001122row54_col9 {\n",
       "            color:  darkorange;\n",
       "            : ;\n",
       "        }    #T_93509980_1fe2_11ea_bc5d_acde48001122row55_col2 {\n",
       "            background-color:  #8bcd8b;\n",
       "            color:  #000000;\n",
       "            : ;\n",
       "        }    #T_93509980_1fe2_11ea_bc5d_acde48001122row55_col3 {\n",
       "            background-color:  #e5ffe5;\n",
       "            color:  #000000;\n",
       "            : ;\n",
       "        }    #T_93509980_1fe2_11ea_bc5d_acde48001122row55_col4 {\n",
       "            background-color:  #e5ffe5;\n",
       "            color:  #000000;\n",
       "            : ;\n",
       "        }    #T_93509980_1fe2_11ea_bc5d_acde48001122row55_col8 {\n",
       "            color:  green;\n",
       "            : ;\n",
       "            : ;\n",
       "        }    #T_93509980_1fe2_11ea_bc5d_acde48001122row55_col9 {\n",
       "            color:  black;\n",
       "            : ;\n",
       "        }    #T_93509980_1fe2_11ea_bc5d_acde48001122row56_col2 {\n",
       "            background-color:  #008000;\n",
       "            color:  #f1f1f1;\n",
       "            : ;\n",
       "        }    #T_93509980_1fe2_11ea_bc5d_acde48001122row56_col3 {\n",
       "            background-color:  #e5ffe5;\n",
       "            color:  #000000;\n",
       "            : ;\n",
       "        }    #T_93509980_1fe2_11ea_bc5d_acde48001122row56_col4 {\n",
       "            background-color:  #e5ffe5;\n",
       "            color:  #000000;\n",
       "            : ;\n",
       "        }    #T_93509980_1fe2_11ea_bc5d_acde48001122row56_col8 {\n",
       "            color:  green;\n",
       "            : ;\n",
       "            : ;\n",
       "        }    #T_93509980_1fe2_11ea_bc5d_acde48001122row56_col9 {\n",
       "            color:  black;\n",
       "            : ;\n",
       "        }    #T_93509980_1fe2_11ea_bc5d_acde48001122row57_col2 {\n",
       "            background-color:  #7dc57d;\n",
       "            color:  #000000;\n",
       "            : ;\n",
       "        }    #T_93509980_1fe2_11ea_bc5d_acde48001122row57_col3 {\n",
       "            background-color:  #e5ffe5;\n",
       "            color:  #000000;\n",
       "            : ;\n",
       "        }    #T_93509980_1fe2_11ea_bc5d_acde48001122row57_col4 {\n",
       "            background-color:  #e5ffe5;\n",
       "            color:  #000000;\n",
       "            : ;\n",
       "        }    #T_93509980_1fe2_11ea_bc5d_acde48001122row57_col8 {\n",
       "            color:  black;\n",
       "            : ;\n",
       "            : ;\n",
       "        }    #T_93509980_1fe2_11ea_bc5d_acde48001122row57_col9 {\n",
       "            color:  black;\n",
       "            : ;\n",
       "        }    #T_93509980_1fe2_11ea_bc5d_acde48001122row58_col2 {\n",
       "            background-color:  #75c175;\n",
       "            color:  #000000;\n",
       "            : ;\n",
       "        }    #T_93509980_1fe2_11ea_bc5d_acde48001122row58_col3 {\n",
       "            background-color:  #e5ffe5;\n",
       "            color:  #000000;\n",
       "            : ;\n",
       "        }    #T_93509980_1fe2_11ea_bc5d_acde48001122row58_col4 {\n",
       "            background-color:  #e5ffe5;\n",
       "            color:  #000000;\n",
       "            : ;\n",
       "        }    #T_93509980_1fe2_11ea_bc5d_acde48001122row58_col8 {\n",
       "            color:  black;\n",
       "            : ;\n",
       "            : ;\n",
       "        }    #T_93509980_1fe2_11ea_bc5d_acde48001122row58_col9 {\n",
       "            color:  black;\n",
       "            : ;\n",
       "        }    #T_93509980_1fe2_11ea_bc5d_acde48001122row59_col2 {\n",
       "            background-color:  #4daa4d;\n",
       "            color:  #000000;\n",
       "            : ;\n",
       "        }    #T_93509980_1fe2_11ea_bc5d_acde48001122row59_col3 {\n",
       "            background-color:  #e5ffe5;\n",
       "            color:  #000000;\n",
       "            : ;\n",
       "        }    #T_93509980_1fe2_11ea_bc5d_acde48001122row59_col4 {\n",
       "            background-color:  #e5ffe5;\n",
       "            color:  #000000;\n",
       "            : ;\n",
       "        }    #T_93509980_1fe2_11ea_bc5d_acde48001122row59_col8 {\n",
       "            color:  green;\n",
       "            : ;\n",
       "            : ;\n",
       "        }    #T_93509980_1fe2_11ea_bc5d_acde48001122row59_col9 {\n",
       "            color:  black;\n",
       "            : ;\n",
       "        }    #T_93509980_1fe2_11ea_bc5d_acde48001122row60_col2 {\n",
       "            background-color:  #79c379;\n",
       "            color:  #000000;\n",
       "            : ;\n",
       "        }    #T_93509980_1fe2_11ea_bc5d_acde48001122row60_col3 {\n",
       "            background-color:  #e5ffe5;\n",
       "            color:  #000000;\n",
       "            : ;\n",
       "        }    #T_93509980_1fe2_11ea_bc5d_acde48001122row60_col4 {\n",
       "            background-color:  #e5ffe5;\n",
       "            color:  #000000;\n",
       "            : ;\n",
       "        }    #T_93509980_1fe2_11ea_bc5d_acde48001122row60_col8 {\n",
       "            color:  black;\n",
       "            : ;\n",
       "            : ;\n",
       "        }    #T_93509980_1fe2_11ea_bc5d_acde48001122row60_col9 {\n",
       "            color:  black;\n",
       "            : ;\n",
       "        }    #T_93509980_1fe2_11ea_bc5d_acde48001122row61_col2 {\n",
       "            background-color:  #a9dea9;\n",
       "            color:  #000000;\n",
       "            : ;\n",
       "        }    #T_93509980_1fe2_11ea_bc5d_acde48001122row61_col3 {\n",
       "            background-color:  #e5ffe5;\n",
       "            color:  #000000;\n",
       "            : ;\n",
       "        }    #T_93509980_1fe2_11ea_bc5d_acde48001122row61_col4 {\n",
       "            background-color:  #e5ffe5;\n",
       "            color:  #000000;\n",
       "            : ;\n",
       "        }    #T_93509980_1fe2_11ea_bc5d_acde48001122row61_col8 {\n",
       "            color:  green;\n",
       "            : ;\n",
       "            : ;\n",
       "        }    #T_93509980_1fe2_11ea_bc5d_acde48001122row61_col9 {\n",
       "            color:  black;\n",
       "            : ;\n",
       "        }    #T_93509980_1fe2_11ea_bc5d_acde48001122row62_col2 {\n",
       "            background-color:  #c2ebc2;\n",
       "            color:  #000000;\n",
       "            : ;\n",
       "        }    #T_93509980_1fe2_11ea_bc5d_acde48001122row62_col3 {\n",
       "            background-color:  #e5ffe5;\n",
       "            color:  #000000;\n",
       "            : ;\n",
       "        }    #T_93509980_1fe2_11ea_bc5d_acde48001122row62_col4 {\n",
       "            background-color:  #e5ffe5;\n",
       "            color:  #000000;\n",
       "            : ;\n",
       "        }    #T_93509980_1fe2_11ea_bc5d_acde48001122row62_col8 {\n",
       "            color:  black;\n",
       "            : ;\n",
       "            : ;\n",
       "        }    #T_93509980_1fe2_11ea_bc5d_acde48001122row62_col9 {\n",
       "            color:  black;\n",
       "            : ;\n",
       "        }    #T_93509980_1fe2_11ea_bc5d_acde48001122row63_col2 {\n",
       "            background-color:  #53ae53;\n",
       "            color:  #000000;\n",
       "            : ;\n",
       "        }    #T_93509980_1fe2_11ea_bc5d_acde48001122row63_col3 {\n",
       "            background-color:  #e5ffe5;\n",
       "            color:  #000000;\n",
       "            : ;\n",
       "        }    #T_93509980_1fe2_11ea_bc5d_acde48001122row63_col4 {\n",
       "            background-color:  #e5ffe5;\n",
       "            color:  #000000;\n",
       "            : ;\n",
       "        }    #T_93509980_1fe2_11ea_bc5d_acde48001122row63_col8 {\n",
       "            color:  red;\n",
       "            : ;\n",
       "            : ;\n",
       "        }    #T_93509980_1fe2_11ea_bc5d_acde48001122row63_col9 {\n",
       "            color:  black;\n",
       "            : ;\n",
       "        }    #T_93509980_1fe2_11ea_bc5d_acde48001122row64_col2 {\n",
       "            background-color:  #309a30;\n",
       "            color:  #000000;\n",
       "            : ;\n",
       "        }    #T_93509980_1fe2_11ea_bc5d_acde48001122row64_col3 {\n",
       "            background-color:  #e5ffe5;\n",
       "            color:  #000000;\n",
       "            : ;\n",
       "        }    #T_93509980_1fe2_11ea_bc5d_acde48001122row64_col4 {\n",
       "            background-color:  #e4fee4;\n",
       "            color:  #000000;\n",
       "            : ;\n",
       "        }    #T_93509980_1fe2_11ea_bc5d_acde48001122row64_col8 {\n",
       "            color:  black;\n",
       "            : ;\n",
       "            : ;\n",
       "        }    #T_93509980_1fe2_11ea_bc5d_acde48001122row64_col9 {\n",
       "            color:  blue;\n",
       "            : ;\n",
       "        }    #T_93509980_1fe2_11ea_bc5d_acde48001122row65_col2 {\n",
       "            background-color:  #7dc57d;\n",
       "            color:  #000000;\n",
       "            : ;\n",
       "        }    #T_93509980_1fe2_11ea_bc5d_acde48001122row65_col3 {\n",
       "            background-color:  #e5ffe5;\n",
       "            color:  #000000;\n",
       "            : ;\n",
       "        }    #T_93509980_1fe2_11ea_bc5d_acde48001122row65_col4 {\n",
       "            background-color:  #e5ffe5;\n",
       "            color:  #000000;\n",
       "            : ;\n",
       "        }    #T_93509980_1fe2_11ea_bc5d_acde48001122row65_col8 {\n",
       "            color:  black;\n",
       "            : ;\n",
       "            : ;\n",
       "        }    #T_93509980_1fe2_11ea_bc5d_acde48001122row65_col9 {\n",
       "            color:  black;\n",
       "            : ;\n",
       "        }    #T_93509980_1fe2_11ea_bc5d_acde48001122row66_col2 {\n",
       "            background-color:  #41a441;\n",
       "            color:  #000000;\n",
       "            : ;\n",
       "        }    #T_93509980_1fe2_11ea_bc5d_acde48001122row66_col3 {\n",
       "            background-color:  #e5ffe5;\n",
       "            color:  #000000;\n",
       "            : ;\n",
       "        }    #T_93509980_1fe2_11ea_bc5d_acde48001122row66_col4 {\n",
       "            background-color:  #e5ffe5;\n",
       "            color:  #000000;\n",
       "            : ;\n",
       "        }    #T_93509980_1fe2_11ea_bc5d_acde48001122row66_col8 {\n",
       "            color:  black;\n",
       "            : ;\n",
       "            : ;\n",
       "        }    #T_93509980_1fe2_11ea_bc5d_acde48001122row66_col9 {\n",
       "            color:  black;\n",
       "            : ;\n",
       "        }    #T_93509980_1fe2_11ea_bc5d_acde48001122row67_col2 {\n",
       "            background-color:  #93d193;\n",
       "            color:  #000000;\n",
       "            : ;\n",
       "        }    #T_93509980_1fe2_11ea_bc5d_acde48001122row67_col3 {\n",
       "            background-color:  #e5ffe5;\n",
       "            color:  #000000;\n",
       "            : ;\n",
       "        }    #T_93509980_1fe2_11ea_bc5d_acde48001122row67_col4 {\n",
       "            background-color:  #e5ffe5;\n",
       "            color:  #000000;\n",
       "            : ;\n",
       "        }    #T_93509980_1fe2_11ea_bc5d_acde48001122row67_col8 {\n",
       "            color:  black;\n",
       "            : ;\n",
       "            : ;\n",
       "        }    #T_93509980_1fe2_11ea_bc5d_acde48001122row67_col9 {\n",
       "            color:  black;\n",
       "            : ;\n",
       "        }    #T_93509980_1fe2_11ea_bc5d_acde48001122row68_col2 {\n",
       "            background-color:  #67b967;\n",
       "            color:  #000000;\n",
       "            : ;\n",
       "        }    #T_93509980_1fe2_11ea_bc5d_acde48001122row68_col3 {\n",
       "            background-color:  #e5ffe5;\n",
       "            color:  #000000;\n",
       "            : ;\n",
       "        }    #T_93509980_1fe2_11ea_bc5d_acde48001122row68_col4 {\n",
       "            background-color:  #e5ffe5;\n",
       "            color:  #000000;\n",
       "            : ;\n",
       "        }    #T_93509980_1fe2_11ea_bc5d_acde48001122row68_col8 {\n",
       "            color:  black;\n",
       "            : ;\n",
       "            : ;\n",
       "        }    #T_93509980_1fe2_11ea_bc5d_acde48001122row68_col9 {\n",
       "            color:  black;\n",
       "            : ;\n",
       "        }    #T_93509980_1fe2_11ea_bc5d_acde48001122row69_col2 {\n",
       "            background-color:  #72bf72;\n",
       "            color:  #000000;\n",
       "            : ;\n",
       "        }    #T_93509980_1fe2_11ea_bc5d_acde48001122row69_col3 {\n",
       "            background-color:  #e5ffe5;\n",
       "            color:  #000000;\n",
       "            : ;\n",
       "        }    #T_93509980_1fe2_11ea_bc5d_acde48001122row69_col4 {\n",
       "            background-color:  #e5ffe5;\n",
       "            color:  #000000;\n",
       "            : ;\n",
       "        }    #T_93509980_1fe2_11ea_bc5d_acde48001122row69_col8 {\n",
       "            color:  black;\n",
       "            : ;\n",
       "            : ;\n",
       "        }    #T_93509980_1fe2_11ea_bc5d_acde48001122row69_col9 {\n",
       "            color:  blue;\n",
       "            : ;\n",
       "        }    #T_93509980_1fe2_11ea_bc5d_acde48001122row70_col2 {\n",
       "            background-color:  #d2f4d2;\n",
       "            color:  #000000;\n",
       "            : ;\n",
       "        }    #T_93509980_1fe2_11ea_bc5d_acde48001122row70_col3 {\n",
       "            background-color:  #e5ffe5;\n",
       "            color:  #000000;\n",
       "            : ;\n",
       "        }    #T_93509980_1fe2_11ea_bc5d_acde48001122row70_col4 {\n",
       "            background-color:  #e5ffe5;\n",
       "            color:  #000000;\n",
       "            : ;\n",
       "        }    #T_93509980_1fe2_11ea_bc5d_acde48001122row70_col8 {\n",
       "            color:  green;\n",
       "            : ;\n",
       "            : ;\n",
       "        }    #T_93509980_1fe2_11ea_bc5d_acde48001122row70_col9 {\n",
       "            color:  black;\n",
       "            : ;\n",
       "        }    #T_93509980_1fe2_11ea_bc5d_acde48001122row71_col2 {\n",
       "            background-color:  #e5ffe5;\n",
       "            color:  #000000;\n",
       "            : ;\n",
       "        }    #T_93509980_1fe2_11ea_bc5d_acde48001122row71_col3 {\n",
       "            background-color:  #e5ffe5;\n",
       "            color:  #000000;\n",
       "            : ;\n",
       "        }    #T_93509980_1fe2_11ea_bc5d_acde48001122row71_col4 {\n",
       "            background-color:  #e5ffe5;\n",
       "            color:  #000000;\n",
       "            : ;\n",
       "        }    #T_93509980_1fe2_11ea_bc5d_acde48001122row71_col8 {\n",
       "            color:  black;\n",
       "            : ;\n",
       "            : ;\n",
       "        }    #T_93509980_1fe2_11ea_bc5d_acde48001122row71_col9 {\n",
       "            color:  blue;\n",
       "            : ;\n",
       "        }    #T_93509980_1fe2_11ea_bc5d_acde48001122row72_col2 {\n",
       "            background-color:  #3aa03a;\n",
       "            color:  #000000;\n",
       "            : ;\n",
       "        }    #T_93509980_1fe2_11ea_bc5d_acde48001122row72_col3 {\n",
       "            background-color:  #e5ffe5;\n",
       "            color:  #000000;\n",
       "            : ;\n",
       "        }    #T_93509980_1fe2_11ea_bc5d_acde48001122row72_col4 {\n",
       "            background-color:  #e5ffe5;\n",
       "            color:  #000000;\n",
       "            : ;\n",
       "        }    #T_93509980_1fe2_11ea_bc5d_acde48001122row72_col8 {\n",
       "            color:  black;\n",
       "            : ;\n",
       "            : ;\n",
       "        }    #T_93509980_1fe2_11ea_bc5d_acde48001122row72_col9 {\n",
       "            color:  blue;\n",
       "            : ;\n",
       "        }    #T_93509980_1fe2_11ea_bc5d_acde48001122row73_col2 {\n",
       "            background-color:  #abdfab;\n",
       "            color:  #000000;\n",
       "            : ;\n",
       "        }    #T_93509980_1fe2_11ea_bc5d_acde48001122row73_col3 {\n",
       "            background-color:  #e5ffe5;\n",
       "            color:  #000000;\n",
       "            : ;\n",
       "        }    #T_93509980_1fe2_11ea_bc5d_acde48001122row73_col4 {\n",
       "            background-color:  #e5ffe5;\n",
       "            color:  #000000;\n",
       "            : ;\n",
       "        }    #T_93509980_1fe2_11ea_bc5d_acde48001122row73_col8 {\n",
       "            color:  green;\n",
       "            : ;\n",
       "            : ;\n",
       "        }    #T_93509980_1fe2_11ea_bc5d_acde48001122row73_col9 {\n",
       "            color:  black;\n",
       "            : ;\n",
       "        }    #T_93509980_1fe2_11ea_bc5d_acde48001122row74_col2 {\n",
       "            background-color:  #5eb45e;\n",
       "            color:  #000000;\n",
       "            : ;\n",
       "        }    #T_93509980_1fe2_11ea_bc5d_acde48001122row74_col3 {\n",
       "            background-color:  #e5ffe5;\n",
       "            color:  #000000;\n",
       "            : ;\n",
       "        }    #T_93509980_1fe2_11ea_bc5d_acde48001122row74_col4 {\n",
       "            background-color:  #e5ffe5;\n",
       "            color:  #000000;\n",
       "            : ;\n",
       "        }    #T_93509980_1fe2_11ea_bc5d_acde48001122row74_col8 {\n",
       "            color:  black;\n",
       "            : ;\n",
       "            : ;\n",
       "        }    #T_93509980_1fe2_11ea_bc5d_acde48001122row74_col9 {\n",
       "            color:  black;\n",
       "            : ;\n",
       "        }    #T_93509980_1fe2_11ea_bc5d_acde48001122row75_col2 {\n",
       "            background-color:  #bce8bc;\n",
       "            color:  #000000;\n",
       "            : ;\n",
       "        }    #T_93509980_1fe2_11ea_bc5d_acde48001122row75_col3 {\n",
       "            background-color:  #e5ffe5;\n",
       "            color:  #000000;\n",
       "            : ;\n",
       "        }    #T_93509980_1fe2_11ea_bc5d_acde48001122row75_col4 {\n",
       "            background-color:  #e5ffe5;\n",
       "            color:  #000000;\n",
       "            : ;\n",
       "        }    #T_93509980_1fe2_11ea_bc5d_acde48001122row75_col8 {\n",
       "            color:  black;\n",
       "            : ;\n",
       "            : ;\n",
       "        }    #T_93509980_1fe2_11ea_bc5d_acde48001122row75_col9 {\n",
       "            color:  black;\n",
       "            : ;\n",
       "        }</style><table id=\"T_93509980_1fe2_11ea_bc5d_acde48001122\" ><thead>    <tr>        <th class=\"blank level0\" ></th>        <th class=\"col_heading level0 col0\" >BookTitle</th>        <th class=\"col_heading level0 col1\" >AuthorName</th>        <th class=\"col_heading level0 col2\" >Avg_Rating</th>        <th class=\"col_heading level0 col3\" >No_of_Rating</th>        <th class=\"col_heading level0 col4\" >No_of_Review</th>        <th class=\"col_heading level0 col5\" >Publication_Company</th>        <th class=\"col_heading level0 col6\" >Publication_Month</th>        <th class=\"col_heading level0 col7\" >Publication_Year</th>        <th class=\"col_heading level0 col8\" >Page_NO</th>        <th class=\"col_heading level0 col9\" >Type</th>    </tr></thead><tbody>\n",
       "                <tr>\n",
       "                        <th id=\"T_93509980_1fe2_11ea_bc5d_acde48001122level0_row0\" class=\"row_heading level0 row0\" >0</th>\n",
       "                        <td id=\"T_93509980_1fe2_11ea_bc5d_acde48001122row0_col0\" class=\"data row0 col0\" >The Starless Sea</td>\n",
       "                        <td id=\"T_93509980_1fe2_11ea_bc5d_acde48001122row0_col1\" class=\"data row0 col1\" >Erin Morgenstern</td>\n",
       "                        <td id=\"T_93509980_1fe2_11ea_bc5d_acde48001122row0_col2\" class=\"data row0 col2\" >4.12</td>\n",
       "                        <td id=\"T_93509980_1fe2_11ea_bc5d_acde48001122row0_col3\" class=\"data row0 col3\" >12069</td>\n",
       "                        <td id=\"T_93509980_1fe2_11ea_bc5d_acde48001122row0_col4\" class=\"data row0 col4\" >3433</td>\n",
       "                        <td id=\"T_93509980_1fe2_11ea_bc5d_acde48001122row0_col5\" class=\"data row0 col5\" >Doubleday Books</td>\n",
       "                        <td id=\"T_93509980_1fe2_11ea_bc5d_acde48001122row0_col6\" class=\"data row0 col6\" >November</td>\n",
       "                        <td id=\"T_93509980_1fe2_11ea_bc5d_acde48001122row0_col7\" class=\"data row0 col7\" >2019</td>\n",
       "                        <td id=\"T_93509980_1fe2_11ea_bc5d_acde48001122row0_col8\" class=\"data row0 col8\" >498</td>\n",
       "                        <td id=\"T_93509980_1fe2_11ea_bc5d_acde48001122row0_col9\" class=\"data row0 col9\" >Hardcover</td>\n",
       "            </tr>\n",
       "            <tr>\n",
       "                        <th id=\"T_93509980_1fe2_11ea_bc5d_acde48001122level0_row1\" class=\"row_heading level0 row1\" >1</th>\n",
       "                        <td id=\"T_93509980_1fe2_11ea_bc5d_acde48001122row1_col0\" class=\"data row1 col0\" >Blood Heir</td>\n",
       "                        <td id=\"T_93509980_1fe2_11ea_bc5d_acde48001122row1_col1\" class=\"data row1 col1\" >Amélie Wen Zhao</td>\n",
       "                        <td id=\"T_93509980_1fe2_11ea_bc5d_acde48001122row1_col2\" class=\"data row1 col2\" >3.96</td>\n",
       "                        <td id=\"T_93509980_1fe2_11ea_bc5d_acde48001122row1_col3\" class=\"data row1 col3\" >1146</td>\n",
       "                        <td id=\"T_93509980_1fe2_11ea_bc5d_acde48001122row1_col4\" class=\"data row1 col4\" >528</td>\n",
       "                        <td id=\"T_93509980_1fe2_11ea_bc5d_acde48001122row1_col5\" class=\"data row1 col5\" >Delacorte Press</td>\n",
       "                        <td id=\"T_93509980_1fe2_11ea_bc5d_acde48001122row1_col6\" class=\"data row1 col6\" >November</td>\n",
       "                        <td id=\"T_93509980_1fe2_11ea_bc5d_acde48001122row1_col7\" class=\"data row1 col7\" >2019</td>\n",
       "                        <td id=\"T_93509980_1fe2_11ea_bc5d_acde48001122row1_col8\" class=\"data row1 col8\" >464</td>\n",
       "                        <td id=\"T_93509980_1fe2_11ea_bc5d_acde48001122row1_col9\" class=\"data row1 col9\" >Hardcover</td>\n",
       "            </tr>\n",
       "            <tr>\n",
       "                        <th id=\"T_93509980_1fe2_11ea_bc5d_acde48001122level0_row2\" class=\"row_heading level0 row2\" >2</th>\n",
       "                        <td id=\"T_93509980_1fe2_11ea_bc5d_acde48001122row2_col0\" class=\"data row2 col0\" >The Deep</td>\n",
       "                        <td id=\"T_93509980_1fe2_11ea_bc5d_acde48001122row2_col1\" class=\"data row2 col1\" >Rivers Solomon</td>\n",
       "                        <td id=\"T_93509980_1fe2_11ea_bc5d_acde48001122row2_col2\" class=\"data row2 col2\" >3.86</td>\n",
       "                        <td id=\"T_93509980_1fe2_11ea_bc5d_acde48001122row2_col3\" class=\"data row2 col3\" >1608</td>\n",
       "                        <td id=\"T_93509980_1fe2_11ea_bc5d_acde48001122row2_col4\" class=\"data row2 col4\" >503</td>\n",
       "                        <td id=\"T_93509980_1fe2_11ea_bc5d_acde48001122row2_col5\" class=\"data row2 col5\" >Gallery / Saga Press</td>\n",
       "                        <td id=\"T_93509980_1fe2_11ea_bc5d_acde48001122row2_col6\" class=\"data row2 col6\" >November</td>\n",
       "                        <td id=\"T_93509980_1fe2_11ea_bc5d_acde48001122row2_col7\" class=\"data row2 col7\" >2019</td>\n",
       "                        <td id=\"T_93509980_1fe2_11ea_bc5d_acde48001122row2_col8\" class=\"data row2 col8\" >176</td>\n",
       "                        <td id=\"T_93509980_1fe2_11ea_bc5d_acde48001122row2_col9\" class=\"data row2 col9\" >Hardcover</td>\n",
       "            </tr>\n",
       "            <tr>\n",
       "                        <th id=\"T_93509980_1fe2_11ea_bc5d_acde48001122level0_row3\" class=\"row_heading level0 row3\" >3</th>\n",
       "                        <td id=\"T_93509980_1fe2_11ea_bc5d_acde48001122row3_col0\" class=\"data row3 col0\" >The Confession Club</td>\n",
       "                        <td id=\"T_93509980_1fe2_11ea_bc5d_acde48001122row3_col1\" class=\"data row3 col1\" >Elizabeth Berg</td>\n",
       "                        <td id=\"T_93509980_1fe2_11ea_bc5d_acde48001122row3_col2\" class=\"data row3 col2\" >3.8</td>\n",
       "                        <td id=\"T_93509980_1fe2_11ea_bc5d_acde48001122row3_col3\" class=\"data row3 col3\" >1563</td>\n",
       "                        <td id=\"T_93509980_1fe2_11ea_bc5d_acde48001122row3_col4\" class=\"data row3 col4\" >485</td>\n",
       "                        <td id=\"T_93509980_1fe2_11ea_bc5d_acde48001122row3_col5\" class=\"data row3 col5\" >Random House</td>\n",
       "                        <td id=\"T_93509980_1fe2_11ea_bc5d_acde48001122row3_col6\" class=\"data row3 col6\" >November</td>\n",
       "                        <td id=\"T_93509980_1fe2_11ea_bc5d_acde48001122row3_col7\" class=\"data row3 col7\" >2019</td>\n",
       "                        <td id=\"T_93509980_1fe2_11ea_bc5d_acde48001122row3_col8\" class=\"data row3 col8\" >304</td>\n",
       "                        <td id=\"T_93509980_1fe2_11ea_bc5d_acde48001122row3_col9\" class=\"data row3 col9\" >Kindle Edition</td>\n",
       "            </tr>\n",
       "            <tr>\n",
       "                        <th id=\"T_93509980_1fe2_11ea_bc5d_acde48001122level0_row4\" class=\"row_heading level0 row4\" >4</th>\n",
       "                        <td id=\"T_93509980_1fe2_11ea_bc5d_acde48001122row4_col0\" class=\"data row4 col0\" >Ali Cross</td>\n",
       "                        <td id=\"T_93509980_1fe2_11ea_bc5d_acde48001122row4_col1\" class=\"data row4 col1\" >James Patterson</td>\n",
       "                        <td id=\"T_93509980_1fe2_11ea_bc5d_acde48001122row4_col2\" class=\"data row4 col2\" >4.03</td>\n",
       "                        <td id=\"T_93509980_1fe2_11ea_bc5d_acde48001122row4_col3\" class=\"data row4 col3\" >763</td>\n",
       "                        <td id=\"T_93509980_1fe2_11ea_bc5d_acde48001122row4_col4\" class=\"data row4 col4\" >42</td>\n",
       "                        <td id=\"T_93509980_1fe2_11ea_bc5d_acde48001122row4_col5\" class=\"data row4 col5\" >jimmy patterson</td>\n",
       "                        <td id=\"T_93509980_1fe2_11ea_bc5d_acde48001122row4_col6\" class=\"data row4 col6\" >November</td>\n",
       "                        <td id=\"T_93509980_1fe2_11ea_bc5d_acde48001122row4_col7\" class=\"data row4 col7\" >2019</td>\n",
       "                        <td id=\"T_93509980_1fe2_11ea_bc5d_acde48001122row4_col8\" class=\"data row4 col8\" >320</td>\n",
       "                        <td id=\"T_93509980_1fe2_11ea_bc5d_acde48001122row4_col9\" class=\"data row4 col9\" >Hardcover</td>\n",
       "            </tr>\n",
       "            <tr>\n",
       "                        <th id=\"T_93509980_1fe2_11ea_bc5d_acde48001122level0_row5\" class=\"row_heading level0 row5\" >5</th>\n",
       "                        <td id=\"T_93509980_1fe2_11ea_bc5d_acde48001122row5_col0\" class=\"data row5 col0\" >Fate of the Fallen</td>\n",
       "                        <td id=\"T_93509980_1fe2_11ea_bc5d_acde48001122row5_col1\" class=\"data row5 col1\" >Kel Kade</td>\n",
       "                        <td id=\"T_93509980_1fe2_11ea_bc5d_acde48001122row5_col2\" class=\"data row5 col2\" >3.89</td>\n",
       "                        <td id=\"T_93509980_1fe2_11ea_bc5d_acde48001122row5_col3\" class=\"data row5 col3\" >845</td>\n",
       "                        <td id=\"T_93509980_1fe2_11ea_bc5d_acde48001122row5_col4\" class=\"data row5 col4\" >191</td>\n",
       "                        <td id=\"T_93509980_1fe2_11ea_bc5d_acde48001122row5_col5\" class=\"data row5 col5\" >Tor Books</td>\n",
       "                        <td id=\"T_93509980_1fe2_11ea_bc5d_acde48001122row5_col6\" class=\"data row5 col6\" >November</td>\n",
       "                        <td id=\"T_93509980_1fe2_11ea_bc5d_acde48001122row5_col7\" class=\"data row5 col7\" >2019</td>\n",
       "                        <td id=\"T_93509980_1fe2_11ea_bc5d_acde48001122row5_col8\" class=\"data row5 col8\" >400</td>\n",
       "                        <td id=\"T_93509980_1fe2_11ea_bc5d_acde48001122row5_col9\" class=\"data row5 col9\" >ebook</td>\n",
       "            </tr>\n",
       "            <tr>\n",
       "                        <th id=\"T_93509980_1fe2_11ea_bc5d_acde48001122level0_row6\" class=\"row_heading level0 row6\" >6</th>\n",
       "                        <td id=\"T_93509980_1fe2_11ea_bc5d_acde48001122row6_col0\" class=\"data row6 col0\" >The Revisioners</td>\n",
       "                        <td id=\"T_93509980_1fe2_11ea_bc5d_acde48001122row6_col1\" class=\"data row6 col1\" >Margaret Wilkerson Sexton</td>\n",
       "                        <td id=\"T_93509980_1fe2_11ea_bc5d_acde48001122row6_col2\" class=\"data row6 col2\" >3.9</td>\n",
       "                        <td id=\"T_93509980_1fe2_11ea_bc5d_acde48001122row6_col3\" class=\"data row6 col3\" >434</td>\n",
       "                        <td id=\"T_93509980_1fe2_11ea_bc5d_acde48001122row6_col4\" class=\"data row6 col4\" >87</td>\n",
       "                        <td id=\"T_93509980_1fe2_11ea_bc5d_acde48001122row6_col5\" class=\"data row6 col5\" >Counterpoint</td>\n",
       "                        <td id=\"T_93509980_1fe2_11ea_bc5d_acde48001122row6_col6\" class=\"data row6 col6\" >November</td>\n",
       "                        <td id=\"T_93509980_1fe2_11ea_bc5d_acde48001122row6_col7\" class=\"data row6 col7\" >2019</td>\n",
       "                        <td id=\"T_93509980_1fe2_11ea_bc5d_acde48001122row6_col8\" class=\"data row6 col8\" >288</td>\n",
       "                        <td id=\"T_93509980_1fe2_11ea_bc5d_acde48001122row6_col9\" class=\"data row6 col9\" >Hardcover</td>\n",
       "            </tr>\n",
       "            <tr>\n",
       "                        <th id=\"T_93509980_1fe2_11ea_bc5d_acde48001122level0_row7\" class=\"row_heading level0 row7\" >7</th>\n",
       "                        <td id=\"T_93509980_1fe2_11ea_bc5d_acde48001122row7_col0\" class=\"data row7 col0\" >Twenty-One Truths About Love</td>\n",
       "                        <td id=\"T_93509980_1fe2_11ea_bc5d_acde48001122row7_col1\" class=\"data row7 col1\" >Matthew Dicks</td>\n",
       "                        <td id=\"T_93509980_1fe2_11ea_bc5d_acde48001122row7_col2\" class=\"data row7 col2\" >3.72</td>\n",
       "                        <td id=\"T_93509980_1fe2_11ea_bc5d_acde48001122row7_col3\" class=\"data row7 col3\" >673</td>\n",
       "                        <td id=\"T_93509980_1fe2_11ea_bc5d_acde48001122row7_col4\" class=\"data row7 col4\" >426</td>\n",
       "                        <td id=\"T_93509980_1fe2_11ea_bc5d_acde48001122row7_col5\" class=\"data row7 col5\" >St. Martin's Press</td>\n",
       "                        <td id=\"T_93509980_1fe2_11ea_bc5d_acde48001122row7_col6\" class=\"data row7 col6\" >November</td>\n",
       "                        <td id=\"T_93509980_1fe2_11ea_bc5d_acde48001122row7_col7\" class=\"data row7 col7\" >2019</td>\n",
       "                        <td id=\"T_93509980_1fe2_11ea_bc5d_acde48001122row7_col8\" class=\"data row7 col8\" >352</td>\n",
       "                        <td id=\"T_93509980_1fe2_11ea_bc5d_acde48001122row7_col9\" class=\"data row7 col9\" >Hardcover</td>\n",
       "            </tr>\n",
       "            <tr>\n",
       "                        <th id=\"T_93509980_1fe2_11ea_bc5d_acde48001122level0_row8\" class=\"row_heading level0 row8\" >8</th>\n",
       "                        <td id=\"T_93509980_1fe2_11ea_bc5d_acde48001122row8_col0\" class=\"data row8 col0\" >Queen of the Conquered</td>\n",
       "                        <td id=\"T_93509980_1fe2_11ea_bc5d_acde48001122row8_col1\" class=\"data row8 col1\" >Kacen Callender</td>\n",
       "                        <td id=\"T_93509980_1fe2_11ea_bc5d_acde48001122row8_col2\" class=\"data row8 col2\" >3.74</td>\n",
       "                        <td id=\"T_93509980_1fe2_11ea_bc5d_acde48001122row8_col3\" class=\"data row8 col3\" >146</td>\n",
       "                        <td id=\"T_93509980_1fe2_11ea_bc5d_acde48001122row8_col4\" class=\"data row8 col4\" >60</td>\n",
       "                        <td id=\"T_93509980_1fe2_11ea_bc5d_acde48001122row8_col5\" class=\"data row8 col5\" >Orbit</td>\n",
       "                        <td id=\"T_93509980_1fe2_11ea_bc5d_acde48001122row8_col6\" class=\"data row8 col6\" >November</td>\n",
       "                        <td id=\"T_93509980_1fe2_11ea_bc5d_acde48001122row8_col7\" class=\"data row8 col7\" >2019</td>\n",
       "                        <td id=\"T_93509980_1fe2_11ea_bc5d_acde48001122row8_col8\" class=\"data row8 col8\" >400</td>\n",
       "                        <td id=\"T_93509980_1fe2_11ea_bc5d_acde48001122row8_col9\" class=\"data row8 col9\" >Paperback</td>\n",
       "            </tr>\n",
       "            <tr>\n",
       "                        <th id=\"T_93509980_1fe2_11ea_bc5d_acde48001122level0_row9\" class=\"row_heading level0 row9\" >9</th>\n",
       "                        <td id=\"T_93509980_1fe2_11ea_bc5d_acde48001122row9_col0\" class=\"data row9 col0\" >The Other Windsor Girl: A Novel of Princess Margaret, Royal Rebel</td>\n",
       "                        <td id=\"T_93509980_1fe2_11ea_bc5d_acde48001122row9_col1\" class=\"data row9 col1\" >Georgie Blalock</td>\n",
       "                        <td id=\"T_93509980_1fe2_11ea_bc5d_acde48001122row9_col2\" class=\"data row9 col2\" >3.66</td>\n",
       "                        <td id=\"T_93509980_1fe2_11ea_bc5d_acde48001122row9_col3\" class=\"data row9 col3\" >397</td>\n",
       "                        <td id=\"T_93509980_1fe2_11ea_bc5d_acde48001122row9_col4\" class=\"data row9 col4\" >82</td>\n",
       "                        <td id=\"T_93509980_1fe2_11ea_bc5d_acde48001122row9_col5\" class=\"data row9 col5\" >William Morrow Paperbacks</td>\n",
       "                        <td id=\"T_93509980_1fe2_11ea_bc5d_acde48001122row9_col6\" class=\"data row9 col6\" >November</td>\n",
       "                        <td id=\"T_93509980_1fe2_11ea_bc5d_acde48001122row9_col7\" class=\"data row9 col7\" >2019</td>\n",
       "                        <td id=\"T_93509980_1fe2_11ea_bc5d_acde48001122row9_col8\" class=\"data row9 col8\" >377</td>\n",
       "                        <td id=\"T_93509980_1fe2_11ea_bc5d_acde48001122row9_col9\" class=\"data row9 col9\" >Paperback</td>\n",
       "            </tr>\n",
       "            <tr>\n",
       "                        <th id=\"T_93509980_1fe2_11ea_bc5d_acde48001122level0_row10\" class=\"row_heading level0 row10\" >10</th>\n",
       "                        <td id=\"T_93509980_1fe2_11ea_bc5d_acde48001122row10_col0\" class=\"data row10 col0\" >Nothing More Dangerous</td>\n",
       "                        <td id=\"T_93509980_1fe2_11ea_bc5d_acde48001122row10_col1\" class=\"data row10 col1\" >Allen Eskens</td>\n",
       "                        <td id=\"T_93509980_1fe2_11ea_bc5d_acde48001122row10_col2\" class=\"data row10 col2\" >4.39</td>\n",
       "                        <td id=\"T_93509980_1fe2_11ea_bc5d_acde48001122row10_col3\" class=\"data row10 col3\" >581</td>\n",
       "                        <td id=\"T_93509980_1fe2_11ea_bc5d_acde48001122row10_col4\" class=\"data row10 col4\" >152</td>\n",
       "                        <td id=\"T_93509980_1fe2_11ea_bc5d_acde48001122row10_col5\" class=\"data row10 col5\" >Mulholland Books</td>\n",
       "                        <td id=\"T_93509980_1fe2_11ea_bc5d_acde48001122row10_col6\" class=\"data row10 col6\" >November</td>\n",
       "                        <td id=\"T_93509980_1fe2_11ea_bc5d_acde48001122row10_col7\" class=\"data row10 col7\" >2019</td>\n",
       "                        <td id=\"T_93509980_1fe2_11ea_bc5d_acde48001122row10_col8\" class=\"data row10 col8\" >352</td>\n",
       "                        <td id=\"T_93509980_1fe2_11ea_bc5d_acde48001122row10_col9\" class=\"data row10 col9\" >Kindle Edition</td>\n",
       "            </tr>\n",
       "            <tr>\n",
       "                        <th id=\"T_93509980_1fe2_11ea_bc5d_acde48001122level0_row11\" class=\"row_heading level0 row11\" >11</th>\n",
       "                        <td id=\"T_93509980_1fe2_11ea_bc5d_acde48001122row11_col0\" class=\"data row11 col0\" >All-American Muslim Girl</td>\n",
       "                        <td id=\"T_93509980_1fe2_11ea_bc5d_acde48001122row11_col1\" class=\"data row11 col1\" >Nadine Jolie Courtney</td>\n",
       "                        <td id=\"T_93509980_1fe2_11ea_bc5d_acde48001122row11_col2\" class=\"data row11 col2\" >4.25</td>\n",
       "                        <td id=\"T_93509980_1fe2_11ea_bc5d_acde48001122row11_col3\" class=\"data row11 col3\" >302</td>\n",
       "                        <td id=\"T_93509980_1fe2_11ea_bc5d_acde48001122row11_col4\" class=\"data row11 col4\" >140</td>\n",
       "                        <td id=\"T_93509980_1fe2_11ea_bc5d_acde48001122row11_col5\" class=\"data row11 col5\" >Farrar, Straus and Giroux</td>\n",
       "                        <td id=\"T_93509980_1fe2_11ea_bc5d_acde48001122row11_col6\" class=\"data row11 col6\" >November</td>\n",
       "                        <td id=\"T_93509980_1fe2_11ea_bc5d_acde48001122row11_col7\" class=\"data row11 col7\" >2019</td>\n",
       "                        <td id=\"T_93509980_1fe2_11ea_bc5d_acde48001122row11_col8\" class=\"data row11 col8\" >256</td>\n",
       "                        <td id=\"T_93509980_1fe2_11ea_bc5d_acde48001122row11_col9\" class=\"data row11 col9\" >Hardcover</td>\n",
       "            </tr>\n",
       "            <tr>\n",
       "                        <th id=\"T_93509980_1fe2_11ea_bc5d_acde48001122level0_row12\" class=\"row_heading level0 row12\" >12</th>\n",
       "                        <td id=\"T_93509980_1fe2_11ea_bc5d_acde48001122row12_col0\" class=\"data row12 col0\" >The Book of Lost Saints</td>\n",
       "                        <td id=\"T_93509980_1fe2_11ea_bc5d_acde48001122row12_col1\" class=\"data row12 col1\" >Daniel José Older</td>\n",
       "                        <td id=\"T_93509980_1fe2_11ea_bc5d_acde48001122row12_col2\" class=\"data row12 col2\" >4.38</td>\n",
       "                        <td id=\"T_93509980_1fe2_11ea_bc5d_acde48001122row12_col3\" class=\"data row12 col3\" >118</td>\n",
       "                        <td id=\"T_93509980_1fe2_11ea_bc5d_acde48001122row12_col4\" class=\"data row12 col4\" >38</td>\n",
       "                        <td id=\"T_93509980_1fe2_11ea_bc5d_acde48001122row12_col5\" class=\"data row12 col5\" >Imprint</td>\n",
       "                        <td id=\"T_93509980_1fe2_11ea_bc5d_acde48001122row12_col6\" class=\"data row12 col6\" >November</td>\n",
       "                        <td id=\"T_93509980_1fe2_11ea_bc5d_acde48001122row12_col7\" class=\"data row12 col7\" >2019</td>\n",
       "                        <td id=\"T_93509980_1fe2_11ea_bc5d_acde48001122row12_col8\" class=\"data row12 col8\" >336</td>\n",
       "                        <td id=\"T_93509980_1fe2_11ea_bc5d_acde48001122row12_col9\" class=\"data row12 col9\" >ebook</td>\n",
       "            </tr>\n",
       "            <tr>\n",
       "                        <th id=\"T_93509980_1fe2_11ea_bc5d_acde48001122level0_row13\" class=\"row_heading level0 row13\" >13</th>\n",
       "                        <td id=\"T_93509980_1fe2_11ea_bc5d_acde48001122row13_col0\" class=\"data row13 col0\" >Eight Will Fall</td>\n",
       "                        <td id=\"T_93509980_1fe2_11ea_bc5d_acde48001122row13_col1\" class=\"data row13 col1\" >Sarah Harian</td>\n",
       "                        <td id=\"T_93509980_1fe2_11ea_bc5d_acde48001122row13_col2\" class=\"data row13 col2\" >3.79</td>\n",
       "                        <td id=\"T_93509980_1fe2_11ea_bc5d_acde48001122row13_col3\" class=\"data row13 col3\" >135</td>\n",
       "                        <td id=\"T_93509980_1fe2_11ea_bc5d_acde48001122row13_col4\" class=\"data row13 col4\" >85</td>\n",
       "                        <td id=\"T_93509980_1fe2_11ea_bc5d_acde48001122row13_col5\" class=\"data row13 col5\" >Henry Holt</td>\n",
       "                        <td id=\"T_93509980_1fe2_11ea_bc5d_acde48001122row13_col6\" class=\"data row13 col6\" >November</td>\n",
       "                        <td id=\"T_93509980_1fe2_11ea_bc5d_acde48001122row13_col7\" class=\"data row13 col7\" >2019</td>\n",
       "                        <td id=\"T_93509980_1fe2_11ea_bc5d_acde48001122row13_col8\" class=\"data row13 col8\" >352</td>\n",
       "                        <td id=\"T_93509980_1fe2_11ea_bc5d_acde48001122row13_col9\" class=\"data row13 col9\" >Hardcover</td>\n",
       "            </tr>\n",
       "            <tr>\n",
       "                        <th id=\"T_93509980_1fe2_11ea_bc5d_acde48001122level0_row14\" class=\"row_heading level0 row14\" >14</th>\n",
       "                        <td id=\"T_93509980_1fe2_11ea_bc5d_acde48001122row14_col0\" class=\"data row14 col0\" >Unnatural Magic</td>\n",
       "                        <td id=\"T_93509980_1fe2_11ea_bc5d_acde48001122row14_col1\" class=\"data row14 col1\" >C.M. Waggoner</td>\n",
       "                        <td id=\"T_93509980_1fe2_11ea_bc5d_acde48001122row14_col2\" class=\"data row14 col2\" >4.11</td>\n",
       "                        <td id=\"T_93509980_1fe2_11ea_bc5d_acde48001122row14_col3\" class=\"data row14 col3\" >179</td>\n",
       "                        <td id=\"T_93509980_1fe2_11ea_bc5d_acde48001122row14_col4\" class=\"data row14 col4\" >70</td>\n",
       "                        <td id=\"T_93509980_1fe2_11ea_bc5d_acde48001122row14_col5\" class=\"data row14 col5\" >Ace</td>\n",
       "                        <td id=\"T_93509980_1fe2_11ea_bc5d_acde48001122row14_col6\" class=\"data row14 col6\" >November</td>\n",
       "                        <td id=\"T_93509980_1fe2_11ea_bc5d_acde48001122row14_col7\" class=\"data row14 col7\" >2019</td>\n",
       "                        <td id=\"T_93509980_1fe2_11ea_bc5d_acde48001122row14_col8\" class=\"data row14 col8\" >400</td>\n",
       "                        <td id=\"T_93509980_1fe2_11ea_bc5d_acde48001122row14_col9\" class=\"data row14 col9\" >Paperback</td>\n",
       "            </tr>\n",
       "            <tr>\n",
       "                        <th id=\"T_93509980_1fe2_11ea_bc5d_acde48001122level0_row15\" class=\"row_heading level0 row15\" >15</th>\n",
       "                        <td id=\"T_93509980_1fe2_11ea_bc5d_acde48001122row15_col0\" class=\"data row15 col0\" >The Last Affair</td>\n",
       "                        <td id=\"T_93509980_1fe2_11ea_bc5d_acde48001122row15_col1\" class=\"data row15 col1\" >Margot Hunt</td>\n",
       "                        <td id=\"T_93509980_1fe2_11ea_bc5d_acde48001122row15_col2\" class=\"data row15 col2\" >3.83</td>\n",
       "                        <td id=\"T_93509980_1fe2_11ea_bc5d_acde48001122row15_col3\" class=\"data row15 col3\" >259</td>\n",
       "                        <td id=\"T_93509980_1fe2_11ea_bc5d_acde48001122row15_col4\" class=\"data row15 col4\" >108</td>\n",
       "                        <td id=\"T_93509980_1fe2_11ea_bc5d_acde48001122row15_col5\" class=\"data row15 col5\" >MIRA</td>\n",
       "                        <td id=\"T_93509980_1fe2_11ea_bc5d_acde48001122row15_col6\" class=\"data row15 col6\" >November</td>\n",
       "                        <td id=\"T_93509980_1fe2_11ea_bc5d_acde48001122row15_col7\" class=\"data row15 col7\" >2019</td>\n",
       "                        <td id=\"T_93509980_1fe2_11ea_bc5d_acde48001122row15_col8\" class=\"data row15 col8\" >336</td>\n",
       "                        <td id=\"T_93509980_1fe2_11ea_bc5d_acde48001122row15_col9\" class=\"data row15 col9\" >Paperback</td>\n",
       "            </tr>\n",
       "            <tr>\n",
       "                        <th id=\"T_93509980_1fe2_11ea_bc5d_acde48001122level0_row16\" class=\"row_heading level0 row16\" >16</th>\n",
       "                        <td id=\"T_93509980_1fe2_11ea_bc5d_acde48001122row16_col0\" class=\"data row16 col0\" >The Andromeda Evolution</td>\n",
       "                        <td id=\"T_93509980_1fe2_11ea_bc5d_acde48001122row16_col1\" class=\"data row16 col1\" >Daniel H. Wilson</td>\n",
       "                        <td id=\"T_93509980_1fe2_11ea_bc5d_acde48001122row16_col2\" class=\"data row16 col2\" >3.69</td>\n",
       "                        <td id=\"T_93509980_1fe2_11ea_bc5d_acde48001122row16_col3\" class=\"data row16 col3\" >929</td>\n",
       "                        <td id=\"T_93509980_1fe2_11ea_bc5d_acde48001122row16_col4\" class=\"data row16 col4\" >168</td>\n",
       "                        <td id=\"T_93509980_1fe2_11ea_bc5d_acde48001122row16_col5\" class=\"data row16 col5\" >Harper</td>\n",
       "                        <td id=\"T_93509980_1fe2_11ea_bc5d_acde48001122row16_col6\" class=\"data row16 col6\" >November</td>\n",
       "                        <td id=\"T_93509980_1fe2_11ea_bc5d_acde48001122row16_col7\" class=\"data row16 col7\" >2019</td>\n",
       "                        <td id=\"T_93509980_1fe2_11ea_bc5d_acde48001122row16_col8\" class=\"data row16 col8\" >384</td>\n",
       "                        <td id=\"T_93509980_1fe2_11ea_bc5d_acde48001122row16_col9\" class=\"data row16 col9\" >Hardcover</td>\n",
       "            </tr>\n",
       "            <tr>\n",
       "                        <th id=\"T_93509980_1fe2_11ea_bc5d_acde48001122level0_row17\" class=\"row_heading level0 row17\" >17</th>\n",
       "                        <td id=\"T_93509980_1fe2_11ea_bc5d_acde48001122row17_col0\" class=\"data row17 col0\" >On Swift Horses</td>\n",
       "                        <td id=\"T_93509980_1fe2_11ea_bc5d_acde48001122row17_col1\" class=\"data row17 col1\" >Shannon Pufahl</td>\n",
       "                        <td id=\"T_93509980_1fe2_11ea_bc5d_acde48001122row17_col2\" class=\"data row17 col2\" >3.45</td>\n",
       "                        <td id=\"T_93509980_1fe2_11ea_bc5d_acde48001122row17_col3\" class=\"data row17 col3\" >167</td>\n",
       "                        <td id=\"T_93509980_1fe2_11ea_bc5d_acde48001122row17_col4\" class=\"data row17 col4\" >44</td>\n",
       "                        <td id=\"T_93509980_1fe2_11ea_bc5d_acde48001122row17_col5\" class=\"data row17 col5\" >Riverhead Books</td>\n",
       "                        <td id=\"T_93509980_1fe2_11ea_bc5d_acde48001122row17_col6\" class=\"data row17 col6\" >November</td>\n",
       "                        <td id=\"T_93509980_1fe2_11ea_bc5d_acde48001122row17_col7\" class=\"data row17 col7\" >2019</td>\n",
       "                        <td id=\"T_93509980_1fe2_11ea_bc5d_acde48001122row17_col8\" class=\"data row17 col8\" >320</td>\n",
       "                        <td id=\"T_93509980_1fe2_11ea_bc5d_acde48001122row17_col9\" class=\"data row17 col9\" >Hardcover</td>\n",
       "            </tr>\n",
       "            <tr>\n",
       "                        <th id=\"T_93509980_1fe2_11ea_bc5d_acde48001122level0_row18\" class=\"row_heading level0 row18\" >18</th>\n",
       "                        <td id=\"T_93509980_1fe2_11ea_bc5d_acde48001122row18_col0\" class=\"data row18 col0\" >The Worst Kind of Want</td>\n",
       "                        <td id=\"T_93509980_1fe2_11ea_bc5d_acde48001122row18_col1\" class=\"data row18 col1\" >Liska Jacobs</td>\n",
       "                        <td id=\"T_93509980_1fe2_11ea_bc5d_acde48001122row18_col2\" class=\"data row18 col2\" >3.57</td>\n",
       "                        <td id=\"T_93509980_1fe2_11ea_bc5d_acde48001122row18_col3\" class=\"data row18 col3\" >161</td>\n",
       "                        <td id=\"T_93509980_1fe2_11ea_bc5d_acde48001122row18_col4\" class=\"data row18 col4\" >41</td>\n",
       "                        <td id=\"T_93509980_1fe2_11ea_bc5d_acde48001122row18_col5\" class=\"data row18 col5\" >MCD</td>\n",
       "                        <td id=\"T_93509980_1fe2_11ea_bc5d_acde48001122row18_col6\" class=\"data row18 col6\" >November</td>\n",
       "                        <td id=\"T_93509980_1fe2_11ea_bc5d_acde48001122row18_col7\" class=\"data row18 col7\" >2019</td>\n",
       "                        <td id=\"T_93509980_1fe2_11ea_bc5d_acde48001122row18_col8\" class=\"data row18 col8\" >224</td>\n",
       "                        <td id=\"T_93509980_1fe2_11ea_bc5d_acde48001122row18_col9\" class=\"data row18 col9\" >Hardcover</td>\n",
       "            </tr>\n",
       "            <tr>\n",
       "                        <th id=\"T_93509980_1fe2_11ea_bc5d_acde48001122level0_row19\" class=\"row_heading level0 row19\" >19</th>\n",
       "                        <td id=\"T_93509980_1fe2_11ea_bc5d_acde48001122row19_col0\" class=\"data row19 col0\" >Poppy Redfern and the Midnight Murders</td>\n",
       "                        <td id=\"T_93509980_1fe2_11ea_bc5d_acde48001122row19_col1\" class=\"data row19 col1\" >Tessa Arlen</td>\n",
       "                        <td id=\"T_93509980_1fe2_11ea_bc5d_acde48001122row19_col2\" class=\"data row19 col2\" >4</td>\n",
       "                        <td id=\"T_93509980_1fe2_11ea_bc5d_acde48001122row19_col3\" class=\"data row19 col3\" >188</td>\n",
       "                        <td id=\"T_93509980_1fe2_11ea_bc5d_acde48001122row19_col4\" class=\"data row19 col4\" >64</td>\n",
       "                        <td id=\"T_93509980_1fe2_11ea_bc5d_acde48001122row19_col5\" class=\"data row19 col5\" >Berkley</td>\n",
       "                        <td id=\"T_93509980_1fe2_11ea_bc5d_acde48001122row19_col6\" class=\"data row19 col6\" >November</td>\n",
       "                        <td id=\"T_93509980_1fe2_11ea_bc5d_acde48001122row19_col7\" class=\"data row19 col7\" >2019</td>\n",
       "                        <td id=\"T_93509980_1fe2_11ea_bc5d_acde48001122row19_col8\" class=\"data row19 col8\" >320</td>\n",
       "                        <td id=\"T_93509980_1fe2_11ea_bc5d_acde48001122row19_col9\" class=\"data row19 col9\" >Kindle Edition</td>\n",
       "            </tr>\n",
       "            <tr>\n",
       "                        <th id=\"T_93509980_1fe2_11ea_bc5d_acde48001122level0_row20\" class=\"row_heading level0 row20\" >20</th>\n",
       "                        <td id=\"T_93509980_1fe2_11ea_bc5d_acde48001122row20_col0\" class=\"data row20 col0\" >Sisters of Shadow and Light</td>\n",
       "                        <td id=\"T_93509980_1fe2_11ea_bc5d_acde48001122row20_col1\" class=\"data row20 col1\" >Sara B. Larson</td>\n",
       "                        <td id=\"T_93509980_1fe2_11ea_bc5d_acde48001122row20_col2\" class=\"data row20 col2\" >3.96</td>\n",
       "                        <td id=\"T_93509980_1fe2_11ea_bc5d_acde48001122row20_col3\" class=\"data row20 col3\" >243</td>\n",
       "                        <td id=\"T_93509980_1fe2_11ea_bc5d_acde48001122row20_col4\" class=\"data row20 col4\" >135</td>\n",
       "                        <td id=\"T_93509980_1fe2_11ea_bc5d_acde48001122row20_col5\" class=\"data row20 col5\" >Tor Teen</td>\n",
       "                        <td id=\"T_93509980_1fe2_11ea_bc5d_acde48001122row20_col6\" class=\"data row20 col6\" >November</td>\n",
       "                        <td id=\"T_93509980_1fe2_11ea_bc5d_acde48001122row20_col7\" class=\"data row20 col7\" >2019</td>\n",
       "                        <td id=\"T_93509980_1fe2_11ea_bc5d_acde48001122row20_col8\" class=\"data row20 col8\" >368</td>\n",
       "                        <td id=\"T_93509980_1fe2_11ea_bc5d_acde48001122row20_col9\" class=\"data row20 col9\" >Kindle Edition</td>\n",
       "            </tr>\n",
       "            <tr>\n",
       "                        <th id=\"T_93509980_1fe2_11ea_bc5d_acde48001122level0_row21\" class=\"row_heading level0 row21\" >21</th>\n",
       "                        <td id=\"T_93509980_1fe2_11ea_bc5d_acde48001122row21_col0\" class=\"data row21 col0\" >Novice Dragoneer</td>\n",
       "                        <td id=\"T_93509980_1fe2_11ea_bc5d_acde48001122row21_col1\" class=\"data row21 col1\" >E.E. Knight</td>\n",
       "                        <td id=\"T_93509980_1fe2_11ea_bc5d_acde48001122row21_col2\" class=\"data row21 col2\" >4.11</td>\n",
       "                        <td id=\"T_93509980_1fe2_11ea_bc5d_acde48001122row21_col3\" class=\"data row21 col3\" >198</td>\n",
       "                        <td id=\"T_93509980_1fe2_11ea_bc5d_acde48001122row21_col4\" class=\"data row21 col4\" >63</td>\n",
       "                        <td id=\"T_93509980_1fe2_11ea_bc5d_acde48001122row21_col5\" class=\"data row21 col5\" >Ace Books</td>\n",
       "                        <td id=\"T_93509980_1fe2_11ea_bc5d_acde48001122row21_col6\" class=\"data row21 col6\" >November</td>\n",
       "                        <td id=\"T_93509980_1fe2_11ea_bc5d_acde48001122row21_col7\" class=\"data row21 col7\" >2019</td>\n",
       "                        <td id=\"T_93509980_1fe2_11ea_bc5d_acde48001122row21_col8\" class=\"data row21 col8\" >512</td>\n",
       "                        <td id=\"T_93509980_1fe2_11ea_bc5d_acde48001122row21_col9\" class=\"data row21 col9\" >Paperback</td>\n",
       "            </tr>\n",
       "            <tr>\n",
       "                        <th id=\"T_93509980_1fe2_11ea_bc5d_acde48001122level0_row22\" class=\"row_heading level0 row22\" >22</th>\n",
       "                        <td id=\"T_93509980_1fe2_11ea_bc5d_acde48001122row22_col0\" class=\"data row22 col0\" >Color Outside the Lines</td>\n",
       "                        <td id=\"T_93509980_1fe2_11ea_bc5d_acde48001122row22_col1\" class=\"data row22 col1\" >Sangu Mandanna</td>\n",
       "                        <td id=\"T_93509980_1fe2_11ea_bc5d_acde48001122row22_col2\" class=\"data row22 col2\" >3.98</td>\n",
       "                        <td id=\"T_93509980_1fe2_11ea_bc5d_acde48001122row22_col3\" class=\"data row22 col3\" >116</td>\n",
       "                        <td id=\"T_93509980_1fe2_11ea_bc5d_acde48001122row22_col4\" class=\"data row22 col4\" >51</td>\n",
       "                        <td id=\"T_93509980_1fe2_11ea_bc5d_acde48001122row22_col5\" class=\"data row22 col5\" >Soho Teen</td>\n",
       "                        <td id=\"T_93509980_1fe2_11ea_bc5d_acde48001122row22_col6\" class=\"data row22 col6\" >November</td>\n",
       "                        <td id=\"T_93509980_1fe2_11ea_bc5d_acde48001122row22_col7\" class=\"data row22 col7\" >2019</td>\n",
       "                        <td id=\"T_93509980_1fe2_11ea_bc5d_acde48001122row22_col8\" class=\"data row22 col8\" >312</td>\n",
       "                        <td id=\"T_93509980_1fe2_11ea_bc5d_acde48001122row22_col9\" class=\"data row22 col9\" >Hardcover</td>\n",
       "            </tr>\n",
       "            <tr>\n",
       "                        <th id=\"T_93509980_1fe2_11ea_bc5d_acde48001122level0_row23\" class=\"row_heading level0 row23\" >23</th>\n",
       "                        <td id=\"T_93509980_1fe2_11ea_bc5d_acde48001122row23_col0\" class=\"data row23 col0\" >Mary Toft; or, The Rabbit Queen</td>\n",
       "                        <td id=\"T_93509980_1fe2_11ea_bc5d_acde48001122row23_col1\" class=\"data row23 col1\" >Dexter Palmer</td>\n",
       "                        <td id=\"T_93509980_1fe2_11ea_bc5d_acde48001122row23_col2\" class=\"data row23 col2\" >3.89</td>\n",
       "                        <td id=\"T_93509980_1fe2_11ea_bc5d_acde48001122row23_col3\" class=\"data row23 col3\" >104</td>\n",
       "                        <td id=\"T_93509980_1fe2_11ea_bc5d_acde48001122row23_col4\" class=\"data row23 col4\" >26</td>\n",
       "                        <td id=\"T_93509980_1fe2_11ea_bc5d_acde48001122row23_col5\" class=\"data row23 col5\" >Pantheon Books</td>\n",
       "                        <td id=\"T_93509980_1fe2_11ea_bc5d_acde48001122row23_col6\" class=\"data row23 col6\" >November</td>\n",
       "                        <td id=\"T_93509980_1fe2_11ea_bc5d_acde48001122row23_col7\" class=\"data row23 col7\" >2019</td>\n",
       "                        <td id=\"T_93509980_1fe2_11ea_bc5d_acde48001122row23_col8\" class=\"data row23 col8\" >336</td>\n",
       "                        <td id=\"T_93509980_1fe2_11ea_bc5d_acde48001122row23_col9\" class=\"data row23 col9\" >Hardcover</td>\n",
       "            </tr>\n",
       "            <tr>\n",
       "                        <th id=\"T_93509980_1fe2_11ea_bc5d_acde48001122level0_row24\" class=\"row_heading level0 row24\" >24</th>\n",
       "                        <td id=\"T_93509980_1fe2_11ea_bc5d_acde48001122row24_col0\" class=\"data row24 col0\" >The Accomplice</td>\n",
       "                        <td id=\"T_93509980_1fe2_11ea_bc5d_acde48001122row24_col1\" class=\"data row24 col1\" >Joseph Kanon</td>\n",
       "                        <td id=\"T_93509980_1fe2_11ea_bc5d_acde48001122row24_col2\" class=\"data row24 col2\" >3.79</td>\n",
       "                        <td id=\"T_93509980_1fe2_11ea_bc5d_acde48001122row24_col3\" class=\"data row24 col3\" >346</td>\n",
       "                        <td id=\"T_93509980_1fe2_11ea_bc5d_acde48001122row24_col4\" class=\"data row24 col4\" >53</td>\n",
       "                        <td id=\"T_93509980_1fe2_11ea_bc5d_acde48001122row24_col5\" class=\"data row24 col5\" >Atria Books</td>\n",
       "                        <td id=\"T_93509980_1fe2_11ea_bc5d_acde48001122row24_col6\" class=\"data row24 col6\" >November</td>\n",
       "                        <td id=\"T_93509980_1fe2_11ea_bc5d_acde48001122row24_col7\" class=\"data row24 col7\" >2019</td>\n",
       "                        <td id=\"T_93509980_1fe2_11ea_bc5d_acde48001122row24_col8\" class=\"data row24 col8\" >336</td>\n",
       "                        <td id=\"T_93509980_1fe2_11ea_bc5d_acde48001122row24_col9\" class=\"data row24 col9\" >Hardcover</td>\n",
       "            </tr>\n",
       "            <tr>\n",
       "                        <th id=\"T_93509980_1fe2_11ea_bc5d_acde48001122level0_row25\" class=\"row_heading level0 row25\" >25</th>\n",
       "                        <td id=\"T_93509980_1fe2_11ea_bc5d_acde48001122row25_col0\" class=\"data row25 col0\" >The Pursuit of William Abbey</td>\n",
       "                        <td id=\"T_93509980_1fe2_11ea_bc5d_acde48001122row25_col1\" class=\"data row25 col1\" >Claire North</td>\n",
       "                        <td id=\"T_93509980_1fe2_11ea_bc5d_acde48001122row25_col2\" class=\"data row25 col2\" >3.82</td>\n",
       "                        <td id=\"T_93509980_1fe2_11ea_bc5d_acde48001122row25_col3\" class=\"data row25 col3\" >206</td>\n",
       "                        <td id=\"T_93509980_1fe2_11ea_bc5d_acde48001122row25_col4\" class=\"data row25 col4\" >62</td>\n",
       "                        <td id=\"T_93509980_1fe2_11ea_bc5d_acde48001122row25_col5\" class=\"data row25 col5\" >Orbit</td>\n",
       "                        <td id=\"T_93509980_1fe2_11ea_bc5d_acde48001122row25_col6\" class=\"data row25 col6\" >November</td>\n",
       "                        <td id=\"T_93509980_1fe2_11ea_bc5d_acde48001122row25_col7\" class=\"data row25 col7\" >2019</td>\n",
       "                        <td id=\"T_93509980_1fe2_11ea_bc5d_acde48001122row25_col8\" class=\"data row25 col8\" >420</td>\n",
       "                        <td id=\"T_93509980_1fe2_11ea_bc5d_acde48001122row25_col9\" class=\"data row25 col9\" >Paperback</td>\n",
       "            </tr>\n",
       "            <tr>\n",
       "                        <th id=\"T_93509980_1fe2_11ea_bc5d_acde48001122level0_row26\" class=\"row_heading level0 row26\" >26</th>\n",
       "                        <td id=\"T_93509980_1fe2_11ea_bc5d_acde48001122row26_col0\" class=\"data row26 col0\" >La Tempête des Echos</td>\n",
       "                        <td id=\"T_93509980_1fe2_11ea_bc5d_acde48001122row26_col1\" class=\"data row26 col1\" >Christelle Dabos</td>\n",
       "                        <td id=\"T_93509980_1fe2_11ea_bc5d_acde48001122row26_col2\" class=\"data row26 col2\" >4.24</td>\n",
       "                        <td id=\"T_93509980_1fe2_11ea_bc5d_acde48001122row26_col3\" class=\"data row26 col3\" >393</td>\n",
       "                        <td id=\"T_93509980_1fe2_11ea_bc5d_acde48001122row26_col4\" class=\"data row26 col4\" >78</td>\n",
       "                        <td id=\"T_93509980_1fe2_11ea_bc5d_acde48001122row26_col5\" class=\"data row26 col5\" >Gallimard Jeunesse</td>\n",
       "                        <td id=\"T_93509980_1fe2_11ea_bc5d_acde48001122row26_col6\" class=\"data row26 col6\" >November</td>\n",
       "                        <td id=\"T_93509980_1fe2_11ea_bc5d_acde48001122row26_col7\" class=\"data row26 col7\" >2019</td>\n",
       "                        <td id=\"T_93509980_1fe2_11ea_bc5d_acde48001122row26_col8\" class=\"data row26 col8\" >564</td>\n",
       "                        <td id=\"T_93509980_1fe2_11ea_bc5d_acde48001122row26_col9\" class=\"data row26 col9\" >Paperback</td>\n",
       "            </tr>\n",
       "            <tr>\n",
       "                        <th id=\"T_93509980_1fe2_11ea_bc5d_acde48001122level0_row27\" class=\"row_heading level0 row27\" >27</th>\n",
       "                        <td id=\"T_93509980_1fe2_11ea_bc5d_acde48001122row27_col0\" class=\"data row27 col0\" >My Fake Rake</td>\n",
       "                        <td id=\"T_93509980_1fe2_11ea_bc5d_acde48001122row27_col1\" class=\"data row27 col1\" >Eva Leigh</td>\n",
       "                        <td id=\"T_93509980_1fe2_11ea_bc5d_acde48001122row27_col2\" class=\"data row27 col2\" >4</td>\n",
       "                        <td id=\"T_93509980_1fe2_11ea_bc5d_acde48001122row27_col3\" class=\"data row27 col3\" >357</td>\n",
       "                        <td id=\"T_93509980_1fe2_11ea_bc5d_acde48001122row27_col4\" class=\"data row27 col4\" >124</td>\n",
       "                        <td id=\"T_93509980_1fe2_11ea_bc5d_acde48001122row27_col5\" class=\"data row27 col5\" >Avon</td>\n",
       "                        <td id=\"T_93509980_1fe2_11ea_bc5d_acde48001122row27_col6\" class=\"data row27 col6\" >November</td>\n",
       "                        <td id=\"T_93509980_1fe2_11ea_bc5d_acde48001122row27_col7\" class=\"data row27 col7\" >2019</td>\n",
       "                        <td id=\"T_93509980_1fe2_11ea_bc5d_acde48001122row27_col8\" class=\"data row27 col8\" >384</td>\n",
       "                        <td id=\"T_93509980_1fe2_11ea_bc5d_acde48001122row27_col9\" class=\"data row27 col9\" >ebook</td>\n",
       "            </tr>\n",
       "            <tr>\n",
       "                        <th id=\"T_93509980_1fe2_11ea_bc5d_acde48001122level0_row28\" class=\"row_heading level0 row28\" >28</th>\n",
       "                        <td id=\"T_93509980_1fe2_11ea_bc5d_acde48001122row28_col0\" class=\"data row28 col0\" >Forever and a Duke</td>\n",
       "                        <td id=\"T_93509980_1fe2_11ea_bc5d_acde48001122row28_col1\" class=\"data row28 col1\" >Grace Burrowes</td>\n",
       "                        <td id=\"T_93509980_1fe2_11ea_bc5d_acde48001122row28_col2\" class=\"data row28 col2\" >3.97</td>\n",
       "                        <td id=\"T_93509980_1fe2_11ea_bc5d_acde48001122row28_col3\" class=\"data row28 col3\" >294</td>\n",
       "                        <td id=\"T_93509980_1fe2_11ea_bc5d_acde48001122row28_col4\" class=\"data row28 col4\" >54</td>\n",
       "                        <td id=\"T_93509980_1fe2_11ea_bc5d_acde48001122row28_col5\" class=\"data row28 col5\" >Forever</td>\n",
       "                        <td id=\"T_93509980_1fe2_11ea_bc5d_acde48001122row28_col6\" class=\"data row28 col6\" >November</td>\n",
       "                        <td id=\"T_93509980_1fe2_11ea_bc5d_acde48001122row28_col7\" class=\"data row28 col7\" >2019</td>\n",
       "                        <td id=\"T_93509980_1fe2_11ea_bc5d_acde48001122row28_col8\" class=\"data row28 col8\" >0</td>\n",
       "                        <td id=\"T_93509980_1fe2_11ea_bc5d_acde48001122row28_col9\" class=\"data row28 col9\" >Kindle Edition</td>\n",
       "            </tr>\n",
       "            <tr>\n",
       "                        <th id=\"T_93509980_1fe2_11ea_bc5d_acde48001122level0_row29\" class=\"row_heading level0 row29\" >29</th>\n",
       "                        <td id=\"T_93509980_1fe2_11ea_bc5d_acde48001122row29_col0\" class=\"data row29 col0\" >The Captain and the Glory: An Entertainment</td>\n",
       "                        <td id=\"T_93509980_1fe2_11ea_bc5d_acde48001122row29_col1\" class=\"data row29 col1\" >Dave Eggers</td>\n",
       "                        <td id=\"T_93509980_1fe2_11ea_bc5d_acde48001122row29_col2\" class=\"data row29 col2\" >3.55</td>\n",
       "                        <td id=\"T_93509980_1fe2_11ea_bc5d_acde48001122row29_col3\" class=\"data row29 col3\" >271</td>\n",
       "                        <td id=\"T_93509980_1fe2_11ea_bc5d_acde48001122row29_col4\" class=\"data row29 col4\" >57</td>\n",
       "                        <td id=\"T_93509980_1fe2_11ea_bc5d_acde48001122row29_col5\" class=\"data row29 col5\" >Knopf Publishing Group</td>\n",
       "                        <td id=\"T_93509980_1fe2_11ea_bc5d_acde48001122row29_col6\" class=\"data row29 col6\" >November</td>\n",
       "                        <td id=\"T_93509980_1fe2_11ea_bc5d_acde48001122row29_col7\" class=\"data row29 col7\" >2019</td>\n",
       "                        <td id=\"T_93509980_1fe2_11ea_bc5d_acde48001122row29_col8\" class=\"data row29 col8\" >128</td>\n",
       "                        <td id=\"T_93509980_1fe2_11ea_bc5d_acde48001122row29_col9\" class=\"data row29 col9\" >Hardcover</td>\n",
       "            </tr>\n",
       "            <tr>\n",
       "                        <th id=\"T_93509980_1fe2_11ea_bc5d_acde48001122level0_row30\" class=\"row_heading level0 row30\" >30</th>\n",
       "                        <td id=\"T_93509980_1fe2_11ea_bc5d_acde48001122row30_col0\" class=\"data row30 col0\" >Active Measures</td>\n",
       "                        <td id=\"T_93509980_1fe2_11ea_bc5d_acde48001122row30_col1\" class=\"data row30 col1\" >Marc Cameron</td>\n",
       "                        <td id=\"T_93509980_1fe2_11ea_bc5d_acde48001122row30_col2\" class=\"data row30 col2\" >4.3</td>\n",
       "                        <td id=\"T_93509980_1fe2_11ea_bc5d_acde48001122row30_col3\" class=\"data row30 col3\" >138</td>\n",
       "                        <td id=\"T_93509980_1fe2_11ea_bc5d_acde48001122row30_col4\" class=\"data row30 col4\" >19</td>\n",
       "                        <td id=\"T_93509980_1fe2_11ea_bc5d_acde48001122row30_col5\" class=\"data row30 col5\" >Pinnacle</td>\n",
       "                        <td id=\"T_93509980_1fe2_11ea_bc5d_acde48001122row30_col6\" class=\"data row30 col6\" >November</td>\n",
       "                        <td id=\"T_93509980_1fe2_11ea_bc5d_acde48001122row30_col7\" class=\"data row30 col7\" >2019</td>\n",
       "                        <td id=\"T_93509980_1fe2_11ea_bc5d_acde48001122row30_col8\" class=\"data row30 col8\" >448</td>\n",
       "                        <td id=\"T_93509980_1fe2_11ea_bc5d_acde48001122row30_col9\" class=\"data row30 col9\" >Kindle Edition</td>\n",
       "            </tr>\n",
       "            <tr>\n",
       "                        <th id=\"T_93509980_1fe2_11ea_bc5d_acde48001122level0_row31\" class=\"row_heading level0 row31\" >31</th>\n",
       "                        <td id=\"T_93509980_1fe2_11ea_bc5d_acde48001122row31_col0\" class=\"data row31 col0\" >In the Cradle Lies</td>\n",
       "                        <td id=\"T_93509980_1fe2_11ea_bc5d_acde48001122row31_col1\" class=\"data row31 col1\" >Olivia Newport</td>\n",
       "                        <td id=\"T_93509980_1fe2_11ea_bc5d_acde48001122row31_col2\" class=\"data row31 col2\" >4.45</td>\n",
       "                        <td id=\"T_93509980_1fe2_11ea_bc5d_acde48001122row31_col3\" class=\"data row31 col3\" >128</td>\n",
       "                        <td id=\"T_93509980_1fe2_11ea_bc5d_acde48001122row31_col4\" class=\"data row31 col4\" >106</td>\n",
       "                        <td id=\"T_93509980_1fe2_11ea_bc5d_acde48001122row31_col5\" class=\"data row31 col5\" >Shiloh Run Press</td>\n",
       "                        <td id=\"T_93509980_1fe2_11ea_bc5d_acde48001122row31_col6\" class=\"data row31 col6\" >November</td>\n",
       "                        <td id=\"T_93509980_1fe2_11ea_bc5d_acde48001122row31_col7\" class=\"data row31 col7\" >2019</td>\n",
       "                        <td id=\"T_93509980_1fe2_11ea_bc5d_acde48001122row31_col8\" class=\"data row31 col8\" >256</td>\n",
       "                        <td id=\"T_93509980_1fe2_11ea_bc5d_acde48001122row31_col9\" class=\"data row31 col9\" >Paperback</td>\n",
       "            </tr>\n",
       "            <tr>\n",
       "                        <th id=\"T_93509980_1fe2_11ea_bc5d_acde48001122level0_row32\" class=\"row_heading level0 row32\" >32</th>\n",
       "                        <td id=\"T_93509980_1fe2_11ea_bc5d_acde48001122row32_col0\" class=\"data row32 col0\" >Lady Takes the Case</td>\n",
       "                        <td id=\"T_93509980_1fe2_11ea_bc5d_acde48001122row32_col1\" class=\"data row32 col1\" >Eliza Casey</td>\n",
       "                        <td id=\"T_93509980_1fe2_11ea_bc5d_acde48001122row32_col2\" class=\"data row32 col2\" >3.63</td>\n",
       "                        <td id=\"T_93509980_1fe2_11ea_bc5d_acde48001122row32_col3\" class=\"data row32 col3\" >49</td>\n",
       "                        <td id=\"T_93509980_1fe2_11ea_bc5d_acde48001122row32_col4\" class=\"data row32 col4\" >24</td>\n",
       "                        <td id=\"T_93509980_1fe2_11ea_bc5d_acde48001122row32_col5\" class=\"data row32 col5\" >Berkley Books</td>\n",
       "                        <td id=\"T_93509980_1fe2_11ea_bc5d_acde48001122row32_col6\" class=\"data row32 col6\" >November</td>\n",
       "                        <td id=\"T_93509980_1fe2_11ea_bc5d_acde48001122row32_col7\" class=\"data row32 col7\" >2019</td>\n",
       "                        <td id=\"T_93509980_1fe2_11ea_bc5d_acde48001122row32_col8\" class=\"data row32 col8\" >304</td>\n",
       "                        <td id=\"T_93509980_1fe2_11ea_bc5d_acde48001122row32_col9\" class=\"data row32 col9\" >Paperback</td>\n",
       "            </tr>\n",
       "            <tr>\n",
       "                        <th id=\"T_93509980_1fe2_11ea_bc5d_acde48001122level0_row33\" class=\"row_heading level0 row33\" >33</th>\n",
       "                        <td id=\"T_93509980_1fe2_11ea_bc5d_acde48001122row33_col0\" class=\"data row33 col0\" >Inexpressible Island</td>\n",
       "                        <td id=\"T_93509980_1fe2_11ea_bc5d_acde48001122row33_col1\" class=\"data row33 col1\" >Paullina Simons</td>\n",
       "                        <td id=\"T_93509980_1fe2_11ea_bc5d_acde48001122row33_col2\" class=\"data row33 col2\" >4.09</td>\n",
       "                        <td id=\"T_93509980_1fe2_11ea_bc5d_acde48001122row33_col3\" class=\"data row33 col3\" >85</td>\n",
       "                        <td id=\"T_93509980_1fe2_11ea_bc5d_acde48001122row33_col4\" class=\"data row33 col4\" >19</td>\n",
       "                        <td id=\"T_93509980_1fe2_11ea_bc5d_acde48001122row33_col5\" class=\"data row33 col5\" >HarperCollins</td>\n",
       "                        <td id=\"T_93509980_1fe2_11ea_bc5d_acde48001122row33_col6\" class=\"data row33 col6\" >November</td>\n",
       "                        <td id=\"T_93509980_1fe2_11ea_bc5d_acde48001122row33_col7\" class=\"data row33 col7\" >2019</td>\n",
       "                        <td id=\"T_93509980_1fe2_11ea_bc5d_acde48001122row33_col8\" class=\"data row33 col8\" >0</td>\n",
       "                        <td id=\"T_93509980_1fe2_11ea_bc5d_acde48001122row33_col9\" class=\"data row33 col9\" >Paperback</td>\n",
       "            </tr>\n",
       "            <tr>\n",
       "                        <th id=\"T_93509980_1fe2_11ea_bc5d_acde48001122level0_row34\" class=\"row_heading level0 row34\" >34</th>\n",
       "                        <td id=\"T_93509980_1fe2_11ea_bc5d_acde48001122row34_col0\" class=\"data row34 col0\" >Fleabag: Scriptures</td>\n",
       "                        <td id=\"T_93509980_1fe2_11ea_bc5d_acde48001122row34_col1\" class=\"data row34 col1\" >Phoebe Waller-Bridge</td>\n",
       "                        <td id=\"T_93509980_1fe2_11ea_bc5d_acde48001122row34_col2\" class=\"data row34 col2\" >4.89</td>\n",
       "                        <td id=\"T_93509980_1fe2_11ea_bc5d_acde48001122row34_col3\" class=\"data row34 col3\" >130</td>\n",
       "                        <td id=\"T_93509980_1fe2_11ea_bc5d_acde48001122row34_col4\" class=\"data row34 col4\" >20</td>\n",
       "                        <td id=\"T_93509980_1fe2_11ea_bc5d_acde48001122row34_col5\" class=\"data row34 col5\" >Ballantine Books</td>\n",
       "                        <td id=\"T_93509980_1fe2_11ea_bc5d_acde48001122row34_col6\" class=\"data row34 col6\" >November</td>\n",
       "                        <td id=\"T_93509980_1fe2_11ea_bc5d_acde48001122row34_col7\" class=\"data row34 col7\" >2019</td>\n",
       "                        <td id=\"T_93509980_1fe2_11ea_bc5d_acde48001122row34_col8\" class=\"data row34 col8\" >368</td>\n",
       "                        <td id=\"T_93509980_1fe2_11ea_bc5d_acde48001122row34_col9\" class=\"data row34 col9\" >Hardcover</td>\n",
       "            </tr>\n",
       "            <tr>\n",
       "                        <th id=\"T_93509980_1fe2_11ea_bc5d_acde48001122level0_row35\" class=\"row_heading level0 row35\" >35</th>\n",
       "                        <td id=\"T_93509980_1fe2_11ea_bc5d_acde48001122row35_col0\" class=\"data row35 col0\" >The New Voices of Science Fiction</td>\n",
       "                        <td id=\"T_93509980_1fe2_11ea_bc5d_acde48001122row35_col1\" class=\"data row35 col1\" >Hannu Rajaniemi</td>\n",
       "                        <td id=\"T_93509980_1fe2_11ea_bc5d_acde48001122row35_col2\" class=\"data row35 col2\" >4.46</td>\n",
       "                        <td id=\"T_93509980_1fe2_11ea_bc5d_acde48001122row35_col3\" class=\"data row35 col3\" >48</td>\n",
       "                        <td id=\"T_93509980_1fe2_11ea_bc5d_acde48001122row35_col4\" class=\"data row35 col4\" >18</td>\n",
       "                        <td id=\"T_93509980_1fe2_11ea_bc5d_acde48001122row35_col5\" class=\"data row35 col5\" >Tachyon Publications</td>\n",
       "                        <td id=\"T_93509980_1fe2_11ea_bc5d_acde48001122row35_col6\" class=\"data row35 col6\" >November</td>\n",
       "                        <td id=\"T_93509980_1fe2_11ea_bc5d_acde48001122row35_col7\" class=\"data row35 col7\" >2019</td>\n",
       "                        <td id=\"T_93509980_1fe2_11ea_bc5d_acde48001122row35_col8\" class=\"data row35 col8\" >432</td>\n",
       "                        <td id=\"T_93509980_1fe2_11ea_bc5d_acde48001122row35_col9\" class=\"data row35 col9\" >Paperback</td>\n",
       "            </tr>\n",
       "            <tr>\n",
       "                        <th id=\"T_93509980_1fe2_11ea_bc5d_acde48001122level0_row36\" class=\"row_heading level0 row36\" >36</th>\n",
       "                        <td id=\"T_93509980_1fe2_11ea_bc5d_acde48001122row36_col0\" class=\"data row36 col0\" >Deadly Deceit</td>\n",
       "                        <td id=\"T_93509980_1fe2_11ea_bc5d_acde48001122row36_col1\" class=\"data row36 col1\" >Natalie Walters</td>\n",
       "                        <td id=\"T_93509980_1fe2_11ea_bc5d_acde48001122row36_col2\" class=\"data row36 col2\" >4.53</td>\n",
       "                        <td id=\"T_93509980_1fe2_11ea_bc5d_acde48001122row36_col3\" class=\"data row36 col3\" >160</td>\n",
       "                        <td id=\"T_93509980_1fe2_11ea_bc5d_acde48001122row36_col4\" class=\"data row36 col4\" >131</td>\n",
       "                        <td id=\"T_93509980_1fe2_11ea_bc5d_acde48001122row36_col5\" class=\"data row36 col5\" >Revell</td>\n",
       "                        <td id=\"T_93509980_1fe2_11ea_bc5d_acde48001122row36_col6\" class=\"data row36 col6\" >November</td>\n",
       "                        <td id=\"T_93509980_1fe2_11ea_bc5d_acde48001122row36_col7\" class=\"data row36 col7\" >2019</td>\n",
       "                        <td id=\"T_93509980_1fe2_11ea_bc5d_acde48001122row36_col8\" class=\"data row36 col8\" >336</td>\n",
       "                        <td id=\"T_93509980_1fe2_11ea_bc5d_acde48001122row36_col9\" class=\"data row36 col9\" >Paperback</td>\n",
       "            </tr>\n",
       "            <tr>\n",
       "                        <th id=\"T_93509980_1fe2_11ea_bc5d_acde48001122level0_row37\" class=\"row_heading level0 row37\" >37</th>\n",
       "                        <td id=\"T_93509980_1fe2_11ea_bc5d_acde48001122row37_col0\" class=\"data row37 col0\" >The Cost of Honor</td>\n",
       "                        <td id=\"T_93509980_1fe2_11ea_bc5d_acde48001122row37_col1\" class=\"data row37 col1\" >Diana Munoz Stewart</td>\n",
       "                        <td id=\"T_93509980_1fe2_11ea_bc5d_acde48001122row37_col2\" class=\"data row37 col2\" >4.1</td>\n",
       "                        <td id=\"T_93509980_1fe2_11ea_bc5d_acde48001122row37_col3\" class=\"data row37 col3\" >29</td>\n",
       "                        <td id=\"T_93509980_1fe2_11ea_bc5d_acde48001122row37_col4\" class=\"data row37 col4\" >24</td>\n",
       "                        <td id=\"T_93509980_1fe2_11ea_bc5d_acde48001122row37_col5\" class=\"data row37 col5\" >Sourcebooks Casablanca</td>\n",
       "                        <td id=\"T_93509980_1fe2_11ea_bc5d_acde48001122row37_col6\" class=\"data row37 col6\" >November</td>\n",
       "                        <td id=\"T_93509980_1fe2_11ea_bc5d_acde48001122row37_col7\" class=\"data row37 col7\" >2019</td>\n",
       "                        <td id=\"T_93509980_1fe2_11ea_bc5d_acde48001122row37_col8\" class=\"data row37 col8\" >352</td>\n",
       "                        <td id=\"T_93509980_1fe2_11ea_bc5d_acde48001122row37_col9\" class=\"data row37 col9\" >Kindle Edition</td>\n",
       "            </tr>\n",
       "            <tr>\n",
       "                        <th id=\"T_93509980_1fe2_11ea_bc5d_acde48001122level0_row38\" class=\"row_heading level0 row38\" >38</th>\n",
       "                        <td id=\"T_93509980_1fe2_11ea_bc5d_acde48001122row38_col0\" class=\"data row38 col0\" >Disaster's Children</td>\n",
       "                        <td id=\"T_93509980_1fe2_11ea_bc5d_acde48001122row38_col1\" class=\"data row38 col1\" >Emma Sloley</td>\n",
       "                        <td id=\"T_93509980_1fe2_11ea_bc5d_acde48001122row38_col2\" class=\"data row38 col2\" >3.38</td>\n",
       "                        <td id=\"T_93509980_1fe2_11ea_bc5d_acde48001122row38_col3\" class=\"data row38 col3\" >64</td>\n",
       "                        <td id=\"T_93509980_1fe2_11ea_bc5d_acde48001122row38_col4\" class=\"data row38 col4\" >39</td>\n",
       "                        <td id=\"T_93509980_1fe2_11ea_bc5d_acde48001122row38_col5\" class=\"data row38 col5\" >Little A</td>\n",
       "                        <td id=\"T_93509980_1fe2_11ea_bc5d_acde48001122row38_col6\" class=\"data row38 col6\" >November</td>\n",
       "                        <td id=\"T_93509980_1fe2_11ea_bc5d_acde48001122row38_col7\" class=\"data row38 col7\" >2019</td>\n",
       "                        <td id=\"T_93509980_1fe2_11ea_bc5d_acde48001122row38_col8\" class=\"data row38 col8\" >315</td>\n",
       "                        <td id=\"T_93509980_1fe2_11ea_bc5d_acde48001122row38_col9\" class=\"data row38 col9\" >Kindle Edition</td>\n",
       "            </tr>\n",
       "            <tr>\n",
       "                        <th id=\"T_93509980_1fe2_11ea_bc5d_acde48001122level0_row39\" class=\"row_heading level0 row39\" >39</th>\n",
       "                        <td id=\"T_93509980_1fe2_11ea_bc5d_acde48001122row39_col0\" class=\"data row39 col0\" >No Man's Land</td>\n",
       "                        <td id=\"T_93509980_1fe2_11ea_bc5d_acde48001122row39_col1\" class=\"data row39 col1\" >Sara Driscoll</td>\n",
       "                        <td id=\"T_93509980_1fe2_11ea_bc5d_acde48001122row39_col2\" class=\"data row39 col2\" >4.38</td>\n",
       "                        <td id=\"T_93509980_1fe2_11ea_bc5d_acde48001122row39_col3\" class=\"data row39 col3\" >97</td>\n",
       "                        <td id=\"T_93509980_1fe2_11ea_bc5d_acde48001122row39_col4\" class=\"data row39 col4\" >38</td>\n",
       "                        <td id=\"T_93509980_1fe2_11ea_bc5d_acde48001122row39_col5\" class=\"data row39 col5\" >Kensington Books</td>\n",
       "                        <td id=\"T_93509980_1fe2_11ea_bc5d_acde48001122row39_col6\" class=\"data row39 col6\" >November</td>\n",
       "                        <td id=\"T_93509980_1fe2_11ea_bc5d_acde48001122row39_col7\" class=\"data row39 col7\" >2019</td>\n",
       "                        <td id=\"T_93509980_1fe2_11ea_bc5d_acde48001122row39_col8\" class=\"data row39 col8\" >304</td>\n",
       "                        <td id=\"T_93509980_1fe2_11ea_bc5d_acde48001122row39_col9\" class=\"data row39 col9\" >Kindle Edition</td>\n",
       "            </tr>\n",
       "            <tr>\n",
       "                        <th id=\"T_93509980_1fe2_11ea_bc5d_acde48001122level0_row40\" class=\"row_heading level0 row40\" >40</th>\n",
       "                        <td id=\"T_93509980_1fe2_11ea_bc5d_acde48001122row40_col0\" class=\"data row40 col0\" >The Angels' Share</td>\n",
       "                        <td id=\"T_93509980_1fe2_11ea_bc5d_acde48001122row40_col1\" class=\"data row40 col1\" >Ellen    Crosby</td>\n",
       "                        <td id=\"T_93509980_1fe2_11ea_bc5d_acde48001122row40_col2\" class=\"data row40 col2\" >4.1</td>\n",
       "                        <td id=\"T_93509980_1fe2_11ea_bc5d_acde48001122row40_col3\" class=\"data row40 col3\" >98</td>\n",
       "                        <td id=\"T_93509980_1fe2_11ea_bc5d_acde48001122row40_col4\" class=\"data row40 col4\" >40</td>\n",
       "                        <td id=\"T_93509980_1fe2_11ea_bc5d_acde48001122row40_col5\" class=\"data row40 col5\" >Minotaur Books</td>\n",
       "                        <td id=\"T_93509980_1fe2_11ea_bc5d_acde48001122row40_col6\" class=\"data row40 col6\" >November</td>\n",
       "                        <td id=\"T_93509980_1fe2_11ea_bc5d_acde48001122row40_col7\" class=\"data row40 col7\" >2019</td>\n",
       "                        <td id=\"T_93509980_1fe2_11ea_bc5d_acde48001122row40_col8\" class=\"data row40 col8\" >368</td>\n",
       "                        <td id=\"T_93509980_1fe2_11ea_bc5d_acde48001122row40_col9\" class=\"data row40 col9\" >Hardcover</td>\n",
       "            </tr>\n",
       "            <tr>\n",
       "                        <th id=\"T_93509980_1fe2_11ea_bc5d_acde48001122level0_row41\" class=\"row_heading level0 row41\" >41</th>\n",
       "                        <td id=\"T_93509980_1fe2_11ea_bc5d_acde48001122row41_col0\" class=\"data row41 col0\" >Hot for the Holidays: Thirteen Naughty & Nice Novellas</td>\n",
       "                        <td id=\"T_93509980_1fe2_11ea_bc5d_acde48001122row41_col1\" class=\"data row41 col1\" >Marie Force</td>\n",
       "                        <td id=\"T_93509980_1fe2_11ea_bc5d_acde48001122row41_col2\" class=\"data row41 col2\" >3.96</td>\n",
       "                        <td id=\"T_93509980_1fe2_11ea_bc5d_acde48001122row41_col3\" class=\"data row41 col3\" >246</td>\n",
       "                        <td id=\"T_93509980_1fe2_11ea_bc5d_acde48001122row41_col4\" class=\"data row41 col4\" >57</td>\n",
       "                        <td id=\"T_93509980_1fe2_11ea_bc5d_acde48001122row41_col5\" class=\"data row41 col5\" >nan</td>\n",
       "                        <td id=\"T_93509980_1fe2_11ea_bc5d_acde48001122row41_col6\" class=\"data row41 col6\" >November</td>\n",
       "                        <td id=\"T_93509980_1fe2_11ea_bc5d_acde48001122row41_col7\" class=\"data row41 col7\" >2019</td>\n",
       "                        <td id=\"T_93509980_1fe2_11ea_bc5d_acde48001122row41_col8\" class=\"data row41 col8\" >1078</td>\n",
       "                        <td id=\"T_93509980_1fe2_11ea_bc5d_acde48001122row41_col9\" class=\"data row41 col9\" >Kindle Edition</td>\n",
       "            </tr>\n",
       "            <tr>\n",
       "                        <th id=\"T_93509980_1fe2_11ea_bc5d_acde48001122level0_row42\" class=\"row_heading level0 row42\" >42</th>\n",
       "                        <td id=\"T_93509980_1fe2_11ea_bc5d_acde48001122row42_col0\" class=\"data row42 col0\" >The Unicorn Project</td>\n",
       "                        <td id=\"T_93509980_1fe2_11ea_bc5d_acde48001122row42_col1\" class=\"data row42 col1\" >Gene Kim</td>\n",
       "                        <td id=\"T_93509980_1fe2_11ea_bc5d_acde48001122row42_col2\" class=\"data row42 col2\" >4.45</td>\n",
       "                        <td id=\"T_93509980_1fe2_11ea_bc5d_acde48001122row42_col3\" class=\"data row42 col3\" >275</td>\n",
       "                        <td id=\"T_93509980_1fe2_11ea_bc5d_acde48001122row42_col4\" class=\"data row42 col4\" >30</td>\n",
       "                        <td id=\"T_93509980_1fe2_11ea_bc5d_acde48001122row42_col5\" class=\"data row42 col5\" >It Revolution Press</td>\n",
       "                        <td id=\"T_93509980_1fe2_11ea_bc5d_acde48001122row42_col6\" class=\"data row42 col6\" >November</td>\n",
       "                        <td id=\"T_93509980_1fe2_11ea_bc5d_acde48001122row42_col7\" class=\"data row42 col7\" >2019</td>\n",
       "                        <td id=\"T_93509980_1fe2_11ea_bc5d_acde48001122row42_col8\" class=\"data row42 col8\" >345</td>\n",
       "                        <td id=\"T_93509980_1fe2_11ea_bc5d_acde48001122row42_col9\" class=\"data row42 col9\" >Hardcover</td>\n",
       "            </tr>\n",
       "            <tr>\n",
       "                        <th id=\"T_93509980_1fe2_11ea_bc5d_acde48001122level0_row43\" class=\"row_heading level0 row43\" >43</th>\n",
       "                        <td id=\"T_93509980_1fe2_11ea_bc5d_acde48001122row43_col0\" class=\"data row43 col0\" >The Man in the Red Coat</td>\n",
       "                        <td id=\"T_93509980_1fe2_11ea_bc5d_acde48001122row43_col1\" class=\"data row43 col1\" >Julian Barnes</td>\n",
       "                        <td id=\"T_93509980_1fe2_11ea_bc5d_acde48001122row43_col2\" class=\"data row43 col2\" >3.65</td>\n",
       "                        <td id=\"T_93509980_1fe2_11ea_bc5d_acde48001122row43_col3\" class=\"data row43 col3\" >91</td>\n",
       "                        <td id=\"T_93509980_1fe2_11ea_bc5d_acde48001122row43_col4\" class=\"data row43 col4\" >17</td>\n",
       "                        <td id=\"T_93509980_1fe2_11ea_bc5d_acde48001122row43_col5\" class=\"data row43 col5\" >Vintage Digital</td>\n",
       "                        <td id=\"T_93509980_1fe2_11ea_bc5d_acde48001122row43_col6\" class=\"data row43 col6\" >November</td>\n",
       "                        <td id=\"T_93509980_1fe2_11ea_bc5d_acde48001122row43_col7\" class=\"data row43 col7\" >2019</td>\n",
       "                        <td id=\"T_93509980_1fe2_11ea_bc5d_acde48001122row43_col8\" class=\"data row43 col8\" >0</td>\n",
       "                        <td id=\"T_93509980_1fe2_11ea_bc5d_acde48001122row43_col9\" class=\"data row43 col9\" >ebook</td>\n",
       "            </tr>\n",
       "            <tr>\n",
       "                        <th id=\"T_93509980_1fe2_11ea_bc5d_acde48001122level0_row44\" class=\"row_heading level0 row44\" >44</th>\n",
       "                        <td id=\"T_93509980_1fe2_11ea_bc5d_acde48001122row44_col0\" class=\"data row44 col0\" >Net Force: Dark Web</td>\n",
       "                        <td id=\"T_93509980_1fe2_11ea_bc5d_acde48001122row44_col1\" class=\"data row44 col1\" >Jerome Preisler</td>\n",
       "                        <td id=\"T_93509980_1fe2_11ea_bc5d_acde48001122row44_col2\" class=\"data row44 col2\" >3.65</td>\n",
       "                        <td id=\"T_93509980_1fe2_11ea_bc5d_acde48001122row44_col3\" class=\"data row44 col3\" >40</td>\n",
       "                        <td id=\"T_93509980_1fe2_11ea_bc5d_acde48001122row44_col4\" class=\"data row44 col4\" >29</td>\n",
       "                        <td id=\"T_93509980_1fe2_11ea_bc5d_acde48001122row44_col5\" class=\"data row44 col5\" >Hanover Square Press</td>\n",
       "                        <td id=\"T_93509980_1fe2_11ea_bc5d_acde48001122row44_col6\" class=\"data row44 col6\" >November</td>\n",
       "                        <td id=\"T_93509980_1fe2_11ea_bc5d_acde48001122row44_col7\" class=\"data row44 col7\" >2019</td>\n",
       "                        <td id=\"T_93509980_1fe2_11ea_bc5d_acde48001122row44_col8\" class=\"data row44 col8\" >704</td>\n",
       "                        <td id=\"T_93509980_1fe2_11ea_bc5d_acde48001122row44_col9\" class=\"data row44 col9\" >ebook</td>\n",
       "            </tr>\n",
       "            <tr>\n",
       "                        <th id=\"T_93509980_1fe2_11ea_bc5d_acde48001122level0_row45\" class=\"row_heading level0 row45\" >45</th>\n",
       "                        <td id=\"T_93509980_1fe2_11ea_bc5d_acde48001122row45_col0\" class=\"data row45 col0\" >Force Collector</td>\n",
       "                        <td id=\"T_93509980_1fe2_11ea_bc5d_acde48001122row45_col1\" class=\"data row45 col1\" >Kevin Shinick</td>\n",
       "                        <td id=\"T_93509980_1fe2_11ea_bc5d_acde48001122row45_col2\" class=\"data row45 col2\" >3.68</td>\n",
       "                        <td id=\"T_93509980_1fe2_11ea_bc5d_acde48001122row45_col3\" class=\"data row45 col3\" >339</td>\n",
       "                        <td id=\"T_93509980_1fe2_11ea_bc5d_acde48001122row45_col4\" class=\"data row45 col4\" >54</td>\n",
       "                        <td id=\"T_93509980_1fe2_11ea_bc5d_acde48001122row45_col5\" class=\"data row45 col5\" >Disney Lucasfilm Press</td>\n",
       "                        <td id=\"T_93509980_1fe2_11ea_bc5d_acde48001122row45_col6\" class=\"data row45 col6\" >November</td>\n",
       "                        <td id=\"T_93509980_1fe2_11ea_bc5d_acde48001122row45_col7\" class=\"data row45 col7\" >2019</td>\n",
       "                        <td id=\"T_93509980_1fe2_11ea_bc5d_acde48001122row45_col8\" class=\"data row45 col8\" >379</td>\n",
       "                        <td id=\"T_93509980_1fe2_11ea_bc5d_acde48001122row45_col9\" class=\"data row45 col9\" >Hardcover</td>\n",
       "            </tr>\n",
       "            <tr>\n",
       "                        <th id=\"T_93509980_1fe2_11ea_bc5d_acde48001122level0_row46\" class=\"row_heading level0 row46\" >46</th>\n",
       "                        <td id=\"T_93509980_1fe2_11ea_bc5d_acde48001122row46_col0\" class=\"data row46 col0\" >Dead Wrong</td>\n",
       "                        <td id=\"T_93509980_1fe2_11ea_bc5d_acde48001122row46_col1\" class=\"data row46 col1\" >Vannetta Chapman</td>\n",
       "                        <td id=\"T_93509980_1fe2_11ea_bc5d_acde48001122row46_col2\" class=\"data row46 col2\" >4.66</td>\n",
       "                        <td id=\"T_93509980_1fe2_11ea_bc5d_acde48001122row46_col3\" class=\"data row46 col3\" >50</td>\n",
       "                        <td id=\"T_93509980_1fe2_11ea_bc5d_acde48001122row46_col4\" class=\"data row46 col4\" >20</td>\n",
       "                        <td id=\"T_93509980_1fe2_11ea_bc5d_acde48001122row46_col5\" class=\"data row46 col5\" >nan</td>\n",
       "                        <td id=\"T_93509980_1fe2_11ea_bc5d_acde48001122row46_col6\" class=\"data row46 col6\" >November</td>\n",
       "                        <td id=\"T_93509980_1fe2_11ea_bc5d_acde48001122row46_col7\" class=\"data row46 col7\" >2019</td>\n",
       "                        <td id=\"T_93509980_1fe2_11ea_bc5d_acde48001122row46_col8\" class=\"data row46 col8\" >256</td>\n",
       "                        <td id=\"T_93509980_1fe2_11ea_bc5d_acde48001122row46_col9\" class=\"data row46 col9\" >Kindle Edition</td>\n",
       "            </tr>\n",
       "            <tr>\n",
       "                        <th id=\"T_93509980_1fe2_11ea_bc5d_acde48001122level0_row47\" class=\"row_heading level0 row47\" >47</th>\n",
       "                        <td id=\"T_93509980_1fe2_11ea_bc5d_acde48001122row47_col0\" class=\"data row47 col0\" >Revolution</td>\n",
       "                        <td id=\"T_93509980_1fe2_11ea_bc5d_acde48001122row47_col1\" class=\"data row47 col1\" >W.L. Goodwater</td>\n",
       "                        <td id=\"T_93509980_1fe2_11ea_bc5d_acde48001122row47_col2\" class=\"data row47 col2\" >4.37</td>\n",
       "                        <td id=\"T_93509980_1fe2_11ea_bc5d_acde48001122row47_col3\" class=\"data row47 col3\" >27</td>\n",
       "                        <td id=\"T_93509980_1fe2_11ea_bc5d_acde48001122row47_col4\" class=\"data row47 col4\" >8</td>\n",
       "                        <td id=\"T_93509980_1fe2_11ea_bc5d_acde48001122row47_col5\" class=\"data row47 col5\" >Ace</td>\n",
       "                        <td id=\"T_93509980_1fe2_11ea_bc5d_acde48001122row47_col6\" class=\"data row47 col6\" >November</td>\n",
       "                        <td id=\"T_93509980_1fe2_11ea_bc5d_acde48001122row47_col7\" class=\"data row47 col7\" >2019</td>\n",
       "                        <td id=\"T_93509980_1fe2_11ea_bc5d_acde48001122row47_col8\" class=\"data row47 col8\" >352</td>\n",
       "                        <td id=\"T_93509980_1fe2_11ea_bc5d_acde48001122row47_col9\" class=\"data row47 col9\" >Kindle Edition</td>\n",
       "            </tr>\n",
       "            <tr>\n",
       "                        <th id=\"T_93509980_1fe2_11ea_bc5d_acde48001122level0_row48\" class=\"row_heading level0 row48\" >48</th>\n",
       "                        <td id=\"T_93509980_1fe2_11ea_bc5d_acde48001122row48_col0\" class=\"data row48 col0\" >Invisible Kingdom, Vol. 1</td>\n",
       "                        <td id=\"T_93509980_1fe2_11ea_bc5d_acde48001122row48_col1\" class=\"data row48 col1\" >G. Willow Wilson</td>\n",
       "                        <td id=\"T_93509980_1fe2_11ea_bc5d_acde48001122row48_col2\" class=\"data row48 col2\" >3.82</td>\n",
       "                        <td id=\"T_93509980_1fe2_11ea_bc5d_acde48001122row48_col3\" class=\"data row48 col3\" >171</td>\n",
       "                        <td id=\"T_93509980_1fe2_11ea_bc5d_acde48001122row48_col4\" class=\"data row48 col4\" >40</td>\n",
       "                        <td id=\"T_93509980_1fe2_11ea_bc5d_acde48001122row48_col5\" class=\"data row48 col5\" >Berger Books</td>\n",
       "                        <td id=\"T_93509980_1fe2_11ea_bc5d_acde48001122row48_col6\" class=\"data row48 col6\" >November</td>\n",
       "                        <td id=\"T_93509980_1fe2_11ea_bc5d_acde48001122row48_col7\" class=\"data row48 col7\" >2019</td>\n",
       "                        <td id=\"T_93509980_1fe2_11ea_bc5d_acde48001122row48_col8\" class=\"data row48 col8\" >136</td>\n",
       "                        <td id=\"T_93509980_1fe2_11ea_bc5d_acde48001122row48_col9\" class=\"data row48 col9\" >Paperback</td>\n",
       "            </tr>\n",
       "            <tr>\n",
       "                        <th id=\"T_93509980_1fe2_11ea_bc5d_acde48001122level0_row49\" class=\"row_heading level0 row49\" >49</th>\n",
       "                        <td id=\"T_93509980_1fe2_11ea_bc5d_acde48001122row49_col0\" class=\"data row49 col0\" >Bonjour Shanghai</td>\n",
       "                        <td id=\"T_93509980_1fe2_11ea_bc5d_acde48001122row49_col1\" class=\"data row49 col1\" >Isabelle Lafleche</td>\n",
       "                        <td id=\"T_93509980_1fe2_11ea_bc5d_acde48001122row49_col2\" class=\"data row49 col2\" >3.18</td>\n",
       "                        <td id=\"T_93509980_1fe2_11ea_bc5d_acde48001122row49_col3\" class=\"data row49 col3\" >22</td>\n",
       "                        <td id=\"T_93509980_1fe2_11ea_bc5d_acde48001122row49_col4\" class=\"data row49 col4\" >19</td>\n",
       "                        <td id=\"T_93509980_1fe2_11ea_bc5d_acde48001122row49_col5\" class=\"data row49 col5\" >Dundurn</td>\n",
       "                        <td id=\"T_93509980_1fe2_11ea_bc5d_acde48001122row49_col6\" class=\"data row49 col6\" >November</td>\n",
       "                        <td id=\"T_93509980_1fe2_11ea_bc5d_acde48001122row49_col7\" class=\"data row49 col7\" >2019</td>\n",
       "                        <td id=\"T_93509980_1fe2_11ea_bc5d_acde48001122row49_col8\" class=\"data row49 col8\" >280</td>\n",
       "                        <td id=\"T_93509980_1fe2_11ea_bc5d_acde48001122row49_col9\" class=\"data row49 col9\" >Paperback</td>\n",
       "            </tr>\n",
       "            <tr>\n",
       "                        <th id=\"T_93509980_1fe2_11ea_bc5d_acde48001122level0_row50\" class=\"row_heading level0 row50\" >50</th>\n",
       "                        <td id=\"T_93509980_1fe2_11ea_bc5d_acde48001122row50_col0\" class=\"data row50 col0\" >The Dog Who Knew Too Much</td>\n",
       "                        <td id=\"T_93509980_1fe2_11ea_bc5d_acde48001122row50_col1\" class=\"data row50 col1\" >Krista Davis</td>\n",
       "                        <td id=\"T_93509980_1fe2_11ea_bc5d_acde48001122row50_col2\" class=\"data row50 col2\" >4.4</td>\n",
       "                        <td id=\"T_93509980_1fe2_11ea_bc5d_acde48001122row50_col3\" class=\"data row50 col3\" >161</td>\n",
       "                        <td id=\"T_93509980_1fe2_11ea_bc5d_acde48001122row50_col4\" class=\"data row50 col4\" >28</td>\n",
       "                        <td id=\"T_93509980_1fe2_11ea_bc5d_acde48001122row50_col5\" class=\"data row50 col5\" >Berkley</td>\n",
       "                        <td id=\"T_93509980_1fe2_11ea_bc5d_acde48001122row50_col6\" class=\"data row50 col6\" >November</td>\n",
       "                        <td id=\"T_93509980_1fe2_11ea_bc5d_acde48001122row50_col7\" class=\"data row50 col7\" >2019</td>\n",
       "                        <td id=\"T_93509980_1fe2_11ea_bc5d_acde48001122row50_col8\" class=\"data row50 col8\" >304</td>\n",
       "                        <td id=\"T_93509980_1fe2_11ea_bc5d_acde48001122row50_col9\" class=\"data row50 col9\" >Kindle Edition</td>\n",
       "            </tr>\n",
       "            <tr>\n",
       "                        <th id=\"T_93509980_1fe2_11ea_bc5d_acde48001122level0_row51\" class=\"row_heading level0 row51\" >51</th>\n",
       "                        <td id=\"T_93509980_1fe2_11ea_bc5d_acde48001122row51_col0\" class=\"data row51 col0\" >Far Sector (Far Sector, #1 of 12)</td>\n",
       "                        <td id=\"T_93509980_1fe2_11ea_bc5d_acde48001122row51_col1\" class=\"data row51 col1\" >N.K. Jemisin</td>\n",
       "                        <td id=\"T_93509980_1fe2_11ea_bc5d_acde48001122row51_col2\" class=\"data row51 col2\" >4.44</td>\n",
       "                        <td id=\"T_93509980_1fe2_11ea_bc5d_acde48001122row51_col3\" class=\"data row51 col3\" >45</td>\n",
       "                        <td id=\"T_93509980_1fe2_11ea_bc5d_acde48001122row51_col4\" class=\"data row51 col4\" >9</td>\n",
       "                        <td id=\"T_93509980_1fe2_11ea_bc5d_acde48001122row51_col5\" class=\"data row51 col5\" >DC Comics</td>\n",
       "                        <td id=\"T_93509980_1fe2_11ea_bc5d_acde48001122row51_col6\" class=\"data row51 col6\" >November</td>\n",
       "                        <td id=\"T_93509980_1fe2_11ea_bc5d_acde48001122row51_col7\" class=\"data row51 col7\" >2019</td>\n",
       "                        <td id=\"T_93509980_1fe2_11ea_bc5d_acde48001122row51_col8\" class=\"data row51 col8\" >0</td>\n",
       "                        <td id=\"T_93509980_1fe2_11ea_bc5d_acde48001122row51_col9\" class=\"data row51 col9\" >Paperback</td>\n",
       "            </tr>\n",
       "            <tr>\n",
       "                        <th id=\"T_93509980_1fe2_11ea_bc5d_acde48001122level0_row52\" class=\"row_heading level0 row52\" >52</th>\n",
       "                        <td id=\"T_93509980_1fe2_11ea_bc5d_acde48001122row52_col0\" class=\"data row52 col0\" >Catfishing on CatNet</td>\n",
       "                        <td id=\"T_93509980_1fe2_11ea_bc5d_acde48001122row52_col1\" class=\"data row52 col1\" >Naomi Kritzer</td>\n",
       "                        <td id=\"T_93509980_1fe2_11ea_bc5d_acde48001122row52_col2\" class=\"data row52 col2\" >4.13</td>\n",
       "                        <td id=\"T_93509980_1fe2_11ea_bc5d_acde48001122row52_col3\" class=\"data row52 col3\" >149</td>\n",
       "                        <td id=\"T_93509980_1fe2_11ea_bc5d_acde48001122row52_col4\" class=\"data row52 col4\" >78</td>\n",
       "                        <td id=\"T_93509980_1fe2_11ea_bc5d_acde48001122row52_col5\" class=\"data row52 col5\" >Tor Teen</td>\n",
       "                        <td id=\"T_93509980_1fe2_11ea_bc5d_acde48001122row52_col6\" class=\"data row52 col6\" >November</td>\n",
       "                        <td id=\"T_93509980_1fe2_11ea_bc5d_acde48001122row52_col7\" class=\"data row52 col7\" >2019</td>\n",
       "                        <td id=\"T_93509980_1fe2_11ea_bc5d_acde48001122row52_col8\" class=\"data row52 col8\" >288</td>\n",
       "                        <td id=\"T_93509980_1fe2_11ea_bc5d_acde48001122row52_col9\" class=\"data row52 col9\" >ebook</td>\n",
       "            </tr>\n",
       "            <tr>\n",
       "                        <th id=\"T_93509980_1fe2_11ea_bc5d_acde48001122level0_row53\" class=\"row_heading level0 row53\" >53</th>\n",
       "                        <td id=\"T_93509980_1fe2_11ea_bc5d_acde48001122row53_col0\" class=\"data row53 col0\" >Crying Laughing</td>\n",
       "                        <td id=\"T_93509980_1fe2_11ea_bc5d_acde48001122row53_col1\" class=\"data row53 col1\" >Lance   Rubin</td>\n",
       "                        <td id=\"T_93509980_1fe2_11ea_bc5d_acde48001122row53_col2\" class=\"data row53 col2\" >4.28</td>\n",
       "                        <td id=\"T_93509980_1fe2_11ea_bc5d_acde48001122row53_col3\" class=\"data row53 col3\" >69</td>\n",
       "                        <td id=\"T_93509980_1fe2_11ea_bc5d_acde48001122row53_col4\" class=\"data row53 col4\" >36</td>\n",
       "                        <td id=\"T_93509980_1fe2_11ea_bc5d_acde48001122row53_col5\" class=\"data row53 col5\" >Tor Teen</td>\n",
       "                        <td id=\"T_93509980_1fe2_11ea_bc5d_acde48001122row53_col6\" class=\"data row53 col6\" >November</td>\n",
       "                        <td id=\"T_93509980_1fe2_11ea_bc5d_acde48001122row53_col7\" class=\"data row53 col7\" >2019</td>\n",
       "                        <td id=\"T_93509980_1fe2_11ea_bc5d_acde48001122row53_col8\" class=\"data row53 col8\" >288</td>\n",
       "                        <td id=\"T_93509980_1fe2_11ea_bc5d_acde48001122row53_col9\" class=\"data row53 col9\" >ebook</td>\n",
       "            </tr>\n",
       "            <tr>\n",
       "                        <th id=\"T_93509980_1fe2_11ea_bc5d_acde48001122level0_row54\" class=\"row_heading level0 row54\" >54</th>\n",
       "                        <td id=\"T_93509980_1fe2_11ea_bc5d_acde48001122row54_col0\" class=\"data row54 col0\" >Open House</td>\n",
       "                        <td id=\"T_93509980_1fe2_11ea_bc5d_acde48001122row54_col1\" class=\"data row54 col1\" >Ruby Lang</td>\n",
       "                        <td id=\"T_93509980_1fe2_11ea_bc5d_acde48001122row54_col2\" class=\"data row54 col2\" >3.84</td>\n",
       "                        <td id=\"T_93509980_1fe2_11ea_bc5d_acde48001122row54_col3\" class=\"data row54 col3\" >140</td>\n",
       "                        <td id=\"T_93509980_1fe2_11ea_bc5d_acde48001122row54_col4\" class=\"data row54 col4\" >83</td>\n",
       "                        <td id=\"T_93509980_1fe2_11ea_bc5d_acde48001122row54_col5\" class=\"data row54 col5\" >Carina Press</td>\n",
       "                        <td id=\"T_93509980_1fe2_11ea_bc5d_acde48001122row54_col6\" class=\"data row54 col6\" >November</td>\n",
       "                        <td id=\"T_93509980_1fe2_11ea_bc5d_acde48001122row54_col7\" class=\"data row54 col7\" >2019</td>\n",
       "                        <td id=\"T_93509980_1fe2_11ea_bc5d_acde48001122row54_col8\" class=\"data row54 col8\" >0</td>\n",
       "                        <td id=\"T_93509980_1fe2_11ea_bc5d_acde48001122row54_col9\" class=\"data row54 col9\" >ebook</td>\n",
       "            </tr>\n",
       "            <tr>\n",
       "                        <th id=\"T_93509980_1fe2_11ea_bc5d_acde48001122level0_row55\" class=\"row_heading level0 row55\" >55</th>\n",
       "                        <td id=\"T_93509980_1fe2_11ea_bc5d_acde48001122row55_col0\" class=\"data row55 col0\" >The Menace from Farside</td>\n",
       "                        <td id=\"T_93509980_1fe2_11ea_bc5d_acde48001122row55_col1\" class=\"data row55 col1\" >Ian McDonald</td>\n",
       "                        <td id=\"T_93509980_1fe2_11ea_bc5d_acde48001122row55_col2\" class=\"data row55 col2\" >3.89</td>\n",
       "                        <td id=\"T_93509980_1fe2_11ea_bc5d_acde48001122row55_col3\" class=\"data row55 col3\" >71</td>\n",
       "                        <td id=\"T_93509980_1fe2_11ea_bc5d_acde48001122row55_col4\" class=\"data row55 col4\" >17</td>\n",
       "                        <td id=\"T_93509980_1fe2_11ea_bc5d_acde48001122row55_col5\" class=\"data row55 col5\" >Tor.com</td>\n",
       "                        <td id=\"T_93509980_1fe2_11ea_bc5d_acde48001122row55_col6\" class=\"data row55 col6\" >November</td>\n",
       "                        <td id=\"T_93509980_1fe2_11ea_bc5d_acde48001122row55_col7\" class=\"data row55 col7\" >2019</td>\n",
       "                        <td id=\"T_93509980_1fe2_11ea_bc5d_acde48001122row55_col8\" class=\"data row55 col8\" >160</td>\n",
       "                        <td id=\"T_93509980_1fe2_11ea_bc5d_acde48001122row55_col9\" class=\"data row55 col9\" >Paperback</td>\n",
       "            </tr>\n",
       "            <tr>\n",
       "                        <th id=\"T_93509980_1fe2_11ea_bc5d_acde48001122level0_row56\" class=\"row_heading level0 row56\" >56</th>\n",
       "                        <td id=\"T_93509980_1fe2_11ea_bc5d_acde48001122row56_col0\" class=\"data row56 col0\" >The Ankh-Morpork Archives: Volume One</td>\n",
       "                        <td id=\"T_93509980_1fe2_11ea_bc5d_acde48001122row56_col1\" class=\"data row56 col1\" >Terry Pratchett</td>\n",
       "                        <td id=\"T_93509980_1fe2_11ea_bc5d_acde48001122row56_col2\" class=\"data row56 col2\" >5</td>\n",
       "                        <td id=\"T_93509980_1fe2_11ea_bc5d_acde48001122row56_col3\" class=\"data row56 col3\" >5</td>\n",
       "                        <td id=\"T_93509980_1fe2_11ea_bc5d_acde48001122row56_col4\" class=\"data row56 col4\" >0</td>\n",
       "                        <td id=\"T_93509980_1fe2_11ea_bc5d_acde48001122row56_col5\" class=\"data row56 col5\" >Orion Publishing Co</td>\n",
       "                        <td id=\"T_93509980_1fe2_11ea_bc5d_acde48001122row56_col6\" class=\"data row56 col6\" >November</td>\n",
       "                        <td id=\"T_93509980_1fe2_11ea_bc5d_acde48001122row56_col7\" class=\"data row56 col7\" >2019</td>\n",
       "                        <td id=\"T_93509980_1fe2_11ea_bc5d_acde48001122row56_col8\" class=\"data row56 col8\" >240</td>\n",
       "                        <td id=\"T_93509980_1fe2_11ea_bc5d_acde48001122row56_col9\" class=\"data row56 col9\" >Hardcover</td>\n",
       "            </tr>\n",
       "            <tr>\n",
       "                        <th id=\"T_93509980_1fe2_11ea_bc5d_acde48001122level0_row57\" class=\"row_heading level0 row57\" >57</th>\n",
       "                        <td id=\"T_93509980_1fe2_11ea_bc5d_acde48001122row57_col0\" class=\"data row57 col0\" >Tell Me No Lies</td>\n",
       "                        <td id=\"T_93509980_1fe2_11ea_bc5d_acde48001122row57_col1\" class=\"data row57 col1\" >Shelley Noble</td>\n",
       "                        <td id=\"T_93509980_1fe2_11ea_bc5d_acde48001122row57_col2\" class=\"data row57 col2\" >4</td>\n",
       "                        <td id=\"T_93509980_1fe2_11ea_bc5d_acde48001122row57_col3\" class=\"data row57 col3\" >72</td>\n",
       "                        <td id=\"T_93509980_1fe2_11ea_bc5d_acde48001122row57_col4\" class=\"data row57 col4\" >22</td>\n",
       "                        <td id=\"T_93509980_1fe2_11ea_bc5d_acde48001122row57_col5\" class=\"data row57 col5\" >Forge</td>\n",
       "                        <td id=\"T_93509980_1fe2_11ea_bc5d_acde48001122row57_col6\" class=\"data row57 col6\" >November</td>\n",
       "                        <td id=\"T_93509980_1fe2_11ea_bc5d_acde48001122row57_col7\" class=\"data row57 col7\" >2019</td>\n",
       "                        <td id=\"T_93509980_1fe2_11ea_bc5d_acde48001122row57_col8\" class=\"data row57 col8\" >368</td>\n",
       "                        <td id=\"T_93509980_1fe2_11ea_bc5d_acde48001122row57_col9\" class=\"data row57 col9\" >Hardcover</td>\n",
       "            </tr>\n",
       "            <tr>\n",
       "                        <th id=\"T_93509980_1fe2_11ea_bc5d_acde48001122level0_row58\" class=\"row_heading level0 row58\" >58</th>\n",
       "                        <td id=\"T_93509980_1fe2_11ea_bc5d_acde48001122row58_col0\" class=\"data row58 col0\" >The Ninja Daughter</td>\n",
       "                        <td id=\"T_93509980_1fe2_11ea_bc5d_acde48001122row58_col1\" class=\"data row58 col1\" >Tori Eldridge</td>\n",
       "                        <td id=\"T_93509980_1fe2_11ea_bc5d_acde48001122row58_col2\" class=\"data row58 col2\" >4.07</td>\n",
       "                        <td id=\"T_93509980_1fe2_11ea_bc5d_acde48001122row58_col3\" class=\"data row58 col3\" >55</td>\n",
       "                        <td id=\"T_93509980_1fe2_11ea_bc5d_acde48001122row58_col4\" class=\"data row58 col4\" >23</td>\n",
       "                        <td id=\"T_93509980_1fe2_11ea_bc5d_acde48001122row58_col5\" class=\"data row58 col5\" >Agora Books</td>\n",
       "                        <td id=\"T_93509980_1fe2_11ea_bc5d_acde48001122row58_col6\" class=\"data row58 col6\" >November</td>\n",
       "                        <td id=\"T_93509980_1fe2_11ea_bc5d_acde48001122row58_col7\" class=\"data row58 col7\" >2019</td>\n",
       "                        <td id=\"T_93509980_1fe2_11ea_bc5d_acde48001122row58_col8\" class=\"data row58 col8\" >320</td>\n",
       "                        <td id=\"T_93509980_1fe2_11ea_bc5d_acde48001122row58_col9\" class=\"data row58 col9\" >Paperback</td>\n",
       "            </tr>\n",
       "            <tr>\n",
       "                        <th id=\"T_93509980_1fe2_11ea_bc5d_acde48001122level0_row59\" class=\"row_heading level0 row59\" >59</th>\n",
       "                        <td id=\"T_93509980_1fe2_11ea_bc5d_acde48001122row59_col0\" class=\"data row59 col0\" >Shine of the Ever</td>\n",
       "                        <td id=\"T_93509980_1fe2_11ea_bc5d_acde48001122row59_col1\" class=\"data row59 col1\" >Claire Rudy Foster</td>\n",
       "                        <td id=\"T_93509980_1fe2_11ea_bc5d_acde48001122row59_col2\" class=\"data row59 col2\" >4.39</td>\n",
       "                        <td id=\"T_93509980_1fe2_11ea_bc5d_acde48001122row59_col3\" class=\"data row59 col3\" >36</td>\n",
       "                        <td id=\"T_93509980_1fe2_11ea_bc5d_acde48001122row59_col4\" class=\"data row59 col4\" >19</td>\n",
       "                        <td id=\"T_93509980_1fe2_11ea_bc5d_acde48001122row59_col5\" class=\"data row59 col5\" >Interlude Press</td>\n",
       "                        <td id=\"T_93509980_1fe2_11ea_bc5d_acde48001122row59_col6\" class=\"data row59 col6\" >November</td>\n",
       "                        <td id=\"T_93509980_1fe2_11ea_bc5d_acde48001122row59_col7\" class=\"data row59 col7\" >2019</td>\n",
       "                        <td id=\"T_93509980_1fe2_11ea_bc5d_acde48001122row59_col8\" class=\"data row59 col8\" >188</td>\n",
       "                        <td id=\"T_93509980_1fe2_11ea_bc5d_acde48001122row59_col9\" class=\"data row59 col9\" >Paperback</td>\n",
       "            </tr>\n",
       "            <tr>\n",
       "                        <th id=\"T_93509980_1fe2_11ea_bc5d_acde48001122level0_row60\" class=\"row_heading level0 row60\" >60</th>\n",
       "                        <td id=\"T_93509980_1fe2_11ea_bc5d_acde48001122row60_col0\" class=\"data row60 col0\" >Sabbath</td>\n",
       "                        <td id=\"T_93509980_1fe2_11ea_bc5d_acde48001122row60_col1\" class=\"data row60 col1\" >Nick Mamatas</td>\n",
       "                        <td id=\"T_93509980_1fe2_11ea_bc5d_acde48001122row60_col2\" class=\"data row60 col2\" >4.04</td>\n",
       "                        <td id=\"T_93509980_1fe2_11ea_bc5d_acde48001122row60_col3\" class=\"data row60 col3\" >24</td>\n",
       "                        <td id=\"T_93509980_1fe2_11ea_bc5d_acde48001122row60_col4\" class=\"data row60 col4\" >12</td>\n",
       "                        <td id=\"T_93509980_1fe2_11ea_bc5d_acde48001122row60_col5\" class=\"data row60 col5\" >Tor Books</td>\n",
       "                        <td id=\"T_93509980_1fe2_11ea_bc5d_acde48001122row60_col6\" class=\"data row60 col6\" >November</td>\n",
       "                        <td id=\"T_93509980_1fe2_11ea_bc5d_acde48001122row60_col7\" class=\"data row60 col7\" >2019</td>\n",
       "                        <td id=\"T_93509980_1fe2_11ea_bc5d_acde48001122row60_col8\" class=\"data row60 col8\" >304</td>\n",
       "                        <td id=\"T_93509980_1fe2_11ea_bc5d_acde48001122row60_col9\" class=\"data row60 col9\" >Hardcover</td>\n",
       "            </tr>\n",
       "            <tr>\n",
       "                        <th id=\"T_93509980_1fe2_11ea_bc5d_acde48001122level0_row61\" class=\"row_heading level0 row61\" >61</th>\n",
       "                        <td id=\"T_93509980_1fe2_11ea_bc5d_acde48001122row61_col0\" class=\"data row61 col0\" >Cutting Edge: New Stories of Mystery and Crime by Women Writers</td>\n",
       "                        <td id=\"T_93509980_1fe2_11ea_bc5d_acde48001122row61_col1\" class=\"data row61 col1\" >Joyce Carol Oates</td>\n",
       "                        <td id=\"T_93509980_1fe2_11ea_bc5d_acde48001122row61_col2\" class=\"data row61 col2\" >3.65</td>\n",
       "                        <td id=\"T_93509980_1fe2_11ea_bc5d_acde48001122row61_col3\" class=\"data row61 col3\" >37</td>\n",
       "                        <td id=\"T_93509980_1fe2_11ea_bc5d_acde48001122row61_col4\" class=\"data row61 col4\" >11</td>\n",
       "                        <td id=\"T_93509980_1fe2_11ea_bc5d_acde48001122row61_col5\" class=\"data row61 col5\" >Akashic Books</td>\n",
       "                        <td id=\"T_93509980_1fe2_11ea_bc5d_acde48001122row61_col6\" class=\"data row61 col6\" >November</td>\n",
       "                        <td id=\"T_93509980_1fe2_11ea_bc5d_acde48001122row61_col7\" class=\"data row61 col7\" >2019</td>\n",
       "                        <td id=\"T_93509980_1fe2_11ea_bc5d_acde48001122row61_col8\" class=\"data row61 col8\" >234</td>\n",
       "                        <td id=\"T_93509980_1fe2_11ea_bc5d_acde48001122row61_col9\" class=\"data row61 col9\" >Paperback</td>\n",
       "            </tr>\n",
       "            <tr>\n",
       "                        <th id=\"T_93509980_1fe2_11ea_bc5d_acde48001122level0_row62\" class=\"row_heading level0 row62\" >62</th>\n",
       "                        <td id=\"T_93509980_1fe2_11ea_bc5d_acde48001122row62_col0\" class=\"data row62 col0\" >NVK</td>\n",
       "                        <td id=\"T_93509980_1fe2_11ea_bc5d_acde48001122row62_col1\" class=\"data row62 col1\" >Temple Drake</td>\n",
       "                        <td id=\"T_93509980_1fe2_11ea_bc5d_acde48001122row62_col2\" class=\"data row62 col2\" >3.46</td>\n",
       "                        <td id=\"T_93509980_1fe2_11ea_bc5d_acde48001122row62_col3\" class=\"data row62 col3\" >65</td>\n",
       "                        <td id=\"T_93509980_1fe2_11ea_bc5d_acde48001122row62_col4\" class=\"data row62 col4\" >12</td>\n",
       "                        <td id=\"T_93509980_1fe2_11ea_bc5d_acde48001122row62_col5\" class=\"data row62 col5\" >Other Press (NY)</td>\n",
       "                        <td id=\"T_93509980_1fe2_11ea_bc5d_acde48001122row62_col6\" class=\"data row62 col6\" >November</td>\n",
       "                        <td id=\"T_93509980_1fe2_11ea_bc5d_acde48001122row62_col7\" class=\"data row62 col7\" >2019</td>\n",
       "                        <td id=\"T_93509980_1fe2_11ea_bc5d_acde48001122row62_col8\" class=\"data row62 col8\" >352</td>\n",
       "                        <td id=\"T_93509980_1fe2_11ea_bc5d_acde48001122row62_col9\" class=\"data row62 col9\" >Paperback</td>\n",
       "            </tr>\n",
       "            <tr>\n",
       "                        <th id=\"T_93509980_1fe2_11ea_bc5d_acde48001122level0_row63\" class=\"row_heading level0 row63\" >63</th>\n",
       "                        <td id=\"T_93509980_1fe2_11ea_bc5d_acde48001122row63_col0\" class=\"data row63 col0\" >Floodtide</td>\n",
       "                        <td id=\"T_93509980_1fe2_11ea_bc5d_acde48001122row63_col1\" class=\"data row63 col1\" >Heather Rose Jones</td>\n",
       "                        <td id=\"T_93509980_1fe2_11ea_bc5d_acde48001122row63_col2\" class=\"data row63 col2\" >4.34</td>\n",
       "                        <td id=\"T_93509980_1fe2_11ea_bc5d_acde48001122row63_col3\" class=\"data row63 col3\" >29</td>\n",
       "                        <td id=\"T_93509980_1fe2_11ea_bc5d_acde48001122row63_col4\" class=\"data row63 col4\" >17</td>\n",
       "                        <td id=\"T_93509980_1fe2_11ea_bc5d_acde48001122row63_col5\" class=\"data row63 col5\" >Bella Books</td>\n",
       "                        <td id=\"T_93509980_1fe2_11ea_bc5d_acde48001122row63_col6\" class=\"data row63 col6\" >November</td>\n",
       "                        <td id=\"T_93509980_1fe2_11ea_bc5d_acde48001122row63_col7\" class=\"data row63 col7\" >2019</td>\n",
       "                        <td id=\"T_93509980_1fe2_11ea_bc5d_acde48001122row63_col8\" class=\"data row63 col8\" >0</td>\n",
       "                        <td id=\"T_93509980_1fe2_11ea_bc5d_acde48001122row63_col9\" class=\"data row63 col9\" >Paperback</td>\n",
       "            </tr>\n",
       "            <tr>\n",
       "                        <th id=\"T_93509980_1fe2_11ea_bc5d_acde48001122level0_row64\" class=\"row_heading level0 row64\" >64</th>\n",
       "                        <td id=\"T_93509980_1fe2_11ea_bc5d_acde48001122row64_col0\" class=\"data row64 col0\" >Carry Me Away</td>\n",
       "                        <td id=\"T_93509980_1fe2_11ea_bc5d_acde48001122row64_col1\" class=\"data row64 col1\" >Dorothy Adamek</td>\n",
       "                        <td id=\"T_93509980_1fe2_11ea_bc5d_acde48001122row64_col2\" class=\"data row64 col2\" >4.62</td>\n",
       "                        <td id=\"T_93509980_1fe2_11ea_bc5d_acde48001122row64_col3\" class=\"data row64 col3\" >34</td>\n",
       "                        <td id=\"T_93509980_1fe2_11ea_bc5d_acde48001122row64_col4\" class=\"data row64 col4\" >28</td>\n",
       "                        <td id=\"T_93509980_1fe2_11ea_bc5d_acde48001122row64_col5\" class=\"data row64 col5\" >Crabapple House Publishing</td>\n",
       "                        <td id=\"T_93509980_1fe2_11ea_bc5d_acde48001122row64_col6\" class=\"data row64 col6\" >November</td>\n",
       "                        <td id=\"T_93509980_1fe2_11ea_bc5d_acde48001122row64_col7\" class=\"data row64 col7\" >2019</td>\n",
       "                        <td id=\"T_93509980_1fe2_11ea_bc5d_acde48001122row64_col8\" class=\"data row64 col8\" >304</td>\n",
       "                        <td id=\"T_93509980_1fe2_11ea_bc5d_acde48001122row64_col9\" class=\"data row64 col9\" >Kindle Edition</td>\n",
       "            </tr>\n",
       "            <tr>\n",
       "                        <th id=\"T_93509980_1fe2_11ea_bc5d_acde48001122level0_row65\" class=\"row_heading level0 row65\" >65</th>\n",
       "                        <td id=\"T_93509980_1fe2_11ea_bc5d_acde48001122row65_col0\" class=\"data row65 col0\" >The Monstrous Citadel</td>\n",
       "                        <td id=\"T_93509980_1fe2_11ea_bc5d_acde48001122row65_col1\" class=\"data row65 col1\" >Mirah Bolender</td>\n",
       "                        <td id=\"T_93509980_1fe2_11ea_bc5d_acde48001122row65_col2\" class=\"data row65 col2\" >4</td>\n",
       "                        <td id=\"T_93509980_1fe2_11ea_bc5d_acde48001122row65_col3\" class=\"data row65 col3\" >32</td>\n",
       "                        <td id=\"T_93509980_1fe2_11ea_bc5d_acde48001122row65_col4\" class=\"data row65 col4\" >6</td>\n",
       "                        <td id=\"T_93509980_1fe2_11ea_bc5d_acde48001122row65_col5\" class=\"data row65 col5\" >Tor Books</td>\n",
       "                        <td id=\"T_93509980_1fe2_11ea_bc5d_acde48001122row65_col6\" class=\"data row65 col6\" >November</td>\n",
       "                        <td id=\"T_93509980_1fe2_11ea_bc5d_acde48001122row65_col7\" class=\"data row65 col7\" >2019</td>\n",
       "                        <td id=\"T_93509980_1fe2_11ea_bc5d_acde48001122row65_col8\" class=\"data row65 col8\" >416</td>\n",
       "                        <td id=\"T_93509980_1fe2_11ea_bc5d_acde48001122row65_col9\" class=\"data row65 col9\" >Paperback</td>\n",
       "            </tr>\n",
       "            <tr>\n",
       "                        <th id=\"T_93509980_1fe2_11ea_bc5d_acde48001122level0_row66\" class=\"row_heading level0 row66\" >66</th>\n",
       "                        <td id=\"T_93509980_1fe2_11ea_bc5d_acde48001122row66_col0\" class=\"data row66 col0\" >Upon the Flight of the Queen</td>\n",
       "                        <td id=\"T_93509980_1fe2_11ea_bc5d_acde48001122row66_col1\" class=\"data row66 col1\" >Howard Andrew Jones</td>\n",
       "                        <td id=\"T_93509980_1fe2_11ea_bc5d_acde48001122row66_col2\" class=\"data row66 col2\" >4.48</td>\n",
       "                        <td id=\"T_93509980_1fe2_11ea_bc5d_acde48001122row66_col3\" class=\"data row66 col3\" >40</td>\n",
       "                        <td id=\"T_93509980_1fe2_11ea_bc5d_acde48001122row66_col4\" class=\"data row66 col4\" >24</td>\n",
       "                        <td id=\"T_93509980_1fe2_11ea_bc5d_acde48001122row66_col5\" class=\"data row66 col5\" >St. Martin's Press</td>\n",
       "                        <td id=\"T_93509980_1fe2_11ea_bc5d_acde48001122row66_col6\" class=\"data row66 col6\" >November</td>\n",
       "                        <td id=\"T_93509980_1fe2_11ea_bc5d_acde48001122row66_col7\" class=\"data row66 col7\" >2019</td>\n",
       "                        <td id=\"T_93509980_1fe2_11ea_bc5d_acde48001122row66_col8\" class=\"data row66 col8\" >432</td>\n",
       "                        <td id=\"T_93509980_1fe2_11ea_bc5d_acde48001122row66_col9\" class=\"data row66 col9\" >Hardcover</td>\n",
       "            </tr>\n",
       "            <tr>\n",
       "                        <th id=\"T_93509980_1fe2_11ea_bc5d_acde48001122level0_row67\" class=\"row_heading level0 row67\" >67</th>\n",
       "                        <td id=\"T_93509980_1fe2_11ea_bc5d_acde48001122row67_col0\" class=\"data row67 col0\" >The Ghost in Apartment 2R</td>\n",
       "                        <td id=\"T_93509980_1fe2_11ea_bc5d_acde48001122row67_col1\" class=\"data row67 col1\" >Denis Markell</td>\n",
       "                        <td id=\"T_93509980_1fe2_11ea_bc5d_acde48001122row67_col2\" class=\"data row67 col2\" >3.83</td>\n",
       "                        <td id=\"T_93509980_1fe2_11ea_bc5d_acde48001122row67_col3\" class=\"data row67 col3\" >35</td>\n",
       "                        <td id=\"T_93509980_1fe2_11ea_bc5d_acde48001122row67_col4\" class=\"data row67 col4\" >23</td>\n",
       "                        <td id=\"T_93509980_1fe2_11ea_bc5d_acde48001122row67_col5\" class=\"data row67 col5\" >Delacorte Press</td>\n",
       "                        <td id=\"T_93509980_1fe2_11ea_bc5d_acde48001122row67_col6\" class=\"data row67 col6\" >November</td>\n",
       "                        <td id=\"T_93509980_1fe2_11ea_bc5d_acde48001122row67_col7\" class=\"data row67 col7\" >2019</td>\n",
       "                        <td id=\"T_93509980_1fe2_11ea_bc5d_acde48001122row67_col8\" class=\"data row67 col8\" >320</td>\n",
       "                        <td id=\"T_93509980_1fe2_11ea_bc5d_acde48001122row67_col9\" class=\"data row67 col9\" >Hardcover</td>\n",
       "            </tr>\n",
       "            <tr>\n",
       "                        <th id=\"T_93509980_1fe2_11ea_bc5d_acde48001122level0_row68\" class=\"row_heading level0 row68\" >68</th>\n",
       "                        <td id=\"T_93509980_1fe2_11ea_bc5d_acde48001122row68_col0\" class=\"data row68 col0\" >Pastorale</td>\n",
       "                        <td id=\"T_93509980_1fe2_11ea_bc5d_acde48001122row68_col1\" class=\"data row68 col1\" >Stephan Enter</td>\n",
       "                        <td id=\"T_93509980_1fe2_11ea_bc5d_acde48001122row68_col2\" class=\"data row68 col2\" >4.18</td>\n",
       "                        <td id=\"T_93509980_1fe2_11ea_bc5d_acde48001122row68_col3\" class=\"data row68 col3\" >28</td>\n",
       "                        <td id=\"T_93509980_1fe2_11ea_bc5d_acde48001122row68_col4\" class=\"data row68 col4\" >7</td>\n",
       "                        <td id=\"T_93509980_1fe2_11ea_bc5d_acde48001122row68_col5\" class=\"data row68 col5\" >Van Oorschot</td>\n",
       "                        <td id=\"T_93509980_1fe2_11ea_bc5d_acde48001122row68_col6\" class=\"data row68 col6\" >November</td>\n",
       "                        <td id=\"T_93509980_1fe2_11ea_bc5d_acde48001122row68_col7\" class=\"data row68 col7\" >2019</td>\n",
       "                        <td id=\"T_93509980_1fe2_11ea_bc5d_acde48001122row68_col8\" class=\"data row68 col8\" >300</td>\n",
       "                        <td id=\"T_93509980_1fe2_11ea_bc5d_acde48001122row68_col9\" class=\"data row68 col9\" >Hardcover</td>\n",
       "            </tr>\n",
       "            <tr>\n",
       "                        <th id=\"T_93509980_1fe2_11ea_bc5d_acde48001122level0_row69\" class=\"row_heading level0 row69\" >69</th>\n",
       "                        <td id=\"T_93509980_1fe2_11ea_bc5d_acde48001122row69_col0\" class=\"data row69 col0\" >Chokehold</td>\n",
       "                        <td id=\"T_93509980_1fe2_11ea_bc5d_acde48001122row69_col1\" class=\"data row69 col1\" >David Moody</td>\n",
       "                        <td id=\"T_93509980_1fe2_11ea_bc5d_acde48001122row69_col2\" class=\"data row69 col2\" >4.09</td>\n",
       "                        <td id=\"T_93509980_1fe2_11ea_bc5d_acde48001122row69_col3\" class=\"data row69 col3\" >33</td>\n",
       "                        <td id=\"T_93509980_1fe2_11ea_bc5d_acde48001122row69_col4\" class=\"data row69 col4\" >13</td>\n",
       "                        <td id=\"T_93509980_1fe2_11ea_bc5d_acde48001122row69_col5\" class=\"data row69 col5\" >St. Martin's Griffin</td>\n",
       "                        <td id=\"T_93509980_1fe2_11ea_bc5d_acde48001122row69_col6\" class=\"data row69 col6\" >November</td>\n",
       "                        <td id=\"T_93509980_1fe2_11ea_bc5d_acde48001122row69_col7\" class=\"data row69 col7\" >2019</td>\n",
       "                        <td id=\"T_93509980_1fe2_11ea_bc5d_acde48001122row69_col8\" class=\"data row69 col8\" >348</td>\n",
       "                        <td id=\"T_93509980_1fe2_11ea_bc5d_acde48001122row69_col9\" class=\"data row69 col9\" >Kindle Edition</td>\n",
       "            </tr>\n",
       "            <tr>\n",
       "                        <th id=\"T_93509980_1fe2_11ea_bc5d_acde48001122level0_row70\" class=\"row_heading level0 row70\" >70</th>\n",
       "                        <td id=\"T_93509980_1fe2_11ea_bc5d_acde48001122row70_col0\" class=\"data row70 col0\" >What Burns</td>\n",
       "                        <td id=\"T_93509980_1fe2_11ea_bc5d_acde48001122row70_col1\" class=\"data row70 col1\" >Dale Peck</td>\n",
       "                        <td id=\"T_93509980_1fe2_11ea_bc5d_acde48001122row70_col2\" class=\"data row70 col2\" >3.33</td>\n",
       "                        <td id=\"T_93509980_1fe2_11ea_bc5d_acde48001122row70_col3\" class=\"data row70 col3\" >9</td>\n",
       "                        <td id=\"T_93509980_1fe2_11ea_bc5d_acde48001122row70_col4\" class=\"data row70 col4\" >4</td>\n",
       "                        <td id=\"T_93509980_1fe2_11ea_bc5d_acde48001122row70_col5\" class=\"data row70 col5\" >Soho Press</td>\n",
       "                        <td id=\"T_93509980_1fe2_11ea_bc5d_acde48001122row70_col6\" class=\"data row70 col6\" >November</td>\n",
       "                        <td id=\"T_93509980_1fe2_11ea_bc5d_acde48001122row70_col7\" class=\"data row70 col7\" >2019</td>\n",
       "                        <td id=\"T_93509980_1fe2_11ea_bc5d_acde48001122row70_col8\" class=\"data row70 col8\" >216</td>\n",
       "                        <td id=\"T_93509980_1fe2_11ea_bc5d_acde48001122row70_col9\" class=\"data row70 col9\" >Paperback</td>\n",
       "            </tr>\n",
       "            <tr>\n",
       "                        <th id=\"T_93509980_1fe2_11ea_bc5d_acde48001122level0_row71\" class=\"row_heading level0 row71\" >71</th>\n",
       "                        <td id=\"T_93509980_1fe2_11ea_bc5d_acde48001122row71_col0\" class=\"data row71 col0\" >The Elementalist: Rise of Hara</td>\n",
       "                        <td id=\"T_93509980_1fe2_11ea_bc5d_acde48001122row71_col1\" class=\"data row71 col1\" >T. M.  White</td>\n",
       "                        <td id=\"T_93509980_1fe2_11ea_bc5d_acde48001122row71_col2\" class=\"data row71 col2\" >3.17</td>\n",
       "                        <td id=\"T_93509980_1fe2_11ea_bc5d_acde48001122row71_col3\" class=\"data row71 col3\" >18</td>\n",
       "                        <td id=\"T_93509980_1fe2_11ea_bc5d_acde48001122row71_col4\" class=\"data row71 col4\" >19</td>\n",
       "                        <td id=\"T_93509980_1fe2_11ea_bc5d_acde48001122row71_col5\" class=\"data row71 col5\" >Chandra City Publishing</td>\n",
       "                        <td id=\"T_93509980_1fe2_11ea_bc5d_acde48001122row71_col6\" class=\"data row71 col6\" >November</td>\n",
       "                        <td id=\"T_93509980_1fe2_11ea_bc5d_acde48001122row71_col7\" class=\"data row71 col7\" >2019</td>\n",
       "                        <td id=\"T_93509980_1fe2_11ea_bc5d_acde48001122row71_col8\" class=\"data row71 col8\" >560</td>\n",
       "                        <td id=\"T_93509980_1fe2_11ea_bc5d_acde48001122row71_col9\" class=\"data row71 col9\" >Kindle Edition</td>\n",
       "            </tr>\n",
       "            <tr>\n",
       "                        <th id=\"T_93509980_1fe2_11ea_bc5d_acde48001122level0_row72\" class=\"row_heading level0 row72\" >72</th>\n",
       "                        <td id=\"T_93509980_1fe2_11ea_bc5d_acde48001122row72_col0\" class=\"data row72 col0\" >The Highlanders</td>\n",
       "                        <td id=\"T_93509980_1fe2_11ea_bc5d_acde48001122row72_col1\" class=\"data row72 col1\" >J'nell Ciesielski</td>\n",
       "                        <td id=\"T_93509980_1fe2_11ea_bc5d_acde48001122row72_col2\" class=\"data row72 col2\" >4.53</td>\n",
       "                        <td id=\"T_93509980_1fe2_11ea_bc5d_acde48001122row72_col3\" class=\"data row72 col3\" >30</td>\n",
       "                        <td id=\"T_93509980_1fe2_11ea_bc5d_acde48001122row72_col4\" class=\"data row72 col4\" >17</td>\n",
       "                        <td id=\"T_93509980_1fe2_11ea_bc5d_acde48001122row72_col5\" class=\"data row72 col5\" >Lighthouse Publishing of the Carolinas</td>\n",
       "                        <td id=\"T_93509980_1fe2_11ea_bc5d_acde48001122row72_col6\" class=\"data row72 col6\" >November</td>\n",
       "                        <td id=\"T_93509980_1fe2_11ea_bc5d_acde48001122row72_col7\" class=\"data row72 col7\" >2019</td>\n",
       "                        <td id=\"T_93509980_1fe2_11ea_bc5d_acde48001122row72_col8\" class=\"data row72 col8\" >301</td>\n",
       "                        <td id=\"T_93509980_1fe2_11ea_bc5d_acde48001122row72_col9\" class=\"data row72 col9\" >Kindle Edition</td>\n",
       "            </tr>\n",
       "            <tr>\n",
       "                        <th id=\"T_93509980_1fe2_11ea_bc5d_acde48001122level0_row73\" class=\"row_heading level0 row73\" >73</th>\n",
       "                        <td id=\"T_93509980_1fe2_11ea_bc5d_acde48001122row73_col0\" class=\"data row73 col0\" >Seven Samurai Swept Away in a River</td>\n",
       "                        <td id=\"T_93509980_1fe2_11ea_bc5d_acde48001122row73_col1\" class=\"data row73 col1\" >Jung Young Moon</td>\n",
       "                        <td id=\"T_93509980_1fe2_11ea_bc5d_acde48001122row73_col2\" class=\"data row73 col2\" >3.64</td>\n",
       "                        <td id=\"T_93509980_1fe2_11ea_bc5d_acde48001122row73_col3\" class=\"data row73 col3\" >11</td>\n",
       "                        <td id=\"T_93509980_1fe2_11ea_bc5d_acde48001122row73_col4\" class=\"data row73 col4\" >5</td>\n",
       "                        <td id=\"T_93509980_1fe2_11ea_bc5d_acde48001122row73_col5\" class=\"data row73 col5\" >Deep Vellum Publishing</td>\n",
       "                        <td id=\"T_93509980_1fe2_11ea_bc5d_acde48001122row73_col6\" class=\"data row73 col6\" >November</td>\n",
       "                        <td id=\"T_93509980_1fe2_11ea_bc5d_acde48001122row73_col7\" class=\"data row73 col7\" >2019</td>\n",
       "                        <td id=\"T_93509980_1fe2_11ea_bc5d_acde48001122row73_col8\" class=\"data row73 col8\" >112</td>\n",
       "                        <td id=\"T_93509980_1fe2_11ea_bc5d_acde48001122row73_col9\" class=\"data row73 col9\" >Paperback</td>\n",
       "            </tr>\n",
       "            <tr>\n",
       "                        <th id=\"T_93509980_1fe2_11ea_bc5d_acde48001122level0_row74\" class=\"row_heading level0 row74\" >74</th>\n",
       "                        <td id=\"T_93509980_1fe2_11ea_bc5d_acde48001122row74_col0\" class=\"data row74 col0\" >A Sister’s Courage</td>\n",
       "                        <td id=\"T_93509980_1fe2_11ea_bc5d_acde48001122row74_col1\" class=\"data row74 col1\" >Molly Green</td>\n",
       "                        <td id=\"T_93509980_1fe2_11ea_bc5d_acde48001122row74_col2\" class=\"data row74 col2\" >4.25</td>\n",
       "                        <td id=\"T_93509980_1fe2_11ea_bc5d_acde48001122row74_col3\" class=\"data row74 col3\" >12</td>\n",
       "                        <td id=\"T_93509980_1fe2_11ea_bc5d_acde48001122row74_col4\" class=\"data row74 col4\" >5</td>\n",
       "                        <td id=\"T_93509980_1fe2_11ea_bc5d_acde48001122row74_col5\" class=\"data row74 col5\" >Avon</td>\n",
       "                        <td id=\"T_93509980_1fe2_11ea_bc5d_acde48001122row74_col6\" class=\"data row74 col6\" >November</td>\n",
       "                        <td id=\"T_93509980_1fe2_11ea_bc5d_acde48001122row74_col7\" class=\"data row74 col7\" >2019</td>\n",
       "                        <td id=\"T_93509980_1fe2_11ea_bc5d_acde48001122row74_col8\" class=\"data row74 col8\" >400</td>\n",
       "                        <td id=\"T_93509980_1fe2_11ea_bc5d_acde48001122row74_col9\" class=\"data row74 col9\" >Paperback</td>\n",
       "            </tr>\n",
       "            <tr>\n",
       "                        <th id=\"T_93509980_1fe2_11ea_bc5d_acde48001122level0_row75\" class=\"row_heading level0 row75\" >75</th>\n",
       "                        <td id=\"T_93509980_1fe2_11ea_bc5d_acde48001122row75_col0\" class=\"data row75 col0\" >Daughter of the Tigris</td>\n",
       "                        <td id=\"T_93509980_1fe2_11ea_bc5d_acde48001122row75_col1\" class=\"data row75 col1\" >Muhsin Al-Ramli</td>\n",
       "                        <td id=\"T_93509980_1fe2_11ea_bc5d_acde48001122row75_col2\" class=\"data row75 col2\" >3.5</td>\n",
       "                        <td id=\"T_93509980_1fe2_11ea_bc5d_acde48001122row75_col3\" class=\"data row75 col3\" >6</td>\n",
       "                        <td id=\"T_93509980_1fe2_11ea_bc5d_acde48001122row75_col4\" class=\"data row75 col4\" >3</td>\n",
       "                        <td id=\"T_93509980_1fe2_11ea_bc5d_acde48001122row75_col5\" class=\"data row75 col5\" >Maclehose Press</td>\n",
       "                        <td id=\"T_93509980_1fe2_11ea_bc5d_acde48001122row75_col6\" class=\"data row75 col6\" >November</td>\n",
       "                        <td id=\"T_93509980_1fe2_11ea_bc5d_acde48001122row75_col7\" class=\"data row75 col7\" >2019</td>\n",
       "                        <td id=\"T_93509980_1fe2_11ea_bc5d_acde48001122row75_col8\" class=\"data row75 col8\" >384</td>\n",
       "                        <td id=\"T_93509980_1fe2_11ea_bc5d_acde48001122row75_col9\" class=\"data row75 col9\" >Paperback</td>\n",
       "            </tr>\n",
       "    </tbody></table>"
      ],
      "text/plain": [
       "<pandas.io.formats.style.Styler at 0x1a1fed9450>"
      ]
     },
     "metadata": {},
     "output_type": "display_data"
    },
    {
     "data": {
      "application/vnd.plotly.v1+json": {
       "config": {
        "linkText": "Export to plot.ly",
        "plotlyServerURL": "https://plot.ly",
        "showLink": false
       },
       "data": [
        {
         "marker": {
          "color": "rgb(49,130,189)"
         },
         "name": "No of Rating",
         "text": [
          5,
          4.89,
          4.66,
          4.62,
          4.53,
          4.53,
          4.48,
          4.46,
          4.45,
          4.45
         ],
         "type": "bar",
         "x": [
          "The Ankh-Morpork Archives: Volume One",
          "Fleabag: Scriptures",
          "Dead Wrong",
          "Carry Me Away",
          "Deadly Deceit",
          "The Highlanders",
          "Upon the Flight of the Queen",
          "The New Voices of Science Fiction",
          "In the Cradle Lies",
          "The Unicorn Project"
         ],
         "y": [
          5,
          130,
          50,
          34,
          160,
          30,
          40,
          48,
          128,
          275
         ]
        },
        {
         "name": "No of Review",
         "text": [
          5,
          4.89,
          4.66,
          4.62,
          4.53,
          4.53,
          4.48,
          4.46,
          4.45,
          4.45
         ],
         "type": "bar",
         "x": [
          "The Ankh-Morpork Archives: Volume One",
          "Fleabag: Scriptures",
          "Dead Wrong",
          "Carry Me Away",
          "Deadly Deceit",
          "The Highlanders",
          "Upon the Flight of the Queen",
          "The New Voices of Science Fiction",
          "In the Cradle Lies",
          "The Unicorn Project"
         ],
         "y": [
          0,
          20,
          20,
          28,
          131,
          17,
          24,
          18,
          106,
          30
         ]
        }
       ],
       "layout": {
        "template": {
         "data": {
          "bar": [
           {
            "error_x": {
             "color": "#2a3f5f"
            },
            "error_y": {
             "color": "#2a3f5f"
            },
            "marker": {
             "line": {
              "color": "#E5ECF6",
              "width": 0.5
             }
            },
            "type": "bar"
           }
          ],
          "barpolar": [
           {
            "marker": {
             "line": {
              "color": "#E5ECF6",
              "width": 0.5
             }
            },
            "type": "barpolar"
           }
          ],
          "carpet": [
           {
            "aaxis": {
             "endlinecolor": "#2a3f5f",
             "gridcolor": "white",
             "linecolor": "white",
             "minorgridcolor": "white",
             "startlinecolor": "#2a3f5f"
            },
            "baxis": {
             "endlinecolor": "#2a3f5f",
             "gridcolor": "white",
             "linecolor": "white",
             "minorgridcolor": "white",
             "startlinecolor": "#2a3f5f"
            },
            "type": "carpet"
           }
          ],
          "choropleth": [
           {
            "colorbar": {
             "outlinewidth": 0,
             "ticks": ""
            },
            "type": "choropleth"
           }
          ],
          "contour": [
           {
            "colorbar": {
             "outlinewidth": 0,
             "ticks": ""
            },
            "colorscale": [
             [
              0,
              "#0d0887"
             ],
             [
              0.1111111111111111,
              "#46039f"
             ],
             [
              0.2222222222222222,
              "#7201a8"
             ],
             [
              0.3333333333333333,
              "#9c179e"
             ],
             [
              0.4444444444444444,
              "#bd3786"
             ],
             [
              0.5555555555555556,
              "#d8576b"
             ],
             [
              0.6666666666666666,
              "#ed7953"
             ],
             [
              0.7777777777777778,
              "#fb9f3a"
             ],
             [
              0.8888888888888888,
              "#fdca26"
             ],
             [
              1,
              "#f0f921"
             ]
            ],
            "type": "contour"
           }
          ],
          "contourcarpet": [
           {
            "colorbar": {
             "outlinewidth": 0,
             "ticks": ""
            },
            "type": "contourcarpet"
           }
          ],
          "heatmap": [
           {
            "colorbar": {
             "outlinewidth": 0,
             "ticks": ""
            },
            "colorscale": [
             [
              0,
              "#0d0887"
             ],
             [
              0.1111111111111111,
              "#46039f"
             ],
             [
              0.2222222222222222,
              "#7201a8"
             ],
             [
              0.3333333333333333,
              "#9c179e"
             ],
             [
              0.4444444444444444,
              "#bd3786"
             ],
             [
              0.5555555555555556,
              "#d8576b"
             ],
             [
              0.6666666666666666,
              "#ed7953"
             ],
             [
              0.7777777777777778,
              "#fb9f3a"
             ],
             [
              0.8888888888888888,
              "#fdca26"
             ],
             [
              1,
              "#f0f921"
             ]
            ],
            "type": "heatmap"
           }
          ],
          "heatmapgl": [
           {
            "colorbar": {
             "outlinewidth": 0,
             "ticks": ""
            },
            "colorscale": [
             [
              0,
              "#0d0887"
             ],
             [
              0.1111111111111111,
              "#46039f"
             ],
             [
              0.2222222222222222,
              "#7201a8"
             ],
             [
              0.3333333333333333,
              "#9c179e"
             ],
             [
              0.4444444444444444,
              "#bd3786"
             ],
             [
              0.5555555555555556,
              "#d8576b"
             ],
             [
              0.6666666666666666,
              "#ed7953"
             ],
             [
              0.7777777777777778,
              "#fb9f3a"
             ],
             [
              0.8888888888888888,
              "#fdca26"
             ],
             [
              1,
              "#f0f921"
             ]
            ],
            "type": "heatmapgl"
           }
          ],
          "histogram": [
           {
            "marker": {
             "colorbar": {
              "outlinewidth": 0,
              "ticks": ""
             }
            },
            "type": "histogram"
           }
          ],
          "histogram2d": [
           {
            "colorbar": {
             "outlinewidth": 0,
             "ticks": ""
            },
            "colorscale": [
             [
              0,
              "#0d0887"
             ],
             [
              0.1111111111111111,
              "#46039f"
             ],
             [
              0.2222222222222222,
              "#7201a8"
             ],
             [
              0.3333333333333333,
              "#9c179e"
             ],
             [
              0.4444444444444444,
              "#bd3786"
             ],
             [
              0.5555555555555556,
              "#d8576b"
             ],
             [
              0.6666666666666666,
              "#ed7953"
             ],
             [
              0.7777777777777778,
              "#fb9f3a"
             ],
             [
              0.8888888888888888,
              "#fdca26"
             ],
             [
              1,
              "#f0f921"
             ]
            ],
            "type": "histogram2d"
           }
          ],
          "histogram2dcontour": [
           {
            "colorbar": {
             "outlinewidth": 0,
             "ticks": ""
            },
            "colorscale": [
             [
              0,
              "#0d0887"
             ],
             [
              0.1111111111111111,
              "#46039f"
             ],
             [
              0.2222222222222222,
              "#7201a8"
             ],
             [
              0.3333333333333333,
              "#9c179e"
             ],
             [
              0.4444444444444444,
              "#bd3786"
             ],
             [
              0.5555555555555556,
              "#d8576b"
             ],
             [
              0.6666666666666666,
              "#ed7953"
             ],
             [
              0.7777777777777778,
              "#fb9f3a"
             ],
             [
              0.8888888888888888,
              "#fdca26"
             ],
             [
              1,
              "#f0f921"
             ]
            ],
            "type": "histogram2dcontour"
           }
          ],
          "mesh3d": [
           {
            "colorbar": {
             "outlinewidth": 0,
             "ticks": ""
            },
            "type": "mesh3d"
           }
          ],
          "parcoords": [
           {
            "line": {
             "colorbar": {
              "outlinewidth": 0,
              "ticks": ""
             }
            },
            "type": "parcoords"
           }
          ],
          "scatter": [
           {
            "marker": {
             "colorbar": {
              "outlinewidth": 0,
              "ticks": ""
             }
            },
            "type": "scatter"
           }
          ],
          "scatter3d": [
           {
            "line": {
             "colorbar": {
              "outlinewidth": 0,
              "ticks": ""
             }
            },
            "marker": {
             "colorbar": {
              "outlinewidth": 0,
              "ticks": ""
             }
            },
            "type": "scatter3d"
           }
          ],
          "scattercarpet": [
           {
            "marker": {
             "colorbar": {
              "outlinewidth": 0,
              "ticks": ""
             }
            },
            "type": "scattercarpet"
           }
          ],
          "scattergeo": [
           {
            "marker": {
             "colorbar": {
              "outlinewidth": 0,
              "ticks": ""
             }
            },
            "type": "scattergeo"
           }
          ],
          "scattergl": [
           {
            "marker": {
             "colorbar": {
              "outlinewidth": 0,
              "ticks": ""
             }
            },
            "type": "scattergl"
           }
          ],
          "scattermapbox": [
           {
            "marker": {
             "colorbar": {
              "outlinewidth": 0,
              "ticks": ""
             }
            },
            "type": "scattermapbox"
           }
          ],
          "scatterpolar": [
           {
            "marker": {
             "colorbar": {
              "outlinewidth": 0,
              "ticks": ""
             }
            },
            "type": "scatterpolar"
           }
          ],
          "scatterpolargl": [
           {
            "marker": {
             "colorbar": {
              "outlinewidth": 0,
              "ticks": ""
             }
            },
            "type": "scatterpolargl"
           }
          ],
          "scatterternary": [
           {
            "marker": {
             "colorbar": {
              "outlinewidth": 0,
              "ticks": ""
             }
            },
            "type": "scatterternary"
           }
          ],
          "surface": [
           {
            "colorbar": {
             "outlinewidth": 0,
             "ticks": ""
            },
            "colorscale": [
             [
              0,
              "#0d0887"
             ],
             [
              0.1111111111111111,
              "#46039f"
             ],
             [
              0.2222222222222222,
              "#7201a8"
             ],
             [
              0.3333333333333333,
              "#9c179e"
             ],
             [
              0.4444444444444444,
              "#bd3786"
             ],
             [
              0.5555555555555556,
              "#d8576b"
             ],
             [
              0.6666666666666666,
              "#ed7953"
             ],
             [
              0.7777777777777778,
              "#fb9f3a"
             ],
             [
              0.8888888888888888,
              "#fdca26"
             ],
             [
              1,
              "#f0f921"
             ]
            ],
            "type": "surface"
           }
          ],
          "table": [
           {
            "cells": {
             "fill": {
              "color": "#EBF0F8"
             },
             "line": {
              "color": "white"
             }
            },
            "header": {
             "fill": {
              "color": "#C8D4E3"
             },
             "line": {
              "color": "white"
             }
            },
            "type": "table"
           }
          ]
         },
         "layout": {
          "annotationdefaults": {
           "arrowcolor": "#2a3f5f",
           "arrowhead": 0,
           "arrowwidth": 1
          },
          "colorscale": {
           "diverging": [
            [
             0,
             "#8e0152"
            ],
            [
             0.1,
             "#c51b7d"
            ],
            [
             0.2,
             "#de77ae"
            ],
            [
             0.3,
             "#f1b6da"
            ],
            [
             0.4,
             "#fde0ef"
            ],
            [
             0.5,
             "#f7f7f7"
            ],
            [
             0.6,
             "#e6f5d0"
            ],
            [
             0.7,
             "#b8e186"
            ],
            [
             0.8,
             "#7fbc41"
            ],
            [
             0.9,
             "#4d9221"
            ],
            [
             1,
             "#276419"
            ]
           ],
           "sequential": [
            [
             0,
             "#0d0887"
            ],
            [
             0.1111111111111111,
             "#46039f"
            ],
            [
             0.2222222222222222,
             "#7201a8"
            ],
            [
             0.3333333333333333,
             "#9c179e"
            ],
            [
             0.4444444444444444,
             "#bd3786"
            ],
            [
             0.5555555555555556,
             "#d8576b"
            ],
            [
             0.6666666666666666,
             "#ed7953"
            ],
            [
             0.7777777777777778,
             "#fb9f3a"
            ],
            [
             0.8888888888888888,
             "#fdca26"
            ],
            [
             1,
             "#f0f921"
            ]
           ],
           "sequentialminus": [
            [
             0,
             "#0d0887"
            ],
            [
             0.1111111111111111,
             "#46039f"
            ],
            [
             0.2222222222222222,
             "#7201a8"
            ],
            [
             0.3333333333333333,
             "#9c179e"
            ],
            [
             0.4444444444444444,
             "#bd3786"
            ],
            [
             0.5555555555555556,
             "#d8576b"
            ],
            [
             0.6666666666666666,
             "#ed7953"
            ],
            [
             0.7777777777777778,
             "#fb9f3a"
            ],
            [
             0.8888888888888888,
             "#fdca26"
            ],
            [
             1,
             "#f0f921"
            ]
           ]
          },
          "colorway": [
           "#636efa",
           "#EF553B",
           "#00cc96",
           "#ab63fa",
           "#FFA15A",
           "#19d3f3",
           "#FF6692",
           "#B6E880",
           "#FF97FF",
           "#FECB52"
          ],
          "font": {
           "color": "#2a3f5f"
          },
          "geo": {
           "bgcolor": "white",
           "lakecolor": "white",
           "landcolor": "#E5ECF6",
           "showlakes": true,
           "showland": true,
           "subunitcolor": "white"
          },
          "hoverlabel": {
           "align": "left"
          },
          "hovermode": "closest",
          "mapbox": {
           "style": "light"
          },
          "paper_bgcolor": "white",
          "plot_bgcolor": "#E5ECF6",
          "polar": {
           "angularaxis": {
            "gridcolor": "white",
            "linecolor": "white",
            "ticks": ""
           },
           "bgcolor": "#E5ECF6",
           "radialaxis": {
            "gridcolor": "white",
            "linecolor": "white",
            "ticks": ""
           }
          },
          "scene": {
           "xaxis": {
            "backgroundcolor": "#E5ECF6",
            "gridcolor": "white",
            "gridwidth": 2,
            "linecolor": "white",
            "showbackground": true,
            "ticks": "",
            "zerolinecolor": "white"
           },
           "yaxis": {
            "backgroundcolor": "#E5ECF6",
            "gridcolor": "white",
            "gridwidth": 2,
            "linecolor": "white",
            "showbackground": true,
            "ticks": "",
            "zerolinecolor": "white"
           },
           "zaxis": {
            "backgroundcolor": "#E5ECF6",
            "gridcolor": "white",
            "gridwidth": 2,
            "linecolor": "white",
            "showbackground": true,
            "ticks": "",
            "zerolinecolor": "white"
           }
          },
          "shapedefaults": {
           "line": {
            "color": "#2a3f5f"
           }
          },
          "ternary": {
           "aaxis": {
            "gridcolor": "white",
            "linecolor": "white",
            "ticks": ""
           },
           "baxis": {
            "gridcolor": "white",
            "linecolor": "white",
            "ticks": ""
           },
           "bgcolor": "#E5ECF6",
           "caxis": {
            "gridcolor": "white",
            "linecolor": "white",
            "ticks": ""
           }
          },
          "title": {
           "x": 0.05
          },
          "xaxis": {
           "automargin": true,
           "gridcolor": "white",
           "linecolor": "white",
           "ticks": "",
           "zerolinecolor": "white",
           "zerolinewidth": 2
          },
          "yaxis": {
           "automargin": true,
           "gridcolor": "white",
           "linecolor": "white",
           "ticks": "",
           "zerolinecolor": "white",
           "zerolinewidth": 2
          }
         }
        },
        "title": {
         "text": "Top 10 Books With Highest Average Rating"
        }
       }
      },
      "text/html": [
       "<div>\n",
       "        \n",
       "        \n",
       "            <div id=\"cdf0d890-d138-4a12-9d91-53d183813ba2\" class=\"plotly-graph-div\" style=\"height:525px; width:100%;\"></div>\n",
       "            <script type=\"text/javascript\">\n",
       "                require([\"plotly\"], function(Plotly) {\n",
       "                    window.PLOTLYENV=window.PLOTLYENV || {};\n",
       "                    \n",
       "                if (document.getElementById(\"cdf0d890-d138-4a12-9d91-53d183813ba2\")) {\n",
       "                    Plotly.newPlot(\n",
       "                        'cdf0d890-d138-4a12-9d91-53d183813ba2',\n",
       "                        [{\"marker\": {\"color\": \"rgb(49,130,189)\"}, \"name\": \"No of Rating\", \"text\": [5.0, 4.89, 4.66, 4.62, 4.53, 4.53, 4.48, 4.46, 4.45, 4.45], \"type\": \"bar\", \"x\": [\"The Ankh-Morpork Archives: Volume One\", \"Fleabag: Scriptures\", \"Dead Wrong\", \"Carry Me Away\", \"Deadly Deceit\", \"The Highlanders\", \"Upon the Flight of the Queen\", \"The New Voices of Science Fiction\", \"In the Cradle Lies\", \"The Unicorn Project\"], \"y\": [5, 130, 50, 34, 160, 30, 40, 48, 128, 275]}, {\"name\": \"No of Review\", \"text\": [5.0, 4.89, 4.66, 4.62, 4.53, 4.53, 4.48, 4.46, 4.45, 4.45], \"type\": \"bar\", \"x\": [\"The Ankh-Morpork Archives: Volume One\", \"Fleabag: Scriptures\", \"Dead Wrong\", \"Carry Me Away\", \"Deadly Deceit\", \"The Highlanders\", \"Upon the Flight of the Queen\", \"The New Voices of Science Fiction\", \"In the Cradle Lies\", \"The Unicorn Project\"], \"y\": [0, 20, 20, 28, 131, 17, 24, 18, 106, 30]}],\n",
       "                        {\"template\": {\"data\": {\"bar\": [{\"error_x\": {\"color\": \"#2a3f5f\"}, \"error_y\": {\"color\": \"#2a3f5f\"}, \"marker\": {\"line\": {\"color\": \"#E5ECF6\", \"width\": 0.5}}, \"type\": \"bar\"}], \"barpolar\": [{\"marker\": {\"line\": {\"color\": \"#E5ECF6\", \"width\": 0.5}}, \"type\": \"barpolar\"}], \"carpet\": [{\"aaxis\": {\"endlinecolor\": \"#2a3f5f\", \"gridcolor\": \"white\", \"linecolor\": \"white\", \"minorgridcolor\": \"white\", \"startlinecolor\": \"#2a3f5f\"}, \"baxis\": {\"endlinecolor\": \"#2a3f5f\", \"gridcolor\": \"white\", \"linecolor\": \"white\", \"minorgridcolor\": \"white\", \"startlinecolor\": \"#2a3f5f\"}, \"type\": \"carpet\"}], \"choropleth\": [{\"colorbar\": {\"outlinewidth\": 0, \"ticks\": \"\"}, \"type\": \"choropleth\"}], \"contour\": [{\"colorbar\": {\"outlinewidth\": 0, \"ticks\": \"\"}, \"colorscale\": [[0.0, \"#0d0887\"], [0.1111111111111111, \"#46039f\"], [0.2222222222222222, \"#7201a8\"], [0.3333333333333333, \"#9c179e\"], [0.4444444444444444, \"#bd3786\"], [0.5555555555555556, \"#d8576b\"], [0.6666666666666666, \"#ed7953\"], [0.7777777777777778, \"#fb9f3a\"], [0.8888888888888888, \"#fdca26\"], [1.0, \"#f0f921\"]], \"type\": \"contour\"}], \"contourcarpet\": [{\"colorbar\": {\"outlinewidth\": 0, \"ticks\": \"\"}, \"type\": \"contourcarpet\"}], \"heatmap\": [{\"colorbar\": {\"outlinewidth\": 0, \"ticks\": \"\"}, \"colorscale\": [[0.0, \"#0d0887\"], [0.1111111111111111, \"#46039f\"], [0.2222222222222222, \"#7201a8\"], [0.3333333333333333, \"#9c179e\"], [0.4444444444444444, \"#bd3786\"], [0.5555555555555556, \"#d8576b\"], [0.6666666666666666, \"#ed7953\"], [0.7777777777777778, \"#fb9f3a\"], [0.8888888888888888, \"#fdca26\"], [1.0, \"#f0f921\"]], \"type\": \"heatmap\"}], \"heatmapgl\": [{\"colorbar\": {\"outlinewidth\": 0, \"ticks\": \"\"}, \"colorscale\": [[0.0, \"#0d0887\"], [0.1111111111111111, \"#46039f\"], [0.2222222222222222, \"#7201a8\"], [0.3333333333333333, \"#9c179e\"], [0.4444444444444444, \"#bd3786\"], [0.5555555555555556, \"#d8576b\"], [0.6666666666666666, \"#ed7953\"], [0.7777777777777778, \"#fb9f3a\"], [0.8888888888888888, \"#fdca26\"], [1.0, \"#f0f921\"]], \"type\": \"heatmapgl\"}], \"histogram\": [{\"marker\": {\"colorbar\": {\"outlinewidth\": 0, \"ticks\": \"\"}}, \"type\": \"histogram\"}], \"histogram2d\": [{\"colorbar\": {\"outlinewidth\": 0, \"ticks\": \"\"}, \"colorscale\": [[0.0, \"#0d0887\"], [0.1111111111111111, \"#46039f\"], [0.2222222222222222, \"#7201a8\"], [0.3333333333333333, \"#9c179e\"], [0.4444444444444444, \"#bd3786\"], [0.5555555555555556, \"#d8576b\"], [0.6666666666666666, \"#ed7953\"], [0.7777777777777778, \"#fb9f3a\"], [0.8888888888888888, \"#fdca26\"], [1.0, \"#f0f921\"]], \"type\": \"histogram2d\"}], \"histogram2dcontour\": [{\"colorbar\": {\"outlinewidth\": 0, \"ticks\": \"\"}, \"colorscale\": [[0.0, \"#0d0887\"], [0.1111111111111111, \"#46039f\"], [0.2222222222222222, \"#7201a8\"], [0.3333333333333333, \"#9c179e\"], [0.4444444444444444, \"#bd3786\"], [0.5555555555555556, \"#d8576b\"], [0.6666666666666666, \"#ed7953\"], [0.7777777777777778, \"#fb9f3a\"], [0.8888888888888888, \"#fdca26\"], [1.0, \"#f0f921\"]], \"type\": \"histogram2dcontour\"}], \"mesh3d\": [{\"colorbar\": {\"outlinewidth\": 0, \"ticks\": \"\"}, \"type\": \"mesh3d\"}], \"parcoords\": [{\"line\": {\"colorbar\": {\"outlinewidth\": 0, \"ticks\": \"\"}}, \"type\": \"parcoords\"}], \"scatter\": [{\"marker\": {\"colorbar\": {\"outlinewidth\": 0, \"ticks\": \"\"}}, \"type\": \"scatter\"}], \"scatter3d\": [{\"line\": {\"colorbar\": {\"outlinewidth\": 0, \"ticks\": \"\"}}, \"marker\": {\"colorbar\": {\"outlinewidth\": 0, \"ticks\": \"\"}}, \"type\": \"scatter3d\"}], \"scattercarpet\": [{\"marker\": {\"colorbar\": {\"outlinewidth\": 0, \"ticks\": \"\"}}, \"type\": \"scattercarpet\"}], \"scattergeo\": [{\"marker\": {\"colorbar\": {\"outlinewidth\": 0, \"ticks\": \"\"}}, \"type\": \"scattergeo\"}], \"scattergl\": [{\"marker\": {\"colorbar\": {\"outlinewidth\": 0, \"ticks\": \"\"}}, \"type\": \"scattergl\"}], \"scattermapbox\": [{\"marker\": {\"colorbar\": {\"outlinewidth\": 0, \"ticks\": \"\"}}, \"type\": \"scattermapbox\"}], \"scatterpolar\": [{\"marker\": {\"colorbar\": {\"outlinewidth\": 0, \"ticks\": \"\"}}, \"type\": \"scatterpolar\"}], \"scatterpolargl\": [{\"marker\": {\"colorbar\": {\"outlinewidth\": 0, \"ticks\": \"\"}}, \"type\": \"scatterpolargl\"}], \"scatterternary\": [{\"marker\": {\"colorbar\": {\"outlinewidth\": 0, \"ticks\": \"\"}}, \"type\": \"scatterternary\"}], \"surface\": [{\"colorbar\": {\"outlinewidth\": 0, \"ticks\": \"\"}, \"colorscale\": [[0.0, \"#0d0887\"], [0.1111111111111111, \"#46039f\"], [0.2222222222222222, \"#7201a8\"], [0.3333333333333333, \"#9c179e\"], [0.4444444444444444, \"#bd3786\"], [0.5555555555555556, \"#d8576b\"], [0.6666666666666666, \"#ed7953\"], [0.7777777777777778, \"#fb9f3a\"], [0.8888888888888888, \"#fdca26\"], [1.0, \"#f0f921\"]], \"type\": \"surface\"}], \"table\": [{\"cells\": {\"fill\": {\"color\": \"#EBF0F8\"}, \"line\": {\"color\": \"white\"}}, \"header\": {\"fill\": {\"color\": \"#C8D4E3\"}, \"line\": {\"color\": \"white\"}}, \"type\": \"table\"}]}, \"layout\": {\"annotationdefaults\": {\"arrowcolor\": \"#2a3f5f\", \"arrowhead\": 0, \"arrowwidth\": 1}, \"colorscale\": {\"diverging\": [[0, \"#8e0152\"], [0.1, \"#c51b7d\"], [0.2, \"#de77ae\"], [0.3, \"#f1b6da\"], [0.4, \"#fde0ef\"], [0.5, \"#f7f7f7\"], [0.6, \"#e6f5d0\"], [0.7, \"#b8e186\"], [0.8, \"#7fbc41\"], [0.9, \"#4d9221\"], [1, \"#276419\"]], \"sequential\": [[0.0, \"#0d0887\"], [0.1111111111111111, \"#46039f\"], [0.2222222222222222, \"#7201a8\"], [0.3333333333333333, \"#9c179e\"], [0.4444444444444444, \"#bd3786\"], [0.5555555555555556, \"#d8576b\"], [0.6666666666666666, \"#ed7953\"], [0.7777777777777778, \"#fb9f3a\"], [0.8888888888888888, \"#fdca26\"], [1.0, \"#f0f921\"]], \"sequentialminus\": [[0.0, \"#0d0887\"], [0.1111111111111111, \"#46039f\"], [0.2222222222222222, \"#7201a8\"], [0.3333333333333333, \"#9c179e\"], [0.4444444444444444, \"#bd3786\"], [0.5555555555555556, \"#d8576b\"], [0.6666666666666666, \"#ed7953\"], [0.7777777777777778, \"#fb9f3a\"], [0.8888888888888888, \"#fdca26\"], [1.0, \"#f0f921\"]]}, \"colorway\": [\"#636efa\", \"#EF553B\", \"#00cc96\", \"#ab63fa\", \"#FFA15A\", \"#19d3f3\", \"#FF6692\", \"#B6E880\", \"#FF97FF\", \"#FECB52\"], \"font\": {\"color\": \"#2a3f5f\"}, \"geo\": {\"bgcolor\": \"white\", \"lakecolor\": \"white\", \"landcolor\": \"#E5ECF6\", \"showlakes\": true, \"showland\": true, \"subunitcolor\": \"white\"}, \"hoverlabel\": {\"align\": \"left\"}, \"hovermode\": \"closest\", \"mapbox\": {\"style\": \"light\"}, \"paper_bgcolor\": \"white\", \"plot_bgcolor\": \"#E5ECF6\", \"polar\": {\"angularaxis\": {\"gridcolor\": \"white\", \"linecolor\": \"white\", \"ticks\": \"\"}, \"bgcolor\": \"#E5ECF6\", \"radialaxis\": {\"gridcolor\": \"white\", \"linecolor\": \"white\", \"ticks\": \"\"}}, \"scene\": {\"xaxis\": {\"backgroundcolor\": \"#E5ECF6\", \"gridcolor\": \"white\", \"gridwidth\": 2, \"linecolor\": \"white\", \"showbackground\": true, \"ticks\": \"\", \"zerolinecolor\": \"white\"}, \"yaxis\": {\"backgroundcolor\": \"#E5ECF6\", \"gridcolor\": \"white\", \"gridwidth\": 2, \"linecolor\": \"white\", \"showbackground\": true, \"ticks\": \"\", \"zerolinecolor\": \"white\"}, \"zaxis\": {\"backgroundcolor\": \"#E5ECF6\", \"gridcolor\": \"white\", \"gridwidth\": 2, \"linecolor\": \"white\", \"showbackground\": true, \"ticks\": \"\", \"zerolinecolor\": \"white\"}}, \"shapedefaults\": {\"line\": {\"color\": \"#2a3f5f\"}}, \"ternary\": {\"aaxis\": {\"gridcolor\": \"white\", \"linecolor\": \"white\", \"ticks\": \"\"}, \"baxis\": {\"gridcolor\": \"white\", \"linecolor\": \"white\", \"ticks\": \"\"}, \"bgcolor\": \"#E5ECF6\", \"caxis\": {\"gridcolor\": \"white\", \"linecolor\": \"white\", \"ticks\": \"\"}}, \"title\": {\"x\": 0.05}, \"xaxis\": {\"automargin\": true, \"gridcolor\": \"white\", \"linecolor\": \"white\", \"ticks\": \"\", \"zerolinecolor\": \"white\", \"zerolinewidth\": 2}, \"yaxis\": {\"automargin\": true, \"gridcolor\": \"white\", \"linecolor\": \"white\", \"ticks\": \"\", \"zerolinecolor\": \"white\", \"zerolinewidth\": 2}}}, \"title\": {\"text\": \"Top 10 Books With Highest Average Rating\"}},\n",
       "                        {\"responsive\": true}\n",
       "                    ).then(function(){\n",
       "                            \n",
       "var gd = document.getElementById('cdf0d890-d138-4a12-9d91-53d183813ba2');\n",
       "var x = new MutationObserver(function (mutations, observer) {{\n",
       "        var display = window.getComputedStyle(gd).display;\n",
       "        if (!display || display === 'none') {{\n",
       "            console.log([gd, 'removed!']);\n",
       "            Plotly.purge(gd);\n",
       "            observer.disconnect();\n",
       "        }}\n",
       "}});\n",
       "\n",
       "// Listen for the removal of the full notebook cells\n",
       "var notebookContainer = gd.closest('#notebook-container');\n",
       "if (notebookContainer) {{\n",
       "    x.observe(notebookContainer, {childList: true});\n",
       "}}\n",
       "\n",
       "// Listen for the clearing of the current output cell\n",
       "var outputEl = gd.closest('.output');\n",
       "if (outputEl) {{\n",
       "    x.observe(outputEl, {childList: true});\n",
       "}}\n",
       "\n",
       "                        })\n",
       "                };\n",
       "                });\n",
       "            </script>\n",
       "        </div>"
      ]
     },
     "metadata": {},
     "output_type": "display_data"
    },
    {
     "data": {
      "application/vnd.plotly.v1+json": {
       "config": {
        "linkText": "Export to plot.ly",
        "plotlyServerURL": "https://plot.ly",
        "showLink": false
       },
       "data": [
        {
         "labels": [
          "3.5 and less",
          "4.5-3.5",
          "4.5-5.0"
         ],
         "type": "pie",
         "values": [
          6,
          64,
          6
         ]
        }
       ],
       "layout": {
        "template": {
         "data": {
          "bar": [
           {
            "error_x": {
             "color": "#2a3f5f"
            },
            "error_y": {
             "color": "#2a3f5f"
            },
            "marker": {
             "line": {
              "color": "#E5ECF6",
              "width": 0.5
             }
            },
            "type": "bar"
           }
          ],
          "barpolar": [
           {
            "marker": {
             "line": {
              "color": "#E5ECF6",
              "width": 0.5
             }
            },
            "type": "barpolar"
           }
          ],
          "carpet": [
           {
            "aaxis": {
             "endlinecolor": "#2a3f5f",
             "gridcolor": "white",
             "linecolor": "white",
             "minorgridcolor": "white",
             "startlinecolor": "#2a3f5f"
            },
            "baxis": {
             "endlinecolor": "#2a3f5f",
             "gridcolor": "white",
             "linecolor": "white",
             "minorgridcolor": "white",
             "startlinecolor": "#2a3f5f"
            },
            "type": "carpet"
           }
          ],
          "choropleth": [
           {
            "colorbar": {
             "outlinewidth": 0,
             "ticks": ""
            },
            "type": "choropleth"
           }
          ],
          "contour": [
           {
            "colorbar": {
             "outlinewidth": 0,
             "ticks": ""
            },
            "colorscale": [
             [
              0,
              "#0d0887"
             ],
             [
              0.1111111111111111,
              "#46039f"
             ],
             [
              0.2222222222222222,
              "#7201a8"
             ],
             [
              0.3333333333333333,
              "#9c179e"
             ],
             [
              0.4444444444444444,
              "#bd3786"
             ],
             [
              0.5555555555555556,
              "#d8576b"
             ],
             [
              0.6666666666666666,
              "#ed7953"
             ],
             [
              0.7777777777777778,
              "#fb9f3a"
             ],
             [
              0.8888888888888888,
              "#fdca26"
             ],
             [
              1,
              "#f0f921"
             ]
            ],
            "type": "contour"
           }
          ],
          "contourcarpet": [
           {
            "colorbar": {
             "outlinewidth": 0,
             "ticks": ""
            },
            "type": "contourcarpet"
           }
          ],
          "heatmap": [
           {
            "colorbar": {
             "outlinewidth": 0,
             "ticks": ""
            },
            "colorscale": [
             [
              0,
              "#0d0887"
             ],
             [
              0.1111111111111111,
              "#46039f"
             ],
             [
              0.2222222222222222,
              "#7201a8"
             ],
             [
              0.3333333333333333,
              "#9c179e"
             ],
             [
              0.4444444444444444,
              "#bd3786"
             ],
             [
              0.5555555555555556,
              "#d8576b"
             ],
             [
              0.6666666666666666,
              "#ed7953"
             ],
             [
              0.7777777777777778,
              "#fb9f3a"
             ],
             [
              0.8888888888888888,
              "#fdca26"
             ],
             [
              1,
              "#f0f921"
             ]
            ],
            "type": "heatmap"
           }
          ],
          "heatmapgl": [
           {
            "colorbar": {
             "outlinewidth": 0,
             "ticks": ""
            },
            "colorscale": [
             [
              0,
              "#0d0887"
             ],
             [
              0.1111111111111111,
              "#46039f"
             ],
             [
              0.2222222222222222,
              "#7201a8"
             ],
             [
              0.3333333333333333,
              "#9c179e"
             ],
             [
              0.4444444444444444,
              "#bd3786"
             ],
             [
              0.5555555555555556,
              "#d8576b"
             ],
             [
              0.6666666666666666,
              "#ed7953"
             ],
             [
              0.7777777777777778,
              "#fb9f3a"
             ],
             [
              0.8888888888888888,
              "#fdca26"
             ],
             [
              1,
              "#f0f921"
             ]
            ],
            "type": "heatmapgl"
           }
          ],
          "histogram": [
           {
            "marker": {
             "colorbar": {
              "outlinewidth": 0,
              "ticks": ""
             }
            },
            "type": "histogram"
           }
          ],
          "histogram2d": [
           {
            "colorbar": {
             "outlinewidth": 0,
             "ticks": ""
            },
            "colorscale": [
             [
              0,
              "#0d0887"
             ],
             [
              0.1111111111111111,
              "#46039f"
             ],
             [
              0.2222222222222222,
              "#7201a8"
             ],
             [
              0.3333333333333333,
              "#9c179e"
             ],
             [
              0.4444444444444444,
              "#bd3786"
             ],
             [
              0.5555555555555556,
              "#d8576b"
             ],
             [
              0.6666666666666666,
              "#ed7953"
             ],
             [
              0.7777777777777778,
              "#fb9f3a"
             ],
             [
              0.8888888888888888,
              "#fdca26"
             ],
             [
              1,
              "#f0f921"
             ]
            ],
            "type": "histogram2d"
           }
          ],
          "histogram2dcontour": [
           {
            "colorbar": {
             "outlinewidth": 0,
             "ticks": ""
            },
            "colorscale": [
             [
              0,
              "#0d0887"
             ],
             [
              0.1111111111111111,
              "#46039f"
             ],
             [
              0.2222222222222222,
              "#7201a8"
             ],
             [
              0.3333333333333333,
              "#9c179e"
             ],
             [
              0.4444444444444444,
              "#bd3786"
             ],
             [
              0.5555555555555556,
              "#d8576b"
             ],
             [
              0.6666666666666666,
              "#ed7953"
             ],
             [
              0.7777777777777778,
              "#fb9f3a"
             ],
             [
              0.8888888888888888,
              "#fdca26"
             ],
             [
              1,
              "#f0f921"
             ]
            ],
            "type": "histogram2dcontour"
           }
          ],
          "mesh3d": [
           {
            "colorbar": {
             "outlinewidth": 0,
             "ticks": ""
            },
            "type": "mesh3d"
           }
          ],
          "parcoords": [
           {
            "line": {
             "colorbar": {
              "outlinewidth": 0,
              "ticks": ""
             }
            },
            "type": "parcoords"
           }
          ],
          "scatter": [
           {
            "marker": {
             "colorbar": {
              "outlinewidth": 0,
              "ticks": ""
             }
            },
            "type": "scatter"
           }
          ],
          "scatter3d": [
           {
            "line": {
             "colorbar": {
              "outlinewidth": 0,
              "ticks": ""
             }
            },
            "marker": {
             "colorbar": {
              "outlinewidth": 0,
              "ticks": ""
             }
            },
            "type": "scatter3d"
           }
          ],
          "scattercarpet": [
           {
            "marker": {
             "colorbar": {
              "outlinewidth": 0,
              "ticks": ""
             }
            },
            "type": "scattercarpet"
           }
          ],
          "scattergeo": [
           {
            "marker": {
             "colorbar": {
              "outlinewidth": 0,
              "ticks": ""
             }
            },
            "type": "scattergeo"
           }
          ],
          "scattergl": [
           {
            "marker": {
             "colorbar": {
              "outlinewidth": 0,
              "ticks": ""
             }
            },
            "type": "scattergl"
           }
          ],
          "scattermapbox": [
           {
            "marker": {
             "colorbar": {
              "outlinewidth": 0,
              "ticks": ""
             }
            },
            "type": "scattermapbox"
           }
          ],
          "scatterpolar": [
           {
            "marker": {
             "colorbar": {
              "outlinewidth": 0,
              "ticks": ""
             }
            },
            "type": "scatterpolar"
           }
          ],
          "scatterpolargl": [
           {
            "marker": {
             "colorbar": {
              "outlinewidth": 0,
              "ticks": ""
             }
            },
            "type": "scatterpolargl"
           }
          ],
          "scatterternary": [
           {
            "marker": {
             "colorbar": {
              "outlinewidth": 0,
              "ticks": ""
             }
            },
            "type": "scatterternary"
           }
          ],
          "surface": [
           {
            "colorbar": {
             "outlinewidth": 0,
             "ticks": ""
            },
            "colorscale": [
             [
              0,
              "#0d0887"
             ],
             [
              0.1111111111111111,
              "#46039f"
             ],
             [
              0.2222222222222222,
              "#7201a8"
             ],
             [
              0.3333333333333333,
              "#9c179e"
             ],
             [
              0.4444444444444444,
              "#bd3786"
             ],
             [
              0.5555555555555556,
              "#d8576b"
             ],
             [
              0.6666666666666666,
              "#ed7953"
             ],
             [
              0.7777777777777778,
              "#fb9f3a"
             ],
             [
              0.8888888888888888,
              "#fdca26"
             ],
             [
              1,
              "#f0f921"
             ]
            ],
            "type": "surface"
           }
          ],
          "table": [
           {
            "cells": {
             "fill": {
              "color": "#EBF0F8"
             },
             "line": {
              "color": "white"
             }
            },
            "header": {
             "fill": {
              "color": "#C8D4E3"
             },
             "line": {
              "color": "white"
             }
            },
            "type": "table"
           }
          ]
         },
         "layout": {
          "annotationdefaults": {
           "arrowcolor": "#2a3f5f",
           "arrowhead": 0,
           "arrowwidth": 1
          },
          "colorscale": {
           "diverging": [
            [
             0,
             "#8e0152"
            ],
            [
             0.1,
             "#c51b7d"
            ],
            [
             0.2,
             "#de77ae"
            ],
            [
             0.3,
             "#f1b6da"
            ],
            [
             0.4,
             "#fde0ef"
            ],
            [
             0.5,
             "#f7f7f7"
            ],
            [
             0.6,
             "#e6f5d0"
            ],
            [
             0.7,
             "#b8e186"
            ],
            [
             0.8,
             "#7fbc41"
            ],
            [
             0.9,
             "#4d9221"
            ],
            [
             1,
             "#276419"
            ]
           ],
           "sequential": [
            [
             0,
             "#0d0887"
            ],
            [
             0.1111111111111111,
             "#46039f"
            ],
            [
             0.2222222222222222,
             "#7201a8"
            ],
            [
             0.3333333333333333,
             "#9c179e"
            ],
            [
             0.4444444444444444,
             "#bd3786"
            ],
            [
             0.5555555555555556,
             "#d8576b"
            ],
            [
             0.6666666666666666,
             "#ed7953"
            ],
            [
             0.7777777777777778,
             "#fb9f3a"
            ],
            [
             0.8888888888888888,
             "#fdca26"
            ],
            [
             1,
             "#f0f921"
            ]
           ],
           "sequentialminus": [
            [
             0,
             "#0d0887"
            ],
            [
             0.1111111111111111,
             "#46039f"
            ],
            [
             0.2222222222222222,
             "#7201a8"
            ],
            [
             0.3333333333333333,
             "#9c179e"
            ],
            [
             0.4444444444444444,
             "#bd3786"
            ],
            [
             0.5555555555555556,
             "#d8576b"
            ],
            [
             0.6666666666666666,
             "#ed7953"
            ],
            [
             0.7777777777777778,
             "#fb9f3a"
            ],
            [
             0.8888888888888888,
             "#fdca26"
            ],
            [
             1,
             "#f0f921"
            ]
           ]
          },
          "colorway": [
           "#636efa",
           "#EF553B",
           "#00cc96",
           "#ab63fa",
           "#FFA15A",
           "#19d3f3",
           "#FF6692",
           "#B6E880",
           "#FF97FF",
           "#FECB52"
          ],
          "font": {
           "color": "#2a3f5f"
          },
          "geo": {
           "bgcolor": "white",
           "lakecolor": "white",
           "landcolor": "#E5ECF6",
           "showlakes": true,
           "showland": true,
           "subunitcolor": "white"
          },
          "hoverlabel": {
           "align": "left"
          },
          "hovermode": "closest",
          "mapbox": {
           "style": "light"
          },
          "paper_bgcolor": "white",
          "plot_bgcolor": "#E5ECF6",
          "polar": {
           "angularaxis": {
            "gridcolor": "white",
            "linecolor": "white",
            "ticks": ""
           },
           "bgcolor": "#E5ECF6",
           "radialaxis": {
            "gridcolor": "white",
            "linecolor": "white",
            "ticks": ""
           }
          },
          "scene": {
           "xaxis": {
            "backgroundcolor": "#E5ECF6",
            "gridcolor": "white",
            "gridwidth": 2,
            "linecolor": "white",
            "showbackground": true,
            "ticks": "",
            "zerolinecolor": "white"
           },
           "yaxis": {
            "backgroundcolor": "#E5ECF6",
            "gridcolor": "white",
            "gridwidth": 2,
            "linecolor": "white",
            "showbackground": true,
            "ticks": "",
            "zerolinecolor": "white"
           },
           "zaxis": {
            "backgroundcolor": "#E5ECF6",
            "gridcolor": "white",
            "gridwidth": 2,
            "linecolor": "white",
            "showbackground": true,
            "ticks": "",
            "zerolinecolor": "white"
           }
          },
          "shapedefaults": {
           "line": {
            "color": "#2a3f5f"
           }
          },
          "ternary": {
           "aaxis": {
            "gridcolor": "white",
            "linecolor": "white",
            "ticks": ""
           },
           "baxis": {
            "gridcolor": "white",
            "linecolor": "white",
            "ticks": ""
           },
           "bgcolor": "#E5ECF6",
           "caxis": {
            "gridcolor": "white",
            "linecolor": "white",
            "ticks": ""
           }
          },
          "title": {
           "x": 0.05
          },
          "xaxis": {
           "automargin": true,
           "gridcolor": "white",
           "linecolor": "white",
           "ticks": "",
           "zerolinecolor": "white",
           "zerolinewidth": 2
          },
          "yaxis": {
           "automargin": true,
           "gridcolor": "white",
           "linecolor": "white",
           "ticks": "",
           "zerolinecolor": "white",
           "zerolinewidth": 2
          }
         }
        },
        "title": {
         "text": "Percantage of Books under Each Rating Category"
        }
       }
      },
      "text/html": [
       "<div>\n",
       "        \n",
       "        \n",
       "            <div id=\"5bab166b-7791-401c-b1cf-e68f1aaac699\" class=\"plotly-graph-div\" style=\"height:525px; width:100%;\"></div>\n",
       "            <script type=\"text/javascript\">\n",
       "                require([\"plotly\"], function(Plotly) {\n",
       "                    window.PLOTLYENV=window.PLOTLYENV || {};\n",
       "                    \n",
       "                if (document.getElementById(\"5bab166b-7791-401c-b1cf-e68f1aaac699\")) {\n",
       "                    Plotly.newPlot(\n",
       "                        '5bab166b-7791-401c-b1cf-e68f1aaac699',\n",
       "                        [{\"labels\": [\"3.5 and less\", \"4.5-3.5\", \"4.5-5.0\"], \"type\": \"pie\", \"values\": [6, 64, 6]}],\n",
       "                        {\"template\": {\"data\": {\"bar\": [{\"error_x\": {\"color\": \"#2a3f5f\"}, \"error_y\": {\"color\": \"#2a3f5f\"}, \"marker\": {\"line\": {\"color\": \"#E5ECF6\", \"width\": 0.5}}, \"type\": \"bar\"}], \"barpolar\": [{\"marker\": {\"line\": {\"color\": \"#E5ECF6\", \"width\": 0.5}}, \"type\": \"barpolar\"}], \"carpet\": [{\"aaxis\": {\"endlinecolor\": \"#2a3f5f\", \"gridcolor\": \"white\", \"linecolor\": \"white\", \"minorgridcolor\": \"white\", \"startlinecolor\": \"#2a3f5f\"}, \"baxis\": {\"endlinecolor\": \"#2a3f5f\", \"gridcolor\": \"white\", \"linecolor\": \"white\", \"minorgridcolor\": \"white\", \"startlinecolor\": \"#2a3f5f\"}, \"type\": \"carpet\"}], \"choropleth\": [{\"colorbar\": {\"outlinewidth\": 0, \"ticks\": \"\"}, \"type\": \"choropleth\"}], \"contour\": [{\"colorbar\": {\"outlinewidth\": 0, \"ticks\": \"\"}, \"colorscale\": [[0.0, \"#0d0887\"], [0.1111111111111111, \"#46039f\"], [0.2222222222222222, \"#7201a8\"], [0.3333333333333333, \"#9c179e\"], [0.4444444444444444, \"#bd3786\"], [0.5555555555555556, \"#d8576b\"], [0.6666666666666666, \"#ed7953\"], [0.7777777777777778, \"#fb9f3a\"], [0.8888888888888888, \"#fdca26\"], [1.0, \"#f0f921\"]], \"type\": \"contour\"}], \"contourcarpet\": [{\"colorbar\": {\"outlinewidth\": 0, \"ticks\": \"\"}, \"type\": \"contourcarpet\"}], \"heatmap\": [{\"colorbar\": {\"outlinewidth\": 0, \"ticks\": \"\"}, \"colorscale\": [[0.0, \"#0d0887\"], [0.1111111111111111, \"#46039f\"], [0.2222222222222222, \"#7201a8\"], [0.3333333333333333, \"#9c179e\"], [0.4444444444444444, \"#bd3786\"], [0.5555555555555556, \"#d8576b\"], [0.6666666666666666, \"#ed7953\"], [0.7777777777777778, \"#fb9f3a\"], [0.8888888888888888, \"#fdca26\"], [1.0, \"#f0f921\"]], \"type\": \"heatmap\"}], \"heatmapgl\": [{\"colorbar\": {\"outlinewidth\": 0, \"ticks\": \"\"}, \"colorscale\": [[0.0, \"#0d0887\"], [0.1111111111111111, \"#46039f\"], [0.2222222222222222, \"#7201a8\"], [0.3333333333333333, \"#9c179e\"], [0.4444444444444444, \"#bd3786\"], [0.5555555555555556, \"#d8576b\"], [0.6666666666666666, \"#ed7953\"], [0.7777777777777778, \"#fb9f3a\"], [0.8888888888888888, \"#fdca26\"], [1.0, \"#f0f921\"]], \"type\": \"heatmapgl\"}], \"histogram\": [{\"marker\": {\"colorbar\": {\"outlinewidth\": 0, \"ticks\": \"\"}}, \"type\": \"histogram\"}], \"histogram2d\": [{\"colorbar\": {\"outlinewidth\": 0, \"ticks\": \"\"}, \"colorscale\": [[0.0, \"#0d0887\"], [0.1111111111111111, \"#46039f\"], [0.2222222222222222, \"#7201a8\"], [0.3333333333333333, \"#9c179e\"], [0.4444444444444444, \"#bd3786\"], [0.5555555555555556, \"#d8576b\"], [0.6666666666666666, \"#ed7953\"], [0.7777777777777778, \"#fb9f3a\"], [0.8888888888888888, \"#fdca26\"], [1.0, \"#f0f921\"]], \"type\": \"histogram2d\"}], \"histogram2dcontour\": [{\"colorbar\": {\"outlinewidth\": 0, \"ticks\": \"\"}, \"colorscale\": [[0.0, \"#0d0887\"], [0.1111111111111111, \"#46039f\"], [0.2222222222222222, \"#7201a8\"], [0.3333333333333333, \"#9c179e\"], [0.4444444444444444, \"#bd3786\"], [0.5555555555555556, \"#d8576b\"], [0.6666666666666666, \"#ed7953\"], [0.7777777777777778, \"#fb9f3a\"], [0.8888888888888888, \"#fdca26\"], [1.0, \"#f0f921\"]], \"type\": \"histogram2dcontour\"}], \"mesh3d\": [{\"colorbar\": {\"outlinewidth\": 0, \"ticks\": \"\"}, \"type\": \"mesh3d\"}], \"parcoords\": [{\"line\": {\"colorbar\": {\"outlinewidth\": 0, \"ticks\": \"\"}}, \"type\": \"parcoords\"}], \"scatter\": [{\"marker\": {\"colorbar\": {\"outlinewidth\": 0, \"ticks\": \"\"}}, \"type\": \"scatter\"}], \"scatter3d\": [{\"line\": {\"colorbar\": {\"outlinewidth\": 0, \"ticks\": \"\"}}, \"marker\": {\"colorbar\": {\"outlinewidth\": 0, \"ticks\": \"\"}}, \"type\": \"scatter3d\"}], \"scattercarpet\": [{\"marker\": {\"colorbar\": {\"outlinewidth\": 0, \"ticks\": \"\"}}, \"type\": \"scattercarpet\"}], \"scattergeo\": [{\"marker\": {\"colorbar\": {\"outlinewidth\": 0, \"ticks\": \"\"}}, \"type\": \"scattergeo\"}], \"scattergl\": [{\"marker\": {\"colorbar\": {\"outlinewidth\": 0, \"ticks\": \"\"}}, \"type\": \"scattergl\"}], \"scattermapbox\": [{\"marker\": {\"colorbar\": {\"outlinewidth\": 0, \"ticks\": \"\"}}, \"type\": \"scattermapbox\"}], \"scatterpolar\": [{\"marker\": {\"colorbar\": {\"outlinewidth\": 0, \"ticks\": \"\"}}, \"type\": \"scatterpolar\"}], \"scatterpolargl\": [{\"marker\": {\"colorbar\": {\"outlinewidth\": 0, \"ticks\": \"\"}}, \"type\": \"scatterpolargl\"}], \"scatterternary\": [{\"marker\": {\"colorbar\": {\"outlinewidth\": 0, \"ticks\": \"\"}}, \"type\": \"scatterternary\"}], \"surface\": [{\"colorbar\": {\"outlinewidth\": 0, \"ticks\": \"\"}, \"colorscale\": [[0.0, \"#0d0887\"], [0.1111111111111111, \"#46039f\"], [0.2222222222222222, \"#7201a8\"], [0.3333333333333333, \"#9c179e\"], [0.4444444444444444, \"#bd3786\"], [0.5555555555555556, \"#d8576b\"], [0.6666666666666666, \"#ed7953\"], [0.7777777777777778, \"#fb9f3a\"], [0.8888888888888888, \"#fdca26\"], [1.0, \"#f0f921\"]], \"type\": \"surface\"}], \"table\": [{\"cells\": {\"fill\": {\"color\": \"#EBF0F8\"}, \"line\": {\"color\": \"white\"}}, \"header\": {\"fill\": {\"color\": \"#C8D4E3\"}, \"line\": {\"color\": \"white\"}}, \"type\": \"table\"}]}, \"layout\": {\"annotationdefaults\": {\"arrowcolor\": \"#2a3f5f\", \"arrowhead\": 0, \"arrowwidth\": 1}, \"colorscale\": {\"diverging\": [[0, \"#8e0152\"], [0.1, \"#c51b7d\"], [0.2, \"#de77ae\"], [0.3, \"#f1b6da\"], [0.4, \"#fde0ef\"], [0.5, \"#f7f7f7\"], [0.6, \"#e6f5d0\"], [0.7, \"#b8e186\"], [0.8, \"#7fbc41\"], [0.9, \"#4d9221\"], [1, \"#276419\"]], \"sequential\": [[0.0, \"#0d0887\"], [0.1111111111111111, \"#46039f\"], [0.2222222222222222, \"#7201a8\"], [0.3333333333333333, \"#9c179e\"], [0.4444444444444444, \"#bd3786\"], [0.5555555555555556, \"#d8576b\"], [0.6666666666666666, \"#ed7953\"], [0.7777777777777778, \"#fb9f3a\"], [0.8888888888888888, \"#fdca26\"], [1.0, \"#f0f921\"]], \"sequentialminus\": [[0.0, \"#0d0887\"], [0.1111111111111111, \"#46039f\"], [0.2222222222222222, \"#7201a8\"], [0.3333333333333333, \"#9c179e\"], [0.4444444444444444, \"#bd3786\"], [0.5555555555555556, \"#d8576b\"], [0.6666666666666666, \"#ed7953\"], [0.7777777777777778, \"#fb9f3a\"], [0.8888888888888888, \"#fdca26\"], [1.0, \"#f0f921\"]]}, \"colorway\": [\"#636efa\", \"#EF553B\", \"#00cc96\", \"#ab63fa\", \"#FFA15A\", \"#19d3f3\", \"#FF6692\", \"#B6E880\", \"#FF97FF\", \"#FECB52\"], \"font\": {\"color\": \"#2a3f5f\"}, \"geo\": {\"bgcolor\": \"white\", \"lakecolor\": \"white\", \"landcolor\": \"#E5ECF6\", \"showlakes\": true, \"showland\": true, \"subunitcolor\": \"white\"}, \"hoverlabel\": {\"align\": \"left\"}, \"hovermode\": \"closest\", \"mapbox\": {\"style\": \"light\"}, \"paper_bgcolor\": \"white\", \"plot_bgcolor\": \"#E5ECF6\", \"polar\": {\"angularaxis\": {\"gridcolor\": \"white\", \"linecolor\": \"white\", \"ticks\": \"\"}, \"bgcolor\": \"#E5ECF6\", \"radialaxis\": {\"gridcolor\": \"white\", \"linecolor\": \"white\", \"ticks\": \"\"}}, \"scene\": {\"xaxis\": {\"backgroundcolor\": \"#E5ECF6\", \"gridcolor\": \"white\", \"gridwidth\": 2, \"linecolor\": \"white\", \"showbackground\": true, \"ticks\": \"\", \"zerolinecolor\": \"white\"}, \"yaxis\": {\"backgroundcolor\": \"#E5ECF6\", \"gridcolor\": \"white\", \"gridwidth\": 2, \"linecolor\": \"white\", \"showbackground\": true, \"ticks\": \"\", \"zerolinecolor\": \"white\"}, \"zaxis\": {\"backgroundcolor\": \"#E5ECF6\", \"gridcolor\": \"white\", \"gridwidth\": 2, \"linecolor\": \"white\", \"showbackground\": true, \"ticks\": \"\", \"zerolinecolor\": \"white\"}}, \"shapedefaults\": {\"line\": {\"color\": \"#2a3f5f\"}}, \"ternary\": {\"aaxis\": {\"gridcolor\": \"white\", \"linecolor\": \"white\", \"ticks\": \"\"}, \"baxis\": {\"gridcolor\": \"white\", \"linecolor\": \"white\", \"ticks\": \"\"}, \"bgcolor\": \"#E5ECF6\", \"caxis\": {\"gridcolor\": \"white\", \"linecolor\": \"white\", \"ticks\": \"\"}}, \"title\": {\"x\": 0.05}, \"xaxis\": {\"automargin\": true, \"gridcolor\": \"white\", \"linecolor\": \"white\", \"ticks\": \"\", \"zerolinecolor\": \"white\", \"zerolinewidth\": 2}, \"yaxis\": {\"automargin\": true, \"gridcolor\": \"white\", \"linecolor\": \"white\", \"ticks\": \"\", \"zerolinecolor\": \"white\", \"zerolinewidth\": 2}}}, \"title\": {\"text\": \"Percantage of Books under Each Rating Category\"}},\n",
       "                        {\"responsive\": true}\n",
       "                    ).then(function(){\n",
       "                            \n",
       "var gd = document.getElementById('5bab166b-7791-401c-b1cf-e68f1aaac699');\n",
       "var x = new MutationObserver(function (mutations, observer) {{\n",
       "        var display = window.getComputedStyle(gd).display;\n",
       "        if (!display || display === 'none') {{\n",
       "            console.log([gd, 'removed!']);\n",
       "            Plotly.purge(gd);\n",
       "            observer.disconnect();\n",
       "        }}\n",
       "}});\n",
       "\n",
       "// Listen for the removal of the full notebook cells\n",
       "var notebookContainer = gd.closest('#notebook-container');\n",
       "if (notebookContainer) {{\n",
       "    x.observe(notebookContainer, {childList: true});\n",
       "}}\n",
       "\n",
       "// Listen for the clearing of the current output cell\n",
       "var outputEl = gd.closest('.output');\n",
       "if (outputEl) {{\n",
       "    x.observe(outputEl, {childList: true});\n",
       "}}\n",
       "\n",
       "                        })\n",
       "                };\n",
       "                });\n",
       "            </script>\n",
       "        </div>"
      ]
     },
     "metadata": {},
     "output_type": "display_data"
    },
    {
     "data": {
      "application/vnd.plotly.v1+json": {
       "config": {
        "linkText": "Export to plot.ly",
        "plotlyServerURL": "https://plot.ly",
        "showLink": false
       },
       "data": [
        {
         "name": "Page count",
         "text": [
          3.86,
          3.9,
          4.25,
          3.57,
          3.55,
          4.45,
          4.66,
          3.82,
          3.18,
          4.13,
          4.28,
          3.89,
          5,
          4.39,
          3.65,
          4.18,
          3.33,
          3.64
         ],
         "type": "bar",
         "x": [
          "The Deep",
          "The Revisioners",
          "All-American Muslim Girl",
          "The Worst Kind of Want",
          "The Captain and the Glory: An Entertainment",
          "In the Cradle Lies",
          "Dead Wrong",
          "Invisible Kingdom, Vol. 1",
          "Bonjour Shanghai",
          "Catfishing on CatNet",
          "Crying Laughing",
          "The Menace from Farside",
          "The Ankh-Morpork Archives: Volume One",
          "Shine of the Ever",
          "Cutting Edge: New Stories of Mystery and Crime by Women Writers",
          "Pastorale",
          "What Burns",
          "Seven Samurai Swept Away in a River"
         ],
         "y": [
          176,
          288,
          256,
          224,
          128,
          256,
          256,
          136,
          280,
          288,
          288,
          160,
          240,
          188,
          234,
          300,
          216,
          112
         ]
        }
       ],
       "layout": {
        "template": {
         "data": {
          "bar": [
           {
            "error_x": {
             "color": "#2a3f5f"
            },
            "error_y": {
             "color": "#2a3f5f"
            },
            "marker": {
             "line": {
              "color": "#E5ECF6",
              "width": 0.5
             }
            },
            "type": "bar"
           }
          ],
          "barpolar": [
           {
            "marker": {
             "line": {
              "color": "#E5ECF6",
              "width": 0.5
             }
            },
            "type": "barpolar"
           }
          ],
          "carpet": [
           {
            "aaxis": {
             "endlinecolor": "#2a3f5f",
             "gridcolor": "white",
             "linecolor": "white",
             "minorgridcolor": "white",
             "startlinecolor": "#2a3f5f"
            },
            "baxis": {
             "endlinecolor": "#2a3f5f",
             "gridcolor": "white",
             "linecolor": "white",
             "minorgridcolor": "white",
             "startlinecolor": "#2a3f5f"
            },
            "type": "carpet"
           }
          ],
          "choropleth": [
           {
            "colorbar": {
             "outlinewidth": 0,
             "ticks": ""
            },
            "type": "choropleth"
           }
          ],
          "contour": [
           {
            "colorbar": {
             "outlinewidth": 0,
             "ticks": ""
            },
            "colorscale": [
             [
              0,
              "#0d0887"
             ],
             [
              0.1111111111111111,
              "#46039f"
             ],
             [
              0.2222222222222222,
              "#7201a8"
             ],
             [
              0.3333333333333333,
              "#9c179e"
             ],
             [
              0.4444444444444444,
              "#bd3786"
             ],
             [
              0.5555555555555556,
              "#d8576b"
             ],
             [
              0.6666666666666666,
              "#ed7953"
             ],
             [
              0.7777777777777778,
              "#fb9f3a"
             ],
             [
              0.8888888888888888,
              "#fdca26"
             ],
             [
              1,
              "#f0f921"
             ]
            ],
            "type": "contour"
           }
          ],
          "contourcarpet": [
           {
            "colorbar": {
             "outlinewidth": 0,
             "ticks": ""
            },
            "type": "contourcarpet"
           }
          ],
          "heatmap": [
           {
            "colorbar": {
             "outlinewidth": 0,
             "ticks": ""
            },
            "colorscale": [
             [
              0,
              "#0d0887"
             ],
             [
              0.1111111111111111,
              "#46039f"
             ],
             [
              0.2222222222222222,
              "#7201a8"
             ],
             [
              0.3333333333333333,
              "#9c179e"
             ],
             [
              0.4444444444444444,
              "#bd3786"
             ],
             [
              0.5555555555555556,
              "#d8576b"
             ],
             [
              0.6666666666666666,
              "#ed7953"
             ],
             [
              0.7777777777777778,
              "#fb9f3a"
             ],
             [
              0.8888888888888888,
              "#fdca26"
             ],
             [
              1,
              "#f0f921"
             ]
            ],
            "type": "heatmap"
           }
          ],
          "heatmapgl": [
           {
            "colorbar": {
             "outlinewidth": 0,
             "ticks": ""
            },
            "colorscale": [
             [
              0,
              "#0d0887"
             ],
             [
              0.1111111111111111,
              "#46039f"
             ],
             [
              0.2222222222222222,
              "#7201a8"
             ],
             [
              0.3333333333333333,
              "#9c179e"
             ],
             [
              0.4444444444444444,
              "#bd3786"
             ],
             [
              0.5555555555555556,
              "#d8576b"
             ],
             [
              0.6666666666666666,
              "#ed7953"
             ],
             [
              0.7777777777777778,
              "#fb9f3a"
             ],
             [
              0.8888888888888888,
              "#fdca26"
             ],
             [
              1,
              "#f0f921"
             ]
            ],
            "type": "heatmapgl"
           }
          ],
          "histogram": [
           {
            "marker": {
             "colorbar": {
              "outlinewidth": 0,
              "ticks": ""
             }
            },
            "type": "histogram"
           }
          ],
          "histogram2d": [
           {
            "colorbar": {
             "outlinewidth": 0,
             "ticks": ""
            },
            "colorscale": [
             [
              0,
              "#0d0887"
             ],
             [
              0.1111111111111111,
              "#46039f"
             ],
             [
              0.2222222222222222,
              "#7201a8"
             ],
             [
              0.3333333333333333,
              "#9c179e"
             ],
             [
              0.4444444444444444,
              "#bd3786"
             ],
             [
              0.5555555555555556,
              "#d8576b"
             ],
             [
              0.6666666666666666,
              "#ed7953"
             ],
             [
              0.7777777777777778,
              "#fb9f3a"
             ],
             [
              0.8888888888888888,
              "#fdca26"
             ],
             [
              1,
              "#f0f921"
             ]
            ],
            "type": "histogram2d"
           }
          ],
          "histogram2dcontour": [
           {
            "colorbar": {
             "outlinewidth": 0,
             "ticks": ""
            },
            "colorscale": [
             [
              0,
              "#0d0887"
             ],
             [
              0.1111111111111111,
              "#46039f"
             ],
             [
              0.2222222222222222,
              "#7201a8"
             ],
             [
              0.3333333333333333,
              "#9c179e"
             ],
             [
              0.4444444444444444,
              "#bd3786"
             ],
             [
              0.5555555555555556,
              "#d8576b"
             ],
             [
              0.6666666666666666,
              "#ed7953"
             ],
             [
              0.7777777777777778,
              "#fb9f3a"
             ],
             [
              0.8888888888888888,
              "#fdca26"
             ],
             [
              1,
              "#f0f921"
             ]
            ],
            "type": "histogram2dcontour"
           }
          ],
          "mesh3d": [
           {
            "colorbar": {
             "outlinewidth": 0,
             "ticks": ""
            },
            "type": "mesh3d"
           }
          ],
          "parcoords": [
           {
            "line": {
             "colorbar": {
              "outlinewidth": 0,
              "ticks": ""
             }
            },
            "type": "parcoords"
           }
          ],
          "scatter": [
           {
            "marker": {
             "colorbar": {
              "outlinewidth": 0,
              "ticks": ""
             }
            },
            "type": "scatter"
           }
          ],
          "scatter3d": [
           {
            "line": {
             "colorbar": {
              "outlinewidth": 0,
              "ticks": ""
             }
            },
            "marker": {
             "colorbar": {
              "outlinewidth": 0,
              "ticks": ""
             }
            },
            "type": "scatter3d"
           }
          ],
          "scattercarpet": [
           {
            "marker": {
             "colorbar": {
              "outlinewidth": 0,
              "ticks": ""
             }
            },
            "type": "scattercarpet"
           }
          ],
          "scattergeo": [
           {
            "marker": {
             "colorbar": {
              "outlinewidth": 0,
              "ticks": ""
             }
            },
            "type": "scattergeo"
           }
          ],
          "scattergl": [
           {
            "marker": {
             "colorbar": {
              "outlinewidth": 0,
              "ticks": ""
             }
            },
            "type": "scattergl"
           }
          ],
          "scattermapbox": [
           {
            "marker": {
             "colorbar": {
              "outlinewidth": 0,
              "ticks": ""
             }
            },
            "type": "scattermapbox"
           }
          ],
          "scatterpolar": [
           {
            "marker": {
             "colorbar": {
              "outlinewidth": 0,
              "ticks": ""
             }
            },
            "type": "scatterpolar"
           }
          ],
          "scatterpolargl": [
           {
            "marker": {
             "colorbar": {
              "outlinewidth": 0,
              "ticks": ""
             }
            },
            "type": "scatterpolargl"
           }
          ],
          "scatterternary": [
           {
            "marker": {
             "colorbar": {
              "outlinewidth": 0,
              "ticks": ""
             }
            },
            "type": "scatterternary"
           }
          ],
          "surface": [
           {
            "colorbar": {
             "outlinewidth": 0,
             "ticks": ""
            },
            "colorscale": [
             [
              0,
              "#0d0887"
             ],
             [
              0.1111111111111111,
              "#46039f"
             ],
             [
              0.2222222222222222,
              "#7201a8"
             ],
             [
              0.3333333333333333,
              "#9c179e"
             ],
             [
              0.4444444444444444,
              "#bd3786"
             ],
             [
              0.5555555555555556,
              "#d8576b"
             ],
             [
              0.6666666666666666,
              "#ed7953"
             ],
             [
              0.7777777777777778,
              "#fb9f3a"
             ],
             [
              0.8888888888888888,
              "#fdca26"
             ],
             [
              1,
              "#f0f921"
             ]
            ],
            "type": "surface"
           }
          ],
          "table": [
           {
            "cells": {
             "fill": {
              "color": "#EBF0F8"
             },
             "line": {
              "color": "white"
             }
            },
            "header": {
             "fill": {
              "color": "#C8D4E3"
             },
             "line": {
              "color": "white"
             }
            },
            "type": "table"
           }
          ]
         },
         "layout": {
          "annotationdefaults": {
           "arrowcolor": "#2a3f5f",
           "arrowhead": 0,
           "arrowwidth": 1
          },
          "colorscale": {
           "diverging": [
            [
             0,
             "#8e0152"
            ],
            [
             0.1,
             "#c51b7d"
            ],
            [
             0.2,
             "#de77ae"
            ],
            [
             0.3,
             "#f1b6da"
            ],
            [
             0.4,
             "#fde0ef"
            ],
            [
             0.5,
             "#f7f7f7"
            ],
            [
             0.6,
             "#e6f5d0"
            ],
            [
             0.7,
             "#b8e186"
            ],
            [
             0.8,
             "#7fbc41"
            ],
            [
             0.9,
             "#4d9221"
            ],
            [
             1,
             "#276419"
            ]
           ],
           "sequential": [
            [
             0,
             "#0d0887"
            ],
            [
             0.1111111111111111,
             "#46039f"
            ],
            [
             0.2222222222222222,
             "#7201a8"
            ],
            [
             0.3333333333333333,
             "#9c179e"
            ],
            [
             0.4444444444444444,
             "#bd3786"
            ],
            [
             0.5555555555555556,
             "#d8576b"
            ],
            [
             0.6666666666666666,
             "#ed7953"
            ],
            [
             0.7777777777777778,
             "#fb9f3a"
            ],
            [
             0.8888888888888888,
             "#fdca26"
            ],
            [
             1,
             "#f0f921"
            ]
           ],
           "sequentialminus": [
            [
             0,
             "#0d0887"
            ],
            [
             0.1111111111111111,
             "#46039f"
            ],
            [
             0.2222222222222222,
             "#7201a8"
            ],
            [
             0.3333333333333333,
             "#9c179e"
            ],
            [
             0.4444444444444444,
             "#bd3786"
            ],
            [
             0.5555555555555556,
             "#d8576b"
            ],
            [
             0.6666666666666666,
             "#ed7953"
            ],
            [
             0.7777777777777778,
             "#fb9f3a"
            ],
            [
             0.8888888888888888,
             "#fdca26"
            ],
            [
             1,
             "#f0f921"
            ]
           ]
          },
          "colorway": [
           "#636efa",
           "#EF553B",
           "#00cc96",
           "#ab63fa",
           "#FFA15A",
           "#19d3f3",
           "#FF6692",
           "#B6E880",
           "#FF97FF",
           "#FECB52"
          ],
          "font": {
           "color": "#2a3f5f"
          },
          "geo": {
           "bgcolor": "white",
           "lakecolor": "white",
           "landcolor": "#E5ECF6",
           "showlakes": true,
           "showland": true,
           "subunitcolor": "white"
          },
          "hoverlabel": {
           "align": "left"
          },
          "hovermode": "closest",
          "mapbox": {
           "style": "light"
          },
          "paper_bgcolor": "white",
          "plot_bgcolor": "#E5ECF6",
          "polar": {
           "angularaxis": {
            "gridcolor": "white",
            "linecolor": "white",
            "ticks": ""
           },
           "bgcolor": "#E5ECF6",
           "radialaxis": {
            "gridcolor": "white",
            "linecolor": "white",
            "ticks": ""
           }
          },
          "scene": {
           "xaxis": {
            "backgroundcolor": "#E5ECF6",
            "gridcolor": "white",
            "gridwidth": 2,
            "linecolor": "white",
            "showbackground": true,
            "ticks": "",
            "zerolinecolor": "white"
           },
           "yaxis": {
            "backgroundcolor": "#E5ECF6",
            "gridcolor": "white",
            "gridwidth": 2,
            "linecolor": "white",
            "showbackground": true,
            "ticks": "",
            "zerolinecolor": "white"
           },
           "zaxis": {
            "backgroundcolor": "#E5ECF6",
            "gridcolor": "white",
            "gridwidth": 2,
            "linecolor": "white",
            "showbackground": true,
            "ticks": "",
            "zerolinecolor": "white"
           }
          },
          "shapedefaults": {
           "line": {
            "color": "#2a3f5f"
           }
          },
          "ternary": {
           "aaxis": {
            "gridcolor": "white",
            "linecolor": "white",
            "ticks": ""
           },
           "baxis": {
            "gridcolor": "white",
            "linecolor": "white",
            "ticks": ""
           },
           "bgcolor": "#E5ECF6",
           "caxis": {
            "gridcolor": "white",
            "linecolor": "white",
            "ticks": ""
           }
          },
          "title": {
           "x": 0.05
          },
          "xaxis": {
           "automargin": true,
           "gridcolor": "white",
           "linecolor": "white",
           "ticks": "",
           "zerolinecolor": "white",
           "zerolinewidth": 2
          },
          "yaxis": {
           "automargin": true,
           "gridcolor": "white",
           "linecolor": "white",
           "ticks": "",
           "zerolinecolor": "white",
           "zerolinewidth": 2
          }
         }
        },
        "title": {
         "text": "Quick Read Books with less than 300 Pages"
        }
       }
      },
      "text/html": [
       "<div>\n",
       "        \n",
       "        \n",
       "            <div id=\"cbf07cef-af2e-4b75-9e5a-a2290f445899\" class=\"plotly-graph-div\" style=\"height:525px; width:100%;\"></div>\n",
       "            <script type=\"text/javascript\">\n",
       "                require([\"plotly\"], function(Plotly) {\n",
       "                    window.PLOTLYENV=window.PLOTLYENV || {};\n",
       "                    \n",
       "                if (document.getElementById(\"cbf07cef-af2e-4b75-9e5a-a2290f445899\")) {\n",
       "                    Plotly.newPlot(\n",
       "                        'cbf07cef-af2e-4b75-9e5a-a2290f445899',\n",
       "                        [{\"name\": \"Page count\", \"text\": [3.86, 3.9, 4.25, 3.57, 3.55, 4.45, 4.66, 3.82, 3.18, 4.13, 4.28, 3.89, 5.0, 4.39, 3.65, 4.18, 3.33, 3.64], \"type\": \"bar\", \"x\": [\"The Deep\", \"The Revisioners\", \"All-American Muslim Girl\", \"The Worst Kind of Want\", \"The Captain and the Glory: An Entertainment\", \"In the Cradle Lies\", \"Dead Wrong\", \"Invisible Kingdom, Vol. 1\", \"Bonjour Shanghai\", \"Catfishing on CatNet\", \"Crying Laughing\", \"The Menace from Farside\", \"The Ankh-Morpork Archives: Volume One\", \"Shine of the Ever\", \"Cutting Edge: New Stories of Mystery and Crime by Women Writers\", \"Pastorale\", \"What Burns\", \"Seven Samurai Swept Away in a River\"], \"y\": [176, 288, 256, 224, 128, 256, 256, 136, 280, 288, 288, 160, 240, 188, 234, 300, 216, 112]}],\n",
       "                        {\"template\": {\"data\": {\"bar\": [{\"error_x\": {\"color\": \"#2a3f5f\"}, \"error_y\": {\"color\": \"#2a3f5f\"}, \"marker\": {\"line\": {\"color\": \"#E5ECF6\", \"width\": 0.5}}, \"type\": \"bar\"}], \"barpolar\": [{\"marker\": {\"line\": {\"color\": \"#E5ECF6\", \"width\": 0.5}}, \"type\": \"barpolar\"}], \"carpet\": [{\"aaxis\": {\"endlinecolor\": \"#2a3f5f\", \"gridcolor\": \"white\", \"linecolor\": \"white\", \"minorgridcolor\": \"white\", \"startlinecolor\": \"#2a3f5f\"}, \"baxis\": {\"endlinecolor\": \"#2a3f5f\", \"gridcolor\": \"white\", \"linecolor\": \"white\", \"minorgridcolor\": \"white\", \"startlinecolor\": \"#2a3f5f\"}, \"type\": \"carpet\"}], \"choropleth\": [{\"colorbar\": {\"outlinewidth\": 0, \"ticks\": \"\"}, \"type\": \"choropleth\"}], \"contour\": [{\"colorbar\": {\"outlinewidth\": 0, \"ticks\": \"\"}, \"colorscale\": [[0.0, \"#0d0887\"], [0.1111111111111111, \"#46039f\"], [0.2222222222222222, \"#7201a8\"], [0.3333333333333333, \"#9c179e\"], [0.4444444444444444, \"#bd3786\"], [0.5555555555555556, \"#d8576b\"], [0.6666666666666666, \"#ed7953\"], [0.7777777777777778, \"#fb9f3a\"], [0.8888888888888888, \"#fdca26\"], [1.0, \"#f0f921\"]], \"type\": \"contour\"}], \"contourcarpet\": [{\"colorbar\": {\"outlinewidth\": 0, \"ticks\": \"\"}, \"type\": \"contourcarpet\"}], \"heatmap\": [{\"colorbar\": {\"outlinewidth\": 0, \"ticks\": \"\"}, \"colorscale\": [[0.0, \"#0d0887\"], [0.1111111111111111, \"#46039f\"], [0.2222222222222222, \"#7201a8\"], [0.3333333333333333, \"#9c179e\"], [0.4444444444444444, \"#bd3786\"], [0.5555555555555556, \"#d8576b\"], [0.6666666666666666, \"#ed7953\"], [0.7777777777777778, \"#fb9f3a\"], [0.8888888888888888, \"#fdca26\"], [1.0, \"#f0f921\"]], \"type\": \"heatmap\"}], \"heatmapgl\": [{\"colorbar\": {\"outlinewidth\": 0, \"ticks\": \"\"}, \"colorscale\": [[0.0, \"#0d0887\"], [0.1111111111111111, \"#46039f\"], [0.2222222222222222, \"#7201a8\"], [0.3333333333333333, \"#9c179e\"], [0.4444444444444444, \"#bd3786\"], [0.5555555555555556, \"#d8576b\"], [0.6666666666666666, \"#ed7953\"], [0.7777777777777778, \"#fb9f3a\"], [0.8888888888888888, \"#fdca26\"], [1.0, \"#f0f921\"]], \"type\": \"heatmapgl\"}], \"histogram\": [{\"marker\": {\"colorbar\": {\"outlinewidth\": 0, \"ticks\": \"\"}}, \"type\": \"histogram\"}], \"histogram2d\": [{\"colorbar\": {\"outlinewidth\": 0, \"ticks\": \"\"}, \"colorscale\": [[0.0, \"#0d0887\"], [0.1111111111111111, \"#46039f\"], [0.2222222222222222, \"#7201a8\"], [0.3333333333333333, \"#9c179e\"], [0.4444444444444444, \"#bd3786\"], [0.5555555555555556, \"#d8576b\"], [0.6666666666666666, \"#ed7953\"], [0.7777777777777778, \"#fb9f3a\"], [0.8888888888888888, \"#fdca26\"], [1.0, \"#f0f921\"]], \"type\": \"histogram2d\"}], \"histogram2dcontour\": [{\"colorbar\": {\"outlinewidth\": 0, \"ticks\": \"\"}, \"colorscale\": [[0.0, \"#0d0887\"], [0.1111111111111111, \"#46039f\"], [0.2222222222222222, \"#7201a8\"], [0.3333333333333333, \"#9c179e\"], [0.4444444444444444, \"#bd3786\"], [0.5555555555555556, \"#d8576b\"], [0.6666666666666666, \"#ed7953\"], [0.7777777777777778, \"#fb9f3a\"], [0.8888888888888888, \"#fdca26\"], [1.0, \"#f0f921\"]], \"type\": \"histogram2dcontour\"}], \"mesh3d\": [{\"colorbar\": {\"outlinewidth\": 0, \"ticks\": \"\"}, \"type\": \"mesh3d\"}], \"parcoords\": [{\"line\": {\"colorbar\": {\"outlinewidth\": 0, \"ticks\": \"\"}}, \"type\": \"parcoords\"}], \"scatter\": [{\"marker\": {\"colorbar\": {\"outlinewidth\": 0, \"ticks\": \"\"}}, \"type\": \"scatter\"}], \"scatter3d\": [{\"line\": {\"colorbar\": {\"outlinewidth\": 0, \"ticks\": \"\"}}, \"marker\": {\"colorbar\": {\"outlinewidth\": 0, \"ticks\": \"\"}}, \"type\": \"scatter3d\"}], \"scattercarpet\": [{\"marker\": {\"colorbar\": {\"outlinewidth\": 0, \"ticks\": \"\"}}, \"type\": \"scattercarpet\"}], \"scattergeo\": [{\"marker\": {\"colorbar\": {\"outlinewidth\": 0, \"ticks\": \"\"}}, \"type\": \"scattergeo\"}], \"scattergl\": [{\"marker\": {\"colorbar\": {\"outlinewidth\": 0, \"ticks\": \"\"}}, \"type\": \"scattergl\"}], \"scattermapbox\": [{\"marker\": {\"colorbar\": {\"outlinewidth\": 0, \"ticks\": \"\"}}, \"type\": \"scattermapbox\"}], \"scatterpolar\": [{\"marker\": {\"colorbar\": {\"outlinewidth\": 0, \"ticks\": \"\"}}, \"type\": \"scatterpolar\"}], \"scatterpolargl\": [{\"marker\": {\"colorbar\": {\"outlinewidth\": 0, \"ticks\": \"\"}}, \"type\": \"scatterpolargl\"}], \"scatterternary\": [{\"marker\": {\"colorbar\": {\"outlinewidth\": 0, \"ticks\": \"\"}}, \"type\": \"scatterternary\"}], \"surface\": [{\"colorbar\": {\"outlinewidth\": 0, \"ticks\": \"\"}, \"colorscale\": [[0.0, \"#0d0887\"], [0.1111111111111111, \"#46039f\"], [0.2222222222222222, \"#7201a8\"], [0.3333333333333333, \"#9c179e\"], [0.4444444444444444, \"#bd3786\"], [0.5555555555555556, \"#d8576b\"], [0.6666666666666666, \"#ed7953\"], [0.7777777777777778, \"#fb9f3a\"], [0.8888888888888888, \"#fdca26\"], [1.0, \"#f0f921\"]], \"type\": \"surface\"}], \"table\": [{\"cells\": {\"fill\": {\"color\": \"#EBF0F8\"}, \"line\": {\"color\": \"white\"}}, \"header\": {\"fill\": {\"color\": \"#C8D4E3\"}, \"line\": {\"color\": \"white\"}}, \"type\": \"table\"}]}, \"layout\": {\"annotationdefaults\": {\"arrowcolor\": \"#2a3f5f\", \"arrowhead\": 0, \"arrowwidth\": 1}, \"colorscale\": {\"diverging\": [[0, \"#8e0152\"], [0.1, \"#c51b7d\"], [0.2, \"#de77ae\"], [0.3, \"#f1b6da\"], [0.4, \"#fde0ef\"], [0.5, \"#f7f7f7\"], [0.6, \"#e6f5d0\"], [0.7, \"#b8e186\"], [0.8, \"#7fbc41\"], [0.9, \"#4d9221\"], [1, \"#276419\"]], \"sequential\": [[0.0, \"#0d0887\"], [0.1111111111111111, \"#46039f\"], [0.2222222222222222, \"#7201a8\"], [0.3333333333333333, \"#9c179e\"], [0.4444444444444444, \"#bd3786\"], [0.5555555555555556, \"#d8576b\"], [0.6666666666666666, \"#ed7953\"], [0.7777777777777778, \"#fb9f3a\"], [0.8888888888888888, \"#fdca26\"], [1.0, \"#f0f921\"]], \"sequentialminus\": [[0.0, \"#0d0887\"], [0.1111111111111111, \"#46039f\"], [0.2222222222222222, \"#7201a8\"], [0.3333333333333333, \"#9c179e\"], [0.4444444444444444, \"#bd3786\"], [0.5555555555555556, \"#d8576b\"], [0.6666666666666666, \"#ed7953\"], [0.7777777777777778, \"#fb9f3a\"], [0.8888888888888888, \"#fdca26\"], [1.0, \"#f0f921\"]]}, \"colorway\": [\"#636efa\", \"#EF553B\", \"#00cc96\", \"#ab63fa\", \"#FFA15A\", \"#19d3f3\", \"#FF6692\", \"#B6E880\", \"#FF97FF\", \"#FECB52\"], \"font\": {\"color\": \"#2a3f5f\"}, \"geo\": {\"bgcolor\": \"white\", \"lakecolor\": \"white\", \"landcolor\": \"#E5ECF6\", \"showlakes\": true, \"showland\": true, \"subunitcolor\": \"white\"}, \"hoverlabel\": {\"align\": \"left\"}, \"hovermode\": \"closest\", \"mapbox\": {\"style\": \"light\"}, \"paper_bgcolor\": \"white\", \"plot_bgcolor\": \"#E5ECF6\", \"polar\": {\"angularaxis\": {\"gridcolor\": \"white\", \"linecolor\": \"white\", \"ticks\": \"\"}, \"bgcolor\": \"#E5ECF6\", \"radialaxis\": {\"gridcolor\": \"white\", \"linecolor\": \"white\", \"ticks\": \"\"}}, \"scene\": {\"xaxis\": {\"backgroundcolor\": \"#E5ECF6\", \"gridcolor\": \"white\", \"gridwidth\": 2, \"linecolor\": \"white\", \"showbackground\": true, \"ticks\": \"\", \"zerolinecolor\": \"white\"}, \"yaxis\": {\"backgroundcolor\": \"#E5ECF6\", \"gridcolor\": \"white\", \"gridwidth\": 2, \"linecolor\": \"white\", \"showbackground\": true, \"ticks\": \"\", \"zerolinecolor\": \"white\"}, \"zaxis\": {\"backgroundcolor\": \"#E5ECF6\", \"gridcolor\": \"white\", \"gridwidth\": 2, \"linecolor\": \"white\", \"showbackground\": true, \"ticks\": \"\", \"zerolinecolor\": \"white\"}}, \"shapedefaults\": {\"line\": {\"color\": \"#2a3f5f\"}}, \"ternary\": {\"aaxis\": {\"gridcolor\": \"white\", \"linecolor\": \"white\", \"ticks\": \"\"}, \"baxis\": {\"gridcolor\": \"white\", \"linecolor\": \"white\", \"ticks\": \"\"}, \"bgcolor\": \"#E5ECF6\", \"caxis\": {\"gridcolor\": \"white\", \"linecolor\": \"white\", \"ticks\": \"\"}}, \"title\": {\"x\": 0.05}, \"xaxis\": {\"automargin\": true, \"gridcolor\": \"white\", \"linecolor\": \"white\", \"ticks\": \"\", \"zerolinecolor\": \"white\", \"zerolinewidth\": 2}, \"yaxis\": {\"automargin\": true, \"gridcolor\": \"white\", \"linecolor\": \"white\", \"ticks\": \"\", \"zerolinecolor\": \"white\", \"zerolinewidth\": 2}}}, \"title\": {\"text\": \"Quick Read Books with less than 300 Pages\"}},\n",
       "                        {\"responsive\": true}\n",
       "                    ).then(function(){\n",
       "                            \n",
       "var gd = document.getElementById('cbf07cef-af2e-4b75-9e5a-a2290f445899');\n",
       "var x = new MutationObserver(function (mutations, observer) {{\n",
       "        var display = window.getComputedStyle(gd).display;\n",
       "        if (!display || display === 'none') {{\n",
       "            console.log([gd, 'removed!']);\n",
       "            Plotly.purge(gd);\n",
       "            observer.disconnect();\n",
       "        }}\n",
       "}});\n",
       "\n",
       "// Listen for the removal of the full notebook cells\n",
       "var notebookContainer = gd.closest('#notebook-container');\n",
       "if (notebookContainer) {{\n",
       "    x.observe(notebookContainer, {childList: true});\n",
       "}}\n",
       "\n",
       "// Listen for the clearing of the current output cell\n",
       "var outputEl = gd.closest('.output');\n",
       "if (outputEl) {{\n",
       "    x.observe(outputEl, {childList: true});\n",
       "}}\n",
       "\n",
       "                        })\n",
       "                };\n",
       "                });\n",
       "            </script>\n",
       "        </div>"
      ]
     },
     "metadata": {},
     "output_type": "display_data"
    },
    {
     "name": "stdout",
     "output_type": "stream",
     "text": [
      "-----Data analyse completed-----\n",
      "Enter the No of Links to be send in mail: 2\n",
      "sending email......\n",
      "email send\n"
     ]
    }
   ],
   "source": [
    "main()"
   ]
  },
  {
   "cell_type": "code",
   "execution_count": null,
   "metadata": {},
   "outputs": [],
   "source": []
  },
  {
   "cell_type": "code",
   "execution_count": null,
   "metadata": {},
   "outputs": [],
   "source": []
  },
  {
   "cell_type": "code",
   "execution_count": null,
   "metadata": {},
   "outputs": [],
   "source": []
  },
  {
   "cell_type": "code",
   "execution_count": null,
   "metadata": {},
   "outputs": [],
   "source": []
  },
  {
   "cell_type": "code",
   "execution_count": null,
   "metadata": {},
   "outputs": [],
   "source": []
  },
  {
   "cell_type": "code",
   "execution_count": null,
   "metadata": {},
   "outputs": [],
   "source": []
  },
  {
   "cell_type": "code",
   "execution_count": null,
   "metadata": {
    "scrolled": true
   },
   "outputs": [],
   "source": []
  },
  {
   "cell_type": "code",
   "execution_count": null,
   "metadata": {},
   "outputs": [],
   "source": []
  },
  {
   "cell_type": "code",
   "execution_count": null,
   "metadata": {},
   "outputs": [],
   "source": []
  }
 ],
 "metadata": {
  "kernelspec": {
   "display_name": "Python 3",
   "language": "python",
   "name": "python3"
  },
  "language_info": {
   "codemirror_mode": {
    "name": "ipython",
    "version": 3
   },
   "file_extension": ".py",
   "mimetype": "text/x-python",
   "name": "python",
   "nbconvert_exporter": "python",
   "pygments_lexer": "ipython3",
   "version": "3.7.4"
  }
 },
 "nbformat": 4,
 "nbformat_minor": 2
}
