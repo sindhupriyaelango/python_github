{
 "cells": [
  {
   "cell_type": "markdown",
   "metadata": {},
   "source": [
    "## Popular Fiction In The New Release"
   ]
  },
  {
   "cell_type": "markdown",
   "metadata": {},
   "source": [
    "Objective:\n",
    "   \n",
    "   Find the top fictional books for each month from the newly released section, based on the average rating given by readers. At the end of each month, i want to read newly released fictional book which has highest avg rating. I want to automate the process of searching the books with highest avg rating in goodreads and then get the links to order them from bookdepository in my mail.\n",
    "\n",
    "Websites uesd: www.goodreads.com, www.bookdepository.com\n",
    "\n",
    "How to solve the problem using python\n",
    "1. Get the data (booktitle,author,average rating,etc)from www.goodreads.com website and save it in a csv file to make data analysis. This is done using HTTP requests using python's request library and pulling data out of html files with BeautifulSoup library.\n",
    "\n",
    "\n",
    "2. Clean the data extracted from goodreads website. split the data into seperate columns if requires, check for null and NaN values.\n",
    "\n",
    "\n",
    "3. Analyse the data and identify the Top n books based on average rating. For the top n books show the no of ratings and reviews in visual representation with the help of plotting library plotly.\n",
    "\n",
    "\n",
    "4. Generate an eMail with will inculde corresponding bookdepository links (www.bookdepository.com) for each top n book for ordering\n",
    "\n",
    "\n",
    "Individual Project by Elango Sindhu Priya\n"
   ]
  },
  {
   "cell_type": "code",
   "execution_count": null,
   "metadata": {},
   "outputs": [],
   "source": [
    "#import the libraries"
   ]
  },
  {
   "cell_type": "code",
   "execution_count": 2,
   "metadata": {},
   "outputs": [],
   "source": [
    "import requests\n",
    "from bs4 import BeautifulSoup\n",
    "import datetime as dt\n",
    "from tqdm import tqdm as pb\n",
    "import pandas as pd\n",
    "from IPython.display import display\n",
    "import seaborn as sns \n",
    "\n",
    "import plotly.graph_objs as go\n",
    "from plotly.offline import download_plotlyjs, init_notebook_mode, plot, iplot\n",
    "\n",
    "import smtplib\n",
    "import os\n",
    "from email.mime.text import MIMEText\n",
    "from email.mime.image import MIMEImage\n",
    "from email.mime.multipart import MIMEMultipart"
   ]
  },
  {
   "cell_type": "code",
   "execution_count": 3,
   "metadata": {},
   "outputs": [
    {
     "data": {
      "text/html": [
       "        <script type=\"text/javascript\">\n",
       "        window.PlotlyConfig = {MathJaxConfig: 'local'};\n",
       "        if (window.MathJax) {MathJax.Hub.Config({SVG: {font: \"STIX-Web\"}});}\n",
       "        if (typeof require !== 'undefined') {\n",
       "        require.undef(\"plotly\");\n",
       "        requirejs.config({\n",
       "            paths: {\n",
       "                'plotly': ['https://cdn.plot.ly/plotly-latest.min']\n",
       "            }\n",
       "        });\n",
       "        require(['plotly'], function(Plotly) {\n",
       "            window._Plotly = Plotly;\n",
       "        });\n",
       "        }\n",
       "        </script>\n",
       "        "
      ]
     },
     "metadata": {},
     "output_type": "display_data"
    }
   ],
   "source": [
    "init_notebook_mode(connected=True)"
   ]
  },
  {
   "cell_type": "code",
   "execution_count": 4,
   "metadata": {},
   "outputs": [
    {
     "ename": "NameError",
     "evalue": "name 'df' is not defined",
     "output_type": "error",
     "traceback": [
      "\u001b[0;31m---------------------------------------------------------------------------\u001b[0m",
      "\u001b[0;31mNameError\u001b[0m                                 Traceback (most recent call last)",
      "\u001b[0;32m<ipython-input-4-fcabeccd135f>\u001b[0m in \u001b[0;36m<module>\u001b[0;34m\u001b[0m\n\u001b[1;32m      1\u001b[0m \u001b[0;31m#to display all the rows\u001b[0m\u001b[0;34m\u001b[0m\u001b[0;34m\u001b[0m\u001b[0;34m\u001b[0m\u001b[0m\n\u001b[0;32m----> 2\u001b[0;31m \u001b[0mpd\u001b[0m\u001b[0;34m.\u001b[0m\u001b[0mset_option\u001b[0m\u001b[0;34m(\u001b[0m\u001b[0;34m'display.max_rows'\u001b[0m\u001b[0;34m,\u001b[0m \u001b[0mdf\u001b[0m\u001b[0;34m.\u001b[0m\u001b[0mshape\u001b[0m\u001b[0;34m[\u001b[0m\u001b[0;36m0\u001b[0m\u001b[0;34m]\u001b[0m\u001b[0;34m+\u001b[0m\u001b[0;36m1\u001b[0m\u001b[0;34m)\u001b[0m\u001b[0;34m\u001b[0m\u001b[0;34m\u001b[0m\u001b[0m\n\u001b[0m\u001b[1;32m      3\u001b[0m \u001b[0;31m#pd.options.display.max_columns = None\u001b[0m\u001b[0;34m\u001b[0m\u001b[0;34m\u001b[0m\u001b[0;34m\u001b[0m\u001b[0m\n",
      "\u001b[0;31mNameError\u001b[0m: name 'df' is not defined"
     ]
    }
   ],
   "source": [
    "#to display all the rows\n",
    "pd.set_option('display.max_rows', df.shape[0]+1)\n",
    "#pd.options.display.max_columns = None"
   ]
  },
  {
   "cell_type": "markdown",
   "metadata": {},
   "source": [
    "## Define Functions"
   ]
  },
  {
   "cell_type": "code",
   "execution_count": 9,
   "metadata": {},
   "outputs": [],
   "source": [
    "last_month = (pd.Period(dt.datetime.now(), 'M') - 1).strftime('%B')\n",
    "url=\"https://www.goodreads.com/genres/new_releases/fiction\"\n",
    "\n",
    "# func - send the HTTP request and use BeautifulSoup to pull out the data from response\n",
    "def get_soup(url, headers=None):\n",
    "    resp = requests.get(url, headers=headers)\n",
    "    data_html = resp.text\n",
    "    soup = BeautifulSoup(data_html)\n",
    "    return soup\n",
    "\n",
    "#to get the last month's year\n",
    "def year():\n",
    "    last_year = (pd.Period(dt.datetime.now(),'Y') - 1).strftime('%Y')\n",
    "    current_year = pd.Period(dt.datetime.now(),'Y').strftime('%Y')\n",
    "    if last_month=='December':\n",
    "        return last_year\n",
    "    else:\n",
    "        return current_year\n",
    "    \n",
    "#data extraction through request library\n",
    "def data_extraction():\n",
    "    #url=\"https://www.goodreads.com/genres/new_releases/fiction\"\n",
    "    rows= []\n",
    "    soup = get_soup(url)   \n",
    "    for tag_a in pb(soup.find_all(\"a\")):\n",
    "        book_link = str(tag_a.get(\"href\"))\n",
    "        if book_link.startswith(\"/book/show\"):\n",
    "            fullurl = \"https://www.goodreads.com\" + book_link\n",
    "            soup = get_soup(fullurl)\n",
    "            BookTitle = (soup.find(\"h1\", {\"id\": \"bookTitle\"})).text.strip()\n",
    "            AuthorName = (soup.find(\"span\", {\"itemprop\": \"name\"})).text\n",
    "            Avg_Rating = (soup.find(\"span\", {\"itemprop\": \"ratingValue\"})).text\n",
    "            Rating_Count = (soup.find(\"meta\", {\"itemprop\": \"ratingCount\"})).get(\"content\")\n",
    "            Review_count = (soup.find(\"meta\", {\"itemprop\": \"reviewCount\"})).get(\"content\")\n",
    "            desc = (soup.find(\"div\", {\"id\": \"details\"}))\n",
    "            if desc and len(desc.find_all(\"div\", {\"class\": \"row\"})) == 2:\n",
    "                desc_str= desc.find_all(\"div\", {\"class\": \"row\"})[1].text.strip()\n",
    "                Page_Count= desc.find_all(\"div\", {\"class\": \"row\"})[0].text.strip()\n",
    "            row = (BookTitle,AuthorName,Avg_Rating,Rating_Count,Review_count,desc_str,Page_Count)\n",
    "            rows.append(row)\n",
    "    df = pd.DataFrame(rows)\n",
    "    columns = ['BookTitle','AuthorName','Avg_Rating','No_of_Rating','No_of_Review','Description','Page_Count']\n",
    "    df.to_csv(f'GoodReads_NewRelease_Info_raw_{last_month}.csv',index = False, header=columns)\n",
    "    print(\"-----Data extraction completed-----\")\n",
    "    print(\"Extracted data is stored in csv file\")\n",
    "    \n",
    "def data_cleaning():\n",
    "    #open the dataset\n",
    "    File_name = f\"GoodReads_NewRelease_Info_raw_{last_month}.csv\"\n",
    "    df = pd.read_csv(File_name)\n",
    "    #split the Description column into Publication_Month,Publication_Year, Publication_Company using string split()\n",
    "    desc_split = df['Description'].str.split(\"\\n\",expand = True) #set expand = True to split into two columns\n",
    "    df[\"Publication_Date\"]= desc_split[1].str.strip()\n",
    "    df[\"Publication_Company\"]= desc_split[2].str.strip()\n",
    "\n",
    "    pcomp_split = df[\"Publication_Company\"].str.split(\"by\",n=1,expand = True) #n=1 max seperation in a string\n",
    "    df[\"Publication_Company\"] = pcomp_split[1].str.strip()\n",
    "\n",
    "    date_split = df[\"Publication_Date\"].str.split(\" \",expand = True) \n",
    "    df['Publication_Month'] =  date_split[0].str.strip()\n",
    "    df['Publication_Year'] =  date_split[2].str.strip()\n",
    "\n",
    "    df.drop(columns =[\"Description\"], inplace = True) # drop the column\n",
    "    df.drop(columns =[\"Publication_Date\"], inplace = True) # drop the column\n",
    "    #Filter the dataset - to include only the data from October 2019\n",
    "    df = df[(df.Publication_Month == last_month)&(df.Publication_Year == year())]\n",
    "    \n",
    "    df['Page_NO'] = df['Page_Count'].str.extract('(\\d+)', expand=True) #to get the page no \\d -no +-multiple times\n",
    "    df[\"Page_NO\"].fillna(0, inplace = True) \n",
    "    df[\"Page_NO\"] = df[\"Page_NO\"].astype(int) \n",
    "    desc_split = df['Page_Count'].str.split(\",\",expand = True) #set expand = True to split into  columns\n",
    "    df[\"Type\"]= desc_split[0].str.strip()\n",
    "    df[\"Type\"].replace(to_replace= '([0-9]+ )\\w+',value='No format',regex=True,inplace=True)\n",
    "    df.drop(columns =[\"Page_Count\"], inplace = True) # drop the column\n",
    "\n",
    "    # to ensure Avg_rating does not have NaN values\n",
    "    bool_series = pd.notnull(df[\"Avg_Rating\"])\n",
    "    \n",
    "    #check for null/Nan values in dataframe\n",
    "    nan_values = df.isna().sum()\n",
    "    print(\"sum of NaN values in each column:\\n\",nan_values)\n",
    "    \n",
    "    print(\"\\nTypes of each column:\\n\",df.dtypes) # print the column dtype\n",
    "    \n",
    "    #save the cleansed dataset into a csv file\n",
    "    df.to_csv(f\"GoodReads_NewRelease_Info_clean_{last_month}.csv\",index = False)\n",
    "    print(\"\\n-----Data cleaning completed-----\")\n",
    "    print(\"New csv file with cleansed data is created\")\n",
    "\n",
    "def color_negative_red(value):\n",
    "    if value > 0 and value < 300:\n",
    "        color = 'green'\n",
    "    elif value ==0:\n",
    "        color = 'red'\n",
    "    else:\n",
    "        color = 'black'\n",
    "    return 'color: %s' % color\n",
    "\n",
    "def color_negative_green(value):\n",
    "    if value == 'Kindle Edition':\n",
    "        color = 'blue'\n",
    "    elif value == 'ebook':\n",
    "        color = 'darkorange'\n",
    "    else:\n",
    "        color = 'black'\n",
    "    return 'color: %s' % color\n",
    "\n",
    "def clean_data():\n",
    "    File_name = f\"GoodReads_NewRelease_Info_clean_{last_month}.csv\"\n",
    "    df = pd.read_csv(File_name)\n",
    "    cm = sns.light_palette(\"green\", as_cmap=True)\n",
    "    print(\"\\n\\n*Page_NO-green - quick read books with less than 300 pages\")\n",
    "    print(\"*Page_NO-yellow - book with highest no of pages\")\n",
    "    display(df.style\n",
    "    .applymap(color_negative_red, subset=['Page_NO'])\n",
    "    .applymap(color_negative_green, subset=['Type'])\n",
    "    .background_gradient(cmap=cm,subset=['Avg_Rating','No_of_Rating','No_of_Review'])\n",
    "    .highlight_null(null_color='red')\n",
    "    .highlight_max(subset=['Page_NO']))\n",
    "    \n",
    "def data_analyse():\n",
    "    File_name = f\"GoodReads_NewRelease_Info_clean_{last_month}.csv\"\n",
    "    df = pd.read_csv(File_name)\n",
    "    # to find top books based on the Avg_Rating\n",
    "    Avg_Rating_df = df.sort_values('Avg_Rating',ascending=False).copy()\n",
    "    #display the top 10 books based on Avg_Rating\n",
    "    Avg_Rating_df[['BookTitle','Avg_Rating']].head(10)\n",
    "    #plot the grapg to show the no of ratings and review for each\\ top n books having highest Avg_Rating\n",
    "    df1 = (df.nlargest(10,\"Avg_Rating\"))\n",
    "    objs = [\n",
    "        go.Bar(x=df1.BookTitle, y=df1.No_of_Rating, name=\"No of Rating\",marker=dict(color='rgb(49,130,189)'),text=df1['Avg_Rating']),\n",
    "        go.Bar(x=df1.BookTitle, y=df1.No_of_Review, name=\"No of Review\",text=df1['Avg_Rating']),\n",
    "    ]\n",
    "    layout = go.Layout(\n",
    "        title='Top 10 Books With Highest Average Rating'\n",
    "    )\n",
    "    fig = go.Figure(data=objs, layout=layout)\n",
    "    iplot(fig)\n",
    "    #catef=gorize & group_by the books based on Avg_Rating collumn\n",
    "    #plot to show the percantage of books in each category\n",
    "    def func(x):\n",
    "        if x < 3.5:\n",
    "            return \"3.5 and less\"\n",
    "        elif x < 4.5:\n",
    "            return \"4.5-3.5\"\n",
    "        else:\n",
    "            return \"4.5-5.0\"\n",
    "    df[\"Rating_range\"] = df.Avg_Rating.apply(func)\n",
    "    res = df.groupby(\"Rating_range\")[\"Avg_Rating\"].count()\n",
    "    labels = ['3.5 and less','4.5-3.5','4.5-5.0']\n",
    "    values = [res[0],res[1],res[2]]\n",
    "    layout = go.Layout(title='Percantage of Books under Each Rating Category')\n",
    "    fig = go.Figure(data=[go.Pie(labels=labels, values=values)],layout=layout)\n",
    "    #fig.show()\n",
    "    iplot(fig)\n",
    "    df2 = df[(df['Page_NO'] > 0) & (df['Page_NO'] <=300)]\n",
    "    objs = [\n",
    "            go.Bar(x=df2.BookTitle, y=df2.Page_NO, name=\"Page count\",text=df2['Avg_Rating']),\n",
    "        ]\n",
    "    layout = go.Layout(\n",
    "            title='Quick Read Books with less than 300 Pages'\n",
    "        )\n",
    "    fig = go.Figure(data=objs, layout=layout)\n",
    "    iplot(fig)\n",
    "    print(\"-----Data analyse completed-----\")\n",
    "    send_mail(Avg_Rating_df,get_no_of_links())\n",
    "    print(\"email send\")\n",
    "#func to send mail  \n",
    "#include book details(name & author) and links in the email body\n",
    "def send_mail(data,No_of_links):\n",
    "    \n",
    "    #smtp connetion to send mail\n",
    "    smtp_ssl_host = 'smtp.gmail.com'  # smtp.mail.yahoo.com\n",
    "    smtp_ssl_port = 465\n",
    "    username = 'pthnproject@gmail.com'\n",
    "    password = 'XXXXXXXXXXXXX'\n",
    "    sender = 'pthnproject@gmail.com'\n",
    "    targets = 'abc@gmail.com'\n",
    "    \n",
    "    msg = MIMEMultipart()\n",
    "    \n",
    "    msg['Subject'] = f\"Happy Reading {last_month}\"\n",
    "    msg['From'] = sender\n",
    "    msg['To'] = ', '.join(targets)\n",
    "    \n",
    "    #intro\n",
    "    intro = f\"\"\"<pre>\n",
    "        Book Depository Links to {last_month} Releases \n",
    "        Top {No_of_links} Books with Highest Average Rating in the fictional section \n",
    "    \n",
    "        Clink on the Links to order</pre>\"\"\"\n",
    "    txt = MIMEText(intro,'html')\n",
    "    msg.attach(txt)\n",
    "    \n",
    "    #body\n",
    "    item_no =1\n",
    "    for item in range(0,No_of_links):\n",
    "        book_details = ((data['BookTitle'].values[item]).strip()) +\" by \"+ ((data['AuthorName'].values[item]).strip())\n",
    "        book_link = book_details.replace(\" \", \"+\")\n",
    "        url = f\"https://www.bookdepository.com/search?searchTerm={book_link}\"\n",
    "        Link = url\n",
    "        \n",
    "        email_body= f\"\"\"<pre> \n",
    "        {item_no}.{book_details}\n",
    "        {Link}</pre>\"\"\"\n",
    "        item_no +=1\n",
    "        \n",
    "        txt = MIMEText(email_body,'html')\n",
    "        msg.attach(txt)\n",
    "        \n",
    "    print(\"sending email......\")\n",
    "    \n",
    "    #image\n",
    "    filepath = \"Reading quotes.jpeg\"\n",
    "    with open(filepath, 'rb') as f:\n",
    "        img = MIMEImage(f.read())\n",
    "\n",
    "    img.add_header('Content-Disposition',\n",
    "               'attachment',\n",
    "               filename=os.path.basename(filepath))\n",
    "    msg.attach(img)\n",
    "\n",
    "    server = smtplib.SMTP_SSL(smtp_ssl_host, smtp_ssl_port)\n",
    "    server.login(username, password)\n",
    "    server.sendmail(sender, targets, msg.as_string())\n",
    "    server.quit()\n",
    "    \n",
    "#to get the no of links \n",
    "def get_no_of_links():\n",
    "    while True:\n",
    "        amount = input(\"Enter the No of Links to be send in mail: \")\n",
    "        try:\n",
    "            val = int(amount)\n",
    "            if val > 0:\n",
    "                break\n",
    "            else:\n",
    "                print(\"No of Links can't be negative or Zero, try again\")\n",
    "        except ValueError:\n",
    "            print(\"No of Links must be a number, try again\")\n",
    "    return val\n",
    "\n",
    "def main():\n",
    "    data_extraction() #calls get_soup()\n",
    "    data_cleaning()\n",
    "    clean_data()\n",
    "    data_analyse() #calls send_mail() & get_no_of_links()"
   ]
  },
  {
   "cell_type": "code",
   "execution_count": 10,
   "metadata": {
    "scrolled": true
   },
   "outputs": [
    {
     "name": "stderr",
     "output_type": "stream",
     "text": [
      "100%|██████████| 319/319 [05:06<00:00,  1.04it/s]\n"
     ]
    },
    {
     "name": "stdout",
     "output_type": "stream",
     "text": [
      "-----Data extraction completed-----\n",
      "Extracted data is stored in csv file\n",
      "sum of NaN values in each column:\n",
      " BookTitle              0\n",
      "AuthorName             0\n",
      "Avg_Rating             0\n",
      "No_of_Rating           0\n",
      "No_of_Review           0\n",
      "Publication_Company    0\n",
      "Publication_Month      0\n",
      "Publication_Year       0\n",
      "Page_NO                0\n",
      "Type                   0\n",
      "dtype: int64\n",
      "\n",
      "Types of each column:\n",
      " BookTitle               object\n",
      "AuthorName              object\n",
      "Avg_Rating             float64\n",
      "No_of_Rating             int64\n",
      "No_of_Review             int64\n",
      "Publication_Company     object\n",
      "Publication_Month       object\n",
      "Publication_Year        object\n",
      "Page_NO                  int64\n",
      "Type                    object\n",
      "dtype: object\n",
      "\n",
      "-----Data cleaning completed-----\n",
      "New csv file with cleansed data is created\n",
      "\n",
      "\n",
      "*Page_NO-green - quick read books with less than 300 pages\n",
      "*Page_NO-yellow - book with highest no of pages\n"
     ]
    },
    {
     "data": {
      "text/html": [
       "<style  type=\"text/css\" >\n",
       "    #T_12ac37e4_48dc_11ea_b1fb_f2189862d0c5row0_col2 {\n",
       "            background-color:  #3ba13b;\n",
       "            color:  #000000;\n",
       "            : ;\n",
       "        }    #T_12ac37e4_48dc_11ea_b1fb_f2189862d0c5row0_col3 {\n",
       "            background-color:  #008000;\n",
       "            color:  #f1f1f1;\n",
       "            : ;\n",
       "        }    #T_12ac37e4_48dc_11ea_b1fb_f2189862d0c5row0_col4 {\n",
       "            background-color:  #008000;\n",
       "            color:  #f1f1f1;\n",
       "            : ;\n",
       "        }    #T_12ac37e4_48dc_11ea_b1fb_f2189862d0c5row0_col8 {\n",
       "            color:  black;\n",
       "            : ;\n",
       "            : ;\n",
       "        }    #T_12ac37e4_48dc_11ea_b1fb_f2189862d0c5row0_col9 {\n",
       "            color:  black;\n",
       "            : ;\n",
       "        }    #T_12ac37e4_48dc_11ea_b1fb_f2189862d0c5row1_col2 {\n",
       "            background-color:  #389f38;\n",
       "            color:  #000000;\n",
       "            : ;\n",
       "        }    #T_12ac37e4_48dc_11ea_b1fb_f2189862d0c5row1_col3 {\n",
       "            background-color:  #c5edc5;\n",
       "            color:  #000000;\n",
       "            : ;\n",
       "        }    #T_12ac37e4_48dc_11ea_b1fb_f2189862d0c5row1_col4 {\n",
       "            background-color:  #c4edc4;\n",
       "            color:  #000000;\n",
       "            : ;\n",
       "        }    #T_12ac37e4_48dc_11ea_b1fb_f2189862d0c5row1_col8 {\n",
       "            color:  black;\n",
       "            : ;\n",
       "            : ;\n",
       "        }    #T_12ac37e4_48dc_11ea_b1fb_f2189862d0c5row1_col9 {\n",
       "            color:  darkorange;\n",
       "            : ;\n",
       "        }    #T_12ac37e4_48dc_11ea_b1fb_f2189862d0c5row2_col2 {\n",
       "            background-color:  #3da23d;\n",
       "            color:  #000000;\n",
       "            : ;\n",
       "        }    #T_12ac37e4_48dc_11ea_b1fb_f2189862d0c5row2_col3 {\n",
       "            background-color:  #bae7ba;\n",
       "            color:  #000000;\n",
       "            : ;\n",
       "        }    #T_12ac37e4_48dc_11ea_b1fb_f2189862d0c5row2_col4 {\n",
       "            background-color:  #99d599;\n",
       "            color:  #000000;\n",
       "            : ;\n",
       "        }    #T_12ac37e4_48dc_11ea_b1fb_f2189862d0c5row2_col8 {\n",
       "            color:  black;\n",
       "            : ;\n",
       "            : ;\n",
       "        }    #T_12ac37e4_48dc_11ea_b1fb_f2189862d0c5row2_col9 {\n",
       "            color:  blue;\n",
       "            : ;\n",
       "        }    #T_12ac37e4_48dc_11ea_b1fb_f2189862d0c5row3_col2 {\n",
       "            background-color:  #4eab4e;\n",
       "            color:  #000000;\n",
       "            : ;\n",
       "        }    #T_12ac37e4_48dc_11ea_b1fb_f2189862d0c5row3_col3 {\n",
       "            background-color:  #bfeabf;\n",
       "            color:  #000000;\n",
       "            : ;\n",
       "        }    #T_12ac37e4_48dc_11ea_b1fb_f2189862d0c5row3_col4 {\n",
       "            background-color:  #b3e3b3;\n",
       "            color:  #000000;\n",
       "            : ;\n",
       "        }    #T_12ac37e4_48dc_11ea_b1fb_f2189862d0c5row3_col8 {\n",
       "            color:  black;\n",
       "            : ;\n",
       "            : ;\n",
       "        }    #T_12ac37e4_48dc_11ea_b1fb_f2189862d0c5row3_col9 {\n",
       "            color:  blue;\n",
       "            : ;\n",
       "        }    #T_12ac37e4_48dc_11ea_b1fb_f2189862d0c5row4_col2 {\n",
       "            background-color:  #65b865;\n",
       "            color:  #000000;\n",
       "            : ;\n",
       "        }    #T_12ac37e4_48dc_11ea_b1fb_f2189862d0c5row4_col3 {\n",
       "            background-color:  #b7e5b7;\n",
       "            color:  #000000;\n",
       "            : ;\n",
       "        }    #T_12ac37e4_48dc_11ea_b1fb_f2189862d0c5row4_col4 {\n",
       "            background-color:  #ade0ad;\n",
       "            color:  #000000;\n",
       "            : ;\n",
       "        }    #T_12ac37e4_48dc_11ea_b1fb_f2189862d0c5row4_col8 {\n",
       "            color:  black;\n",
       "            : ;\n",
       "            : ;\n",
       "        }    #T_12ac37e4_48dc_11ea_b1fb_f2189862d0c5row4_col9 {\n",
       "            color:  black;\n",
       "            : ;\n",
       "        }    #T_12ac37e4_48dc_11ea_b1fb_f2189862d0c5row5_col2 {\n",
       "            background-color:  #7bc47b;\n",
       "            color:  #000000;\n",
       "            : ;\n",
       "        }    #T_12ac37e4_48dc_11ea_b1fb_f2189862d0c5row5_col3 {\n",
       "            background-color:  #c2ebc2;\n",
       "            color:  #000000;\n",
       "            : ;\n",
       "        }    #T_12ac37e4_48dc_11ea_b1fb_f2189862d0c5row5_col4 {\n",
       "            background-color:  #a7dda7;\n",
       "            color:  #000000;\n",
       "            : ;\n",
       "        }    #T_12ac37e4_48dc_11ea_b1fb_f2189862d0c5row5_col8 {\n",
       "            color:  black;\n",
       "            : ;\n",
       "            : ;\n",
       "        }    #T_12ac37e4_48dc_11ea_b1fb_f2189862d0c5row5_col9 {\n",
       "            color:  darkorange;\n",
       "            : ;\n",
       "        }    #T_12ac37e4_48dc_11ea_b1fb_f2189862d0c5row6_col2 {\n",
       "            background-color:  #399f39;\n",
       "            color:  #000000;\n",
       "            : ;\n",
       "        }    #T_12ac37e4_48dc_11ea_b1fb_f2189862d0c5row6_col3 {\n",
       "            background-color:  #caf0ca;\n",
       "            color:  #000000;\n",
       "            : ;\n",
       "        }    #T_12ac37e4_48dc_11ea_b1fb_f2189862d0c5row6_col4 {\n",
       "            background-color:  #b8e6b8;\n",
       "            color:  #000000;\n",
       "            : ;\n",
       "        }    #T_12ac37e4_48dc_11ea_b1fb_f2189862d0c5row6_col8 {\n",
       "            color:  black;\n",
       "            : ;\n",
       "            : ;\n",
       "        }    #T_12ac37e4_48dc_11ea_b1fb_f2189862d0c5row6_col9 {\n",
       "            color:  blue;\n",
       "            : ;\n",
       "        }    #T_12ac37e4_48dc_11ea_b1fb_f2189862d0c5row7_col2 {\n",
       "            background-color:  #70be70;\n",
       "            color:  #000000;\n",
       "            : ;\n",
       "        }    #T_12ac37e4_48dc_11ea_b1fb_f2189862d0c5row7_col3 {\n",
       "            background-color:  #dcfadc;\n",
       "            color:  #000000;\n",
       "            : ;\n",
       "        }    #T_12ac37e4_48dc_11ea_b1fb_f2189862d0c5row7_col4 {\n",
       "            background-color:  #d1f4d1;\n",
       "            color:  #000000;\n",
       "            : ;\n",
       "        }    #T_12ac37e4_48dc_11ea_b1fb_f2189862d0c5row7_col8 {\n",
       "            color:  black;\n",
       "            : ;\n",
       "            : ;\n",
       "        }    #T_12ac37e4_48dc_11ea_b1fb_f2189862d0c5row7_col9 {\n",
       "            color:  black;\n",
       "            : ;\n",
       "        }    #T_12ac37e4_48dc_11ea_b1fb_f2189862d0c5row8_col2 {\n",
       "            background-color:  #54ae54;\n",
       "            color:  #000000;\n",
       "            : ;\n",
       "        }    #T_12ac37e4_48dc_11ea_b1fb_f2189862d0c5row8_col3 {\n",
       "            background-color:  #b7e5b7;\n",
       "            color:  #000000;\n",
       "            : ;\n",
       "        }    #T_12ac37e4_48dc_11ea_b1fb_f2189862d0c5row8_col4 {\n",
       "            background-color:  #a7dda7;\n",
       "            color:  #000000;\n",
       "            : ;\n",
       "        }    #T_12ac37e4_48dc_11ea_b1fb_f2189862d0c5row8_col8 {\n",
       "            color:  black;\n",
       "            : ;\n",
       "            : ;\n",
       "        }    #T_12ac37e4_48dc_11ea_b1fb_f2189862d0c5row8_col9 {\n",
       "            color:  black;\n",
       "            : ;\n",
       "        }    #T_12ac37e4_48dc_11ea_b1fb_f2189862d0c5row9_col2 {\n",
       "            background-color:  #46a746;\n",
       "            color:  #000000;\n",
       "            : ;\n",
       "        }    #T_12ac37e4_48dc_11ea_b1fb_f2189862d0c5row9_col3 {\n",
       "            background-color:  #caf0ca;\n",
       "            color:  #000000;\n",
       "            : ;\n",
       "        }    #T_12ac37e4_48dc_11ea_b1fb_f2189862d0c5row9_col4 {\n",
       "            background-color:  #d3f5d3;\n",
       "            color:  #000000;\n",
       "            : ;\n",
       "        }    #T_12ac37e4_48dc_11ea_b1fb_f2189862d0c5row9_col8 {\n",
       "            color:  black;\n",
       "            : ;\n",
       "            : ;\n",
       "        }    #T_12ac37e4_48dc_11ea_b1fb_f2189862d0c5row9_col9 {\n",
       "            color:  blue;\n",
       "            : ;\n",
       "        }    #T_12ac37e4_48dc_11ea_b1fb_f2189862d0c5row10_col2 {\n",
       "            background-color:  #e5ffe5;\n",
       "            color:  #000000;\n",
       "            : ;\n",
       "        }    #T_12ac37e4_48dc_11ea_b1fb_f2189862d0c5row10_col3 {\n",
       "            background-color:  #b0e1b0;\n",
       "            color:  #000000;\n",
       "            : ;\n",
       "        }    #T_12ac37e4_48dc_11ea_b1fb_f2189862d0c5row10_col4 {\n",
       "            background-color:  #bae7ba;\n",
       "            color:  #000000;\n",
       "            : ;\n",
       "        }    #T_12ac37e4_48dc_11ea_b1fb_f2189862d0c5row10_col8 {\n",
       "            color:  green;\n",
       "            : ;\n",
       "            : ;\n",
       "        }    #T_12ac37e4_48dc_11ea_b1fb_f2189862d0c5row10_col9 {\n",
       "            color:  black;\n",
       "            : ;\n",
       "        }    #T_12ac37e4_48dc_11ea_b1fb_f2189862d0c5row11_col2 {\n",
       "            background-color:  #68ba68;\n",
       "            color:  #000000;\n",
       "            : ;\n",
       "        }    #T_12ac37e4_48dc_11ea_b1fb_f2189862d0c5row11_col3 {\n",
       "            background-color:  #d6f7d6;\n",
       "            color:  #000000;\n",
       "            : ;\n",
       "        }    #T_12ac37e4_48dc_11ea_b1fb_f2189862d0c5row11_col4 {\n",
       "            background-color:  #c7eec7;\n",
       "            color:  #000000;\n",
       "            : ;\n",
       "        }    #T_12ac37e4_48dc_11ea_b1fb_f2189862d0c5row11_col8 {\n",
       "            color:  black;\n",
       "            : ;\n",
       "            : ;\n",
       "        }    #T_12ac37e4_48dc_11ea_b1fb_f2189862d0c5row11_col9 {\n",
       "            color:  black;\n",
       "            : ;\n",
       "        }    #T_12ac37e4_48dc_11ea_b1fb_f2189862d0c5row12_col2 {\n",
       "            background-color:  #56b056;\n",
       "            color:  #000000;\n",
       "            : ;\n",
       "        }    #T_12ac37e4_48dc_11ea_b1fb_f2189862d0c5row12_col3 {\n",
       "            background-color:  #d9f8d9;\n",
       "            color:  #000000;\n",
       "            : ;\n",
       "        }    #T_12ac37e4_48dc_11ea_b1fb_f2189862d0c5row12_col4 {\n",
       "            background-color:  #caf0ca;\n",
       "            color:  #000000;\n",
       "            : ;\n",
       "        }    #T_12ac37e4_48dc_11ea_b1fb_f2189862d0c5row12_col8 {\n",
       "            color:  black;\n",
       "            : ;\n",
       "            : ;\n",
       "        }    #T_12ac37e4_48dc_11ea_b1fb_f2189862d0c5row12_col9 {\n",
       "            color:  black;\n",
       "            : ;\n",
       "        }    #T_12ac37e4_48dc_11ea_b1fb_f2189862d0c5row13_col2 {\n",
       "            background-color:  #8ecf8e;\n",
       "            color:  #000000;\n",
       "            : ;\n",
       "        }    #T_12ac37e4_48dc_11ea_b1fb_f2189862d0c5row13_col3 {\n",
       "            background-color:  #dcfadc;\n",
       "            color:  #000000;\n",
       "            : ;\n",
       "        }    #T_12ac37e4_48dc_11ea_b1fb_f2189862d0c5row13_col4 {\n",
       "            background-color:  #ddfbdd;\n",
       "            color:  #000000;\n",
       "            : ;\n",
       "        }    #T_12ac37e4_48dc_11ea_b1fb_f2189862d0c5row13_col8 {\n",
       "            color:  green;\n",
       "            : ;\n",
       "            : ;\n",
       "        }    #T_12ac37e4_48dc_11ea_b1fb_f2189862d0c5row13_col9 {\n",
       "            color:  darkorange;\n",
       "            : ;\n",
       "        }    #T_12ac37e4_48dc_11ea_b1fb_f2189862d0c5row14_col2 {\n",
       "            background-color:  #56b056;\n",
       "            color:  #000000;\n",
       "            : ;\n",
       "        }    #T_12ac37e4_48dc_11ea_b1fb_f2189862d0c5row14_col3 {\n",
       "            background-color:  #d1f4d1;\n",
       "            color:  #000000;\n",
       "            : ;\n",
       "        }    #T_12ac37e4_48dc_11ea_b1fb_f2189862d0c5row14_col4 {\n",
       "            background-color:  #aee0ae;\n",
       "            color:  #000000;\n",
       "            : ;\n",
       "        }    #T_12ac37e4_48dc_11ea_b1fb_f2189862d0c5row14_col8 {\n",
       "            color:  black;\n",
       "            : ;\n",
       "            : ;\n",
       "        }    #T_12ac37e4_48dc_11ea_b1fb_f2189862d0c5row14_col9 {\n",
       "            color:  black;\n",
       "            : ;\n",
       "        }    #T_12ac37e4_48dc_11ea_b1fb_f2189862d0c5row15_col2 {\n",
       "            background-color:  #51ad51;\n",
       "            color:  #000000;\n",
       "            : ;\n",
       "        }    #T_12ac37e4_48dc_11ea_b1fb_f2189862d0c5row15_col3 {\n",
       "            background-color:  #d7f7d7;\n",
       "            color:  #000000;\n",
       "            : ;\n",
       "        }    #T_12ac37e4_48dc_11ea_b1fb_f2189862d0c5row15_col4 {\n",
       "            background-color:  #cbf1cb;\n",
       "            color:  #000000;\n",
       "            : ;\n",
       "        }    #T_12ac37e4_48dc_11ea_b1fb_f2189862d0c5row15_col8 {\n",
       "            color:  black;\n",
       "            : ;\n",
       "            : ;\n",
       "        }    #T_12ac37e4_48dc_11ea_b1fb_f2189862d0c5row15_col9 {\n",
       "            color:  black;\n",
       "            : ;\n",
       "        }    #T_12ac37e4_48dc_11ea_b1fb_f2189862d0c5row16_col2 {\n",
       "            background-color:  #41a441;\n",
       "            color:  #000000;\n",
       "            : ;\n",
       "        }    #T_12ac37e4_48dc_11ea_b1fb_f2189862d0c5row16_col3 {\n",
       "            background-color:  #d4f6d4;\n",
       "            color:  #000000;\n",
       "            : ;\n",
       "        }    #T_12ac37e4_48dc_11ea_b1fb_f2189862d0c5row16_col4 {\n",
       "            background-color:  #d3f5d3;\n",
       "            color:  #000000;\n",
       "            : ;\n",
       "        }    #T_12ac37e4_48dc_11ea_b1fb_f2189862d0c5row16_col8 {\n",
       "            color:  black;\n",
       "            : ;\n",
       "            : ;\n",
       "        }    #T_12ac37e4_48dc_11ea_b1fb_f2189862d0c5row16_col9 {\n",
       "            color:  black;\n",
       "            : ;\n",
       "        }    #T_12ac37e4_48dc_11ea_b1fb_f2189862d0c5row17_col2 {\n",
       "            background-color:  #67b967;\n",
       "            color:  #000000;\n",
       "            : ;\n",
       "        }    #T_12ac37e4_48dc_11ea_b1fb_f2189862d0c5row17_col3 {\n",
       "            background-color:  #e2fde2;\n",
       "            color:  #000000;\n",
       "            : ;\n",
       "        }    #T_12ac37e4_48dc_11ea_b1fb_f2189862d0c5row17_col4 {\n",
       "            background-color:  #dbf9db;\n",
       "            color:  #000000;\n",
       "            : ;\n",
       "        }    #T_12ac37e4_48dc_11ea_b1fb_f2189862d0c5row17_col8 {\n",
       "            color:  green;\n",
       "            : ;\n",
       "            : ;\n",
       "        }    #T_12ac37e4_48dc_11ea_b1fb_f2189862d0c5row17_col9 {\n",
       "            color:  black;\n",
       "            : ;\n",
       "        }    #T_12ac37e4_48dc_11ea_b1fb_f2189862d0c5row18_col2 {\n",
       "            background-color:  #67b967;\n",
       "            color:  #000000;\n",
       "            : ;\n",
       "        }    #T_12ac37e4_48dc_11ea_b1fb_f2189862d0c5row18_col3 {\n",
       "            background-color:  #dcfadc;\n",
       "            color:  #000000;\n",
       "            : ;\n",
       "        }    #T_12ac37e4_48dc_11ea_b1fb_f2189862d0c5row18_col4 {\n",
       "            background-color:  #ccf1cc;\n",
       "            color:  #000000;\n",
       "            : ;\n",
       "        }    #T_12ac37e4_48dc_11ea_b1fb_f2189862d0c5row18_col8 {\n",
       "            color:  black;\n",
       "            : ;\n",
       "            : ;\n",
       "        }    #T_12ac37e4_48dc_11ea_b1fb_f2189862d0c5row18_col9 {\n",
       "            color:  black;\n",
       "            : ;\n",
       "        }    #T_12ac37e4_48dc_11ea_b1fb_f2189862d0c5row19_col2 {\n",
       "            background-color:  #a8dda8;\n",
       "            color:  #000000;\n",
       "            : ;\n",
       "        }    #T_12ac37e4_48dc_11ea_b1fb_f2189862d0c5row19_col3 {\n",
       "            background-color:  #d8f8d8;\n",
       "            color:  #000000;\n",
       "            : ;\n",
       "        }    #T_12ac37e4_48dc_11ea_b1fb_f2189862d0c5row19_col4 {\n",
       "            background-color:  #caf0ca;\n",
       "            color:  #000000;\n",
       "            : ;\n",
       "        }    #T_12ac37e4_48dc_11ea_b1fb_f2189862d0c5row19_col8 {\n",
       "            color:  black;\n",
       "            : ;\n",
       "            : ;\n",
       "        }    #T_12ac37e4_48dc_11ea_b1fb_f2189862d0c5row19_col9 {\n",
       "            color:  black;\n",
       "            : ;\n",
       "        }    #T_12ac37e4_48dc_11ea_b1fb_f2189862d0c5row20_col2 {\n",
       "            background-color:  #41a441;\n",
       "            color:  #000000;\n",
       "            : ;\n",
       "        }    #T_12ac37e4_48dc_11ea_b1fb_f2189862d0c5row20_col3 {\n",
       "            background-color:  #daf9da;\n",
       "            color:  #000000;\n",
       "            : ;\n",
       "        }    #T_12ac37e4_48dc_11ea_b1fb_f2189862d0c5row20_col4 {\n",
       "            background-color:  #cef2ce;\n",
       "            color:  #000000;\n",
       "            : ;\n",
       "        }    #T_12ac37e4_48dc_11ea_b1fb_f2189862d0c5row20_col8 {\n",
       "            color:  black;\n",
       "            : ;\n",
       "            : ;\n",
       "        }    #T_12ac37e4_48dc_11ea_b1fb_f2189862d0c5row20_col9 {\n",
       "            color:  blue;\n",
       "            : ;\n",
       "        }    #T_12ac37e4_48dc_11ea_b1fb_f2189862d0c5row21_col2 {\n",
       "            background-color:  #89cc89;\n",
       "            color:  #000000;\n",
       "            : ;\n",
       "        }    #T_12ac37e4_48dc_11ea_b1fb_f2189862d0c5row21_col3 {\n",
       "            background-color:  #daf9da;\n",
       "            color:  #000000;\n",
       "            : ;\n",
       "        }    #T_12ac37e4_48dc_11ea_b1fb_f2189862d0c5row21_col4 {\n",
       "            background-color:  #d2f4d2;\n",
       "            color:  #000000;\n",
       "            : ;\n",
       "        }    #T_12ac37e4_48dc_11ea_b1fb_f2189862d0c5row21_col8 {\n",
       "            color:  black;\n",
       "            : ;\n",
       "            : ;\n",
       "        }    #T_12ac37e4_48dc_11ea_b1fb_f2189862d0c5row21_col9 {\n",
       "            color:  blue;\n",
       "            : ;\n",
       "        }    #T_12ac37e4_48dc_11ea_b1fb_f2189862d0c5row22_col2 {\n",
       "            background-color:  #3ba13b;\n",
       "            color:  #000000;\n",
       "            : ;\n",
       "        }    #T_12ac37e4_48dc_11ea_b1fb_f2189862d0c5row22_col3 {\n",
       "            background-color:  #dcfadc;\n",
       "            color:  #000000;\n",
       "            : ;\n",
       "        }    #T_12ac37e4_48dc_11ea_b1fb_f2189862d0c5row22_col4 {\n",
       "            background-color:  #d0f3d0;\n",
       "            color:  #000000;\n",
       "            : ;\n",
       "        }    #T_12ac37e4_48dc_11ea_b1fb_f2189862d0c5row22_col8 {\n",
       "            color:  black;\n",
       "            : ;\n",
       "            : ;\n",
       "        }    #T_12ac37e4_48dc_11ea_b1fb_f2189862d0c5row22_col9 {\n",
       "            color:  black;\n",
       "            : ;\n",
       "        }    #T_12ac37e4_48dc_11ea_b1fb_f2189862d0c5row23_col2 {\n",
       "            background-color:  #389f38;\n",
       "            color:  #000000;\n",
       "            : ;\n",
       "        }    #T_12ac37e4_48dc_11ea_b1fb_f2189862d0c5row23_col3 {\n",
       "            background-color:  #e3fee3;\n",
       "            color:  #000000;\n",
       "            : ;\n",
       "        }    #T_12ac37e4_48dc_11ea_b1fb_f2189862d0c5row23_col4 {\n",
       "            background-color:  #dcfadc;\n",
       "            color:  #000000;\n",
       "            : ;\n",
       "        }    #T_12ac37e4_48dc_11ea_b1fb_f2189862d0c5row23_col8 {\n",
       "            color:  green;\n",
       "            : ;\n",
       "            : ;\n",
       "        }    #T_12ac37e4_48dc_11ea_b1fb_f2189862d0c5row23_col9 {\n",
       "            color:  black;\n",
       "            : ;\n",
       "        }    #T_12ac37e4_48dc_11ea_b1fb_f2189862d0c5row24_col2 {\n",
       "            background-color:  #6abb6a;\n",
       "            color:  #000000;\n",
       "            : ;\n",
       "        }    #T_12ac37e4_48dc_11ea_b1fb_f2189862d0c5row24_col3 {\n",
       "            background-color:  #daf9da;\n",
       "            color:  #000000;\n",
       "            : ;\n",
       "        }    #T_12ac37e4_48dc_11ea_b1fb_f2189862d0c5row24_col4 {\n",
       "            background-color:  #d5f6d5;\n",
       "            color:  #000000;\n",
       "            : ;\n",
       "        }    #T_12ac37e4_48dc_11ea_b1fb_f2189862d0c5row24_col8 {\n",
       "            color:  black;\n",
       "            : ;\n",
       "            : ;\n",
       "        }    #T_12ac37e4_48dc_11ea_b1fb_f2189862d0c5row24_col9 {\n",
       "            color:  black;\n",
       "            : ;\n",
       "        }    #T_12ac37e4_48dc_11ea_b1fb_f2189862d0c5row25_col2 {\n",
       "            background-color:  #55af55;\n",
       "            color:  #000000;\n",
       "            : ;\n",
       "        }    #T_12ac37e4_48dc_11ea_b1fb_f2189862d0c5row25_col3 {\n",
       "            background-color:  #d8f8d8;\n",
       "            color:  #000000;\n",
       "            : ;\n",
       "        }    #T_12ac37e4_48dc_11ea_b1fb_f2189862d0c5row25_col4 {\n",
       "            background-color:  #cef2ce;\n",
       "            color:  #000000;\n",
       "            : ;\n",
       "        }    #T_12ac37e4_48dc_11ea_b1fb_f2189862d0c5row25_col8 {\n",
       "            color:  black;\n",
       "            : ;\n",
       "            : ;\n",
       "        }    #T_12ac37e4_48dc_11ea_b1fb_f2189862d0c5row25_col9 {\n",
       "            color:  blue;\n",
       "            : ;\n",
       "        }    #T_12ac37e4_48dc_11ea_b1fb_f2189862d0c5row26_col2 {\n",
       "            background-color:  #78c278;\n",
       "            color:  #000000;\n",
       "            : ;\n",
       "        }    #T_12ac37e4_48dc_11ea_b1fb_f2189862d0c5row26_col3 {\n",
       "            background-color:  #daf9da;\n",
       "            color:  #000000;\n",
       "            : ;\n",
       "        }    #T_12ac37e4_48dc_11ea_b1fb_f2189862d0c5row26_col4 {\n",
       "            background-color:  #d5f6d5;\n",
       "            color:  #000000;\n",
       "            : ;\n",
       "        }    #T_12ac37e4_48dc_11ea_b1fb_f2189862d0c5row26_col8 {\n",
       "            color:  green;\n",
       "            : ;\n",
       "            : ;\n",
       "        }    #T_12ac37e4_48dc_11ea_b1fb_f2189862d0c5row26_col9 {\n",
       "            color:  black;\n",
       "            : ;\n",
       "        }    #T_12ac37e4_48dc_11ea_b1fb_f2189862d0c5row27_col2 {\n",
       "            background-color:  #52ad52;\n",
       "            color:  #000000;\n",
       "            : ;\n",
       "        }    #T_12ac37e4_48dc_11ea_b1fb_f2189862d0c5row27_col3 {\n",
       "            background-color:  #e1fde1;\n",
       "            color:  #000000;\n",
       "            : ;\n",
       "        }    #T_12ac37e4_48dc_11ea_b1fb_f2189862d0c5row27_col4 {\n",
       "            background-color:  #dbf9db;\n",
       "            color:  #000000;\n",
       "            : ;\n",
       "        }    #T_12ac37e4_48dc_11ea_b1fb_f2189862d0c5row27_col8 {\n",
       "            color:  black;\n",
       "            : ;\n",
       "            : ;\n",
       "        }    #T_12ac37e4_48dc_11ea_b1fb_f2189862d0c5row27_col9 {\n",
       "            color:  black;\n",
       "            : ;\n",
       "        }    #T_12ac37e4_48dc_11ea_b1fb_f2189862d0c5row28_col2 {\n",
       "            background-color:  #9ed89e;\n",
       "            color:  #000000;\n",
       "            : ;\n",
       "        }    #T_12ac37e4_48dc_11ea_b1fb_f2189862d0c5row28_col3 {\n",
       "            background-color:  #dcfadc;\n",
       "            color:  #000000;\n",
       "            : ;\n",
       "        }    #T_12ac37e4_48dc_11ea_b1fb_f2189862d0c5row28_col4 {\n",
       "            background-color:  #d6f7d6;\n",
       "            color:  #000000;\n",
       "            : ;\n",
       "        }    #T_12ac37e4_48dc_11ea_b1fb_f2189862d0c5row28_col8 {\n",
       "            color:  green;\n",
       "            : ;\n",
       "            : ;\n",
       "        }    #T_12ac37e4_48dc_11ea_b1fb_f2189862d0c5row28_col9 {\n",
       "            color:  black;\n",
       "            : ;\n",
       "        }    #T_12ac37e4_48dc_11ea_b1fb_f2189862d0c5row29_col2 {\n",
       "            background-color:  #75c175;\n",
       "            color:  #000000;\n",
       "            : ;\n",
       "        }    #T_12ac37e4_48dc_11ea_b1fb_f2189862d0c5row29_col3 {\n",
       "            background-color:  #dffcdf;\n",
       "            color:  #000000;\n",
       "            : ;\n",
       "        }    #T_12ac37e4_48dc_11ea_b1fb_f2189862d0c5row29_col4 {\n",
       "            background-color:  #d3f5d3;\n",
       "            color:  #000000;\n",
       "            : ;\n",
       "        }    #T_12ac37e4_48dc_11ea_b1fb_f2189862d0c5row29_col8 {\n",
       "            color:  green;\n",
       "            : ;\n",
       "            : ;\n",
       "        }    #T_12ac37e4_48dc_11ea_b1fb_f2189862d0c5row29_col9 {\n",
       "            color:  black;\n",
       "            : ;\n",
       "        }    #T_12ac37e4_48dc_11ea_b1fb_f2189862d0c5row30_col2 {\n",
       "            background-color:  #008000;\n",
       "            color:  #f1f1f1;\n",
       "            : ;\n",
       "        }    #T_12ac37e4_48dc_11ea_b1fb_f2189862d0c5row30_col3 {\n",
       "            background-color:  #caf0ca;\n",
       "            color:  #000000;\n",
       "            : ;\n",
       "        }    #T_12ac37e4_48dc_11ea_b1fb_f2189862d0c5row30_col4 {\n",
       "            background-color:  #c5edc5;\n",
       "            color:  #000000;\n",
       "            : ;\n",
       "        }    #T_12ac37e4_48dc_11ea_b1fb_f2189862d0c5row30_col8 {\n",
       "            color:  black;\n",
       "            : ;\n",
       "            : ;\n",
       "        }    #T_12ac37e4_48dc_11ea_b1fb_f2189862d0c5row30_col9 {\n",
       "            color:  black;\n",
       "            : ;\n",
       "        }    #T_12ac37e4_48dc_11ea_b1fb_f2189862d0c5row31_col2 {\n",
       "            background-color:  #339c33;\n",
       "            color:  #000000;\n",
       "            : ;\n",
       "        }    #T_12ac37e4_48dc_11ea_b1fb_f2189862d0c5row31_col3 {\n",
       "            background-color:  #e2fde2;\n",
       "            color:  #000000;\n",
       "            : ;\n",
       "        }    #T_12ac37e4_48dc_11ea_b1fb_f2189862d0c5row31_col4 {\n",
       "            background-color:  #dbf9db;\n",
       "            color:  #000000;\n",
       "            : ;\n",
       "        }    #T_12ac37e4_48dc_11ea_b1fb_f2189862d0c5row31_col8 {\n",
       "            color:  black;\n",
       "            : ;\n",
       "            : ;\n",
       "        }    #T_12ac37e4_48dc_11ea_b1fb_f2189862d0c5row31_col9 {\n",
       "            color:  black;\n",
       "            : ;\n",
       "        }    #T_12ac37e4_48dc_11ea_b1fb_f2189862d0c5row32_col2 {\n",
       "            background-color:  #3ba13b;\n",
       "            color:  #000000;\n",
       "            : ;\n",
       "        }    #T_12ac37e4_48dc_11ea_b1fb_f2189862d0c5row32_col3 {\n",
       "            background-color:  #ddfbdd;\n",
       "            color:  #000000;\n",
       "            : ;\n",
       "        }    #T_12ac37e4_48dc_11ea_b1fb_f2189862d0c5row32_col4 {\n",
       "            background-color:  #d6f7d6;\n",
       "            color:  #000000;\n",
       "            : ;\n",
       "        }    #T_12ac37e4_48dc_11ea_b1fb_f2189862d0c5row32_col8 {\n",
       "            color:  black;\n",
       "            : ;\n",
       "            : ;\n",
       "        }    #T_12ac37e4_48dc_11ea_b1fb_f2189862d0c5row32_col9 {\n",
       "            color:  black;\n",
       "            : ;\n",
       "        }    #T_12ac37e4_48dc_11ea_b1fb_f2189862d0c5row33_col2 {\n",
       "            background-color:  #68ba68;\n",
       "            color:  #000000;\n",
       "            : ;\n",
       "        }    #T_12ac37e4_48dc_11ea_b1fb_f2189862d0c5row33_col3 {\n",
       "            background-color:  #e2fde2;\n",
       "            color:  #000000;\n",
       "            : ;\n",
       "        }    #T_12ac37e4_48dc_11ea_b1fb_f2189862d0c5row33_col4 {\n",
       "            background-color:  #ddfbdd;\n",
       "            color:  #000000;\n",
       "            : ;\n",
       "        }    #T_12ac37e4_48dc_11ea_b1fb_f2189862d0c5row33_col8 {\n",
       "            color:  black;\n",
       "            : ;\n",
       "            : ;\n",
       "        }    #T_12ac37e4_48dc_11ea_b1fb_f2189862d0c5row33_col9 {\n",
       "            color:  black;\n",
       "            : ;\n",
       "        }    #T_12ac37e4_48dc_11ea_b1fb_f2189862d0c5row34_col2 {\n",
       "            background-color:  #4daa4d;\n",
       "            color:  #000000;\n",
       "            : ;\n",
       "        }    #T_12ac37e4_48dc_11ea_b1fb_f2189862d0c5row34_col3 {\n",
       "            background-color:  #d3f5d3;\n",
       "            color:  #000000;\n",
       "            : ;\n",
       "        }    #T_12ac37e4_48dc_11ea_b1fb_f2189862d0c5row34_col4 {\n",
       "            background-color:  #caf0ca;\n",
       "            color:  #000000;\n",
       "            : ;\n",
       "        }    #T_12ac37e4_48dc_11ea_b1fb_f2189862d0c5row34_col8 {\n",
       "            color:  black;\n",
       "            : ;\n",
       "            : ;\n",
       "        }    #T_12ac37e4_48dc_11ea_b1fb_f2189862d0c5row34_col9 {\n",
       "            color:  black;\n",
       "            : ;\n",
       "        }    #T_12ac37e4_48dc_11ea_b1fb_f2189862d0c5row35_col2 {\n",
       "            background-color:  #70be70;\n",
       "            color:  #000000;\n",
       "            : ;\n",
       "        }    #T_12ac37e4_48dc_11ea_b1fb_f2189862d0c5row35_col3 {\n",
       "            background-color:  #e0fce0;\n",
       "            color:  #000000;\n",
       "            : ;\n",
       "        }    #T_12ac37e4_48dc_11ea_b1fb_f2189862d0c5row35_col4 {\n",
       "            background-color:  #dbf9db;\n",
       "            color:  #000000;\n",
       "            : ;\n",
       "        }    #T_12ac37e4_48dc_11ea_b1fb_f2189862d0c5row35_col8 {\n",
       "            color:  black;\n",
       "            : ;\n",
       "            : ;\n",
       "        }    #T_12ac37e4_48dc_11ea_b1fb_f2189862d0c5row35_col9 {\n",
       "            color:  black;\n",
       "            : ;\n",
       "        }    #T_12ac37e4_48dc_11ea_b1fb_f2189862d0c5row36_col2 {\n",
       "            background-color:  #339c33;\n",
       "            color:  #000000;\n",
       "            : ;\n",
       "        }    #T_12ac37e4_48dc_11ea_b1fb_f2189862d0c5row36_col3 {\n",
       "            background-color:  #e2fde2;\n",
       "            color:  #000000;\n",
       "            : ;\n",
       "        }    #T_12ac37e4_48dc_11ea_b1fb_f2189862d0c5row36_col4 {\n",
       "            background-color:  #e0fce0;\n",
       "            color:  #000000;\n",
       "            : ;\n",
       "        }    #T_12ac37e4_48dc_11ea_b1fb_f2189862d0c5row36_col8 {\n",
       "            color:  black;\n",
       "            : ;\n",
       "            : ;\n",
       "        }    #T_12ac37e4_48dc_11ea_b1fb_f2189862d0c5row36_col9 {\n",
       "            color:  black;\n",
       "            : ;\n",
       "        }    #T_12ac37e4_48dc_11ea_b1fb_f2189862d0c5row37_col2 {\n",
       "            background-color:  #309a30;\n",
       "            color:  #000000;\n",
       "            : ;\n",
       "        }    #T_12ac37e4_48dc_11ea_b1fb_f2189862d0c5row37_col3 {\n",
       "            background-color:  #e1fde1;\n",
       "            color:  #000000;\n",
       "            : ;\n",
       "        }    #T_12ac37e4_48dc_11ea_b1fb_f2189862d0c5row37_col4 {\n",
       "            background-color:  #e1fde1;\n",
       "            color:  #000000;\n",
       "            : ;\n",
       "        }    #T_12ac37e4_48dc_11ea_b1fb_f2189862d0c5row37_col8 {\n",
       "            color:  green;\n",
       "            : ;\n",
       "            : ;\n",
       "        }    #T_12ac37e4_48dc_11ea_b1fb_f2189862d0c5row37_col9 {\n",
       "            color:  black;\n",
       "            : ;\n",
       "        }    #T_12ac37e4_48dc_11ea_b1fb_f2189862d0c5row38_col2 {\n",
       "            background-color:  #3ea23e;\n",
       "            color:  #000000;\n",
       "            : ;\n",
       "        }    #T_12ac37e4_48dc_11ea_b1fb_f2189862d0c5row38_col3 {\n",
       "            background-color:  #dbf9db;\n",
       "            color:  #000000;\n",
       "            : ;\n",
       "        }    #T_12ac37e4_48dc_11ea_b1fb_f2189862d0c5row38_col4 {\n",
       "            background-color:  #d9f8d9;\n",
       "            color:  #000000;\n",
       "            : ;\n",
       "        }    #T_12ac37e4_48dc_11ea_b1fb_f2189862d0c5row38_col8 {\n",
       "            color:  black;\n",
       "            : ;\n",
       "            : ;\n",
       "        }    #T_12ac37e4_48dc_11ea_b1fb_f2189862d0c5row38_col9 {\n",
       "            color:  black;\n",
       "            : ;\n",
       "        }    #T_12ac37e4_48dc_11ea_b1fb_f2189862d0c5row39_col2 {\n",
       "            background-color:  #6ebd6e;\n",
       "            color:  #000000;\n",
       "            : ;\n",
       "        }    #T_12ac37e4_48dc_11ea_b1fb_f2189862d0c5row39_col3 {\n",
       "            background-color:  #e2fde2;\n",
       "            color:  #000000;\n",
       "            : ;\n",
       "        }    #T_12ac37e4_48dc_11ea_b1fb_f2189862d0c5row39_col4 {\n",
       "            background-color:  #dffcdf;\n",
       "            color:  #000000;\n",
       "            : ;\n",
       "        }    #T_12ac37e4_48dc_11ea_b1fb_f2189862d0c5row39_col8 {\n",
       "            color:  green;\n",
       "            : ;\n",
       "            : ;\n",
       "        }    #T_12ac37e4_48dc_11ea_b1fb_f2189862d0c5row39_col9 {\n",
       "            color:  black;\n",
       "            : ;\n",
       "        }    #T_12ac37e4_48dc_11ea_b1fb_f2189862d0c5row40_col2 {\n",
       "            background-color:  #52ad52;\n",
       "            color:  #000000;\n",
       "            : ;\n",
       "        }    #T_12ac37e4_48dc_11ea_b1fb_f2189862d0c5row40_col3 {\n",
       "            background-color:  #e4fee4;\n",
       "            color:  #000000;\n",
       "            : ;\n",
       "        }    #T_12ac37e4_48dc_11ea_b1fb_f2189862d0c5row40_col4 {\n",
       "            background-color:  #e0fce0;\n",
       "            color:  #000000;\n",
       "            : ;\n",
       "        }    #T_12ac37e4_48dc_11ea_b1fb_f2189862d0c5row40_col8 {\n",
       "            color:  black;\n",
       "            : ;\n",
       "            : ;\n",
       "        }    #T_12ac37e4_48dc_11ea_b1fb_f2189862d0c5row40_col9 {\n",
       "            color:  black;\n",
       "            : ;\n",
       "        }    #T_12ac37e4_48dc_11ea_b1fb_f2189862d0c5row41_col2 {\n",
       "            background-color:  #389f38;\n",
       "            color:  #000000;\n",
       "            : ;\n",
       "        }    #T_12ac37e4_48dc_11ea_b1fb_f2189862d0c5row41_col3 {\n",
       "            background-color:  #dcfadc;\n",
       "            color:  #000000;\n",
       "            : ;\n",
       "        }    #T_12ac37e4_48dc_11ea_b1fb_f2189862d0c5row41_col4 {\n",
       "            background-color:  #d4f6d4;\n",
       "            color:  #000000;\n",
       "            : ;\n",
       "        }    #T_12ac37e4_48dc_11ea_b1fb_f2189862d0c5row41_col8 {\n",
       "            color:  black;\n",
       "            : ;\n",
       "            : ;\n",
       "        }    #T_12ac37e4_48dc_11ea_b1fb_f2189862d0c5row41_col9 {\n",
       "            color:  black;\n",
       "            : ;\n",
       "        }    #T_12ac37e4_48dc_11ea_b1fb_f2189862d0c5row42_col2 {\n",
       "            background-color:  #6dbc6d;\n",
       "            color:  #000000;\n",
       "            : ;\n",
       "        }    #T_12ac37e4_48dc_11ea_b1fb_f2189862d0c5row42_col3 {\n",
       "            background-color:  #ddfbdd;\n",
       "            color:  #000000;\n",
       "            : ;\n",
       "        }    #T_12ac37e4_48dc_11ea_b1fb_f2189862d0c5row42_col4 {\n",
       "            background-color:  #d8f8d8;\n",
       "            color:  #000000;\n",
       "            : ;\n",
       "        }    #T_12ac37e4_48dc_11ea_b1fb_f2189862d0c5row42_col8 {\n",
       "            color:  black;\n",
       "            : ;\n",
       "            : ;\n",
       "        }    #T_12ac37e4_48dc_11ea_b1fb_f2189862d0c5row42_col9 {\n",
       "            color:  black;\n",
       "            : ;\n",
       "        }    #T_12ac37e4_48dc_11ea_b1fb_f2189862d0c5row43_col2 {\n",
       "            background-color:  #289628;\n",
       "            color:  #000000;\n",
       "            : ;\n",
       "        }    #T_12ac37e4_48dc_11ea_b1fb_f2189862d0c5row43_col3 {\n",
       "            background-color:  #d7f7d7;\n",
       "            color:  #000000;\n",
       "            : ;\n",
       "        }    #T_12ac37e4_48dc_11ea_b1fb_f2189862d0c5row43_col4 {\n",
       "            background-color:  #daf9da;\n",
       "            color:  #000000;\n",
       "            : ;\n",
       "        }    #T_12ac37e4_48dc_11ea_b1fb_f2189862d0c5row43_col8 {\n",
       "            color:  green;\n",
       "            : ;\n",
       "            : ;\n",
       "        }    #T_12ac37e4_48dc_11ea_b1fb_f2189862d0c5row43_col9 {\n",
       "            color:  black;\n",
       "            : ;\n",
       "        }    #T_12ac37e4_48dc_11ea_b1fb_f2189862d0c5row44_col2 {\n",
       "            background-color:  #319b31;\n",
       "            color:  #000000;\n",
       "            : ;\n",
       "        }    #T_12ac37e4_48dc_11ea_b1fb_f2189862d0c5row44_col3 {\n",
       "            background-color:  #e3fee3;\n",
       "            color:  #000000;\n",
       "            : ;\n",
       "        }    #T_12ac37e4_48dc_11ea_b1fb_f2189862d0c5row44_col4 {\n",
       "            background-color:  #e3fee3;\n",
       "            color:  #000000;\n",
       "            : ;\n",
       "        }    #T_12ac37e4_48dc_11ea_b1fb_f2189862d0c5row44_col8 {\n",
       "            color:  black;\n",
       "            : ;\n",
       "            : ;\n",
       "        }    #T_12ac37e4_48dc_11ea_b1fb_f2189862d0c5row44_col9 {\n",
       "            color:  darkorange;\n",
       "            : ;\n",
       "        }    #T_12ac37e4_48dc_11ea_b1fb_f2189862d0c5row45_col2 {\n",
       "            background-color:  #7ec67e;\n",
       "            color:  #000000;\n",
       "            : ;\n",
       "        }    #T_12ac37e4_48dc_11ea_b1fb_f2189862d0c5row45_col3 {\n",
       "            background-color:  #e2fde2;\n",
       "            color:  #000000;\n",
       "            : ;\n",
       "        }    #T_12ac37e4_48dc_11ea_b1fb_f2189862d0c5row45_col4 {\n",
       "            background-color:  #dcfadc;\n",
       "            color:  #000000;\n",
       "            : ;\n",
       "        }    #T_12ac37e4_48dc_11ea_b1fb_f2189862d0c5row45_col8 {\n",
       "            color:  black;\n",
       "            : ;\n",
       "            : ;\n",
       "        }    #T_12ac37e4_48dc_11ea_b1fb_f2189862d0c5row45_col9 {\n",
       "            color:  black;\n",
       "            : ;\n",
       "        }    #T_12ac37e4_48dc_11ea_b1fb_f2189862d0c5row46_col2 {\n",
       "            background-color:  #7bc47b;\n",
       "            color:  #000000;\n",
       "            : ;\n",
       "        }    #T_12ac37e4_48dc_11ea_b1fb_f2189862d0c5row46_col3 {\n",
       "            background-color:  #e4fee4;\n",
       "            color:  #000000;\n",
       "            : ;\n",
       "        }    #T_12ac37e4_48dc_11ea_b1fb_f2189862d0c5row46_col4 {\n",
       "            background-color:  #defbde;\n",
       "            color:  #000000;\n",
       "            : ;\n",
       "        }    #T_12ac37e4_48dc_11ea_b1fb_f2189862d0c5row46_col8 {\n",
       "            color:  black;\n",
       "            : ;\n",
       "            : ;\n",
       "        }    #T_12ac37e4_48dc_11ea_b1fb_f2189862d0c5row46_col9 {\n",
       "            color:  black;\n",
       "            : ;\n",
       "        }    #T_12ac37e4_48dc_11ea_b1fb_f2189862d0c5row47_col2 {\n",
       "            background-color:  #2d992d;\n",
       "            color:  #000000;\n",
       "            : ;\n",
       "        }    #T_12ac37e4_48dc_11ea_b1fb_f2189862d0c5row47_col3 {\n",
       "            background-color:  #dcfadc;\n",
       "            color:  #000000;\n",
       "            : ;\n",
       "        }    #T_12ac37e4_48dc_11ea_b1fb_f2189862d0c5row47_col4 {\n",
       "            background-color:  #dffcdf;\n",
       "            color:  #000000;\n",
       "            : ;\n",
       "        }    #T_12ac37e4_48dc_11ea_b1fb_f2189862d0c5row47_col8 {\n",
       "            color:  black;\n",
       "            : ;\n",
       "            : ;\n",
       "        }    #T_12ac37e4_48dc_11ea_b1fb_f2189862d0c5row47_col9 {\n",
       "            color:  black;\n",
       "            : ;\n",
       "        }    #T_12ac37e4_48dc_11ea_b1fb_f2189862d0c5row48_col2 {\n",
       "            background-color:  #309a30;\n",
       "            color:  #000000;\n",
       "            : ;\n",
       "        }    #T_12ac37e4_48dc_11ea_b1fb_f2189862d0c5row48_col3 {\n",
       "            background-color:  #dffcdf;\n",
       "            color:  #000000;\n",
       "            : ;\n",
       "        }    #T_12ac37e4_48dc_11ea_b1fb_f2189862d0c5row48_col4 {\n",
       "            background-color:  #ddfbdd;\n",
       "            color:  #000000;\n",
       "            : ;\n",
       "        }    #T_12ac37e4_48dc_11ea_b1fb_f2189862d0c5row48_col8 {\n",
       "            color:  black;\n",
       "            : ;\n",
       "            : ;\n",
       "        }    #T_12ac37e4_48dc_11ea_b1fb_f2189862d0c5row48_col9 {\n",
       "            color:  darkorange;\n",
       "            : ;\n",
       "        }    #T_12ac37e4_48dc_11ea_b1fb_f2189862d0c5row49_col2 {\n",
       "            background-color:  #83c983;\n",
       "            color:  #000000;\n",
       "            : ;\n",
       "        }    #T_12ac37e4_48dc_11ea_b1fb_f2189862d0c5row49_col3 {\n",
       "            background-color:  #e2fde2;\n",
       "            color:  #000000;\n",
       "            : ;\n",
       "        }    #T_12ac37e4_48dc_11ea_b1fb_f2189862d0c5row49_col4 {\n",
       "            background-color:  #e1fde1;\n",
       "            color:  #000000;\n",
       "            : ;\n",
       "        }    #T_12ac37e4_48dc_11ea_b1fb_f2189862d0c5row49_col8 {\n",
       "            color:  black;\n",
       "            : ;\n",
       "            : ;\n",
       "        }    #T_12ac37e4_48dc_11ea_b1fb_f2189862d0c5row49_col9 {\n",
       "            color:  black;\n",
       "            : ;\n",
       "        }    #T_12ac37e4_48dc_11ea_b1fb_f2189862d0c5row50_col2 {\n",
       "            background-color:  #44a544;\n",
       "            color:  #000000;\n",
       "            : ;\n",
       "        }    #T_12ac37e4_48dc_11ea_b1fb_f2189862d0c5row50_col3 {\n",
       "            background-color:  #dcfadc;\n",
       "            color:  #000000;\n",
       "            : ;\n",
       "        }    #T_12ac37e4_48dc_11ea_b1fb_f2189862d0c5row50_col4 {\n",
       "            background-color:  #daf9da;\n",
       "            color:  #000000;\n",
       "            : ;\n",
       "        }    #T_12ac37e4_48dc_11ea_b1fb_f2189862d0c5row50_col8 {\n",
       "            color:  green;\n",
       "            : ;\n",
       "            : ;\n",
       "        }    #T_12ac37e4_48dc_11ea_b1fb_f2189862d0c5row50_col9 {\n",
       "            color:  blue;\n",
       "            : ;\n",
       "        }    #T_12ac37e4_48dc_11ea_b1fb_f2189862d0c5row51_col2 {\n",
       "            background-color:  #94d294;\n",
       "            color:  #000000;\n",
       "            : ;\n",
       "        }    #T_12ac37e4_48dc_11ea_b1fb_f2189862d0c5row51_col3 {\n",
       "            background-color:  #e1fde1;\n",
       "            color:  #000000;\n",
       "            : ;\n",
       "        }    #T_12ac37e4_48dc_11ea_b1fb_f2189862d0c5row51_col4 {\n",
       "            background-color:  #ddfbdd;\n",
       "            color:  #000000;\n",
       "            : ;\n",
       "        }    #T_12ac37e4_48dc_11ea_b1fb_f2189862d0c5row51_col8 {\n",
       "            color:  black;\n",
       "            : ;\n",
       "            : ;\n",
       "        }    #T_12ac37e4_48dc_11ea_b1fb_f2189862d0c5row51_col9 {\n",
       "            color:  black;\n",
       "            : ;\n",
       "        }    #T_12ac37e4_48dc_11ea_b1fb_f2189862d0c5row52_col2 {\n",
       "            background-color:  #5db35d;\n",
       "            color:  #000000;\n",
       "            : ;\n",
       "        }    #T_12ac37e4_48dc_11ea_b1fb_f2189862d0c5row52_col3 {\n",
       "            background-color:  #e4fee4;\n",
       "            color:  #000000;\n",
       "            : ;\n",
       "        }    #T_12ac37e4_48dc_11ea_b1fb_f2189862d0c5row52_col4 {\n",
       "            background-color:  #e4fee4;\n",
       "            color:  #000000;\n",
       "            : ;\n",
       "        }    #T_12ac37e4_48dc_11ea_b1fb_f2189862d0c5row52_col8 {\n",
       "            color:  black;\n",
       "            : ;\n",
       "            : ;\n",
       "        }    #T_12ac37e4_48dc_11ea_b1fb_f2189862d0c5row52_col9 {\n",
       "            color:  blue;\n",
       "            : ;\n",
       "        }    #T_12ac37e4_48dc_11ea_b1fb_f2189862d0c5row53_col2 {\n",
       "            background-color:  #0d870d;\n",
       "            color:  #f1f1f1;\n",
       "            : ;\n",
       "        }    #T_12ac37e4_48dc_11ea_b1fb_f2189862d0c5row53_col3 {\n",
       "            background-color:  #e0fce0;\n",
       "            color:  #000000;\n",
       "            : ;\n",
       "        }    #T_12ac37e4_48dc_11ea_b1fb_f2189862d0c5row53_col4 {\n",
       "            background-color:  #dffcdf;\n",
       "            color:  #000000;\n",
       "            : ;\n",
       "        }    #T_12ac37e4_48dc_11ea_b1fb_f2189862d0c5row53_col8 {\n",
       "            color:  black;\n",
       "            : ;\n",
       "            : ;\n",
       "        }    #T_12ac37e4_48dc_11ea_b1fb_f2189862d0c5row53_col9 {\n",
       "            color:  black;\n",
       "            : ;\n",
       "        }    #T_12ac37e4_48dc_11ea_b1fb_f2189862d0c5row54_col2 {\n",
       "            background-color:  #52ad52;\n",
       "            color:  #000000;\n",
       "            : ;\n",
       "        }    #T_12ac37e4_48dc_11ea_b1fb_f2189862d0c5row54_col3 {\n",
       "            background-color:  #e4fee4;\n",
       "            color:  #000000;\n",
       "            : ;\n",
       "        }    #T_12ac37e4_48dc_11ea_b1fb_f2189862d0c5row54_col4 {\n",
       "            background-color:  #e0fce0;\n",
       "            color:  #000000;\n",
       "            : ;\n",
       "        }    #T_12ac37e4_48dc_11ea_b1fb_f2189862d0c5row54_col8 {\n",
       "            color:  black;\n",
       "            : ;\n",
       "            : ;\n",
       "        }    #T_12ac37e4_48dc_11ea_b1fb_f2189862d0c5row54_col9 {\n",
       "            color:  blue;\n",
       "            : ;\n",
       "        }    #T_12ac37e4_48dc_11ea_b1fb_f2189862d0c5row55_col2 {\n",
       "            background-color:  #209220;\n",
       "            color:  #000000;\n",
       "            : ;\n",
       "        }    #T_12ac37e4_48dc_11ea_b1fb_f2189862d0c5row55_col3 {\n",
       "            background-color:  #e3fee3;\n",
       "            color:  #000000;\n",
       "            : ;\n",
       "        }    #T_12ac37e4_48dc_11ea_b1fb_f2189862d0c5row55_col4 {\n",
       "            background-color:  #defbde;\n",
       "            color:  #000000;\n",
       "            : ;\n",
       "        }    #T_12ac37e4_48dc_11ea_b1fb_f2189862d0c5row55_col8 {\n",
       "            color:  black;\n",
       "            : ;\n",
       "            : ;\n",
       "        }    #T_12ac37e4_48dc_11ea_b1fb_f2189862d0c5row55_col9 {\n",
       "            color:  darkorange;\n",
       "            : ;\n",
       "        }    #T_12ac37e4_48dc_11ea_b1fb_f2189862d0c5row56_col2 {\n",
       "            background-color:  #67b967;\n",
       "            color:  #000000;\n",
       "            : ;\n",
       "        }    #T_12ac37e4_48dc_11ea_b1fb_f2189862d0c5row56_col3 {\n",
       "            background-color:  #e5ffe5;\n",
       "            color:  #000000;\n",
       "            : ;\n",
       "        }    #T_12ac37e4_48dc_11ea_b1fb_f2189862d0c5row56_col4 {\n",
       "            background-color:  #e2fde2;\n",
       "            color:  #000000;\n",
       "            : ;\n",
       "        }    #T_12ac37e4_48dc_11ea_b1fb_f2189862d0c5row56_col8 {\n",
       "            color:  black;\n",
       "            : ;\n",
       "            : ;\n",
       "        }    #T_12ac37e4_48dc_11ea_b1fb_f2189862d0c5row56_col9 {\n",
       "            color:  black;\n",
       "            : ;\n",
       "        }    #T_12ac37e4_48dc_11ea_b1fb_f2189862d0c5row57_col2 {\n",
       "            background-color:  #5fb55f;\n",
       "            color:  #000000;\n",
       "            : ;\n",
       "        }    #T_12ac37e4_48dc_11ea_b1fb_f2189862d0c5row57_col3 {\n",
       "            background-color:  #e2fde2;\n",
       "            color:  #000000;\n",
       "            : ;\n",
       "        }    #T_12ac37e4_48dc_11ea_b1fb_f2189862d0c5row57_col4 {\n",
       "            background-color:  #daf9da;\n",
       "            color:  #000000;\n",
       "            : ;\n",
       "        }    #T_12ac37e4_48dc_11ea_b1fb_f2189862d0c5row57_col8 {\n",
       "            color:  black;\n",
       "            : ;\n",
       "            : ;\n",
       "        }    #T_12ac37e4_48dc_11ea_b1fb_f2189862d0c5row57_col9 {\n",
       "            color:  black;\n",
       "            : ;\n",
       "        }    #T_12ac37e4_48dc_11ea_b1fb_f2189862d0c5row58_col2 {\n",
       "            background-color:  #118911;\n",
       "            color:  #f1f1f1;\n",
       "            : ;\n",
       "        }    #T_12ac37e4_48dc_11ea_b1fb_f2189862d0c5row58_col3 {\n",
       "            background-color:  #e4fee4;\n",
       "            color:  #000000;\n",
       "            : ;\n",
       "        }    #T_12ac37e4_48dc_11ea_b1fb_f2189862d0c5row58_col4 {\n",
       "            background-color:  #e4fee4;\n",
       "            color:  #000000;\n",
       "            : ;\n",
       "        }    #T_12ac37e4_48dc_11ea_b1fb_f2189862d0c5row58_col8 {\n",
       "            color:  black;\n",
       "            : ;\n",
       "            : ;\n",
       "        }    #T_12ac37e4_48dc_11ea_b1fb_f2189862d0c5row58_col9 {\n",
       "            color:  black;\n",
       "            : ;\n",
       "        }    #T_12ac37e4_48dc_11ea_b1fb_f2189862d0c5row59_col2 {\n",
       "            background-color:  #6dbc6d;\n",
       "            color:  #000000;\n",
       "            : ;\n",
       "        }    #T_12ac37e4_48dc_11ea_b1fb_f2189862d0c5row59_col3 {\n",
       "            background-color:  #dffcdf;\n",
       "            color:  #000000;\n",
       "            : ;\n",
       "        }    #T_12ac37e4_48dc_11ea_b1fb_f2189862d0c5row59_col4 {\n",
       "            background-color:  #ddfbdd;\n",
       "            color:  #000000;\n",
       "            : ;\n",
       "        }    #T_12ac37e4_48dc_11ea_b1fb_f2189862d0c5row59_col8 {\n",
       "            color:  green;\n",
       "            : ;\n",
       "            : ;\n",
       "        }    #T_12ac37e4_48dc_11ea_b1fb_f2189862d0c5row59_col9 {\n",
       "            color:  black;\n",
       "            : ;\n",
       "        }    #T_12ac37e4_48dc_11ea_b1fb_f2189862d0c5row60_col2 {\n",
       "            background-color:  #87cb87;\n",
       "            color:  #000000;\n",
       "            : ;\n",
       "        }    #T_12ac37e4_48dc_11ea_b1fb_f2189862d0c5row60_col3 {\n",
       "            background-color:  #e0fce0;\n",
       "            color:  #000000;\n",
       "            : ;\n",
       "        }    #T_12ac37e4_48dc_11ea_b1fb_f2189862d0c5row60_col4 {\n",
       "            background-color:  #d5f6d5;\n",
       "            color:  #000000;\n",
       "            : ;\n",
       "        }    #T_12ac37e4_48dc_11ea_b1fb_f2189862d0c5row60_col8 {\n",
       "            color:  green;\n",
       "            : ;\n",
       "            : ;\n",
       "        }    #T_12ac37e4_48dc_11ea_b1fb_f2189862d0c5row60_col9 {\n",
       "            color:  black;\n",
       "            : ;\n",
       "        }    #T_12ac37e4_48dc_11ea_b1fb_f2189862d0c5row61_col2 {\n",
       "            background-color:  #5db35d;\n",
       "            color:  #000000;\n",
       "            : ;\n",
       "        }    #T_12ac37e4_48dc_11ea_b1fb_f2189862d0c5row61_col3 {\n",
       "            background-color:  #e2fde2;\n",
       "            color:  #000000;\n",
       "            : ;\n",
       "        }    #T_12ac37e4_48dc_11ea_b1fb_f2189862d0c5row61_col4 {\n",
       "            background-color:  #e1fde1;\n",
       "            color:  #000000;\n",
       "            : ;\n",
       "        }    #T_12ac37e4_48dc_11ea_b1fb_f2189862d0c5row61_col8 {\n",
       "            color:  black;\n",
       "            : ;\n",
       "            : ;\n",
       "        }    #T_12ac37e4_48dc_11ea_b1fb_f2189862d0c5row61_col9 {\n",
       "            color:  darkorange;\n",
       "            : ;\n",
       "        }    #T_12ac37e4_48dc_11ea_b1fb_f2189862d0c5row62_col2 {\n",
       "            background-color:  #b8e6b8;\n",
       "            color:  #000000;\n",
       "            : ;\n",
       "        }    #T_12ac37e4_48dc_11ea_b1fb_f2189862d0c5row62_col3 {\n",
       "            background-color:  #e5ffe5;\n",
       "            color:  #000000;\n",
       "            : ;\n",
       "        }    #T_12ac37e4_48dc_11ea_b1fb_f2189862d0c5row62_col4 {\n",
       "            background-color:  #e2fde2;\n",
       "            color:  #000000;\n",
       "            : ;\n",
       "        }    #T_12ac37e4_48dc_11ea_b1fb_f2189862d0c5row62_col8 {\n",
       "            color:  black;\n",
       "            : ;\n",
       "            : ;\n",
       "        }    #T_12ac37e4_48dc_11ea_b1fb_f2189862d0c5row62_col9 {\n",
       "            color:  black;\n",
       "            : ;\n",
       "        }    #T_12ac37e4_48dc_11ea_b1fb_f2189862d0c5row63_col2 {\n",
       "            background-color:  #92d192;\n",
       "            color:  #000000;\n",
       "            : ;\n",
       "        }    #T_12ac37e4_48dc_11ea_b1fb_f2189862d0c5row63_col3 {\n",
       "            background-color:  #e2fde2;\n",
       "            color:  #000000;\n",
       "            : ;\n",
       "        }    #T_12ac37e4_48dc_11ea_b1fb_f2189862d0c5row63_col4 {\n",
       "            background-color:  #e1fde1;\n",
       "            color:  #000000;\n",
       "            : ;\n",
       "        }    #T_12ac37e4_48dc_11ea_b1fb_f2189862d0c5row63_col8 {\n",
       "            color:  black;\n",
       "            : ;\n",
       "            : ;\n",
       "        }    #T_12ac37e4_48dc_11ea_b1fb_f2189862d0c5row63_col9 {\n",
       "            color:  black;\n",
       "            : ;\n",
       "        }    #T_12ac37e4_48dc_11ea_b1fb_f2189862d0c5row64_col2 {\n",
       "            background-color:  #a6dca6;\n",
       "            color:  #000000;\n",
       "            : ;\n",
       "        }    #T_12ac37e4_48dc_11ea_b1fb_f2189862d0c5row64_col3 {\n",
       "            background-color:  #e4fee4;\n",
       "            color:  #000000;\n",
       "            : ;\n",
       "        }    #T_12ac37e4_48dc_11ea_b1fb_f2189862d0c5row64_col4 {\n",
       "            background-color:  #e3fee3;\n",
       "            color:  #000000;\n",
       "            : ;\n",
       "        }    #T_12ac37e4_48dc_11ea_b1fb_f2189862d0c5row64_col8 {\n",
       "            color:  green;\n",
       "            : ;\n",
       "            : ;\n",
       "        }    #T_12ac37e4_48dc_11ea_b1fb_f2189862d0c5row64_col9 {\n",
       "            color:  black;\n",
       "            : ;\n",
       "        }    #T_12ac37e4_48dc_11ea_b1fb_f2189862d0c5row65_col2 {\n",
       "            background-color:  #79c379;\n",
       "            color:  #000000;\n",
       "            : ;\n",
       "        }    #T_12ac37e4_48dc_11ea_b1fb_f2189862d0c5row65_col3 {\n",
       "            background-color:  #e0fce0;\n",
       "            color:  #000000;\n",
       "            : ;\n",
       "        }    #T_12ac37e4_48dc_11ea_b1fb_f2189862d0c5row65_col4 {\n",
       "            background-color:  #e0fce0;\n",
       "            color:  #000000;\n",
       "            : ;\n",
       "        }    #T_12ac37e4_48dc_11ea_b1fb_f2189862d0c5row65_col8 {\n",
       "            color:  green;\n",
       "            : ;\n",
       "            : ;\n",
       "        }    #T_12ac37e4_48dc_11ea_b1fb_f2189862d0c5row65_col9 {\n",
       "            color:  black;\n",
       "            : ;\n",
       "        }    #T_12ac37e4_48dc_11ea_b1fb_f2189862d0c5row66_col2 {\n",
       "            background-color:  #46a746;\n",
       "            color:  #000000;\n",
       "            : ;\n",
       "        }    #T_12ac37e4_48dc_11ea_b1fb_f2189862d0c5row66_col3 {\n",
       "            background-color:  #e5ffe5;\n",
       "            color:  #000000;\n",
       "            : ;\n",
       "        }    #T_12ac37e4_48dc_11ea_b1fb_f2189862d0c5row66_col4 {\n",
       "            background-color:  #e3fee3;\n",
       "            color:  #000000;\n",
       "            : ;\n",
       "        }    #T_12ac37e4_48dc_11ea_b1fb_f2189862d0c5row66_col8 {\n",
       "            color:  black;\n",
       "            : ;\n",
       "            : ;\n",
       "        }    #T_12ac37e4_48dc_11ea_b1fb_f2189862d0c5row66_col9 {\n",
       "            color:  black;\n",
       "            : ;\n",
       "        }    #T_12ac37e4_48dc_11ea_b1fb_f2189862d0c5row67_col2 {\n",
       "            background-color:  #359d35;\n",
       "            color:  #000000;\n",
       "            : ;\n",
       "        }    #T_12ac37e4_48dc_11ea_b1fb_f2189862d0c5row67_col3 {\n",
       "            background-color:  #e5ffe5;\n",
       "            color:  #000000;\n",
       "            : ;\n",
       "        }    #T_12ac37e4_48dc_11ea_b1fb_f2189862d0c5row67_col4 {\n",
       "            background-color:  #e4fee4;\n",
       "            color:  #000000;\n",
       "            : ;\n",
       "        }    #T_12ac37e4_48dc_11ea_b1fb_f2189862d0c5row67_col8 {\n",
       "            color:  green;\n",
       "            : ;\n",
       "            : ;\n",
       "        }    #T_12ac37e4_48dc_11ea_b1fb_f2189862d0c5row67_col9 {\n",
       "            color:  black;\n",
       "            : ;\n",
       "        }    #T_12ac37e4_48dc_11ea_b1fb_f2189862d0c5row68_col2 {\n",
       "            background-color:  #399f39;\n",
       "            color:  #000000;\n",
       "            : ;\n",
       "        }    #T_12ac37e4_48dc_11ea_b1fb_f2189862d0c5row68_col3 {\n",
       "            background-color:  #e5ffe5;\n",
       "            color:  #000000;\n",
       "            : ;\n",
       "        }    #T_12ac37e4_48dc_11ea_b1fb_f2189862d0c5row68_col4 {\n",
       "            background-color:  #e2fde2;\n",
       "            color:  #000000;\n",
       "            : ;\n",
       "        }    #T_12ac37e4_48dc_11ea_b1fb_f2189862d0c5row68_col8 {\n",
       "            color:  green;\n",
       "            : ;\n",
       "            : ;\n",
       "        }    #T_12ac37e4_48dc_11ea_b1fb_f2189862d0c5row68_col9 {\n",
       "            color:  black;\n",
       "            : ;\n",
       "        }    #T_12ac37e4_48dc_11ea_b1fb_f2189862d0c5row69_col2 {\n",
       "            background-color:  #5fb55f;\n",
       "            color:  #000000;\n",
       "            : ;\n",
       "        }    #T_12ac37e4_48dc_11ea_b1fb_f2189862d0c5row69_col3 {\n",
       "            background-color:  #e5ffe5;\n",
       "            color:  #000000;\n",
       "            : ;\n",
       "        }    #T_12ac37e4_48dc_11ea_b1fb_f2189862d0c5row69_col4 {\n",
       "            background-color:  #e5ffe5;\n",
       "            color:  #000000;\n",
       "            : ;\n",
       "        }    #T_12ac37e4_48dc_11ea_b1fb_f2189862d0c5row69_col8 {\n",
       "            color:  black;\n",
       "            : ;\n",
       "            : ;\n",
       "        }    #T_12ac37e4_48dc_11ea_b1fb_f2189862d0c5row69_col9 {\n",
       "            color:  black;\n",
       "            : ;\n",
       "        }    #T_12ac37e4_48dc_11ea_b1fb_f2189862d0c5row70_col2 {\n",
       "            background-color:  #5eb45e;\n",
       "            color:  #000000;\n",
       "            : ;\n",
       "        }    #T_12ac37e4_48dc_11ea_b1fb_f2189862d0c5row70_col3 {\n",
       "            background-color:  #e4fee4;\n",
       "            color:  #000000;\n",
       "            : ;\n",
       "        }    #T_12ac37e4_48dc_11ea_b1fb_f2189862d0c5row70_col4 {\n",
       "            background-color:  #e4fee4;\n",
       "            color:  #000000;\n",
       "            : ;\n",
       "        }    #T_12ac37e4_48dc_11ea_b1fb_f2189862d0c5row70_col8 {\n",
       "            color:  green;\n",
       "            : ;\n",
       "            : ;\n",
       "        }    #T_12ac37e4_48dc_11ea_b1fb_f2189862d0c5row70_col9 {\n",
       "            color:  black;\n",
       "            : ;\n",
       "        }    #T_12ac37e4_48dc_11ea_b1fb_f2189862d0c5row71_col2 {\n",
       "            background-color:  #9fd89f;\n",
       "            color:  #000000;\n",
       "            : ;\n",
       "        }    #T_12ac37e4_48dc_11ea_b1fb_f2189862d0c5row71_col3 {\n",
       "            background-color:  #e4fee4;\n",
       "            color:  #000000;\n",
       "            : ;\n",
       "        }    #T_12ac37e4_48dc_11ea_b1fb_f2189862d0c5row71_col4 {\n",
       "            background-color:  #dffcdf;\n",
       "            color:  #000000;\n",
       "            : ;\n",
       "        }    #T_12ac37e4_48dc_11ea_b1fb_f2189862d0c5row71_col8 {\n",
       "            color:  black;\n",
       "            : ;\n",
       "            background-color:  yellow;\n",
       "        }    #T_12ac37e4_48dc_11ea_b1fb_f2189862d0c5row71_col9 {\n",
       "            color:  black;\n",
       "            : ;\n",
       "        }    #T_12ac37e4_48dc_11ea_b1fb_f2189862d0c5row72_col2 {\n",
       "            background-color:  #40a340;\n",
       "            color:  #000000;\n",
       "            : ;\n",
       "        }    #T_12ac37e4_48dc_11ea_b1fb_f2189862d0c5row72_col3 {\n",
       "            background-color:  #e2fde2;\n",
       "            color:  #000000;\n",
       "            : ;\n",
       "        }    #T_12ac37e4_48dc_11ea_b1fb_f2189862d0c5row72_col4 {\n",
       "            background-color:  #d9f8d9;\n",
       "            color:  #000000;\n",
       "            : ;\n",
       "        }    #T_12ac37e4_48dc_11ea_b1fb_f2189862d0c5row72_col8 {\n",
       "            color:  black;\n",
       "            : ;\n",
       "            : ;\n",
       "        }    #T_12ac37e4_48dc_11ea_b1fb_f2189862d0c5row72_col9 {\n",
       "            color:  black;\n",
       "            : ;\n",
       "        }    #T_12ac37e4_48dc_11ea_b1fb_f2189862d0c5row73_col2 {\n",
       "            background-color:  #2a972a;\n",
       "            color:  #000000;\n",
       "            : ;\n",
       "        }    #T_12ac37e4_48dc_11ea_b1fb_f2189862d0c5row73_col3 {\n",
       "            background-color:  #e4fee4;\n",
       "            color:  #000000;\n",
       "            : ;\n",
       "        }    #T_12ac37e4_48dc_11ea_b1fb_f2189862d0c5row73_col4 {\n",
       "            background-color:  #e3fee3;\n",
       "            color:  #000000;\n",
       "            : ;\n",
       "        }    #T_12ac37e4_48dc_11ea_b1fb_f2189862d0c5row73_col8 {\n",
       "            color:  black;\n",
       "            : ;\n",
       "            : ;\n",
       "        }    #T_12ac37e4_48dc_11ea_b1fb_f2189862d0c5row73_col9 {\n",
       "            color:  blue;\n",
       "            : ;\n",
       "        }    #T_12ac37e4_48dc_11ea_b1fb_f2189862d0c5row74_col2 {\n",
       "            background-color:  #94d294;\n",
       "            color:  #000000;\n",
       "            : ;\n",
       "        }    #T_12ac37e4_48dc_11ea_b1fb_f2189862d0c5row74_col3 {\n",
       "            background-color:  #e4fee4;\n",
       "            color:  #000000;\n",
       "            : ;\n",
       "        }    #T_12ac37e4_48dc_11ea_b1fb_f2189862d0c5row74_col4 {\n",
       "            background-color:  #e3fee3;\n",
       "            color:  #000000;\n",
       "            : ;\n",
       "        }    #T_12ac37e4_48dc_11ea_b1fb_f2189862d0c5row74_col8 {\n",
       "            color:  green;\n",
       "            : ;\n",
       "            : ;\n",
       "        }    #T_12ac37e4_48dc_11ea_b1fb_f2189862d0c5row74_col9 {\n",
       "            color:  black;\n",
       "            : ;\n",
       "        }    #T_12ac37e4_48dc_11ea_b1fb_f2189862d0c5row75_col2 {\n",
       "            background-color:  #329c32;\n",
       "            color:  #000000;\n",
       "            : ;\n",
       "        }    #T_12ac37e4_48dc_11ea_b1fb_f2189862d0c5row75_col3 {\n",
       "            background-color:  #e5ffe5;\n",
       "            color:  #000000;\n",
       "            : ;\n",
       "        }    #T_12ac37e4_48dc_11ea_b1fb_f2189862d0c5row75_col4 {\n",
       "            background-color:  #e5ffe5;\n",
       "            color:  #000000;\n",
       "            : ;\n",
       "        }    #T_12ac37e4_48dc_11ea_b1fb_f2189862d0c5row75_col8 {\n",
       "            color:  black;\n",
       "            : ;\n",
       "            : ;\n",
       "        }    #T_12ac37e4_48dc_11ea_b1fb_f2189862d0c5row75_col9 {\n",
       "            color:  darkorange;\n",
       "            : ;\n",
       "        }    #T_12ac37e4_48dc_11ea_b1fb_f2189862d0c5row76_col2 {\n",
       "            background-color:  #7ac47a;\n",
       "            color:  #000000;\n",
       "            : ;\n",
       "        }    #T_12ac37e4_48dc_11ea_b1fb_f2189862d0c5row76_col3 {\n",
       "            background-color:  #e5ffe5;\n",
       "            color:  #000000;\n",
       "            : ;\n",
       "        }    #T_12ac37e4_48dc_11ea_b1fb_f2189862d0c5row76_col4 {\n",
       "            background-color:  #e5ffe5;\n",
       "            color:  #000000;\n",
       "            : ;\n",
       "        }    #T_12ac37e4_48dc_11ea_b1fb_f2189862d0c5row76_col8 {\n",
       "            color:  black;\n",
       "            : ;\n",
       "            : ;\n",
       "        }    #T_12ac37e4_48dc_11ea_b1fb_f2189862d0c5row76_col9 {\n",
       "            color:  darkorange;\n",
       "            : ;\n",
       "        }    #T_12ac37e4_48dc_11ea_b1fb_f2189862d0c5row77_col2 {\n",
       "            background-color:  #65b865;\n",
       "            color:  #000000;\n",
       "            : ;\n",
       "        }    #T_12ac37e4_48dc_11ea_b1fb_f2189862d0c5row77_col3 {\n",
       "            background-color:  #e5ffe5;\n",
       "            color:  #000000;\n",
       "            : ;\n",
       "        }    #T_12ac37e4_48dc_11ea_b1fb_f2189862d0c5row77_col4 {\n",
       "            background-color:  #e5ffe5;\n",
       "            color:  #000000;\n",
       "            : ;\n",
       "        }    #T_12ac37e4_48dc_11ea_b1fb_f2189862d0c5row77_col8 {\n",
       "            color:  black;\n",
       "            : ;\n",
       "            : ;\n",
       "        }    #T_12ac37e4_48dc_11ea_b1fb_f2189862d0c5row77_col9 {\n",
       "            color:  black;\n",
       "            : ;\n",
       "        }    #T_12ac37e4_48dc_11ea_b1fb_f2189862d0c5row78_col2 {\n",
       "            background-color:  #79c379;\n",
       "            color:  #000000;\n",
       "            : ;\n",
       "        }    #T_12ac37e4_48dc_11ea_b1fb_f2189862d0c5row78_col3 {\n",
       "            background-color:  #e2fde2;\n",
       "            color:  #000000;\n",
       "            : ;\n",
       "        }    #T_12ac37e4_48dc_11ea_b1fb_f2189862d0c5row78_col4 {\n",
       "            background-color:  #e3fee3;\n",
       "            color:  #000000;\n",
       "            : ;\n",
       "        }    #T_12ac37e4_48dc_11ea_b1fb_f2189862d0c5row78_col8 {\n",
       "            color:  black;\n",
       "            : ;\n",
       "            : ;\n",
       "        }    #T_12ac37e4_48dc_11ea_b1fb_f2189862d0c5row78_col9 {\n",
       "            color:  blue;\n",
       "            : ;\n",
       "        }    #T_12ac37e4_48dc_11ea_b1fb_f2189862d0c5row79_col2 {\n",
       "            background-color:  #63b763;\n",
       "            color:  #000000;\n",
       "            : ;\n",
       "        }    #T_12ac37e4_48dc_11ea_b1fb_f2189862d0c5row79_col3 {\n",
       "            background-color:  #e4fee4;\n",
       "            color:  #000000;\n",
       "            : ;\n",
       "        }    #T_12ac37e4_48dc_11ea_b1fb_f2189862d0c5row79_col4 {\n",
       "            background-color:  #e0fce0;\n",
       "            color:  #000000;\n",
       "            : ;\n",
       "        }    #T_12ac37e4_48dc_11ea_b1fb_f2189862d0c5row79_col8 {\n",
       "            color:  green;\n",
       "            : ;\n",
       "            : ;\n",
       "        }    #T_12ac37e4_48dc_11ea_b1fb_f2189862d0c5row79_col9 {\n",
       "            color:  black;\n",
       "            : ;\n",
       "        }    #T_12ac37e4_48dc_11ea_b1fb_f2189862d0c5row80_col2 {\n",
       "            background-color:  #239323;\n",
       "            color:  #000000;\n",
       "            : ;\n",
       "        }    #T_12ac37e4_48dc_11ea_b1fb_f2189862d0c5row80_col3 {\n",
       "            background-color:  #e5ffe5;\n",
       "            color:  #000000;\n",
       "            : ;\n",
       "        }    #T_12ac37e4_48dc_11ea_b1fb_f2189862d0c5row80_col4 {\n",
       "            background-color:  #e5ffe5;\n",
       "            color:  #000000;\n",
       "            : ;\n",
       "        }    #T_12ac37e4_48dc_11ea_b1fb_f2189862d0c5row80_col8 {\n",
       "            color:  black;\n",
       "            : ;\n",
       "            : ;\n",
       "        }    #T_12ac37e4_48dc_11ea_b1fb_f2189862d0c5row80_col9 {\n",
       "            color:  black;\n",
       "            : ;\n",
       "        }    #T_12ac37e4_48dc_11ea_b1fb_f2189862d0c5row81_col2 {\n",
       "            background-color:  #3aa03a;\n",
       "            color:  #000000;\n",
       "            : ;\n",
       "        }    #T_12ac37e4_48dc_11ea_b1fb_f2189862d0c5row81_col3 {\n",
       "            background-color:  #e1fde1;\n",
       "            color:  #000000;\n",
       "            : ;\n",
       "        }    #T_12ac37e4_48dc_11ea_b1fb_f2189862d0c5row81_col4 {\n",
       "            background-color:  #e1fde1;\n",
       "            color:  #000000;\n",
       "            : ;\n",
       "        }    #T_12ac37e4_48dc_11ea_b1fb_f2189862d0c5row81_col8 {\n",
       "            color:  green;\n",
       "            : ;\n",
       "            : ;\n",
       "        }    #T_12ac37e4_48dc_11ea_b1fb_f2189862d0c5row81_col9 {\n",
       "            color:  black;\n",
       "            : ;\n",
       "        }    #T_12ac37e4_48dc_11ea_b1fb_f2189862d0c5row82_col2 {\n",
       "            background-color:  #54ae54;\n",
       "            color:  #000000;\n",
       "            : ;\n",
       "        }    #T_12ac37e4_48dc_11ea_b1fb_f2189862d0c5row82_col3 {\n",
       "            background-color:  #e0fce0;\n",
       "            color:  #000000;\n",
       "            : ;\n",
       "        }    #T_12ac37e4_48dc_11ea_b1fb_f2189862d0c5row82_col4 {\n",
       "            background-color:  #defbde;\n",
       "            color:  #000000;\n",
       "            : ;\n",
       "        }    #T_12ac37e4_48dc_11ea_b1fb_f2189862d0c5row82_col8 {\n",
       "            color:  black;\n",
       "            : ;\n",
       "            : ;\n",
       "        }    #T_12ac37e4_48dc_11ea_b1fb_f2189862d0c5row82_col9 {\n",
       "            color:  black;\n",
       "            : ;\n",
       "        }    #T_12ac37e4_48dc_11ea_b1fb_f2189862d0c5row83_col2 {\n",
       "            background-color:  #3ea23e;\n",
       "            color:  #000000;\n",
       "            : ;\n",
       "        }    #T_12ac37e4_48dc_11ea_b1fb_f2189862d0c5row83_col3 {\n",
       "            background-color:  #e5ffe5;\n",
       "            color:  #000000;\n",
       "            : ;\n",
       "        }    #T_12ac37e4_48dc_11ea_b1fb_f2189862d0c5row83_col4 {\n",
       "            background-color:  #e5ffe5;\n",
       "            color:  #000000;\n",
       "            : ;\n",
       "        }    #T_12ac37e4_48dc_11ea_b1fb_f2189862d0c5row83_col8 {\n",
       "            color:  green;\n",
       "            : ;\n",
       "            : ;\n",
       "        }    #T_12ac37e4_48dc_11ea_b1fb_f2189862d0c5row83_col9 {\n",
       "            color:  blue;\n",
       "            : ;\n",
       "        }    #T_12ac37e4_48dc_11ea_b1fb_f2189862d0c5row84_col2 {\n",
       "            background-color:  #41a441;\n",
       "            color:  #000000;\n",
       "            : ;\n",
       "        }    #T_12ac37e4_48dc_11ea_b1fb_f2189862d0c5row84_col3 {\n",
       "            background-color:  #e5ffe5;\n",
       "            color:  #000000;\n",
       "            : ;\n",
       "        }    #T_12ac37e4_48dc_11ea_b1fb_f2189862d0c5row84_col4 {\n",
       "            background-color:  #e4fee4;\n",
       "            color:  #000000;\n",
       "            : ;\n",
       "        }    #T_12ac37e4_48dc_11ea_b1fb_f2189862d0c5row84_col8 {\n",
       "            color:  black;\n",
       "            : ;\n",
       "            : ;\n",
       "        }    #T_12ac37e4_48dc_11ea_b1fb_f2189862d0c5row84_col9 {\n",
       "            color:  black;\n",
       "            : ;\n",
       "        }    #T_12ac37e4_48dc_11ea_b1fb_f2189862d0c5row85_col2 {\n",
       "            background-color:  #5eb45e;\n",
       "            color:  #000000;\n",
       "            : ;\n",
       "        }    #T_12ac37e4_48dc_11ea_b1fb_f2189862d0c5row85_col3 {\n",
       "            background-color:  #e3fee3;\n",
       "            color:  #000000;\n",
       "            : ;\n",
       "        }    #T_12ac37e4_48dc_11ea_b1fb_f2189862d0c5row85_col4 {\n",
       "            background-color:  #e2fde2;\n",
       "            color:  #000000;\n",
       "            : ;\n",
       "        }    #T_12ac37e4_48dc_11ea_b1fb_f2189862d0c5row85_col8 {\n",
       "            color:  black;\n",
       "            : ;\n",
       "            : ;\n",
       "        }    #T_12ac37e4_48dc_11ea_b1fb_f2189862d0c5row85_col9 {\n",
       "            color:  black;\n",
       "            : ;\n",
       "        }    #T_12ac37e4_48dc_11ea_b1fb_f2189862d0c5row86_col2 {\n",
       "            background-color:  #0d870d;\n",
       "            color:  #f1f1f1;\n",
       "            : ;\n",
       "        }    #T_12ac37e4_48dc_11ea_b1fb_f2189862d0c5row86_col3 {\n",
       "            background-color:  #e5ffe5;\n",
       "            color:  #000000;\n",
       "            : ;\n",
       "        }    #T_12ac37e4_48dc_11ea_b1fb_f2189862d0c5row86_col4 {\n",
       "            background-color:  #e5ffe5;\n",
       "            color:  #000000;\n",
       "            : ;\n",
       "        }    #T_12ac37e4_48dc_11ea_b1fb_f2189862d0c5row86_col8 {\n",
       "            color:  black;\n",
       "            : ;\n",
       "            : ;\n",
       "        }    #T_12ac37e4_48dc_11ea_b1fb_f2189862d0c5row86_col9 {\n",
       "            color:  darkorange;\n",
       "            : ;\n",
       "        }    #T_12ac37e4_48dc_11ea_b1fb_f2189862d0c5row87_col2 {\n",
       "            background-color:  #339c33;\n",
       "            color:  #000000;\n",
       "            : ;\n",
       "        }    #T_12ac37e4_48dc_11ea_b1fb_f2189862d0c5row87_col3 {\n",
       "            background-color:  #e4fee4;\n",
       "            color:  #000000;\n",
       "            : ;\n",
       "        }    #T_12ac37e4_48dc_11ea_b1fb_f2189862d0c5row87_col4 {\n",
       "            background-color:  #e5ffe5;\n",
       "            color:  #000000;\n",
       "            : ;\n",
       "        }    #T_12ac37e4_48dc_11ea_b1fb_f2189862d0c5row87_col8 {\n",
       "            color:  black;\n",
       "            : ;\n",
       "            : ;\n",
       "        }    #T_12ac37e4_48dc_11ea_b1fb_f2189862d0c5row87_col9 {\n",
       "            color:  black;\n",
       "            : ;\n",
       "        }</style><table id=\"T_12ac37e4_48dc_11ea_b1fb_f2189862d0c5\" ><thead>    <tr>        <th class=\"blank level0\" ></th>        <th class=\"col_heading level0 col0\" >BookTitle</th>        <th class=\"col_heading level0 col1\" >AuthorName</th>        <th class=\"col_heading level0 col2\" >Avg_Rating</th>        <th class=\"col_heading level0 col3\" >No_of_Rating</th>        <th class=\"col_heading level0 col4\" >No_of_Review</th>        <th class=\"col_heading level0 col5\" >Publication_Company</th>        <th class=\"col_heading level0 col6\" >Publication_Month</th>        <th class=\"col_heading level0 col7\" >Publication_Year</th>        <th class=\"col_heading level0 col8\" >Page_NO</th>        <th class=\"col_heading level0 col9\" >Type</th>    </tr></thead><tbody>\n",
       "                <tr>\n",
       "                        <th id=\"T_12ac37e4_48dc_11ea_b1fb_f2189862d0c5level0_row0\" class=\"row_heading level0 row0\" >0</th>\n",
       "                        <td id=\"T_12ac37e4_48dc_11ea_b1fb_f2189862d0c5row0_col0\" class=\"data row0 col0\" >American Dirt</td>\n",
       "                        <td id=\"T_12ac37e4_48dc_11ea_b1fb_f2189862d0c5row0_col1\" class=\"data row0 col1\" >Jeanine Cummins</td>\n",
       "                        <td id=\"T_12ac37e4_48dc_11ea_b1fb_f2189862d0c5row0_col2\" class=\"data row0 col2\" >4.15</td>\n",
       "                        <td id=\"T_12ac37e4_48dc_11ea_b1fb_f2189862d0c5row0_col3\" class=\"data row0 col3\" >6698</td>\n",
       "                        <td id=\"T_12ac37e4_48dc_11ea_b1fb_f2189862d0c5row0_col4\" class=\"data row0 col4\" >1820</td>\n",
       "                        <td id=\"T_12ac37e4_48dc_11ea_b1fb_f2189862d0c5row0_col5\" class=\"data row0 col5\" >Flatiron Books</td>\n",
       "                        <td id=\"T_12ac37e4_48dc_11ea_b1fb_f2189862d0c5row0_col6\" class=\"data row0 col6\" >January</td>\n",
       "                        <td id=\"T_12ac37e4_48dc_11ea_b1fb_f2189862d0c5row0_col7\" class=\"data row0 col7\" >2020</td>\n",
       "                        <td id=\"T_12ac37e4_48dc_11ea_b1fb_f2189862d0c5row0_col8\" class=\"data row0 col8\" >400</td>\n",
       "                        <td id=\"T_12ac37e4_48dc_11ea_b1fb_f2189862d0c5row0_col9\" class=\"data row0 col9\" >Hardcover</td>\n",
       "            </tr>\n",
       "            <tr>\n",
       "                        <th id=\"T_12ac37e4_48dc_11ea_b1fb_f2189862d0c5level0_row1\" class=\"row_heading level0 row1\" >1</th>\n",
       "                        <td id=\"T_12ac37e4_48dc_11ea_b1fb_f2189862d0c5row1_col0\" class=\"data row1 col0\" >All the Ways We Said Goodbye</td>\n",
       "                        <td id=\"T_12ac37e4_48dc_11ea_b1fb_f2189862d0c5row1_col1\" class=\"data row1 col1\" >Beatriz Williams</td>\n",
       "                        <td id=\"T_12ac37e4_48dc_11ea_b1fb_f2189862d0c5row1_col2\" class=\"data row1 col2\" >4.18</td>\n",
       "                        <td id=\"T_12ac37e4_48dc_11ea_b1fb_f2189862d0c5row1_col3\" class=\"data row1 col3\" >970</td>\n",
       "                        <td id=\"T_12ac37e4_48dc_11ea_b1fb_f2189862d0c5row1_col4\" class=\"data row1 col4\" >275</td>\n",
       "                        <td id=\"T_12ac37e4_48dc_11ea_b1fb_f2189862d0c5row1_col5\" class=\"data row1 col5\" >William Morrow</td>\n",
       "                        <td id=\"T_12ac37e4_48dc_11ea_b1fb_f2189862d0c5row1_col6\" class=\"data row1 col6\" >January</td>\n",
       "                        <td id=\"T_12ac37e4_48dc_11ea_b1fb_f2189862d0c5row1_col7\" class=\"data row1 col7\" >2020</td>\n",
       "                        <td id=\"T_12ac37e4_48dc_11ea_b1fb_f2189862d0c5row1_col8\" class=\"data row1 col8\" >448</td>\n",
       "                        <td id=\"T_12ac37e4_48dc_11ea_b1fb_f2189862d0c5row1_col9\" class=\"data row1 col9\" >ebook</td>\n",
       "            </tr>\n",
       "            <tr>\n",
       "                        <th id=\"T_12ac37e4_48dc_11ea_b1fb_f2189862d0c5level0_row2\" class=\"row_heading level0 row2\" >2</th>\n",
       "                        <td id=\"T_12ac37e4_48dc_11ea_b1fb_f2189862d0c5row2_col0\" class=\"data row2 col0\" >The Other People</td>\n",
       "                        <td id=\"T_12ac37e4_48dc_11ea_b1fb_f2189862d0c5row2_col1\" class=\"data row2 col1\" >C.J. Tudor</td>\n",
       "                        <td id=\"T_12ac37e4_48dc_11ea_b1fb_f2189862d0c5row2_col2\" class=\"data row2 col2\" >4.14</td>\n",
       "                        <td id=\"T_12ac37e4_48dc_11ea_b1fb_f2189862d0c5row2_col3\" class=\"data row2 col3\" >1283</td>\n",
       "                        <td id=\"T_12ac37e4_48dc_11ea_b1fb_f2189862d0c5row2_col4\" class=\"data row2 col4\" >618</td>\n",
       "                        <td id=\"T_12ac37e4_48dc_11ea_b1fb_f2189862d0c5row2_col5\" class=\"data row2 col5\" >Penguin</td>\n",
       "                        <td id=\"T_12ac37e4_48dc_11ea_b1fb_f2189862d0c5row2_col6\" class=\"data row2 col6\" >January</td>\n",
       "                        <td id=\"T_12ac37e4_48dc_11ea_b1fb_f2189862d0c5row2_col7\" class=\"data row2 col7\" >2020</td>\n",
       "                        <td id=\"T_12ac37e4_48dc_11ea_b1fb_f2189862d0c5row2_col8\" class=\"data row2 col8\" >400</td>\n",
       "                        <td id=\"T_12ac37e4_48dc_11ea_b1fb_f2189862d0c5row2_col9\" class=\"data row2 col9\" >Kindle Edition</td>\n",
       "            </tr>\n",
       "            <tr>\n",
       "                        <th id=\"T_12ac37e4_48dc_11ea_b1fb_f2189862d0c5level0_row3\" class=\"row_heading level0 row3\" >3</th>\n",
       "                        <td id=\"T_12ac37e4_48dc_11ea_b1fb_f2189862d0c5row3_col0\" class=\"data row3 col0\" >When We Were Vikings</td>\n",
       "                        <td id=\"T_12ac37e4_48dc_11ea_b1fb_f2189862d0c5row3_col1\" class=\"data row3 col1\" >Andrew David MacDonald</td>\n",
       "                        <td id=\"T_12ac37e4_48dc_11ea_b1fb_f2189862d0c5row3_col2\" class=\"data row3 col2\" >4.01</td>\n",
       "                        <td id=\"T_12ac37e4_48dc_11ea_b1fb_f2189862d0c5row3_col3\" class=\"data row3 col3\" >1163</td>\n",
       "                        <td id=\"T_12ac37e4_48dc_11ea_b1fb_f2189862d0c5row3_col4\" class=\"data row3 col4\" >410</td>\n",
       "                        <td id=\"T_12ac37e4_48dc_11ea_b1fb_f2189862d0c5row3_col5\" class=\"data row3 col5\" >Scout Press</td>\n",
       "                        <td id=\"T_12ac37e4_48dc_11ea_b1fb_f2189862d0c5row3_col6\" class=\"data row3 col6\" >January</td>\n",
       "                        <td id=\"T_12ac37e4_48dc_11ea_b1fb_f2189862d0c5row3_col7\" class=\"data row3 col7\" >2020</td>\n",
       "                        <td id=\"T_12ac37e4_48dc_11ea_b1fb_f2189862d0c5row3_col8\" class=\"data row3 col8\" >336</td>\n",
       "                        <td id=\"T_12ac37e4_48dc_11ea_b1fb_f2189862d0c5row3_col9\" class=\"data row3 col9\" >Kindle Edition</td>\n",
       "            </tr>\n",
       "            <tr>\n",
       "                        <th id=\"T_12ac37e4_48dc_11ea_b1fb_f2189862d0c5level0_row4\" class=\"row_heading level0 row4\" >4</th>\n",
       "                        <td id=\"T_12ac37e4_48dc_11ea_b1fb_f2189862d0c5row4_col0\" class=\"data row4 col0\" >Followers</td>\n",
       "                        <td id=\"T_12ac37e4_48dc_11ea_b1fb_f2189862d0c5row4_col1\" class=\"data row4 col1\" >Megan Angelo</td>\n",
       "                        <td id=\"T_12ac37e4_48dc_11ea_b1fb_f2189862d0c5row4_col2\" class=\"data row4 col2\" >3.84</td>\n",
       "                        <td id=\"T_12ac37e4_48dc_11ea_b1fb_f2189862d0c5row4_col3\" class=\"data row4 col3\" >1381</td>\n",
       "                        <td id=\"T_12ac37e4_48dc_11ea_b1fb_f2189862d0c5row4_col4\" class=\"data row4 col4\" >457</td>\n",
       "                        <td id=\"T_12ac37e4_48dc_11ea_b1fb_f2189862d0c5row4_col5\" class=\"data row4 col5\" >Graydon House</td>\n",
       "                        <td id=\"T_12ac37e4_48dc_11ea_b1fb_f2189862d0c5row4_col6\" class=\"data row4 col6\" >January</td>\n",
       "                        <td id=\"T_12ac37e4_48dc_11ea_b1fb_f2189862d0c5row4_col7\" class=\"data row4 col7\" >2020</td>\n",
       "                        <td id=\"T_12ac37e4_48dc_11ea_b1fb_f2189862d0c5row4_col8\" class=\"data row4 col8\" >384</td>\n",
       "                        <td id=\"T_12ac37e4_48dc_11ea_b1fb_f2189862d0c5row4_col9\" class=\"data row4 col9\" >Hardcover</td>\n",
       "            </tr>\n",
       "            <tr>\n",
       "                        <th id=\"T_12ac37e4_48dc_11ea_b1fb_f2189862d0c5level0_row5\" class=\"row_heading level0 row5\" >5</th>\n",
       "                        <td id=\"T_12ac37e4_48dc_11ea_b1fb_f2189862d0c5row5_col0\" class=\"data row5 col0\" >The Better Liar</td>\n",
       "                        <td id=\"T_12ac37e4_48dc_11ea_b1fb_f2189862d0c5row5_col1\" class=\"data row5 col1\" >Tanen Jones</td>\n",
       "                        <td id=\"T_12ac37e4_48dc_11ea_b1fb_f2189862d0c5row5_col2\" class=\"data row5 col2\" >3.67</td>\n",
       "                        <td id=\"T_12ac37e4_48dc_11ea_b1fb_f2189862d0c5row5_col3\" class=\"data row5 col3\" >1091</td>\n",
       "                        <td id=\"T_12ac37e4_48dc_11ea_b1fb_f2189862d0c5row5_col4\" class=\"data row5 col4\" >498</td>\n",
       "                        <td id=\"T_12ac37e4_48dc_11ea_b1fb_f2189862d0c5row5_col5\" class=\"data row5 col5\" >Ballantine</td>\n",
       "                        <td id=\"T_12ac37e4_48dc_11ea_b1fb_f2189862d0c5row5_col6\" class=\"data row5 col6\" >January</td>\n",
       "                        <td id=\"T_12ac37e4_48dc_11ea_b1fb_f2189862d0c5row5_col7\" class=\"data row5 col7\" >2020</td>\n",
       "                        <td id=\"T_12ac37e4_48dc_11ea_b1fb_f2189862d0c5row5_col8\" class=\"data row5 col8\" >320</td>\n",
       "                        <td id=\"T_12ac37e4_48dc_11ea_b1fb_f2189862d0c5row5_col9\" class=\"data row5 col9\" >ebook</td>\n",
       "            </tr>\n",
       "            <tr>\n",
       "                        <th id=\"T_12ac37e4_48dc_11ea_b1fb_f2189862d0c5level0_row6\" class=\"row_heading level0 row6\" >6</th>\n",
       "                        <td id=\"T_12ac37e4_48dc_11ea_b1fb_f2189862d0c5row6_col0\" class=\"data row6 col0\" >Woven in Moonlight</td>\n",
       "                        <td id=\"T_12ac37e4_48dc_11ea_b1fb_f2189862d0c5row6_col1\" class=\"data row6 col1\" >Isabel Ibañez</td>\n",
       "                        <td id=\"T_12ac37e4_48dc_11ea_b1fb_f2189862d0c5row6_col2\" class=\"data row6 col2\" >4.17</td>\n",
       "                        <td id=\"T_12ac37e4_48dc_11ea_b1fb_f2189862d0c5row6_col3\" class=\"data row6 col3\" >817</td>\n",
       "                        <td id=\"T_12ac37e4_48dc_11ea_b1fb_f2189862d0c5row6_col4\" class=\"data row6 col4\" >369</td>\n",
       "                        <td id=\"T_12ac37e4_48dc_11ea_b1fb_f2189862d0c5row6_col5\" class=\"data row6 col5\" >Page Street Books</td>\n",
       "                        <td id=\"T_12ac37e4_48dc_11ea_b1fb_f2189862d0c5row6_col6\" class=\"data row6 col6\" >January</td>\n",
       "                        <td id=\"T_12ac37e4_48dc_11ea_b1fb_f2189862d0c5row6_col7\" class=\"data row6 col7\" >2020</td>\n",
       "                        <td id=\"T_12ac37e4_48dc_11ea_b1fb_f2189862d0c5row6_col8\" class=\"data row6 col8\" >384</td>\n",
       "                        <td id=\"T_12ac37e4_48dc_11ea_b1fb_f2189862d0c5row6_col9\" class=\"data row6 col9\" >Kindle Edition</td>\n",
       "            </tr>\n",
       "            <tr>\n",
       "                        <th id=\"T_12ac37e4_48dc_11ea_b1fb_f2189862d0c5level0_row7\" class=\"row_heading level0 row7\" >7</th>\n",
       "                        <td id=\"T_12ac37e4_48dc_11ea_b1fb_f2189862d0c5row7_col0\" class=\"data row7 col0\" >Dark and Deepest Red</td>\n",
       "                        <td id=\"T_12ac37e4_48dc_11ea_b1fb_f2189862d0c5row7_col1\" class=\"data row7 col1\" >Anna-Marie McLemore</td>\n",
       "                        <td id=\"T_12ac37e4_48dc_11ea_b1fb_f2189862d0c5row7_col2\" class=\"data row7 col2\" >3.75</td>\n",
       "                        <td id=\"T_12ac37e4_48dc_11ea_b1fb_f2189862d0c5row7_col3\" class=\"data row7 col3\" >333</td>\n",
       "                        <td id=\"T_12ac37e4_48dc_11ea_b1fb_f2189862d0c5row7_col4\" class=\"data row7 col4\" >175</td>\n",
       "                        <td id=\"T_12ac37e4_48dc_11ea_b1fb_f2189862d0c5row7_col5\" class=\"data row7 col5\" >Feiwel & Friends</td>\n",
       "                        <td id=\"T_12ac37e4_48dc_11ea_b1fb_f2189862d0c5row7_col6\" class=\"data row7 col6\" >January</td>\n",
       "                        <td id=\"T_12ac37e4_48dc_11ea_b1fb_f2189862d0c5row7_col7\" class=\"data row7 col7\" >2020</td>\n",
       "                        <td id=\"T_12ac37e4_48dc_11ea_b1fb_f2189862d0c5row7_col8\" class=\"data row7 col8\" >309</td>\n",
       "                        <td id=\"T_12ac37e4_48dc_11ea_b1fb_f2189862d0c5row7_col9\" class=\"data row7 col9\" >Hardcover</td>\n",
       "            </tr>\n",
       "            <tr>\n",
       "                        <th id=\"T_12ac37e4_48dc_11ea_b1fb_f2189862d0c5level0_row8\" class=\"row_heading level0 row8\" >8</th>\n",
       "                        <td id=\"T_12ac37e4_48dc_11ea_b1fb_f2189862d0c5row8_col0\" class=\"data row8 col0\" >You Were There Too</td>\n",
       "                        <td id=\"T_12ac37e4_48dc_11ea_b1fb_f2189862d0c5row8_col1\" class=\"data row8 col1\" >Colleen Oakley</td>\n",
       "                        <td id=\"T_12ac37e4_48dc_11ea_b1fb_f2189862d0c5row8_col2\" class=\"data row8 col2\" >3.97</td>\n",
       "                        <td id=\"T_12ac37e4_48dc_11ea_b1fb_f2189862d0c5row8_col3\" class=\"data row8 col3\" >1405</td>\n",
       "                        <td id=\"T_12ac37e4_48dc_11ea_b1fb_f2189862d0c5row8_col4\" class=\"data row8 col4\" >503</td>\n",
       "                        <td id=\"T_12ac37e4_48dc_11ea_b1fb_f2189862d0c5row8_col5\" class=\"data row8 col5\" >Berkley</td>\n",
       "                        <td id=\"T_12ac37e4_48dc_11ea_b1fb_f2189862d0c5row8_col6\" class=\"data row8 col6\" >January</td>\n",
       "                        <td id=\"T_12ac37e4_48dc_11ea_b1fb_f2189862d0c5row8_col7\" class=\"data row8 col7\" >2020</td>\n",
       "                        <td id=\"T_12ac37e4_48dc_11ea_b1fb_f2189862d0c5row8_col8\" class=\"data row8 col8\" >320</td>\n",
       "                        <td id=\"T_12ac37e4_48dc_11ea_b1fb_f2189862d0c5row8_col9\" class=\"data row8 col9\" >Paperback</td>\n",
       "            </tr>\n",
       "            <tr>\n",
       "                        <th id=\"T_12ac37e4_48dc_11ea_b1fb_f2189862d0c5level0_row9\" class=\"row_heading level0 row9\" >9</th>\n",
       "                        <td id=\"T_12ac37e4_48dc_11ea_b1fb_f2189862d0c5row9_col0\" class=\"data row9 col0\" >Agency</td>\n",
       "                        <td id=\"T_12ac37e4_48dc_11ea_b1fb_f2189862d0c5row9_col1\" class=\"data row9 col1\" >William Gibson</td>\n",
       "                        <td id=\"T_12ac37e4_48dc_11ea_b1fb_f2189862d0c5row9_col2\" class=\"data row9 col2\" >4.07</td>\n",
       "                        <td id=\"T_12ac37e4_48dc_11ea_b1fb_f2189862d0c5row9_col3\" class=\"data row9 col3\" >815</td>\n",
       "                        <td id=\"T_12ac37e4_48dc_11ea_b1fb_f2189862d0c5row9_col4\" class=\"data row9 col4\" >159</td>\n",
       "                        <td id=\"T_12ac37e4_48dc_11ea_b1fb_f2189862d0c5row9_col5\" class=\"data row9 col5\" >Berkley</td>\n",
       "                        <td id=\"T_12ac37e4_48dc_11ea_b1fb_f2189862d0c5row9_col6\" class=\"data row9 col6\" >January</td>\n",
       "                        <td id=\"T_12ac37e4_48dc_11ea_b1fb_f2189862d0c5row9_col7\" class=\"data row9 col7\" >2020</td>\n",
       "                        <td id=\"T_12ac37e4_48dc_11ea_b1fb_f2189862d0c5row9_col8\" class=\"data row9 col8\" >413</td>\n",
       "                        <td id=\"T_12ac37e4_48dc_11ea_b1fb_f2189862d0c5row9_col9\" class=\"data row9 col9\" >Kindle Edition</td>\n",
       "            </tr>\n",
       "            <tr>\n",
       "                        <th id=\"T_12ac37e4_48dc_11ea_b1fb_f2189862d0c5level0_row10\" class=\"row_heading level0 row10\" >10</th>\n",
       "                        <td id=\"T_12ac37e4_48dc_11ea_b1fb_f2189862d0c5row10_col0\" class=\"data row10 col0\" >Topics of Conversation</td>\n",
       "                        <td id=\"T_12ac37e4_48dc_11ea_b1fb_f2189862d0c5row10_col1\" class=\"data row10 col1\" >Miranda Popkey</td>\n",
       "                        <td id=\"T_12ac37e4_48dc_11ea_b1fb_f2189862d0c5row10_col2\" class=\"data row10 col2\" >2.87</td>\n",
       "                        <td id=\"T_12ac37e4_48dc_11ea_b1fb_f2189862d0c5row10_col3\" class=\"data row10 col3\" >1601</td>\n",
       "                        <td id=\"T_12ac37e4_48dc_11ea_b1fb_f2189862d0c5row10_col4\" class=\"data row10 col4\" >356</td>\n",
       "                        <td id=\"T_12ac37e4_48dc_11ea_b1fb_f2189862d0c5row10_col5\" class=\"data row10 col5\" >Knopf Publishing Group</td>\n",
       "                        <td id=\"T_12ac37e4_48dc_11ea_b1fb_f2189862d0c5row10_col6\" class=\"data row10 col6\" >January</td>\n",
       "                        <td id=\"T_12ac37e4_48dc_11ea_b1fb_f2189862d0c5row10_col7\" class=\"data row10 col7\" >2020</td>\n",
       "                        <td id=\"T_12ac37e4_48dc_11ea_b1fb_f2189862d0c5row10_col8\" class=\"data row10 col8\" >224</td>\n",
       "                        <td id=\"T_12ac37e4_48dc_11ea_b1fb_f2189862d0c5row10_col9\" class=\"data row10 col9\" >Hardcover</td>\n",
       "            </tr>\n",
       "            <tr>\n",
       "                        <th id=\"T_12ac37e4_48dc_11ea_b1fb_f2189862d0c5level0_row11\" class=\"row_heading level0 row11\" >11</th>\n",
       "                        <td id=\"T_12ac37e4_48dc_11ea_b1fb_f2189862d0c5row11_col0\" class=\"data row11 col0\" >Highfire</td>\n",
       "                        <td id=\"T_12ac37e4_48dc_11ea_b1fb_f2189862d0c5row11_col1\" class=\"data row11 col1\" >Eoin Colfer</td>\n",
       "                        <td id=\"T_12ac37e4_48dc_11ea_b1fb_f2189862d0c5row11_col2\" class=\"data row11 col2\" >3.81</td>\n",
       "                        <td id=\"T_12ac37e4_48dc_11ea_b1fb_f2189862d0c5row11_col3\" class=\"data row11 col3\" >484</td>\n",
       "                        <td id=\"T_12ac37e4_48dc_11ea_b1fb_f2189862d0c5row11_col4\" class=\"data row11 col4\" >254</td>\n",
       "                        <td id=\"T_12ac37e4_48dc_11ea_b1fb_f2189862d0c5row11_col5\" class=\"data row11 col5\" >Harper Perennial</td>\n",
       "                        <td id=\"T_12ac37e4_48dc_11ea_b1fb_f2189862d0c5row11_col6\" class=\"data row11 col6\" >January</td>\n",
       "                        <td id=\"T_12ac37e4_48dc_11ea_b1fb_f2189862d0c5row11_col7\" class=\"data row11 col7\" >2020</td>\n",
       "                        <td id=\"T_12ac37e4_48dc_11ea_b1fb_f2189862d0c5row11_col8\" class=\"data row11 col8\" >377</td>\n",
       "                        <td id=\"T_12ac37e4_48dc_11ea_b1fb_f2189862d0c5row11_col9\" class=\"data row11 col9\" >Hardcover</td>\n",
       "            </tr>\n",
       "            <tr>\n",
       "                        <th id=\"T_12ac37e4_48dc_11ea_b1fb_f2189862d0c5level0_row12\" class=\"row_heading level0 row12\" >12</th>\n",
       "                        <td id=\"T_12ac37e4_48dc_11ea_b1fb_f2189862d0c5row12_col0\" class=\"data row12 col0\" >Dreamland</td>\n",
       "                        <td id=\"T_12ac37e4_48dc_11ea_b1fb_f2189862d0c5row12_col1\" class=\"data row12 col1\" >Nancy Bilyeau</td>\n",
       "                        <td id=\"T_12ac37e4_48dc_11ea_b1fb_f2189862d0c5row12_col2\" class=\"data row12 col2\" >3.95</td>\n",
       "                        <td id=\"T_12ac37e4_48dc_11ea_b1fb_f2189862d0c5row12_col3\" class=\"data row12 col3\" >392</td>\n",
       "                        <td id=\"T_12ac37e4_48dc_11ea_b1fb_f2189862d0c5row12_col4\" class=\"data row12 col4\" >224</td>\n",
       "                        <td id=\"T_12ac37e4_48dc_11ea_b1fb_f2189862d0c5row12_col5\" class=\"data row12 col5\" >Endeavour Quill</td>\n",
       "                        <td id=\"T_12ac37e4_48dc_11ea_b1fb_f2189862d0c5row12_col6\" class=\"data row12 col6\" >January</td>\n",
       "                        <td id=\"T_12ac37e4_48dc_11ea_b1fb_f2189862d0c5row12_col7\" class=\"data row12 col7\" >2020</td>\n",
       "                        <td id=\"T_12ac37e4_48dc_11ea_b1fb_f2189862d0c5row12_col8\" class=\"data row12 col8\" >386</td>\n",
       "                        <td id=\"T_12ac37e4_48dc_11ea_b1fb_f2189862d0c5row12_col9\" class=\"data row12 col9\" >Paperback</td>\n",
       "            </tr>\n",
       "            <tr>\n",
       "                        <th id=\"T_12ac37e4_48dc_11ea_b1fb_f2189862d0c5level0_row13\" class=\"row_heading level0 row13\" >13</th>\n",
       "                        <td id=\"T_12ac37e4_48dc_11ea_b1fb_f2189862d0c5row13_col0\" class=\"data row13 col0\" >Little Gods</td>\n",
       "                        <td id=\"T_12ac37e4_48dc_11ea_b1fb_f2189862d0c5row13_col1\" class=\"data row13 col1\" >Meng Jin</td>\n",
       "                        <td id=\"T_12ac37e4_48dc_11ea_b1fb_f2189862d0c5row13_col2\" class=\"data row13 col2\" >3.53</td>\n",
       "                        <td id=\"T_12ac37e4_48dc_11ea_b1fb_f2189862d0c5row13_col3\" class=\"data row13 col3\" >295</td>\n",
       "                        <td id=\"T_12ac37e4_48dc_11ea_b1fb_f2189862d0c5row13_col4\" class=\"data row13 col4\" >78</td>\n",
       "                        <td id=\"T_12ac37e4_48dc_11ea_b1fb_f2189862d0c5row13_col5\" class=\"data row13 col5\" >Custom House</td>\n",
       "                        <td id=\"T_12ac37e4_48dc_11ea_b1fb_f2189862d0c5row13_col6\" class=\"data row13 col6\" >January</td>\n",
       "                        <td id=\"T_12ac37e4_48dc_11ea_b1fb_f2189862d0c5row13_col7\" class=\"data row13 col7\" >2020</td>\n",
       "                        <td id=\"T_12ac37e4_48dc_11ea_b1fb_f2189862d0c5row13_col8\" class=\"data row13 col8\" >288</td>\n",
       "                        <td id=\"T_12ac37e4_48dc_11ea_b1fb_f2189862d0c5row13_col9\" class=\"data row13 col9\" >ebook</td>\n",
       "            </tr>\n",
       "            <tr>\n",
       "                        <th id=\"T_12ac37e4_48dc_11ea_b1fb_f2189862d0c5level0_row14\" class=\"row_heading level0 row14\" >14</th>\n",
       "                        <td id=\"T_12ac37e4_48dc_11ea_b1fb_f2189862d0c5row14_col0\" class=\"data row14 col0\" >The Look-Alike</td>\n",
       "                        <td id=\"T_12ac37e4_48dc_11ea_b1fb_f2189862d0c5row14_col1\" class=\"data row14 col1\" >Erica Spindler</td>\n",
       "                        <td id=\"T_12ac37e4_48dc_11ea_b1fb_f2189862d0c5row14_col2\" class=\"data row14 col2\" >3.95</td>\n",
       "                        <td id=\"T_12ac37e4_48dc_11ea_b1fb_f2189862d0c5row14_col3\" class=\"data row14 col3\" >626</td>\n",
       "                        <td id=\"T_12ac37e4_48dc_11ea_b1fb_f2189862d0c5row14_col4\" class=\"data row14 col4\" >455</td>\n",
       "                        <td id=\"T_12ac37e4_48dc_11ea_b1fb_f2189862d0c5row14_col5\" class=\"data row14 col5\" >St. Martin's Press</td>\n",
       "                        <td id=\"T_12ac37e4_48dc_11ea_b1fb_f2189862d0c5row14_col6\" class=\"data row14 col6\" >January</td>\n",
       "                        <td id=\"T_12ac37e4_48dc_11ea_b1fb_f2189862d0c5row14_col7\" class=\"data row14 col7\" >2020</td>\n",
       "                        <td id=\"T_12ac37e4_48dc_11ea_b1fb_f2189862d0c5row14_col8\" class=\"data row14 col8\" >320</td>\n",
       "                        <td id=\"T_12ac37e4_48dc_11ea_b1fb_f2189862d0c5row14_col9\" class=\"data row14 col9\" >Hardcover</td>\n",
       "            </tr>\n",
       "            <tr>\n",
       "                        <th id=\"T_12ac37e4_48dc_11ea_b1fb_f2189862d0c5level0_row15\" class=\"row_heading level0 row15\" >15</th>\n",
       "                        <td id=\"T_12ac37e4_48dc_11ea_b1fb_f2189862d0c5row15_col0\" class=\"data row15 col0\" >The Whispers of War</td>\n",
       "                        <td id=\"T_12ac37e4_48dc_11ea_b1fb_f2189862d0c5row15_col1\" class=\"data row15 col1\" >Julia  Kelly</td>\n",
       "                        <td id=\"T_12ac37e4_48dc_11ea_b1fb_f2189862d0c5row15_col2\" class=\"data row15 col2\" >3.99</td>\n",
       "                        <td id=\"T_12ac37e4_48dc_11ea_b1fb_f2189862d0c5row15_col3\" class=\"data row15 col3\" >455</td>\n",
       "                        <td id=\"T_12ac37e4_48dc_11ea_b1fb_f2189862d0c5row15_col4\" class=\"data row15 col4\" >220</td>\n",
       "                        <td id=\"T_12ac37e4_48dc_11ea_b1fb_f2189862d0c5row15_col5\" class=\"data row15 col5\" >Gallery Books</td>\n",
       "                        <td id=\"T_12ac37e4_48dc_11ea_b1fb_f2189862d0c5row15_col6\" class=\"data row15 col6\" >January</td>\n",
       "                        <td id=\"T_12ac37e4_48dc_11ea_b1fb_f2189862d0c5row15_col7\" class=\"data row15 col7\" >2020</td>\n",
       "                        <td id=\"T_12ac37e4_48dc_11ea_b1fb_f2189862d0c5row15_col8\" class=\"data row15 col8\" >336</td>\n",
       "                        <td id=\"T_12ac37e4_48dc_11ea_b1fb_f2189862d0c5row15_col9\" class=\"data row15 col9\" >Hardcover</td>\n",
       "            </tr>\n",
       "            <tr>\n",
       "                        <th id=\"T_12ac37e4_48dc_11ea_b1fb_f2189862d0c5level0_row16\" class=\"row_heading level0 row16\" >16</th>\n",
       "                        <td id=\"T_12ac37e4_48dc_11ea_b1fb_f2189862d0c5row16_col0\" class=\"data row16 col0\" >The Girls with No Names</td>\n",
       "                        <td id=\"T_12ac37e4_48dc_11ea_b1fb_f2189862d0c5row16_col1\" class=\"data row16 col1\" >Serena Burdick</td>\n",
       "                        <td id=\"T_12ac37e4_48dc_11ea_b1fb_f2189862d0c5row16_col2\" class=\"data row16 col2\" >4.11</td>\n",
       "                        <td id=\"T_12ac37e4_48dc_11ea_b1fb_f2189862d0c5row16_col3\" class=\"data row16 col3\" >540</td>\n",
       "                        <td id=\"T_12ac37e4_48dc_11ea_b1fb_f2189862d0c5row16_col4\" class=\"data row16 col4\" >154</td>\n",
       "                        <td id=\"T_12ac37e4_48dc_11ea_b1fb_f2189862d0c5row16_col5\" class=\"data row16 col5\" >Park Row</td>\n",
       "                        <td id=\"T_12ac37e4_48dc_11ea_b1fb_f2189862d0c5row16_col6\" class=\"data row16 col6\" >January</td>\n",
       "                        <td id=\"T_12ac37e4_48dc_11ea_b1fb_f2189862d0c5row16_col7\" class=\"data row16 col7\" >2020</td>\n",
       "                        <td id=\"T_12ac37e4_48dc_11ea_b1fb_f2189862d0c5row16_col8\" class=\"data row16 col8\" >336</td>\n",
       "                        <td id=\"T_12ac37e4_48dc_11ea_b1fb_f2189862d0c5row16_col9\" class=\"data row16 col9\" >Paperback</td>\n",
       "            </tr>\n",
       "            <tr>\n",
       "                        <th id=\"T_12ac37e4_48dc_11ea_b1fb_f2189862d0c5level0_row17\" class=\"row_heading level0 row17\" >17</th>\n",
       "                        <td id=\"T_12ac37e4_48dc_11ea_b1fb_f2189862d0c5row17_col0\" class=\"data row17 col0\" >Seven Deadly Shadows</td>\n",
       "                        <td id=\"T_12ac37e4_48dc_11ea_b1fb_f2189862d0c5row17_col1\" class=\"data row17 col1\" >Courtney Alameda</td>\n",
       "                        <td id=\"T_12ac37e4_48dc_11ea_b1fb_f2189862d0c5row17_col2\" class=\"data row17 col2\" >3.82</td>\n",
       "                        <td id=\"T_12ac37e4_48dc_11ea_b1fb_f2189862d0c5row17_col3\" class=\"data row17 col3\" >154</td>\n",
       "                        <td id=\"T_12ac37e4_48dc_11ea_b1fb_f2189862d0c5row17_col4\" class=\"data row17 col4\" >101</td>\n",
       "                        <td id=\"T_12ac37e4_48dc_11ea_b1fb_f2189862d0c5row17_col5\" class=\"data row17 col5\" >HarperCollins</td>\n",
       "                        <td id=\"T_12ac37e4_48dc_11ea_b1fb_f2189862d0c5row17_col6\" class=\"data row17 col6\" >January</td>\n",
       "                        <td id=\"T_12ac37e4_48dc_11ea_b1fb_f2189862d0c5row17_col7\" class=\"data row17 col7\" >2020</td>\n",
       "                        <td id=\"T_12ac37e4_48dc_11ea_b1fb_f2189862d0c5row17_col8\" class=\"data row17 col8\" >288</td>\n",
       "                        <td id=\"T_12ac37e4_48dc_11ea_b1fb_f2189862d0c5row17_col9\" class=\"data row17 col9\" >Hardcover</td>\n",
       "            </tr>\n",
       "            <tr>\n",
       "                        <th id=\"T_12ac37e4_48dc_11ea_b1fb_f2189862d0c5level0_row18\" class=\"row_heading level0 row18\" >18</th>\n",
       "                        <td id=\"T_12ac37e4_48dc_11ea_b1fb_f2189862d0c5row18_col0\" class=\"data row18 col0\" >Cartier's Hope</td>\n",
       "                        <td id=\"T_12ac37e4_48dc_11ea_b1fb_f2189862d0c5row18_col1\" class=\"data row18 col1\" >M.J. Rose</td>\n",
       "                        <td id=\"T_12ac37e4_48dc_11ea_b1fb_f2189862d0c5row18_col2\" class=\"data row18 col2\" >3.82</td>\n",
       "                        <td id=\"T_12ac37e4_48dc_11ea_b1fb_f2189862d0c5row18_col3\" class=\"data row18 col3\" >289</td>\n",
       "                        <td id=\"T_12ac37e4_48dc_11ea_b1fb_f2189862d0c5row18_col4\" class=\"data row18 col4\" >210</td>\n",
       "                        <td id=\"T_12ac37e4_48dc_11ea_b1fb_f2189862d0c5row18_col5\" class=\"data row18 col5\" >Atria Books</td>\n",
       "                        <td id=\"T_12ac37e4_48dc_11ea_b1fb_f2189862d0c5row18_col6\" class=\"data row18 col6\" >January</td>\n",
       "                        <td id=\"T_12ac37e4_48dc_11ea_b1fb_f2189862d0c5row18_col7\" class=\"data row18 col7\" >2020</td>\n",
       "                        <td id=\"T_12ac37e4_48dc_11ea_b1fb_f2189862d0c5row18_col8\" class=\"data row18 col8\" >336</td>\n",
       "                        <td id=\"T_12ac37e4_48dc_11ea_b1fb_f2189862d0c5row18_col9\" class=\"data row18 col9\" >Hardcover</td>\n",
       "            </tr>\n",
       "            <tr>\n",
       "                        <th id=\"T_12ac37e4_48dc_11ea_b1fb_f2189862d0c5level0_row19\" class=\"row_heading level0 row19\" >19</th>\n",
       "                        <td id=\"T_12ac37e4_48dc_11ea_b1fb_f2189862d0c5row19_col0\" class=\"data row19 col0\" >How Quickly She Disappears</td>\n",
       "                        <td id=\"T_12ac37e4_48dc_11ea_b1fb_f2189862d0c5row19_col1\" class=\"data row19 col1\" >Raymond Fleischmann</td>\n",
       "                        <td id=\"T_12ac37e4_48dc_11ea_b1fb_f2189862d0c5row19_col2\" class=\"data row19 col2\" >3.33</td>\n",
       "                        <td id=\"T_12ac37e4_48dc_11ea_b1fb_f2189862d0c5row19_col3\" class=\"data row19 col3\" >421</td>\n",
       "                        <td id=\"T_12ac37e4_48dc_11ea_b1fb_f2189862d0c5row19_col4\" class=\"data row19 col4\" >225</td>\n",
       "                        <td id=\"T_12ac37e4_48dc_11ea_b1fb_f2189862d0c5row19_col5\" class=\"data row19 col5\" >Berkley</td>\n",
       "                        <td id=\"T_12ac37e4_48dc_11ea_b1fb_f2189862d0c5row19_col6\" class=\"data row19 col6\" >January</td>\n",
       "                        <td id=\"T_12ac37e4_48dc_11ea_b1fb_f2189862d0c5row19_col7\" class=\"data row19 col7\" >2020</td>\n",
       "                        <td id=\"T_12ac37e4_48dc_11ea_b1fb_f2189862d0c5row19_col8\" class=\"data row19 col8\" >320</td>\n",
       "                        <td id=\"T_12ac37e4_48dc_11ea_b1fb_f2189862d0c5row19_col9\" class=\"data row19 col9\" >Hardcover</td>\n",
       "            </tr>\n",
       "            <tr>\n",
       "                        <th id=\"T_12ac37e4_48dc_11ea_b1fb_f2189862d0c5level0_row20\" class=\"row_heading level0 row20\" >20</th>\n",
       "                        <td id=\"T_12ac37e4_48dc_11ea_b1fb_f2189862d0c5row20_col0\" class=\"data row20 col0\" >The Janes</td>\n",
       "                        <td id=\"T_12ac37e4_48dc_11ea_b1fb_f2189862d0c5row20_col1\" class=\"data row20 col1\" >Louisa Luna</td>\n",
       "                        <td id=\"T_12ac37e4_48dc_11ea_b1fb_f2189862d0c5row20_col2\" class=\"data row20 col2\" >4.11</td>\n",
       "                        <td id=\"T_12ac37e4_48dc_11ea_b1fb_f2189862d0c5row20_col3\" class=\"data row20 col3\" >375</td>\n",
       "                        <td id=\"T_12ac37e4_48dc_11ea_b1fb_f2189862d0c5row20_col4\" class=\"data row20 col4\" >195</td>\n",
       "                        <td id=\"T_12ac37e4_48dc_11ea_b1fb_f2189862d0c5row20_col5\" class=\"data row20 col5\" >Doubleday</td>\n",
       "                        <td id=\"T_12ac37e4_48dc_11ea_b1fb_f2189862d0c5row20_col6\" class=\"data row20 col6\" >January</td>\n",
       "                        <td id=\"T_12ac37e4_48dc_11ea_b1fb_f2189862d0c5row20_col7\" class=\"data row20 col7\" >2020</td>\n",
       "                        <td id=\"T_12ac37e4_48dc_11ea_b1fb_f2189862d0c5row20_col8\" class=\"data row20 col8\" >368</td>\n",
       "                        <td id=\"T_12ac37e4_48dc_11ea_b1fb_f2189862d0c5row20_col9\" class=\"data row20 col9\" >Kindle Edition</td>\n",
       "            </tr>\n",
       "            <tr>\n",
       "                        <th id=\"T_12ac37e4_48dc_11ea_b1fb_f2189862d0c5level0_row21\" class=\"row_heading level0 row21\" >21</th>\n",
       "                        <td id=\"T_12ac37e4_48dc_11ea_b1fb_f2189862d0c5row21_col0\" class=\"data row21 col0\" >We Used To Be Friends</td>\n",
       "                        <td id=\"T_12ac37e4_48dc_11ea_b1fb_f2189862d0c5row21_col1\" class=\"data row21 col1\" >Amy Spalding</td>\n",
       "                        <td id=\"T_12ac37e4_48dc_11ea_b1fb_f2189862d0c5row21_col2\" class=\"data row21 col2\" >3.57</td>\n",
       "                        <td id=\"T_12ac37e4_48dc_11ea_b1fb_f2189862d0c5row21_col3\" class=\"data row21 col3\" >376</td>\n",
       "                        <td id=\"T_12ac37e4_48dc_11ea_b1fb_f2189862d0c5row21_col4\" class=\"data row21 col4\" >167</td>\n",
       "                        <td id=\"T_12ac37e4_48dc_11ea_b1fb_f2189862d0c5row21_col5\" class=\"data row21 col5\" >Amulet</td>\n",
       "                        <td id=\"T_12ac37e4_48dc_11ea_b1fb_f2189862d0c5row21_col6\" class=\"data row21 col6\" >January</td>\n",
       "                        <td id=\"T_12ac37e4_48dc_11ea_b1fb_f2189862d0c5row21_col7\" class=\"data row21 col7\" >2020</td>\n",
       "                        <td id=\"T_12ac37e4_48dc_11ea_b1fb_f2189862d0c5row21_col8\" class=\"data row21 col8\" >384</td>\n",
       "                        <td id=\"T_12ac37e4_48dc_11ea_b1fb_f2189862d0c5row21_col9\" class=\"data row21 col9\" >Kindle Edition</td>\n",
       "            </tr>\n",
       "            <tr>\n",
       "                        <th id=\"T_12ac37e4_48dc_11ea_b1fb_f2189862d0c5level0_row22\" class=\"row_heading level0 row22\" >22</th>\n",
       "                        <td id=\"T_12ac37e4_48dc_11ea_b1fb_f2189862d0c5row22_col0\" class=\"data row22 col0\" >Don't Read the Comments</td>\n",
       "                        <td id=\"T_12ac37e4_48dc_11ea_b1fb_f2189862d0c5row22_col1\" class=\"data row22 col1\" >Eric  Smith</td>\n",
       "                        <td id=\"T_12ac37e4_48dc_11ea_b1fb_f2189862d0c5row22_col2\" class=\"data row22 col2\" >4.15</td>\n",
       "                        <td id=\"T_12ac37e4_48dc_11ea_b1fb_f2189862d0c5row22_col3\" class=\"data row22 col3\" >309</td>\n",
       "                        <td id=\"T_12ac37e4_48dc_11ea_b1fb_f2189862d0c5row22_col4\" class=\"data row22 col4\" >183</td>\n",
       "                        <td id=\"T_12ac37e4_48dc_11ea_b1fb_f2189862d0c5row22_col5\" class=\"data row22 col5\" >Inkyard Press</td>\n",
       "                        <td id=\"T_12ac37e4_48dc_11ea_b1fb_f2189862d0c5row22_col6\" class=\"data row22 col6\" >January</td>\n",
       "                        <td id=\"T_12ac37e4_48dc_11ea_b1fb_f2189862d0c5row22_col7\" class=\"data row22 col7\" >2020</td>\n",
       "                        <td id=\"T_12ac37e4_48dc_11ea_b1fb_f2189862d0c5row22_col8\" class=\"data row22 col8\" >368</td>\n",
       "                        <td id=\"T_12ac37e4_48dc_11ea_b1fb_f2189862d0c5row22_col9\" class=\"data row22 col9\" >Hardcover</td>\n",
       "            </tr>\n",
       "            <tr>\n",
       "                        <th id=\"T_12ac37e4_48dc_11ea_b1fb_f2189862d0c5level0_row23\" class=\"row_heading level0 row23\" >23</th>\n",
       "                        <td id=\"T_12ac37e4_48dc_11ea_b1fb_f2189862d0c5row23_col0\" class=\"data row23 col0\" >Twenty</td>\n",
       "                        <td id=\"T_12ac37e4_48dc_11ea_b1fb_f2189862d0c5row23_col1\" class=\"data row23 col1\" >Debra Landwehr Engle</td>\n",
       "                        <td id=\"T_12ac37e4_48dc_11ea_b1fb_f2189862d0c5row23_col2\" class=\"data row23 col2\" >4.18</td>\n",
       "                        <td id=\"T_12ac37e4_48dc_11ea_b1fb_f2189862d0c5row23_col3\" class=\"data row23 col3\" >120</td>\n",
       "                        <td id=\"T_12ac37e4_48dc_11ea_b1fb_f2189862d0c5row23_col4\" class=\"data row23 col4\" >89</td>\n",
       "                        <td id=\"T_12ac37e4_48dc_11ea_b1fb_f2189862d0c5row23_col5\" class=\"data row23 col5\" >Kensington Publishing Corp.</td>\n",
       "                        <td id=\"T_12ac37e4_48dc_11ea_b1fb_f2189862d0c5row23_col6\" class=\"data row23 col6\" >January</td>\n",
       "                        <td id=\"T_12ac37e4_48dc_11ea_b1fb_f2189862d0c5row23_col7\" class=\"data row23 col7\" >2020</td>\n",
       "                        <td id=\"T_12ac37e4_48dc_11ea_b1fb_f2189862d0c5row23_col8\" class=\"data row23 col8\" >240</td>\n",
       "                        <td id=\"T_12ac37e4_48dc_11ea_b1fb_f2189862d0c5row23_col9\" class=\"data row23 col9\" >Paperback</td>\n",
       "            </tr>\n",
       "            <tr>\n",
       "                        <th id=\"T_12ac37e4_48dc_11ea_b1fb_f2189862d0c5level0_row24\" class=\"row_heading level0 row24\" >24</th>\n",
       "                        <td id=\"T_12ac37e4_48dc_11ea_b1fb_f2189862d0c5row24_col0\" class=\"data row24 col0\" >The Prized Girl</td>\n",
       "                        <td id=\"T_12ac37e4_48dc_11ea_b1fb_f2189862d0c5row24_col1\" class=\"data row24 col1\" >Amy K. Green</td>\n",
       "                        <td id=\"T_12ac37e4_48dc_11ea_b1fb_f2189862d0c5row24_col2\" class=\"data row24 col2\" >3.8</td>\n",
       "                        <td id=\"T_12ac37e4_48dc_11ea_b1fb_f2189862d0c5row24_col3\" class=\"data row24 col3\" >365</td>\n",
       "                        <td id=\"T_12ac37e4_48dc_11ea_b1fb_f2189862d0c5row24_col4\" class=\"data row24 col4\" >144</td>\n",
       "                        <td id=\"T_12ac37e4_48dc_11ea_b1fb_f2189862d0c5row24_col5\" class=\"data row24 col5\" >Dutton Books</td>\n",
       "                        <td id=\"T_12ac37e4_48dc_11ea_b1fb_f2189862d0c5row24_col6\" class=\"data row24 col6\" >January</td>\n",
       "                        <td id=\"T_12ac37e4_48dc_11ea_b1fb_f2189862d0c5row24_col7\" class=\"data row24 col7\" >2020</td>\n",
       "                        <td id=\"T_12ac37e4_48dc_11ea_b1fb_f2189862d0c5row24_col8\" class=\"data row24 col8\" >384</td>\n",
       "                        <td id=\"T_12ac37e4_48dc_11ea_b1fb_f2189862d0c5row24_col9\" class=\"data row24 col9\" >Hardcover</td>\n",
       "            </tr>\n",
       "            <tr>\n",
       "                        <th id=\"T_12ac37e4_48dc_11ea_b1fb_f2189862d0c5level0_row25\" class=\"row_heading level0 row25\" >25</th>\n",
       "                        <td id=\"T_12ac37e4_48dc_11ea_b1fb_f2189862d0c5row25_col0\" class=\"data row25 col0\" >Haven't They Grown</td>\n",
       "                        <td id=\"T_12ac37e4_48dc_11ea_b1fb_f2189862d0c5row25_col1\" class=\"data row25 col1\" >Sophie Hannah</td>\n",
       "                        <td id=\"T_12ac37e4_48dc_11ea_b1fb_f2189862d0c5row25_col2\" class=\"data row25 col2\" >3.96</td>\n",
       "                        <td id=\"T_12ac37e4_48dc_11ea_b1fb_f2189862d0c5row25_col3\" class=\"data row25 col3\" >440</td>\n",
       "                        <td id=\"T_12ac37e4_48dc_11ea_b1fb_f2189862d0c5row25_col4\" class=\"data row25 col4\" >199</td>\n",
       "                        <td id=\"T_12ac37e4_48dc_11ea_b1fb_f2189862d0c5row25_col5\" class=\"data row25 col5\" >Hodder & Stoughton</td>\n",
       "                        <td id=\"T_12ac37e4_48dc_11ea_b1fb_f2189862d0c5row25_col6\" class=\"data row25 col6\" >January</td>\n",
       "                        <td id=\"T_12ac37e4_48dc_11ea_b1fb_f2189862d0c5row25_col7\" class=\"data row25 col7\" >2020</td>\n",
       "                        <td id=\"T_12ac37e4_48dc_11ea_b1fb_f2189862d0c5row25_col8\" class=\"data row25 col8\" >336</td>\n",
       "                        <td id=\"T_12ac37e4_48dc_11ea_b1fb_f2189862d0c5row25_col9\" class=\"data row25 col9\" >Kindle Edition</td>\n",
       "            </tr>\n",
       "            <tr>\n",
       "                        <th id=\"T_12ac37e4_48dc_11ea_b1fb_f2189862d0c5level0_row26\" class=\"row_heading level0 row26\" >26</th>\n",
       "                        <td id=\"T_12ac37e4_48dc_11ea_b1fb_f2189862d0c5row26_col0\" class=\"data row26 col0\" >Creatures</td>\n",
       "                        <td id=\"T_12ac37e4_48dc_11ea_b1fb_f2189862d0c5row26_col1\" class=\"data row26 col1\" >Crissy Van Meter</td>\n",
       "                        <td id=\"T_12ac37e4_48dc_11ea_b1fb_f2189862d0c5row26_col2\" class=\"data row26 col2\" >3.7</td>\n",
       "                        <td id=\"T_12ac37e4_48dc_11ea_b1fb_f2189862d0c5row26_col3\" class=\"data row26 col3\" >388</td>\n",
       "                        <td id=\"T_12ac37e4_48dc_11ea_b1fb_f2189862d0c5row26_col4\" class=\"data row26 col4\" >144</td>\n",
       "                        <td id=\"T_12ac37e4_48dc_11ea_b1fb_f2189862d0c5row26_col5\" class=\"data row26 col5\" >Algonquin Books</td>\n",
       "                        <td id=\"T_12ac37e4_48dc_11ea_b1fb_f2189862d0c5row26_col6\" class=\"data row26 col6\" >January</td>\n",
       "                        <td id=\"T_12ac37e4_48dc_11ea_b1fb_f2189862d0c5row26_col7\" class=\"data row26 col7\" >2020</td>\n",
       "                        <td id=\"T_12ac37e4_48dc_11ea_b1fb_f2189862d0c5row26_col8\" class=\"data row26 col8\" >256</td>\n",
       "                        <td id=\"T_12ac37e4_48dc_11ea_b1fb_f2189862d0c5row26_col9\" class=\"data row26 col9\" >Hardcover</td>\n",
       "            </tr>\n",
       "            <tr>\n",
       "                        <th id=\"T_12ac37e4_48dc_11ea_b1fb_f2189862d0c5level0_row27\" class=\"row_heading level0 row27\" >27</th>\n",
       "                        <td id=\"T_12ac37e4_48dc_11ea_b1fb_f2189862d0c5row27_col0\" class=\"data row27 col0\" >Spellhacker</td>\n",
       "                        <td id=\"T_12ac37e4_48dc_11ea_b1fb_f2189862d0c5row27_col1\" class=\"data row27 col1\" >M.K. England</td>\n",
       "                        <td id=\"T_12ac37e4_48dc_11ea_b1fb_f2189862d0c5row27_col2\" class=\"data row27 col2\" >3.98</td>\n",
       "                        <td id=\"T_12ac37e4_48dc_11ea_b1fb_f2189862d0c5row27_col3\" class=\"data row27 col3\" >178</td>\n",
       "                        <td id=\"T_12ac37e4_48dc_11ea_b1fb_f2189862d0c5row27_col4\" class=\"data row27 col4\" >95</td>\n",
       "                        <td id=\"T_12ac37e4_48dc_11ea_b1fb_f2189862d0c5row27_col5\" class=\"data row27 col5\" >HarperTeen</td>\n",
       "                        <td id=\"T_12ac37e4_48dc_11ea_b1fb_f2189862d0c5row27_col6\" class=\"data row27 col6\" >January</td>\n",
       "                        <td id=\"T_12ac37e4_48dc_11ea_b1fb_f2189862d0c5row27_col7\" class=\"data row27 col7\" >2020</td>\n",
       "                        <td id=\"T_12ac37e4_48dc_11ea_b1fb_f2189862d0c5row27_col8\" class=\"data row27 col8\" >400</td>\n",
       "                        <td id=\"T_12ac37e4_48dc_11ea_b1fb_f2189862d0c5row27_col9\" class=\"data row27 col9\" >Hardcover</td>\n",
       "            </tr>\n",
       "            <tr>\n",
       "                        <th id=\"T_12ac37e4_48dc_11ea_b1fb_f2189862d0c5level0_row28\" class=\"row_heading level0 row28\" >28</th>\n",
       "                        <td id=\"T_12ac37e4_48dc_11ea_b1fb_f2189862d0c5row28_col0\" class=\"data row28 col0\" >A Good Man</td>\n",
       "                        <td id=\"T_12ac37e4_48dc_11ea_b1fb_f2189862d0c5row28_col1\" class=\"data row28 col1\" >Ani Katz</td>\n",
       "                        <td id=\"T_12ac37e4_48dc_11ea_b1fb_f2189862d0c5row28_col2\" class=\"data row28 col2\" >3.41</td>\n",
       "                        <td id=\"T_12ac37e4_48dc_11ea_b1fb_f2189862d0c5row28_col3\" class=\"data row28 col3\" >310</td>\n",
       "                        <td id=\"T_12ac37e4_48dc_11ea_b1fb_f2189862d0c5row28_col4\" class=\"data row28 col4\" >131</td>\n",
       "                        <td id=\"T_12ac37e4_48dc_11ea_b1fb_f2189862d0c5row28_col5\" class=\"data row28 col5\" >William Heinemann</td>\n",
       "                        <td id=\"T_12ac37e4_48dc_11ea_b1fb_f2189862d0c5row28_col6\" class=\"data row28 col6\" >January</td>\n",
       "                        <td id=\"T_12ac37e4_48dc_11ea_b1fb_f2189862d0c5row28_col7\" class=\"data row28 col7\" >2020</td>\n",
       "                        <td id=\"T_12ac37e4_48dc_11ea_b1fb_f2189862d0c5row28_col8\" class=\"data row28 col8\" >224</td>\n",
       "                        <td id=\"T_12ac37e4_48dc_11ea_b1fb_f2189862d0c5row28_col9\" class=\"data row28 col9\" >Paperback</td>\n",
       "            </tr>\n",
       "            <tr>\n",
       "                        <th id=\"T_12ac37e4_48dc_11ea_b1fb_f2189862d0c5level0_row29\" class=\"row_heading level0 row29\" >29</th>\n",
       "                        <td id=\"T_12ac37e4_48dc_11ea_b1fb_f2189862d0c5row29_col0\" class=\"data row29 col0\" >Blood Countess</td>\n",
       "                        <td id=\"T_12ac37e4_48dc_11ea_b1fb_f2189862d0c5row29_col1\" class=\"data row29 col1\" >Lana Popović</td>\n",
       "                        <td id=\"T_12ac37e4_48dc_11ea_b1fb_f2189862d0c5row29_col2\" class=\"data row29 col2\" >3.72</td>\n",
       "                        <td id=\"T_12ac37e4_48dc_11ea_b1fb_f2189862d0c5row29_col3\" class=\"data row29 col3\" >227</td>\n",
       "                        <td id=\"T_12ac37e4_48dc_11ea_b1fb_f2189862d0c5row29_col4\" class=\"data row29 col4\" >161</td>\n",
       "                        <td id=\"T_12ac37e4_48dc_11ea_b1fb_f2189862d0c5row29_col5\" class=\"data row29 col5\" >Harry N. Abrams</td>\n",
       "                        <td id=\"T_12ac37e4_48dc_11ea_b1fb_f2189862d0c5row29_col6\" class=\"data row29 col6\" >January</td>\n",
       "                        <td id=\"T_12ac37e4_48dc_11ea_b1fb_f2189862d0c5row29_col7\" class=\"data row29 col7\" >2020</td>\n",
       "                        <td id=\"T_12ac37e4_48dc_11ea_b1fb_f2189862d0c5row29_col8\" class=\"data row29 col8\" >293</td>\n",
       "                        <td id=\"T_12ac37e4_48dc_11ea_b1fb_f2189862d0c5row29_col9\" class=\"data row29 col9\" >Hardcover</td>\n",
       "            </tr>\n",
       "            <tr>\n",
       "                        <th id=\"T_12ac37e4_48dc_11ea_b1fb_f2189862d0c5level0_row30\" class=\"row_heading level0 row30\" >30</th>\n",
       "                        <td id=\"T_12ac37e4_48dc_11ea_b1fb_f2189862d0c5row30_col0\" class=\"data row30 col0\" >Into the Fire</td>\n",
       "                        <td id=\"T_12ac37e4_48dc_11ea_b1fb_f2189862d0c5row30_col1\" class=\"data row30 col1\" >Gregg Hurwitz</td>\n",
       "                        <td id=\"T_12ac37e4_48dc_11ea_b1fb_f2189862d0c5row30_col2\" class=\"data row30 col2\" >4.6</td>\n",
       "                        <td id=\"T_12ac37e4_48dc_11ea_b1fb_f2189862d0c5row30_col3\" class=\"data row30 col3\" >808</td>\n",
       "                        <td id=\"T_12ac37e4_48dc_11ea_b1fb_f2189862d0c5row30_col4\" class=\"data row30 col4\" >267</td>\n",
       "                        <td id=\"T_12ac37e4_48dc_11ea_b1fb_f2189862d0c5row30_col5\" class=\"data row30 col5\" >Minotaur Books</td>\n",
       "                        <td id=\"T_12ac37e4_48dc_11ea_b1fb_f2189862d0c5row30_col6\" class=\"data row30 col6\" >January</td>\n",
       "                        <td id=\"T_12ac37e4_48dc_11ea_b1fb_f2189862d0c5row30_col7\" class=\"data row30 col7\" >2020</td>\n",
       "                        <td id=\"T_12ac37e4_48dc_11ea_b1fb_f2189862d0c5row30_col8\" class=\"data row30 col8\" >400</td>\n",
       "                        <td id=\"T_12ac37e4_48dc_11ea_b1fb_f2189862d0c5row30_col9\" class=\"data row30 col9\" >Hardcover</td>\n",
       "            </tr>\n",
       "            <tr>\n",
       "                        <th id=\"T_12ac37e4_48dc_11ea_b1fb_f2189862d0c5level0_row31\" class=\"row_heading level0 row31\" >31</th>\n",
       "                        <td id=\"T_12ac37e4_48dc_11ea_b1fb_f2189862d0c5row31_col0\" class=\"data row31 col0\" >The Words I Never Wrote</td>\n",
       "                        <td id=\"T_12ac37e4_48dc_11ea_b1fb_f2189862d0c5row31_col1\" class=\"data row31 col1\" >Jane Thynne</td>\n",
       "                        <td id=\"T_12ac37e4_48dc_11ea_b1fb_f2189862d0c5row31_col2\" class=\"data row31 col2\" >4.21</td>\n",
       "                        <td id=\"T_12ac37e4_48dc_11ea_b1fb_f2189862d0c5row31_col3\" class=\"data row31 col3\" >148</td>\n",
       "                        <td id=\"T_12ac37e4_48dc_11ea_b1fb_f2189862d0c5row31_col4\" class=\"data row31 col4\" >98</td>\n",
       "                        <td id=\"T_12ac37e4_48dc_11ea_b1fb_f2189862d0c5row31_col5\" class=\"data row31 col5\" >Ballantine Books</td>\n",
       "                        <td id=\"T_12ac37e4_48dc_11ea_b1fb_f2189862d0c5row31_col6\" class=\"data row31 col6\" >January</td>\n",
       "                        <td id=\"T_12ac37e4_48dc_11ea_b1fb_f2189862d0c5row31_col7\" class=\"data row31 col7\" >2020</td>\n",
       "                        <td id=\"T_12ac37e4_48dc_11ea_b1fb_f2189862d0c5row31_col8\" class=\"data row31 col8\" >400</td>\n",
       "                        <td id=\"T_12ac37e4_48dc_11ea_b1fb_f2189862d0c5row31_col9\" class=\"data row31 col9\" >Hardcover</td>\n",
       "            </tr>\n",
       "            <tr>\n",
       "                        <th id=\"T_12ac37e4_48dc_11ea_b1fb_f2189862d0c5level0_row32\" class=\"row_heading level0 row32\" >32</th>\n",
       "                        <td id=\"T_12ac37e4_48dc_11ea_b1fb_f2189862d0c5row32_col0\" class=\"data row32 col0\" >The Vanished Birds</td>\n",
       "                        <td id=\"T_12ac37e4_48dc_11ea_b1fb_f2189862d0c5row32_col1\" class=\"data row32 col1\" >Simon Jimenez</td>\n",
       "                        <td id=\"T_12ac37e4_48dc_11ea_b1fb_f2189862d0c5row32_col2\" class=\"data row32 col2\" >4.15</td>\n",
       "                        <td id=\"T_12ac37e4_48dc_11ea_b1fb_f2189862d0c5row32_col3\" class=\"data row32 col3\" >271</td>\n",
       "                        <td id=\"T_12ac37e4_48dc_11ea_b1fb_f2189862d0c5row32_col4\" class=\"data row32 col4\" >133</td>\n",
       "                        <td id=\"T_12ac37e4_48dc_11ea_b1fb_f2189862d0c5row32_col5\" class=\"data row32 col5\" >Del Rey Books</td>\n",
       "                        <td id=\"T_12ac37e4_48dc_11ea_b1fb_f2189862d0c5row32_col6\" class=\"data row32 col6\" >January</td>\n",
       "                        <td id=\"T_12ac37e4_48dc_11ea_b1fb_f2189862d0c5row32_col7\" class=\"data row32 col7\" >2020</td>\n",
       "                        <td id=\"T_12ac37e4_48dc_11ea_b1fb_f2189862d0c5row32_col8\" class=\"data row32 col8\" >391</td>\n",
       "                        <td id=\"T_12ac37e4_48dc_11ea_b1fb_f2189862d0c5row32_col9\" class=\"data row32 col9\" >Hardcover</td>\n",
       "            </tr>\n",
       "            <tr>\n",
       "                        <th id=\"T_12ac37e4_48dc_11ea_b1fb_f2189862d0c5level0_row33\" class=\"row_heading level0 row33\" >33</th>\n",
       "                        <td id=\"T_12ac37e4_48dc_11ea_b1fb_f2189862d0c5row33_col0\" class=\"data row33 col0\" >A Queen in Hiding</td>\n",
       "                        <td id=\"T_12ac37e4_48dc_11ea_b1fb_f2189862d0c5row33_col1\" class=\"data row33 col1\" >Sarah Kozloff</td>\n",
       "                        <td id=\"T_12ac37e4_48dc_11ea_b1fb_f2189862d0c5row33_col2\" class=\"data row33 col2\" >3.81</td>\n",
       "                        <td id=\"T_12ac37e4_48dc_11ea_b1fb_f2189862d0c5row33_col3\" class=\"data row33 col3\" >141</td>\n",
       "                        <td id=\"T_12ac37e4_48dc_11ea_b1fb_f2189862d0c5row33_col4\" class=\"data row33 col4\" >75</td>\n",
       "                        <td id=\"T_12ac37e4_48dc_11ea_b1fb_f2189862d0c5row33_col5\" class=\"data row33 col5\" >Tor Books</td>\n",
       "                        <td id=\"T_12ac37e4_48dc_11ea_b1fb_f2189862d0c5row33_col6\" class=\"data row33 col6\" >January</td>\n",
       "                        <td id=\"T_12ac37e4_48dc_11ea_b1fb_f2189862d0c5row33_col7\" class=\"data row33 col7\" >2020</td>\n",
       "                        <td id=\"T_12ac37e4_48dc_11ea_b1fb_f2189862d0c5row33_col8\" class=\"data row33 col8\" >477</td>\n",
       "                        <td id=\"T_12ac37e4_48dc_11ea_b1fb_f2189862d0c5row33_col9\" class=\"data row33 col9\" >Paperback</td>\n",
       "            </tr>\n",
       "            <tr>\n",
       "                        <th id=\"T_12ac37e4_48dc_11ea_b1fb_f2189862d0c5level0_row34\" class=\"row_heading level0 row34\" >34</th>\n",
       "                        <td id=\"T_12ac37e4_48dc_11ea_b1fb_f2189862d0c5row34_col0\" class=\"data row34 col0\" >Westering Women</td>\n",
       "                        <td id=\"T_12ac37e4_48dc_11ea_b1fb_f2189862d0c5row34_col1\" class=\"data row34 col1\" >Sandra Dallas</td>\n",
       "                        <td id=\"T_12ac37e4_48dc_11ea_b1fb_f2189862d0c5row34_col2\" class=\"data row34 col2\" >4.02</td>\n",
       "                        <td id=\"T_12ac37e4_48dc_11ea_b1fb_f2189862d0c5row34_col3\" class=\"data row34 col3\" >571</td>\n",
       "                        <td id=\"T_12ac37e4_48dc_11ea_b1fb_f2189862d0c5row34_col4\" class=\"data row34 col4\" >236</td>\n",
       "                        <td id=\"T_12ac37e4_48dc_11ea_b1fb_f2189862d0c5row34_col5\" class=\"data row34 col5\" >St. Martin's Press</td>\n",
       "                        <td id=\"T_12ac37e4_48dc_11ea_b1fb_f2189862d0c5row34_col6\" class=\"data row34 col6\" >January</td>\n",
       "                        <td id=\"T_12ac37e4_48dc_11ea_b1fb_f2189862d0c5row34_col7\" class=\"data row34 col7\" >2020</td>\n",
       "                        <td id=\"T_12ac37e4_48dc_11ea_b1fb_f2189862d0c5row34_col8\" class=\"data row34 col8\" >336</td>\n",
       "                        <td id=\"T_12ac37e4_48dc_11ea_b1fb_f2189862d0c5row34_col9\" class=\"data row34 col9\" >Hardcover</td>\n",
       "            </tr>\n",
       "            <tr>\n",
       "                        <th id=\"T_12ac37e4_48dc_11ea_b1fb_f2189862d0c5level0_row35\" class=\"row_heading level0 row35\" >35</th>\n",
       "                        <td id=\"T_12ac37e4_48dc_11ea_b1fb_f2189862d0c5row35_col0\" class=\"data row35 col0\" >Wife After Wife</td>\n",
       "                        <td id=\"T_12ac37e4_48dc_11ea_b1fb_f2189862d0c5row35_col1\" class=\"data row35 col1\" >Olivia Hayfield</td>\n",
       "                        <td id=\"T_12ac37e4_48dc_11ea_b1fb_f2189862d0c5row35_col2\" class=\"data row35 col2\" >3.76</td>\n",
       "                        <td id=\"T_12ac37e4_48dc_11ea_b1fb_f2189862d0c5row35_col3\" class=\"data row35 col3\" >188</td>\n",
       "                        <td id=\"T_12ac37e4_48dc_11ea_b1fb_f2189862d0c5row35_col4\" class=\"data row35 col4\" >101</td>\n",
       "                        <td id=\"T_12ac37e4_48dc_11ea_b1fb_f2189862d0c5row35_col5\" class=\"data row35 col5\" >Berkley</td>\n",
       "                        <td id=\"T_12ac37e4_48dc_11ea_b1fb_f2189862d0c5row35_col6\" class=\"data row35 col6\" >January</td>\n",
       "                        <td id=\"T_12ac37e4_48dc_11ea_b1fb_f2189862d0c5row35_col7\" class=\"data row35 col7\" >2020</td>\n",
       "                        <td id=\"T_12ac37e4_48dc_11ea_b1fb_f2189862d0c5row35_col8\" class=\"data row35 col8\" >432</td>\n",
       "                        <td id=\"T_12ac37e4_48dc_11ea_b1fb_f2189862d0c5row35_col9\" class=\"data row35 col9\" >Paperback</td>\n",
       "            </tr>\n",
       "            <tr>\n",
       "                        <th id=\"T_12ac37e4_48dc_11ea_b1fb_f2189862d0c5level0_row36\" class=\"row_heading level0 row36\" >36</th>\n",
       "                        <td id=\"T_12ac37e4_48dc_11ea_b1fb_f2189862d0c5row36_col0\" class=\"data row36 col0\" >The Vineyards of Champagne</td>\n",
       "                        <td id=\"T_12ac37e4_48dc_11ea_b1fb_f2189862d0c5row36_col1\" class=\"data row36 col1\" >Juliet Blackwell</td>\n",
       "                        <td id=\"T_12ac37e4_48dc_11ea_b1fb_f2189862d0c5row36_col2\" class=\"data row36 col2\" >4.21</td>\n",
       "                        <td id=\"T_12ac37e4_48dc_11ea_b1fb_f2189862d0c5row36_col3\" class=\"data row36 col3\" >142</td>\n",
       "                        <td id=\"T_12ac37e4_48dc_11ea_b1fb_f2189862d0c5row36_col4\" class=\"data row36 col4\" >54</td>\n",
       "                        <td id=\"T_12ac37e4_48dc_11ea_b1fb_f2189862d0c5row36_col5\" class=\"data row36 col5\" >Berkley</td>\n",
       "                        <td id=\"T_12ac37e4_48dc_11ea_b1fb_f2189862d0c5row36_col6\" class=\"data row36 col6\" >January</td>\n",
       "                        <td id=\"T_12ac37e4_48dc_11ea_b1fb_f2189862d0c5row36_col7\" class=\"data row36 col7\" >2020</td>\n",
       "                        <td id=\"T_12ac37e4_48dc_11ea_b1fb_f2189862d0c5row36_col8\" class=\"data row36 col8\" >388</td>\n",
       "                        <td id=\"T_12ac37e4_48dc_11ea_b1fb_f2189862d0c5row36_col9\" class=\"data row36 col9\" >Paperback</td>\n",
       "            </tr>\n",
       "            <tr>\n",
       "                        <th id=\"T_12ac37e4_48dc_11ea_b1fb_f2189862d0c5level0_row37\" class=\"row_heading level0 row37\" >37</th>\n",
       "                        <td id=\"T_12ac37e4_48dc_11ea_b1fb_f2189862d0c5row37_col0\" class=\"data row37 col0\" >Interior Chinatown</td>\n",
       "                        <td id=\"T_12ac37e4_48dc_11ea_b1fb_f2189862d0c5row37_col1\" class=\"data row37 col1\" >Charles Yu</td>\n",
       "                        <td id=\"T_12ac37e4_48dc_11ea_b1fb_f2189862d0c5row37_col2\" class=\"data row37 col2\" >4.24</td>\n",
       "                        <td id=\"T_12ac37e4_48dc_11ea_b1fb_f2189862d0c5row37_col3\" class=\"data row37 col3\" >160</td>\n",
       "                        <td id=\"T_12ac37e4_48dc_11ea_b1fb_f2189862d0c5row37_col4\" class=\"data row37 col4\" >48</td>\n",
       "                        <td id=\"T_12ac37e4_48dc_11ea_b1fb_f2189862d0c5row37_col5\" class=\"data row37 col5\" >Pantheon Books</td>\n",
       "                        <td id=\"T_12ac37e4_48dc_11ea_b1fb_f2189862d0c5row37_col6\" class=\"data row37 col6\" >January</td>\n",
       "                        <td id=\"T_12ac37e4_48dc_11ea_b1fb_f2189862d0c5row37_col7\" class=\"data row37 col7\" >2020</td>\n",
       "                        <td id=\"T_12ac37e4_48dc_11ea_b1fb_f2189862d0c5row37_col8\" class=\"data row37 col8\" >288</td>\n",
       "                        <td id=\"T_12ac37e4_48dc_11ea_b1fb_f2189862d0c5row37_col9\" class=\"data row37 col9\" >Hardcover</td>\n",
       "            </tr>\n",
       "            <tr>\n",
       "                        <th id=\"T_12ac37e4_48dc_11ea_b1fb_f2189862d0c5level0_row38\" class=\"row_heading level0 row38\" >38</th>\n",
       "                        <td id=\"T_12ac37e4_48dc_11ea_b1fb_f2189862d0c5row38_col0\" class=\"data row38 col0\" >Race to the Sun</td>\n",
       "                        <td id=\"T_12ac37e4_48dc_11ea_b1fb_f2189862d0c5row38_col1\" class=\"data row38 col1\" >Rebecca Roanhorse</td>\n",
       "                        <td id=\"T_12ac37e4_48dc_11ea_b1fb_f2189862d0c5row38_col2\" class=\"data row38 col2\" >4.13</td>\n",
       "                        <td id=\"T_12ac37e4_48dc_11ea_b1fb_f2189862d0c5row38_col3\" class=\"data row38 col3\" >343</td>\n",
       "                        <td id=\"T_12ac37e4_48dc_11ea_b1fb_f2189862d0c5row38_col4\" class=\"data row38 col4\" >110</td>\n",
       "                        <td id=\"T_12ac37e4_48dc_11ea_b1fb_f2189862d0c5row38_col5\" class=\"data row38 col5\" >Rick Riordan Presents</td>\n",
       "                        <td id=\"T_12ac37e4_48dc_11ea_b1fb_f2189862d0c5row38_col6\" class=\"data row38 col6\" >January</td>\n",
       "                        <td id=\"T_12ac37e4_48dc_11ea_b1fb_f2189862d0c5row38_col7\" class=\"data row38 col7\" >2020</td>\n",
       "                        <td id=\"T_12ac37e4_48dc_11ea_b1fb_f2189862d0c5row38_col8\" class=\"data row38 col8\" >306</td>\n",
       "                        <td id=\"T_12ac37e4_48dc_11ea_b1fb_f2189862d0c5row38_col9\" class=\"data row38 col9\" >Hardcover</td>\n",
       "            </tr>\n",
       "            <tr>\n",
       "                        <th id=\"T_12ac37e4_48dc_11ea_b1fb_f2189862d0c5level0_row39\" class=\"row_heading level0 row39\" >39</th>\n",
       "                        <td id=\"T_12ac37e4_48dc_11ea_b1fb_f2189862d0c5row39_col0\" class=\"data row39 col0\" >Run Me to Earth</td>\n",
       "                        <td id=\"T_12ac37e4_48dc_11ea_b1fb_f2189862d0c5row39_col1\" class=\"data row39 col1\" >Paul Yoon</td>\n",
       "                        <td id=\"T_12ac37e4_48dc_11ea_b1fb_f2189862d0c5row39_col2\" class=\"data row39 col2\" >3.77</td>\n",
       "                        <td id=\"T_12ac37e4_48dc_11ea_b1fb_f2189862d0c5row39_col3\" class=\"data row39 col3\" >141</td>\n",
       "                        <td id=\"T_12ac37e4_48dc_11ea_b1fb_f2189862d0c5row39_col4\" class=\"data row39 col4\" >61</td>\n",
       "                        <td id=\"T_12ac37e4_48dc_11ea_b1fb_f2189862d0c5row39_col5\" class=\"data row39 col5\" >Simon  Schuster</td>\n",
       "                        <td id=\"T_12ac37e4_48dc_11ea_b1fb_f2189862d0c5row39_col6\" class=\"data row39 col6\" >January</td>\n",
       "                        <td id=\"T_12ac37e4_48dc_11ea_b1fb_f2189862d0c5row39_col7\" class=\"data row39 col7\" >2020</td>\n",
       "                        <td id=\"T_12ac37e4_48dc_11ea_b1fb_f2189862d0c5row39_col8\" class=\"data row39 col8\" >272</td>\n",
       "                        <td id=\"T_12ac37e4_48dc_11ea_b1fb_f2189862d0c5row39_col9\" class=\"data row39 col9\" >Hardcover</td>\n",
       "            </tr>\n",
       "            <tr>\n",
       "                        <th id=\"T_12ac37e4_48dc_11ea_b1fb_f2189862d0c5level0_row40\" class=\"row_heading level0 row40\" >40</th>\n",
       "                        <td id=\"T_12ac37e4_48dc_11ea_b1fb_f2189862d0c5row40_col0\" class=\"data row40 col0\" >Keystone</td>\n",
       "                        <td id=\"T_12ac37e4_48dc_11ea_b1fb_f2189862d0c5row40_col1\" class=\"data row40 col1\" >Katie Delahanty</td>\n",
       "                        <td id=\"T_12ac37e4_48dc_11ea_b1fb_f2189862d0c5row40_col2\" class=\"data row40 col2\" >3.98</td>\n",
       "                        <td id=\"T_12ac37e4_48dc_11ea_b1fb_f2189862d0c5row40_col3\" class=\"data row40 col3\" >81</td>\n",
       "                        <td id=\"T_12ac37e4_48dc_11ea_b1fb_f2189862d0c5row40_col4\" class=\"data row40 col4\" >59</td>\n",
       "                        <td id=\"T_12ac37e4_48dc_11ea_b1fb_f2189862d0c5row40_col5\" class=\"data row40 col5\" >Entangled: Teen</td>\n",
       "                        <td id=\"T_12ac37e4_48dc_11ea_b1fb_f2189862d0c5row40_col6\" class=\"data row40 col6\" >January</td>\n",
       "                        <td id=\"T_12ac37e4_48dc_11ea_b1fb_f2189862d0c5row40_col7\" class=\"data row40 col7\" >2020</td>\n",
       "                        <td id=\"T_12ac37e4_48dc_11ea_b1fb_f2189862d0c5row40_col8\" class=\"data row40 col8\" >390</td>\n",
       "                        <td id=\"T_12ac37e4_48dc_11ea_b1fb_f2189862d0c5row40_col9\" class=\"data row40 col9\" >Paperback</td>\n",
       "            </tr>\n",
       "            <tr>\n",
       "                        <th id=\"T_12ac37e4_48dc_11ea_b1fb_f2189862d0c5level0_row41\" class=\"row_heading level0 row41\" >41</th>\n",
       "                        <td id=\"T_12ac37e4_48dc_11ea_b1fb_f2189862d0c5row41_col0\" class=\"data row41 col0\" >Light Changes Everything</td>\n",
       "                        <td id=\"T_12ac37e4_48dc_11ea_b1fb_f2189862d0c5row41_col1\" class=\"data row41 col1\" >Nancy E. Turner</td>\n",
       "                        <td id=\"T_12ac37e4_48dc_11ea_b1fb_f2189862d0c5row41_col2\" class=\"data row41 col2\" >4.18</td>\n",
       "                        <td id=\"T_12ac37e4_48dc_11ea_b1fb_f2189862d0c5row41_col3\" class=\"data row41 col3\" >289</td>\n",
       "                        <td id=\"T_12ac37e4_48dc_11ea_b1fb_f2189862d0c5row41_col4\" class=\"data row41 col4\" >147</td>\n",
       "                        <td id=\"T_12ac37e4_48dc_11ea_b1fb_f2189862d0c5row41_col5\" class=\"data row41 col5\" >Thomas Dunne Books</td>\n",
       "                        <td id=\"T_12ac37e4_48dc_11ea_b1fb_f2189862d0c5row41_col6\" class=\"data row41 col6\" >January</td>\n",
       "                        <td id=\"T_12ac37e4_48dc_11ea_b1fb_f2189862d0c5row41_col7\" class=\"data row41 col7\" >2020</td>\n",
       "                        <td id=\"T_12ac37e4_48dc_11ea_b1fb_f2189862d0c5row41_col8\" class=\"data row41 col8\" >304</td>\n",
       "                        <td id=\"T_12ac37e4_48dc_11ea_b1fb_f2189862d0c5row41_col9\" class=\"data row41 col9\" >Hardcover</td>\n",
       "            </tr>\n",
       "            <tr>\n",
       "                        <th id=\"T_12ac37e4_48dc_11ea_b1fb_f2189862d0c5level0_row42\" class=\"row_heading level0 row42\" >42</th>\n",
       "                        <td id=\"T_12ac37e4_48dc_11ea_b1fb_f2189862d0c5row42_col0\" class=\"data row42 col0\" >A Beginning at the End</td>\n",
       "                        <td id=\"T_12ac37e4_48dc_11ea_b1fb_f2189862d0c5row42_col1\" class=\"data row42 col1\" >Mike Chen</td>\n",
       "                        <td id=\"T_12ac37e4_48dc_11ea_b1fb_f2189862d0c5row42_col2\" class=\"data row42 col2\" >3.78</td>\n",
       "                        <td id=\"T_12ac37e4_48dc_11ea_b1fb_f2189862d0c5row42_col3\" class=\"data row42 col3\" >273</td>\n",
       "                        <td id=\"T_12ac37e4_48dc_11ea_b1fb_f2189862d0c5row42_col4\" class=\"data row42 col4\" >120</td>\n",
       "                        <td id=\"T_12ac37e4_48dc_11ea_b1fb_f2189862d0c5row42_col5\" class=\"data row42 col5\" >Thomas Dunne Books</td>\n",
       "                        <td id=\"T_12ac37e4_48dc_11ea_b1fb_f2189862d0c5row42_col6\" class=\"data row42 col6\" >January</td>\n",
       "                        <td id=\"T_12ac37e4_48dc_11ea_b1fb_f2189862d0c5row42_col7\" class=\"data row42 col7\" >2020</td>\n",
       "                        <td id=\"T_12ac37e4_48dc_11ea_b1fb_f2189862d0c5row42_col8\" class=\"data row42 col8\" >304</td>\n",
       "                        <td id=\"T_12ac37e4_48dc_11ea_b1fb_f2189862d0c5row42_col9\" class=\"data row42 col9\" >Hardcover</td>\n",
       "            </tr>\n",
       "            <tr>\n",
       "                        <th id=\"T_12ac37e4_48dc_11ea_b1fb_f2189862d0c5level0_row43\" class=\"row_heading level0 row43\" >43</th>\n",
       "                        <td id=\"T_12ac37e4_48dc_11ea_b1fb_f2189862d0c5row43_col0\" class=\"data row43 col0\" >Cleanness</td>\n",
       "                        <td id=\"T_12ac37e4_48dc_11ea_b1fb_f2189862d0c5row43_col1\" class=\"data row43 col1\" >Garth Greenwell</td>\n",
       "                        <td id=\"T_12ac37e4_48dc_11ea_b1fb_f2189862d0c5row43_col2\" class=\"data row43 col2\" >4.29</td>\n",
       "                        <td id=\"T_12ac37e4_48dc_11ea_b1fb_f2189862d0c5row43_col3\" class=\"data row43 col3\" >452</td>\n",
       "                        <td id=\"T_12ac37e4_48dc_11ea_b1fb_f2189862d0c5row43_col4\" class=\"data row43 col4\" >102</td>\n",
       "                        <td id=\"T_12ac37e4_48dc_11ea_b1fb_f2189862d0c5row43_col5\" class=\"data row43 col5\" >Farrar, Straus and Giroux</td>\n",
       "                        <td id=\"T_12ac37e4_48dc_11ea_b1fb_f2189862d0c5row43_col6\" class=\"data row43 col6\" >January</td>\n",
       "                        <td id=\"T_12ac37e4_48dc_11ea_b1fb_f2189862d0c5row43_col7\" class=\"data row43 col7\" >2020</td>\n",
       "                        <td id=\"T_12ac37e4_48dc_11ea_b1fb_f2189862d0c5row43_col8\" class=\"data row43 col8\" >240</td>\n",
       "                        <td id=\"T_12ac37e4_48dc_11ea_b1fb_f2189862d0c5row43_col9\" class=\"data row43 col9\" >Hardcover</td>\n",
       "            </tr>\n",
       "            <tr>\n",
       "                        <th id=\"T_12ac37e4_48dc_11ea_b1fb_f2189862d0c5level0_row44\" class=\"row_heading level0 row44\" >44</th>\n",
       "                        <td id=\"T_12ac37e4_48dc_11ea_b1fb_f2189862d0c5row44_col0\" class=\"data row44 col0\" >Not So Pure and Simple</td>\n",
       "                        <td id=\"T_12ac37e4_48dc_11ea_b1fb_f2189862d0c5row44_col1\" class=\"data row44 col1\" >Lamar Giles</td>\n",
       "                        <td id=\"T_12ac37e4_48dc_11ea_b1fb_f2189862d0c5row44_col2\" class=\"data row44 col2\" >4.23</td>\n",
       "                        <td id=\"T_12ac37e4_48dc_11ea_b1fb_f2189862d0c5row44_col3\" class=\"data row44 col3\" >109</td>\n",
       "                        <td id=\"T_12ac37e4_48dc_11ea_b1fb_f2189862d0c5row44_col4\" class=\"data row44 col4\" >34</td>\n",
       "                        <td id=\"T_12ac37e4_48dc_11ea_b1fb_f2189862d0c5row44_col5\" class=\"data row44 col5\" >Quill Tree Books</td>\n",
       "                        <td id=\"T_12ac37e4_48dc_11ea_b1fb_f2189862d0c5row44_col6\" class=\"data row44 col6\" >January</td>\n",
       "                        <td id=\"T_12ac37e4_48dc_11ea_b1fb_f2189862d0c5row44_col7\" class=\"data row44 col7\" >2020</td>\n",
       "                        <td id=\"T_12ac37e4_48dc_11ea_b1fb_f2189862d0c5row44_col8\" class=\"data row44 col8\" >400</td>\n",
       "                        <td id=\"T_12ac37e4_48dc_11ea_b1fb_f2189862d0c5row44_col9\" class=\"data row44 col9\" >ebook</td>\n",
       "            </tr>\n",
       "            <tr>\n",
       "                        <th id=\"T_12ac37e4_48dc_11ea_b1fb_f2189862d0c5level0_row45\" class=\"row_heading level0 row45\" >45</th>\n",
       "                        <td id=\"T_12ac37e4_48dc_11ea_b1fb_f2189862d0c5row45_col0\" class=\"data row45 col0\" >Rogue Princess</td>\n",
       "                        <td id=\"T_12ac37e4_48dc_11ea_b1fb_f2189862d0c5row45_col1\" class=\"data row45 col1\" >B.R.  Myers</td>\n",
       "                        <td id=\"T_12ac37e4_48dc_11ea_b1fb_f2189862d0c5row45_col2\" class=\"data row45 col2\" >3.65</td>\n",
       "                        <td id=\"T_12ac37e4_48dc_11ea_b1fb_f2189862d0c5row45_col3\" class=\"data row45 col3\" >142</td>\n",
       "                        <td id=\"T_12ac37e4_48dc_11ea_b1fb_f2189862d0c5row45_col4\" class=\"data row45 col4\" >88</td>\n",
       "                        <td id=\"T_12ac37e4_48dc_11ea_b1fb_f2189862d0c5row45_col5\" class=\"data row45 col5\" >Swoon Reads</td>\n",
       "                        <td id=\"T_12ac37e4_48dc_11ea_b1fb_f2189862d0c5row45_col6\" class=\"data row45 col6\" >January</td>\n",
       "                        <td id=\"T_12ac37e4_48dc_11ea_b1fb_f2189862d0c5row45_col7\" class=\"data row45 col7\" >2020</td>\n",
       "                        <td id=\"T_12ac37e4_48dc_11ea_b1fb_f2189862d0c5row45_col8\" class=\"data row45 col8\" >304</td>\n",
       "                        <td id=\"T_12ac37e4_48dc_11ea_b1fb_f2189862d0c5row45_col9\" class=\"data row45 col9\" >Hardcover</td>\n",
       "            </tr>\n",
       "            <tr>\n",
       "                        <th id=\"T_12ac37e4_48dc_11ea_b1fb_f2189862d0c5level0_row46\" class=\"row_heading level0 row46\" >46</th>\n",
       "                        <td id=\"T_12ac37e4_48dc_11ea_b1fb_f2189862d0c5row46_col0\" class=\"data row46 col0\" >The Empty Bed</td>\n",
       "                        <td id=\"T_12ac37e4_48dc_11ea_b1fb_f2189862d0c5row46_col1\" class=\"data row46 col1\" >Nina Sadowsky</td>\n",
       "                        <td id=\"T_12ac37e4_48dc_11ea_b1fb_f2189862d0c5row46_col2\" class=\"data row46 col2\" >3.67</td>\n",
       "                        <td id=\"T_12ac37e4_48dc_11ea_b1fb_f2189862d0c5row46_col3\" class=\"data row46 col3\" >91</td>\n",
       "                        <td id=\"T_12ac37e4_48dc_11ea_b1fb_f2189862d0c5row46_col4\" class=\"data row46 col4\" >67</td>\n",
       "                        <td id=\"T_12ac37e4_48dc_11ea_b1fb_f2189862d0c5row46_col5\" class=\"data row46 col5\" >Ballantine Books</td>\n",
       "                        <td id=\"T_12ac37e4_48dc_11ea_b1fb_f2189862d0c5row46_col6\" class=\"data row46 col6\" >January</td>\n",
       "                        <td id=\"T_12ac37e4_48dc_11ea_b1fb_f2189862d0c5row46_col7\" class=\"data row46 col7\" >2020</td>\n",
       "                        <td id=\"T_12ac37e4_48dc_11ea_b1fb_f2189862d0c5row46_col8\" class=\"data row46 col8\" >301</td>\n",
       "                        <td id=\"T_12ac37e4_48dc_11ea_b1fb_f2189862d0c5row46_col9\" class=\"data row46 col9\" >Hardcover</td>\n",
       "            </tr>\n",
       "            <tr>\n",
       "                        <th id=\"T_12ac37e4_48dc_11ea_b1fb_f2189862d0c5level0_row47\" class=\"row_heading level0 row47\" >47</th>\n",
       "                        <td id=\"T_12ac37e4_48dc_11ea_b1fb_f2189862d0c5row47_col0\" class=\"data row47 col0\" >Naked Came the Florida Man</td>\n",
       "                        <td id=\"T_12ac37e4_48dc_11ea_b1fb_f2189862d0c5row47_col1\" class=\"data row47 col1\" >Tim Dorsey</td>\n",
       "                        <td id=\"T_12ac37e4_48dc_11ea_b1fb_f2189862d0c5row47_col2\" class=\"data row47 col2\" >4.26</td>\n",
       "                        <td id=\"T_12ac37e4_48dc_11ea_b1fb_f2189862d0c5row47_col3\" class=\"data row47 col3\" >317</td>\n",
       "                        <td id=\"T_12ac37e4_48dc_11ea_b1fb_f2189862d0c5row47_col4\" class=\"data row47 col4\" >66</td>\n",
       "                        <td id=\"T_12ac37e4_48dc_11ea_b1fb_f2189862d0c5row47_col5\" class=\"data row47 col5\" >William Morrow</td>\n",
       "                        <td id=\"T_12ac37e4_48dc_11ea_b1fb_f2189862d0c5row47_col6\" class=\"data row47 col6\" >January</td>\n",
       "                        <td id=\"T_12ac37e4_48dc_11ea_b1fb_f2189862d0c5row47_col7\" class=\"data row47 col7\" >2020</td>\n",
       "                        <td id=\"T_12ac37e4_48dc_11ea_b1fb_f2189862d0c5row47_col8\" class=\"data row47 col8\" >327</td>\n",
       "                        <td id=\"T_12ac37e4_48dc_11ea_b1fb_f2189862d0c5row47_col9\" class=\"data row47 col9\" >Hardcover</td>\n",
       "            </tr>\n",
       "            <tr>\n",
       "                        <th id=\"T_12ac37e4_48dc_11ea_b1fb_f2189862d0c5level0_row48\" class=\"row_heading level0 row48\" >48</th>\n",
       "                        <td id=\"T_12ac37e4_48dc_11ea_b1fb_f2189862d0c5row48_col0\" class=\"data row48 col0\" >Three Things I Know Are True</td>\n",
       "                        <td id=\"T_12ac37e4_48dc_11ea_b1fb_f2189862d0c5row48_col1\" class=\"data row48 col1\" >Betty Culley</td>\n",
       "                        <td id=\"T_12ac37e4_48dc_11ea_b1fb_f2189862d0c5row48_col2\" class=\"data row48 col2\" >4.24</td>\n",
       "                        <td id=\"T_12ac37e4_48dc_11ea_b1fb_f2189862d0c5row48_col3\" class=\"data row48 col3\" >212</td>\n",
       "                        <td id=\"T_12ac37e4_48dc_11ea_b1fb_f2189862d0c5row48_col4\" class=\"data row48 col4\" >79</td>\n",
       "                        <td id=\"T_12ac37e4_48dc_11ea_b1fb_f2189862d0c5row48_col5\" class=\"data row48 col5\" >HarperTeen</td>\n",
       "                        <td id=\"T_12ac37e4_48dc_11ea_b1fb_f2189862d0c5row48_col6\" class=\"data row48 col6\" >January</td>\n",
       "                        <td id=\"T_12ac37e4_48dc_11ea_b1fb_f2189862d0c5row48_col7\" class=\"data row48 col7\" >2020</td>\n",
       "                        <td id=\"T_12ac37e4_48dc_11ea_b1fb_f2189862d0c5row48_col8\" class=\"data row48 col8\" >480</td>\n",
       "                        <td id=\"T_12ac37e4_48dc_11ea_b1fb_f2189862d0c5row48_col9\" class=\"data row48 col9\" >ebook</td>\n",
       "            </tr>\n",
       "            <tr>\n",
       "                        <th id=\"T_12ac37e4_48dc_11ea_b1fb_f2189862d0c5level0_row49\" class=\"row_heading level0 row49\" >49</th>\n",
       "                        <td id=\"T_12ac37e4_48dc_11ea_b1fb_f2189862d0c5row49_col0\" class=\"data row49 col0\" >We Wish You Luck</td>\n",
       "                        <td id=\"T_12ac37e4_48dc_11ea_b1fb_f2189862d0c5row49_col1\" class=\"data row49 col1\" >Caroline Zancan</td>\n",
       "                        <td id=\"T_12ac37e4_48dc_11ea_b1fb_f2189862d0c5row49_col2\" class=\"data row49 col2\" >3.61</td>\n",
       "                        <td id=\"T_12ac37e4_48dc_11ea_b1fb_f2189862d0c5row49_col3\" class=\"data row49 col3\" >148</td>\n",
       "                        <td id=\"T_12ac37e4_48dc_11ea_b1fb_f2189862d0c5row49_col4\" class=\"data row49 col4\" >50</td>\n",
       "                        <td id=\"T_12ac37e4_48dc_11ea_b1fb_f2189862d0c5row49_col5\" class=\"data row49 col5\" >Riverhead Books</td>\n",
       "                        <td id=\"T_12ac37e4_48dc_11ea_b1fb_f2189862d0c5row49_col6\" class=\"data row49 col6\" >January</td>\n",
       "                        <td id=\"T_12ac37e4_48dc_11ea_b1fb_f2189862d0c5row49_col7\" class=\"data row49 col7\" >2020</td>\n",
       "                        <td id=\"T_12ac37e4_48dc_11ea_b1fb_f2189862d0c5row49_col8\" class=\"data row49 col8\" >310</td>\n",
       "                        <td id=\"T_12ac37e4_48dc_11ea_b1fb_f2189862d0c5row49_col9\" class=\"data row49 col9\" >Hardcover</td>\n",
       "            </tr>\n",
       "            <tr>\n",
       "                        <th id=\"T_12ac37e4_48dc_11ea_b1fb_f2189862d0c5level0_row50\" class=\"row_heading level0 row50\" >50</th>\n",
       "                        <td id=\"T_12ac37e4_48dc_11ea_b1fb_f2189862d0c5row50_col0\" class=\"data row50 col0\" >Riot Baby</td>\n",
       "                        <td id=\"T_12ac37e4_48dc_11ea_b1fb_f2189862d0c5row50_col1\" class=\"data row50 col1\" >Tochi Onyebuchi</td>\n",
       "                        <td id=\"T_12ac37e4_48dc_11ea_b1fb_f2189862d0c5row50_col2\" class=\"data row50 col2\" >4.09</td>\n",
       "                        <td id=\"T_12ac37e4_48dc_11ea_b1fb_f2189862d0c5row50_col3\" class=\"data row50 col3\" >289</td>\n",
       "                        <td id=\"T_12ac37e4_48dc_11ea_b1fb_f2189862d0c5row50_col4\" class=\"data row50 col4\" >102</td>\n",
       "                        <td id=\"T_12ac37e4_48dc_11ea_b1fb_f2189862d0c5row50_col5\" class=\"data row50 col5\" >Tor</td>\n",
       "                        <td id=\"T_12ac37e4_48dc_11ea_b1fb_f2189862d0c5row50_col6\" class=\"data row50 col6\" >January</td>\n",
       "                        <td id=\"T_12ac37e4_48dc_11ea_b1fb_f2189862d0c5row50_col7\" class=\"data row50 col7\" >2020</td>\n",
       "                        <td id=\"T_12ac37e4_48dc_11ea_b1fb_f2189862d0c5row50_col8\" class=\"data row50 col8\" >176</td>\n",
       "                        <td id=\"T_12ac37e4_48dc_11ea_b1fb_f2189862d0c5row50_col9\" class=\"data row50 col9\" >Kindle Edition</td>\n",
       "            </tr>\n",
       "            <tr>\n",
       "                        <th id=\"T_12ac37e4_48dc_11ea_b1fb_f2189862d0c5level0_row51\" class=\"row_heading level0 row51\" >51</th>\n",
       "                        <td id=\"T_12ac37e4_48dc_11ea_b1fb_f2189862d0c5row51_col0\" class=\"data row51 col0\" >Kingdomtide</td>\n",
       "                        <td id=\"T_12ac37e4_48dc_11ea_b1fb_f2189862d0c5row51_col1\" class=\"data row51 col1\" >Rye Curtis</td>\n",
       "                        <td id=\"T_12ac37e4_48dc_11ea_b1fb_f2189862d0c5row51_col2\" class=\"data row51 col2\" >3.48</td>\n",
       "                        <td id=\"T_12ac37e4_48dc_11ea_b1fb_f2189862d0c5row51_col3\" class=\"data row51 col3\" >170</td>\n",
       "                        <td id=\"T_12ac37e4_48dc_11ea_b1fb_f2189862d0c5row51_col4\" class=\"data row51 col4\" >74</td>\n",
       "                        <td id=\"T_12ac37e4_48dc_11ea_b1fb_f2189862d0c5row51_col5\" class=\"data row51 col5\" >Little, Brown and Company</td>\n",
       "                        <td id=\"T_12ac37e4_48dc_11ea_b1fb_f2189862d0c5row51_col6\" class=\"data row51 col6\" >January</td>\n",
       "                        <td id=\"T_12ac37e4_48dc_11ea_b1fb_f2189862d0c5row51_col7\" class=\"data row51 col7\" >2020</td>\n",
       "                        <td id=\"T_12ac37e4_48dc_11ea_b1fb_f2189862d0c5row51_col8\" class=\"data row51 col8\" >304</td>\n",
       "                        <td id=\"T_12ac37e4_48dc_11ea_b1fb_f2189862d0c5row51_col9\" class=\"data row51 col9\" >Hardcover</td>\n",
       "            </tr>\n",
       "            <tr>\n",
       "                        <th id=\"T_12ac37e4_48dc_11ea_b1fb_f2189862d0c5level0_row52\" class=\"row_heading level0 row52\" >52</th>\n",
       "                        <td id=\"T_12ac37e4_48dc_11ea_b1fb_f2189862d0c5row52_col0\" class=\"data row52 col0\" >The Missing American</td>\n",
       "                        <td id=\"T_12ac37e4_48dc_11ea_b1fb_f2189862d0c5row52_col1\" class=\"data row52 col1\" >Kwei Quartey</td>\n",
       "                        <td id=\"T_12ac37e4_48dc_11ea_b1fb_f2189862d0c5row52_col2\" class=\"data row52 col2\" >3.9</td>\n",
       "                        <td id=\"T_12ac37e4_48dc_11ea_b1fb_f2189862d0c5row52_col3\" class=\"data row52 col3\" >89</td>\n",
       "                        <td id=\"T_12ac37e4_48dc_11ea_b1fb_f2189862d0c5row52_col4\" class=\"data row52 col4\" >28</td>\n",
       "                        <td id=\"T_12ac37e4_48dc_11ea_b1fb_f2189862d0c5row52_col5\" class=\"data row52 col5\" >Soho Crime</td>\n",
       "                        <td id=\"T_12ac37e4_48dc_11ea_b1fb_f2189862d0c5row52_col6\" class=\"data row52 col6\" >January</td>\n",
       "                        <td id=\"T_12ac37e4_48dc_11ea_b1fb_f2189862d0c5row52_col7\" class=\"data row52 col7\" >2020</td>\n",
       "                        <td id=\"T_12ac37e4_48dc_11ea_b1fb_f2189862d0c5row52_col8\" class=\"data row52 col8\" >432</td>\n",
       "                        <td id=\"T_12ac37e4_48dc_11ea_b1fb_f2189862d0c5row52_col9\" class=\"data row52 col9\" >Kindle Edition</td>\n",
       "            </tr>\n",
       "            <tr>\n",
       "                        <th id=\"T_12ac37e4_48dc_11ea_b1fb_f2189862d0c5level0_row53\" class=\"row_heading level0 row53\" >53</th>\n",
       "                        <td id=\"T_12ac37e4_48dc_11ea_b1fb_f2189862d0c5row53_col0\" class=\"data row53 col0\" >From the Desk of Zoe Washington</td>\n",
       "                        <td id=\"T_12ac37e4_48dc_11ea_b1fb_f2189862d0c5row53_col1\" class=\"data row53 col1\" >Janae Marks</td>\n",
       "                        <td id=\"T_12ac37e4_48dc_11ea_b1fb_f2189862d0c5row53_col2\" class=\"data row53 col2\" >4.5</td>\n",
       "                        <td id=\"T_12ac37e4_48dc_11ea_b1fb_f2189862d0c5row53_col3\" class=\"data row53 col3\" >204</td>\n",
       "                        <td id=\"T_12ac37e4_48dc_11ea_b1fb_f2189862d0c5row53_col4\" class=\"data row53 col4\" >65</td>\n",
       "                        <td id=\"T_12ac37e4_48dc_11ea_b1fb_f2189862d0c5row53_col5\" class=\"data row53 col5\" >Katherine Tegen Books</td>\n",
       "                        <td id=\"T_12ac37e4_48dc_11ea_b1fb_f2189862d0c5row53_col6\" class=\"data row53 col6\" >January</td>\n",
       "                        <td id=\"T_12ac37e4_48dc_11ea_b1fb_f2189862d0c5row53_col7\" class=\"data row53 col7\" >2020</td>\n",
       "                        <td id=\"T_12ac37e4_48dc_11ea_b1fb_f2189862d0c5row53_col8\" class=\"data row53 col8\" >304</td>\n",
       "                        <td id=\"T_12ac37e4_48dc_11ea_b1fb_f2189862d0c5row53_col9\" class=\"data row53 col9\" >Hardcover</td>\n",
       "            </tr>\n",
       "            <tr>\n",
       "                        <th id=\"T_12ac37e4_48dc_11ea_b1fb_f2189862d0c5level0_row54\" class=\"row_heading level0 row54\" >54</th>\n",
       "                        <td id=\"T_12ac37e4_48dc_11ea_b1fb_f2189862d0c5row54_col0\" class=\"data row54 col0\" >Too Close to Home</td>\n",
       "                        <td id=\"T_12ac37e4_48dc_11ea_b1fb_f2189862d0c5row54_col1\" class=\"data row54 col1\" >Andrew  Grant</td>\n",
       "                        <td id=\"T_12ac37e4_48dc_11ea_b1fb_f2189862d0c5row54_col2\" class=\"data row54 col2\" >3.98</td>\n",
       "                        <td id=\"T_12ac37e4_48dc_11ea_b1fb_f2189862d0c5row54_col3\" class=\"data row54 col3\" >85</td>\n",
       "                        <td id=\"T_12ac37e4_48dc_11ea_b1fb_f2189862d0c5row54_col4\" class=\"data row54 col4\" >54</td>\n",
       "                        <td id=\"T_12ac37e4_48dc_11ea_b1fb_f2189862d0c5row54_col5\" class=\"data row54 col5\" >Ballantine Books</td>\n",
       "                        <td id=\"T_12ac37e4_48dc_11ea_b1fb_f2189862d0c5row54_col6\" class=\"data row54 col6\" >January</td>\n",
       "                        <td id=\"T_12ac37e4_48dc_11ea_b1fb_f2189862d0c5row54_col7\" class=\"data row54 col7\" >2020</td>\n",
       "                        <td id=\"T_12ac37e4_48dc_11ea_b1fb_f2189862d0c5row54_col8\" class=\"data row54 col8\" >352</td>\n",
       "                        <td id=\"T_12ac37e4_48dc_11ea_b1fb_f2189862d0c5row54_col9\" class=\"data row54 col9\" >Kindle Edition</td>\n",
       "            </tr>\n",
       "            <tr>\n",
       "                        <th id=\"T_12ac37e4_48dc_11ea_b1fb_f2189862d0c5level0_row55\" class=\"row_heading level0 row55\" >55</th>\n",
       "                        <td id=\"T_12ac37e4_48dc_11ea_b1fb_f2189862d0c5row55_col0\" class=\"data row55 col0\" >This Light Between Us</td>\n",
       "                        <td id=\"T_12ac37e4_48dc_11ea_b1fb_f2189862d0c5row55_col1\" class=\"data row55 col1\" >Andrew Fukuda</td>\n",
       "                        <td id=\"T_12ac37e4_48dc_11ea_b1fb_f2189862d0c5row55_col2\" class=\"data row55 col2\" >4.35</td>\n",
       "                        <td id=\"T_12ac37e4_48dc_11ea_b1fb_f2189862d0c5row55_col3\" class=\"data row55 col3\" >119</td>\n",
       "                        <td id=\"T_12ac37e4_48dc_11ea_b1fb_f2189862d0c5row55_col4\" class=\"data row55 col4\" >68</td>\n",
       "                        <td id=\"T_12ac37e4_48dc_11ea_b1fb_f2189862d0c5row55_col5\" class=\"data row55 col5\" >Tor Teen</td>\n",
       "                        <td id=\"T_12ac37e4_48dc_11ea_b1fb_f2189862d0c5row55_col6\" class=\"data row55 col6\" >January</td>\n",
       "                        <td id=\"T_12ac37e4_48dc_11ea_b1fb_f2189862d0c5row55_col7\" class=\"data row55 col7\" >2020</td>\n",
       "                        <td id=\"T_12ac37e4_48dc_11ea_b1fb_f2189862d0c5row55_col8\" class=\"data row55 col8\" >384</td>\n",
       "                        <td id=\"T_12ac37e4_48dc_11ea_b1fb_f2189862d0c5row55_col9\" class=\"data row55 col9\" >ebook</td>\n",
       "            </tr>\n",
       "            <tr>\n",
       "                        <th id=\"T_12ac37e4_48dc_11ea_b1fb_f2189862d0c5level0_row56\" class=\"row_heading level0 row56\" >56</th>\n",
       "                        <td id=\"T_12ac37e4_48dc_11ea_b1fb_f2189862d0c5row56_col0\" class=\"data row56 col0\" >The Bard's Blade</td>\n",
       "                        <td id=\"T_12ac37e4_48dc_11ea_b1fb_f2189862d0c5row56_col1\" class=\"data row56 col1\" >Brian D. Anderson</td>\n",
       "                        <td id=\"T_12ac37e4_48dc_11ea_b1fb_f2189862d0c5row56_col2\" class=\"data row56 col2\" >3.82</td>\n",
       "                        <td id=\"T_12ac37e4_48dc_11ea_b1fb_f2189862d0c5row56_col3\" class=\"data row56 col3\" >72</td>\n",
       "                        <td id=\"T_12ac37e4_48dc_11ea_b1fb_f2189862d0c5row56_col4\" class=\"data row56 col4\" >45</td>\n",
       "                        <td id=\"T_12ac37e4_48dc_11ea_b1fb_f2189862d0c5row56_col5\" class=\"data row56 col5\" >Tor Books</td>\n",
       "                        <td id=\"T_12ac37e4_48dc_11ea_b1fb_f2189862d0c5row56_col6\" class=\"data row56 col6\" >January</td>\n",
       "                        <td id=\"T_12ac37e4_48dc_11ea_b1fb_f2189862d0c5row56_col7\" class=\"data row56 col7\" >2020</td>\n",
       "                        <td id=\"T_12ac37e4_48dc_11ea_b1fb_f2189862d0c5row56_col8\" class=\"data row56 col8\" >432</td>\n",
       "                        <td id=\"T_12ac37e4_48dc_11ea_b1fb_f2189862d0c5row56_col9\" class=\"data row56 col9\" >Paperback</td>\n",
       "            </tr>\n",
       "            <tr>\n",
       "                        <th id=\"T_12ac37e4_48dc_11ea_b1fb_f2189862d0c5level0_row57\" class=\"row_heading level0 row57\" >57</th>\n",
       "                        <td id=\"T_12ac37e4_48dc_11ea_b1fb_f2189862d0c5row57_col0\" class=\"data row57 col0\" >Remembrance</td>\n",
       "                        <td id=\"T_12ac37e4_48dc_11ea_b1fb_f2189862d0c5row57_col1\" class=\"data row57 col1\" >Rita Woods</td>\n",
       "                        <td id=\"T_12ac37e4_48dc_11ea_b1fb_f2189862d0c5row57_col2\" class=\"data row57 col2\" >3.88</td>\n",
       "                        <td id=\"T_12ac37e4_48dc_11ea_b1fb_f2189862d0c5row57_col3\" class=\"data row57 col3\" >149</td>\n",
       "                        <td id=\"T_12ac37e4_48dc_11ea_b1fb_f2189862d0c5row57_col4\" class=\"data row57 col4\" >105</td>\n",
       "                        <td id=\"T_12ac37e4_48dc_11ea_b1fb_f2189862d0c5row57_col5\" class=\"data row57 col5\" >Forge Books</td>\n",
       "                        <td id=\"T_12ac37e4_48dc_11ea_b1fb_f2189862d0c5row57_col6\" class=\"data row57 col6\" >January</td>\n",
       "                        <td id=\"T_12ac37e4_48dc_11ea_b1fb_f2189862d0c5row57_col7\" class=\"data row57 col7\" >2020</td>\n",
       "                        <td id=\"T_12ac37e4_48dc_11ea_b1fb_f2189862d0c5row57_col8\" class=\"data row57 col8\" >416</td>\n",
       "                        <td id=\"T_12ac37e4_48dc_11ea_b1fb_f2189862d0c5row57_col9\" class=\"data row57 col9\" >Hardcover</td>\n",
       "            </tr>\n",
       "            <tr>\n",
       "                        <th id=\"T_12ac37e4_48dc_11ea_b1fb_f2189862d0c5level0_row58\" class=\"row_heading level0 row58\" >58</th>\n",
       "                        <td id=\"T_12ac37e4_48dc_11ea_b1fb_f2189862d0c5row58_col0\" class=\"data row58 col0\" >What I Carry</td>\n",
       "                        <td id=\"T_12ac37e4_48dc_11ea_b1fb_f2189862d0c5row58_col1\" class=\"data row58 col1\" >Jennifer Longo</td>\n",
       "                        <td id=\"T_12ac37e4_48dc_11ea_b1fb_f2189862d0c5row58_col2\" class=\"data row58 col2\" >4.47</td>\n",
       "                        <td id=\"T_12ac37e4_48dc_11ea_b1fb_f2189862d0c5row58_col3\" class=\"data row58 col3\" >102</td>\n",
       "                        <td id=\"T_12ac37e4_48dc_11ea_b1fb_f2189862d0c5row58_col4\" class=\"data row58 col4\" >31</td>\n",
       "                        <td id=\"T_12ac37e4_48dc_11ea_b1fb_f2189862d0c5row58_col5\" class=\"data row58 col5\" >Random House Books for Young Readers</td>\n",
       "                        <td id=\"T_12ac37e4_48dc_11ea_b1fb_f2189862d0c5row58_col6\" class=\"data row58 col6\" >January</td>\n",
       "                        <td id=\"T_12ac37e4_48dc_11ea_b1fb_f2189862d0c5row58_col7\" class=\"data row58 col7\" >2020</td>\n",
       "                        <td id=\"T_12ac37e4_48dc_11ea_b1fb_f2189862d0c5row58_col8\" class=\"data row58 col8\" >336</td>\n",
       "                        <td id=\"T_12ac37e4_48dc_11ea_b1fb_f2189862d0c5row58_col9\" class=\"data row58 col9\" >Hardcover</td>\n",
       "            </tr>\n",
       "            <tr>\n",
       "                        <th id=\"T_12ac37e4_48dc_11ea_b1fb_f2189862d0c5level0_row59\" class=\"row_heading level0 row59\" >59</th>\n",
       "                        <td id=\"T_12ac37e4_48dc_11ea_b1fb_f2189862d0c5row59_col0\" class=\"data row59 col0\" >The Seep</td>\n",
       "                        <td id=\"T_12ac37e4_48dc_11ea_b1fb_f2189862d0c5row59_col1\" class=\"data row59 col1\" >Chana Porter</td>\n",
       "                        <td id=\"T_12ac37e4_48dc_11ea_b1fb_f2189862d0c5row59_col2\" class=\"data row59 col2\" >3.78</td>\n",
       "                        <td id=\"T_12ac37e4_48dc_11ea_b1fb_f2189862d0c5row59_col3\" class=\"data row59 col3\" >209</td>\n",
       "                        <td id=\"T_12ac37e4_48dc_11ea_b1fb_f2189862d0c5row59_col4\" class=\"data row59 col4\" >80</td>\n",
       "                        <td id=\"T_12ac37e4_48dc_11ea_b1fb_f2189862d0c5row59_col5\" class=\"data row59 col5\" >Soho Press</td>\n",
       "                        <td id=\"T_12ac37e4_48dc_11ea_b1fb_f2189862d0c5row59_col6\" class=\"data row59 col6\" >January</td>\n",
       "                        <td id=\"T_12ac37e4_48dc_11ea_b1fb_f2189862d0c5row59_col7\" class=\"data row59 col7\" >2020</td>\n",
       "                        <td id=\"T_12ac37e4_48dc_11ea_b1fb_f2189862d0c5row59_col8\" class=\"data row59 col8\" >216</td>\n",
       "                        <td id=\"T_12ac37e4_48dc_11ea_b1fb_f2189862d0c5row59_col9\" class=\"data row59 col9\" >Hardcover</td>\n",
       "            </tr>\n",
       "            <tr>\n",
       "                        <th id=\"T_12ac37e4_48dc_11ea_b1fb_f2189862d0c5level0_row60\" class=\"row_heading level0 row60\" >60</th>\n",
       "                        <td id=\"T_12ac37e4_48dc_11ea_b1fb_f2189862d0c5row60_col0\" class=\"data row60 col0\" >The Companion</td>\n",
       "                        <td id=\"T_12ac37e4_48dc_11ea_b1fb_f2189862d0c5row60_col1\" class=\"data row60 col1\" >Kim Taylor Blakemore</td>\n",
       "                        <td id=\"T_12ac37e4_48dc_11ea_b1fb_f2189862d0c5row60_col2\" class=\"data row60 col2\" >3.58</td>\n",
       "                        <td id=\"T_12ac37e4_48dc_11ea_b1fb_f2189862d0c5row60_col3\" class=\"data row60 col3\" >186</td>\n",
       "                        <td id=\"T_12ac37e4_48dc_11ea_b1fb_f2189862d0c5row60_col4\" class=\"data row60 col4\" >138</td>\n",
       "                        <td id=\"T_12ac37e4_48dc_11ea_b1fb_f2189862d0c5row60_col5\" class=\"data row60 col5\" >Brilliance Audio</td>\n",
       "                        <td id=\"T_12ac37e4_48dc_11ea_b1fb_f2189862d0c5row60_col6\" class=\"data row60 col6\" >January</td>\n",
       "                        <td id=\"T_12ac37e4_48dc_11ea_b1fb_f2189862d0c5row60_col7\" class=\"data row60 col7\" >2020</td>\n",
       "                        <td id=\"T_12ac37e4_48dc_11ea_b1fb_f2189862d0c5row60_col8\" class=\"data row60 col8\" >3</td>\n",
       "                        <td id=\"T_12ac37e4_48dc_11ea_b1fb_f2189862d0c5row60_col9\" class=\"data row60 col9\" >MPNo format</td>\n",
       "            </tr>\n",
       "            <tr>\n",
       "                        <th id=\"T_12ac37e4_48dc_11ea_b1fb_f2189862d0c5level0_row61\" class=\"row_heading level0 row61\" >61</th>\n",
       "                        <td id=\"T_12ac37e4_48dc_11ea_b1fb_f2189862d0c5row61_col0\" class=\"data row61 col0\" >St. Francis Society for Wayward Pets</td>\n",
       "                        <td id=\"T_12ac37e4_48dc_11ea_b1fb_f2189862d0c5row61_col1\" class=\"data row61 col1\" >Annie England Noblin</td>\n",
       "                        <td id=\"T_12ac37e4_48dc_11ea_b1fb_f2189862d0c5row61_col2\" class=\"data row61 col2\" >3.9</td>\n",
       "                        <td id=\"T_12ac37e4_48dc_11ea_b1fb_f2189862d0c5row61_col3\" class=\"data row61 col3\" >138</td>\n",
       "                        <td id=\"T_12ac37e4_48dc_11ea_b1fb_f2189862d0c5row61_col4\" class=\"data row61 col4\" >51</td>\n",
       "                        <td id=\"T_12ac37e4_48dc_11ea_b1fb_f2189862d0c5row61_col5\" class=\"data row61 col5\" >William Morrow Paperbacks</td>\n",
       "                        <td id=\"T_12ac37e4_48dc_11ea_b1fb_f2189862d0c5row61_col6\" class=\"data row61 col6\" >January</td>\n",
       "                        <td id=\"T_12ac37e4_48dc_11ea_b1fb_f2189862d0c5row61_col7\" class=\"data row61 col7\" >2020</td>\n",
       "                        <td id=\"T_12ac37e4_48dc_11ea_b1fb_f2189862d0c5row61_col8\" class=\"data row61 col8\" >384</td>\n",
       "                        <td id=\"T_12ac37e4_48dc_11ea_b1fb_f2189862d0c5row61_col9\" class=\"data row61 col9\" >ebook</td>\n",
       "            </tr>\n",
       "            <tr>\n",
       "                        <th id=\"T_12ac37e4_48dc_11ea_b1fb_f2189862d0c5level0_row62\" class=\"row_heading level0 row62\" >62</th>\n",
       "                        <td id=\"T_12ac37e4_48dc_11ea_b1fb_f2189862d0c5row62_col0\" class=\"data row62 col0\" >The King's Questioner</td>\n",
       "                        <td id=\"T_12ac37e4_48dc_11ea_b1fb_f2189862d0c5row62_col1\" class=\"data row62 col1\" >Nikki Katz</td>\n",
       "                        <td id=\"T_12ac37e4_48dc_11ea_b1fb_f2189862d0c5row62_col2\" class=\"data row62 col2\" >3.22</td>\n",
       "                        <td id=\"T_12ac37e4_48dc_11ea_b1fb_f2189862d0c5row62_col3\" class=\"data row62 col3\" >72</td>\n",
       "                        <td id=\"T_12ac37e4_48dc_11ea_b1fb_f2189862d0c5row62_col4\" class=\"data row62 col4\" >44</td>\n",
       "                        <td id=\"T_12ac37e4_48dc_11ea_b1fb_f2189862d0c5row62_col5\" class=\"data row62 col5\" >Swoon Reads</td>\n",
       "                        <td id=\"T_12ac37e4_48dc_11ea_b1fb_f2189862d0c5row62_col6\" class=\"data row62 col6\" >January</td>\n",
       "                        <td id=\"T_12ac37e4_48dc_11ea_b1fb_f2189862d0c5row62_col7\" class=\"data row62 col7\" >2020</td>\n",
       "                        <td id=\"T_12ac37e4_48dc_11ea_b1fb_f2189862d0c5row62_col8\" class=\"data row62 col8\" >304</td>\n",
       "                        <td id=\"T_12ac37e4_48dc_11ea_b1fb_f2189862d0c5row62_col9\" class=\"data row62 col9\" >Hardcover</td>\n",
       "            </tr>\n",
       "            <tr>\n",
       "                        <th id=\"T_12ac37e4_48dc_11ea_b1fb_f2189862d0c5level0_row63\" class=\"row_heading level0 row63\" >63</th>\n",
       "                        <td id=\"T_12ac37e4_48dc_11ea_b1fb_f2189862d0c5row63_col0\" class=\"data row63 col0\" >The Heap</td>\n",
       "                        <td id=\"T_12ac37e4_48dc_11ea_b1fb_f2189862d0c5row63_col1\" class=\"data row63 col1\" >Sean Adams</td>\n",
       "                        <td id=\"T_12ac37e4_48dc_11ea_b1fb_f2189862d0c5row63_col2\" class=\"data row63 col2\" >3.5</td>\n",
       "                        <td id=\"T_12ac37e4_48dc_11ea_b1fb_f2189862d0c5row63_col3\" class=\"data row63 col3\" >143</td>\n",
       "                        <td id=\"T_12ac37e4_48dc_11ea_b1fb_f2189862d0c5row63_col4\" class=\"data row63 col4\" >50</td>\n",
       "                        <td id=\"T_12ac37e4_48dc_11ea_b1fb_f2189862d0c5row63_col5\" class=\"data row63 col5\" >William Morrow</td>\n",
       "                        <td id=\"T_12ac37e4_48dc_11ea_b1fb_f2189862d0c5row63_col6\" class=\"data row63 col6\" >January</td>\n",
       "                        <td id=\"T_12ac37e4_48dc_11ea_b1fb_f2189862d0c5row63_col7\" class=\"data row63 col7\" >2020</td>\n",
       "                        <td id=\"T_12ac37e4_48dc_11ea_b1fb_f2189862d0c5row63_col8\" class=\"data row63 col8\" >320</td>\n",
       "                        <td id=\"T_12ac37e4_48dc_11ea_b1fb_f2189862d0c5row63_col9\" class=\"data row63 col9\" >Hardcover</td>\n",
       "            </tr>\n",
       "            <tr>\n",
       "                        <th id=\"T_12ac37e4_48dc_11ea_b1fb_f2189862d0c5level0_row64\" class=\"row_heading level0 row64\" >64</th>\n",
       "                        <td id=\"T_12ac37e4_48dc_11ea_b1fb_f2189862d0c5row64_col0\" class=\"data row64 col0\" >Heart of Junk</td>\n",
       "                        <td id=\"T_12ac37e4_48dc_11ea_b1fb_f2189862d0c5row64_col1\" class=\"data row64 col1\" >Luke Geddes</td>\n",
       "                        <td id=\"T_12ac37e4_48dc_11ea_b1fb_f2189862d0c5row64_col2\" class=\"data row64 col2\" >3.35</td>\n",
       "                        <td id=\"T_12ac37e4_48dc_11ea_b1fb_f2189862d0c5row64_col3\" class=\"data row64 col3\" >85</td>\n",
       "                        <td id=\"T_12ac37e4_48dc_11ea_b1fb_f2189862d0c5row64_col4\" class=\"data row64 col4\" >35</td>\n",
       "                        <td id=\"T_12ac37e4_48dc_11ea_b1fb_f2189862d0c5row64_col5\" class=\"data row64 col5\" >Simon  Schuster</td>\n",
       "                        <td id=\"T_12ac37e4_48dc_11ea_b1fb_f2189862d0c5row64_col6\" class=\"data row64 col6\" >January</td>\n",
       "                        <td id=\"T_12ac37e4_48dc_11ea_b1fb_f2189862d0c5row64_col7\" class=\"data row64 col7\" >2020</td>\n",
       "                        <td id=\"T_12ac37e4_48dc_11ea_b1fb_f2189862d0c5row64_col8\" class=\"data row64 col8\" >256</td>\n",
       "                        <td id=\"T_12ac37e4_48dc_11ea_b1fb_f2189862d0c5row64_col9\" class=\"data row64 col9\" >Hardcover</td>\n",
       "            </tr>\n",
       "            <tr>\n",
       "                        <th id=\"T_12ac37e4_48dc_11ea_b1fb_f2189862d0c5level0_row65\" class=\"row_heading level0 row65\" >65</th>\n",
       "                        <td id=\"T_12ac37e4_48dc_11ea_b1fb_f2189862d0c5row65_col0\" class=\"data row65 col0\" >Braised Pork</td>\n",
       "                        <td id=\"T_12ac37e4_48dc_11ea_b1fb_f2189862d0c5row65_col1\" class=\"data row65 col1\" >An Yu</td>\n",
       "                        <td id=\"T_12ac37e4_48dc_11ea_b1fb_f2189862d0c5row65_col2\" class=\"data row65 col2\" >3.69</td>\n",
       "                        <td id=\"T_12ac37e4_48dc_11ea_b1fb_f2189862d0c5row65_col3\" class=\"data row65 col3\" >189</td>\n",
       "                        <td id=\"T_12ac37e4_48dc_11ea_b1fb_f2189862d0c5row65_col4\" class=\"data row65 col4\" >59</td>\n",
       "                        <td id=\"T_12ac37e4_48dc_11ea_b1fb_f2189862d0c5row65_col5\" class=\"data row65 col5\" >Harvill Secker</td>\n",
       "                        <td id=\"T_12ac37e4_48dc_11ea_b1fb_f2189862d0c5row65_col6\" class=\"data row65 col6\" >January</td>\n",
       "                        <td id=\"T_12ac37e4_48dc_11ea_b1fb_f2189862d0c5row65_col7\" class=\"data row65 col7\" >2020</td>\n",
       "                        <td id=\"T_12ac37e4_48dc_11ea_b1fb_f2189862d0c5row65_col8\" class=\"data row65 col8\" >240</td>\n",
       "                        <td id=\"T_12ac37e4_48dc_11ea_b1fb_f2189862d0c5row65_col9\" class=\"data row65 col9\" >Paperback</td>\n",
       "            </tr>\n",
       "            <tr>\n",
       "                        <th id=\"T_12ac37e4_48dc_11ea_b1fb_f2189862d0c5level0_row66\" class=\"row_heading level0 row66\" >66</th>\n",
       "                        <td id=\"T_12ac37e4_48dc_11ea_b1fb_f2189862d0c5row66_col0\" class=\"data row66 col0\" >Black Girl Unlimited</td>\n",
       "                        <td id=\"T_12ac37e4_48dc_11ea_b1fb_f2189862d0c5row66_col1\" class=\"data row66 col1\" >Echo Brown</td>\n",
       "                        <td id=\"T_12ac37e4_48dc_11ea_b1fb_f2189862d0c5row66_col2\" class=\"data row66 col2\" >4.07</td>\n",
       "                        <td id=\"T_12ac37e4_48dc_11ea_b1fb_f2189862d0c5row66_col3\" class=\"data row66 col3\" >76</td>\n",
       "                        <td id=\"T_12ac37e4_48dc_11ea_b1fb_f2189862d0c5row66_col4\" class=\"data row66 col4\" >36</td>\n",
       "                        <td id=\"T_12ac37e4_48dc_11ea_b1fb_f2189862d0c5row66_col5\" class=\"data row66 col5\" >Holt/Ottaviano</td>\n",
       "                        <td id=\"T_12ac37e4_48dc_11ea_b1fb_f2189862d0c5row66_col6\" class=\"data row66 col6\" >January</td>\n",
       "                        <td id=\"T_12ac37e4_48dc_11ea_b1fb_f2189862d0c5row66_col7\" class=\"data row66 col7\" >2020</td>\n",
       "                        <td id=\"T_12ac37e4_48dc_11ea_b1fb_f2189862d0c5row66_col8\" class=\"data row66 col8\" >304</td>\n",
       "                        <td id=\"T_12ac37e4_48dc_11ea_b1fb_f2189862d0c5row66_col9\" class=\"data row66 col9\" >No format</td>\n",
       "            </tr>\n",
       "            <tr>\n",
       "                        <th id=\"T_12ac37e4_48dc_11ea_b1fb_f2189862d0c5level0_row67\" class=\"row_heading level0 row67\" >67</th>\n",
       "                        <td id=\"T_12ac37e4_48dc_11ea_b1fb_f2189862d0c5row67_col0\" class=\"data row67 col0\" >Lullabies for Suffering: Tales of Addiction Horror</td>\n",
       "                        <td id=\"T_12ac37e4_48dc_11ea_b1fb_f2189862d0c5row67_col1\" class=\"data row67 col1\" >Caroline Kepnes</td>\n",
       "                        <td id=\"T_12ac37e4_48dc_11ea_b1fb_f2189862d0c5row67_col2\" class=\"data row67 col2\" >4.2</td>\n",
       "                        <td id=\"T_12ac37e4_48dc_11ea_b1fb_f2189862d0c5row67_col3\" class=\"data row67 col3\" >54</td>\n",
       "                        <td id=\"T_12ac37e4_48dc_11ea_b1fb_f2189862d0c5row67_col4\" class=\"data row67 col4\" >27</td>\n",
       "                        <td id=\"T_12ac37e4_48dc_11ea_b1fb_f2189862d0c5row67_col5\" class=\"data row67 col5\" >Wicked Run Press</td>\n",
       "                        <td id=\"T_12ac37e4_48dc_11ea_b1fb_f2189862d0c5row67_col6\" class=\"data row67 col6\" >January</td>\n",
       "                        <td id=\"T_12ac37e4_48dc_11ea_b1fb_f2189862d0c5row67_col7\" class=\"data row67 col7\" >2020</td>\n",
       "                        <td id=\"T_12ac37e4_48dc_11ea_b1fb_f2189862d0c5row67_col8\" class=\"data row67 col8\" >255</td>\n",
       "                        <td id=\"T_12ac37e4_48dc_11ea_b1fb_f2189862d0c5row67_col9\" class=\"data row67 col9\" >Paperback</td>\n",
       "            </tr>\n",
       "            <tr>\n",
       "                        <th id=\"T_12ac37e4_48dc_11ea_b1fb_f2189862d0c5level0_row68\" class=\"row_heading level0 row68\" >68</th>\n",
       "                        <td id=\"T_12ac37e4_48dc_11ea_b1fb_f2189862d0c5row68_col0\" class=\"data row68 col0\" >Shall We Dance?</td>\n",
       "                        <td id=\"T_12ac37e4_48dc_11ea_b1fb_f2189862d0c5row68_col1\" class=\"data row68 col1\" >Shelley Shepard Gray</td>\n",
       "                        <td id=\"T_12ac37e4_48dc_11ea_b1fb_f2189862d0c5row68_col2\" class=\"data row68 col2\" >4.17</td>\n",
       "                        <td id=\"T_12ac37e4_48dc_11ea_b1fb_f2189862d0c5row68_col3\" class=\"data row68 col3\" >58</td>\n",
       "                        <td id=\"T_12ac37e4_48dc_11ea_b1fb_f2189862d0c5row68_col4\" class=\"data row68 col4\" >44</td>\n",
       "                        <td id=\"T_12ac37e4_48dc_11ea_b1fb_f2189862d0c5row68_col5\" class=\"data row68 col5\" >Blackstone Publishing</td>\n",
       "                        <td id=\"T_12ac37e4_48dc_11ea_b1fb_f2189862d0c5row68_col6\" class=\"data row68 col6\" >January</td>\n",
       "                        <td id=\"T_12ac37e4_48dc_11ea_b1fb_f2189862d0c5row68_col7\" class=\"data row68 col7\" >2020</td>\n",
       "                        <td id=\"T_12ac37e4_48dc_11ea_b1fb_f2189862d0c5row68_col8\" class=\"data row68 col8\" >288</td>\n",
       "                        <td id=\"T_12ac37e4_48dc_11ea_b1fb_f2189862d0c5row68_col9\" class=\"data row68 col9\" >Paperback</td>\n",
       "            </tr>\n",
       "            <tr>\n",
       "                        <th id=\"T_12ac37e4_48dc_11ea_b1fb_f2189862d0c5level0_row69\" class=\"row_heading level0 row69\" >69</th>\n",
       "                        <td id=\"T_12ac37e4_48dc_11ea_b1fb_f2189862d0c5row69_col0\" class=\"data row69 col0\" >Devil Darling Spy</td>\n",
       "                        <td id=\"T_12ac37e4_48dc_11ea_b1fb_f2189862d0c5row69_col1\" class=\"data row69 col1\" >Matt Killeen</td>\n",
       "                        <td id=\"T_12ac37e4_48dc_11ea_b1fb_f2189862d0c5row69_col2\" class=\"data row69 col2\" >3.88</td>\n",
       "                        <td id=\"T_12ac37e4_48dc_11ea_b1fb_f2189862d0c5row69_col3\" class=\"data row69 col3\" >25</td>\n",
       "                        <td id=\"T_12ac37e4_48dc_11ea_b1fb_f2189862d0c5row69_col4\" class=\"data row69 col4\" >10</td>\n",
       "                        <td id=\"T_12ac37e4_48dc_11ea_b1fb_f2189862d0c5row69_col5\" class=\"data row69 col5\" >Viking Books for Young Readers</td>\n",
       "                        <td id=\"T_12ac37e4_48dc_11ea_b1fb_f2189862d0c5row69_col6\" class=\"data row69 col6\" >January</td>\n",
       "                        <td id=\"T_12ac37e4_48dc_11ea_b1fb_f2189862d0c5row69_col7\" class=\"data row69 col7\" >2020</td>\n",
       "                        <td id=\"T_12ac37e4_48dc_11ea_b1fb_f2189862d0c5row69_col8\" class=\"data row69 col8\" >470</td>\n",
       "                        <td id=\"T_12ac37e4_48dc_11ea_b1fb_f2189862d0c5row69_col9\" class=\"data row69 col9\" >Hardcover</td>\n",
       "            </tr>\n",
       "            <tr>\n",
       "                        <th id=\"T_12ac37e4_48dc_11ea_b1fb_f2189862d0c5level0_row70\" class=\"row_heading level0 row70\" >70</th>\n",
       "                        <td id=\"T_12ac37e4_48dc_11ea_b1fb_f2189862d0c5row70_col0\" class=\"data row70 col0\" >Imaginary Museums</td>\n",
       "                        <td id=\"T_12ac37e4_48dc_11ea_b1fb_f2189862d0c5row70_col1\" class=\"data row70 col1\" >Nicolette Polek</td>\n",
       "                        <td id=\"T_12ac37e4_48dc_11ea_b1fb_f2189862d0c5row70_col2\" class=\"data row70 col2\" >3.89</td>\n",
       "                        <td id=\"T_12ac37e4_48dc_11ea_b1fb_f2189862d0c5row70_col3\" class=\"data row70 col3\" >89</td>\n",
       "                        <td id=\"T_12ac37e4_48dc_11ea_b1fb_f2189862d0c5row70_col4\" class=\"data row70 col4\" >26</td>\n",
       "                        <td id=\"T_12ac37e4_48dc_11ea_b1fb_f2189862d0c5row70_col5\" class=\"data row70 col5\" >Soft Skull Press</td>\n",
       "                        <td id=\"T_12ac37e4_48dc_11ea_b1fb_f2189862d0c5row70_col6\" class=\"data row70 col6\" >January</td>\n",
       "                        <td id=\"T_12ac37e4_48dc_11ea_b1fb_f2189862d0c5row70_col7\" class=\"data row70 col7\" >2020</td>\n",
       "                        <td id=\"T_12ac37e4_48dc_11ea_b1fb_f2189862d0c5row70_col8\" class=\"data row70 col8\" >128</td>\n",
       "                        <td id=\"T_12ac37e4_48dc_11ea_b1fb_f2189862d0c5row70_col9\" class=\"data row70 col9\" >Paperback</td>\n",
       "            </tr>\n",
       "            <tr>\n",
       "                        <th id=\"T_12ac37e4_48dc_11ea_b1fb_f2189862d0c5level0_row71\" class=\"row_heading level0 row71\" >71</th>\n",
       "                        <td id=\"T_12ac37e4_48dc_11ea_b1fb_f2189862d0c5row71_col0\" class=\"data row71 col0\" >Lady Hotspur</td>\n",
       "                        <td id=\"T_12ac37e4_48dc_11ea_b1fb_f2189862d0c5row71_col1\" class=\"data row71 col1\" >Tessa Gratton</td>\n",
       "                        <td id=\"T_12ac37e4_48dc_11ea_b1fb_f2189862d0c5row71_col2\" class=\"data row71 col2\" >3.4</td>\n",
       "                        <td id=\"T_12ac37e4_48dc_11ea_b1fb_f2189862d0c5row71_col3\" class=\"data row71 col3\" >89</td>\n",
       "                        <td id=\"T_12ac37e4_48dc_11ea_b1fb_f2189862d0c5row71_col4\" class=\"data row71 col4\" >62</td>\n",
       "                        <td id=\"T_12ac37e4_48dc_11ea_b1fb_f2189862d0c5row71_col5\" class=\"data row71 col5\" >Tor Books</td>\n",
       "                        <td id=\"T_12ac37e4_48dc_11ea_b1fb_f2189862d0c5row71_col6\" class=\"data row71 col6\" >January</td>\n",
       "                        <td id=\"T_12ac37e4_48dc_11ea_b1fb_f2189862d0c5row71_col7\" class=\"data row71 col7\" >2020</td>\n",
       "                        <td id=\"T_12ac37e4_48dc_11ea_b1fb_f2189862d0c5row71_col8\" class=\"data row71 col8\" >592</td>\n",
       "                        <td id=\"T_12ac37e4_48dc_11ea_b1fb_f2189862d0c5row71_col9\" class=\"data row71 col9\" >Hardcover</td>\n",
       "            </tr>\n",
       "            <tr>\n",
       "                        <th id=\"T_12ac37e4_48dc_11ea_b1fb_f2189862d0c5level0_row72\" class=\"row_heading level0 row72\" >72</th>\n",
       "                        <td id=\"T_12ac37e4_48dc_11ea_b1fb_f2189862d0c5row72_col0\" class=\"data row72 col0\" >How to Build a Heart</td>\n",
       "                        <td id=\"T_12ac37e4_48dc_11ea_b1fb_f2189862d0c5row72_col1\" class=\"data row72 col1\" >Maria Padian</td>\n",
       "                        <td id=\"T_12ac37e4_48dc_11ea_b1fb_f2189862d0c5row72_col2\" class=\"data row72 col2\" >4.12</td>\n",
       "                        <td id=\"T_12ac37e4_48dc_11ea_b1fb_f2189862d0c5row72_col3\" class=\"data row72 col3\" >153</td>\n",
       "                        <td id=\"T_12ac37e4_48dc_11ea_b1fb_f2189862d0c5row72_col4\" class=\"data row72 col4\" >109</td>\n",
       "                        <td id=\"T_12ac37e4_48dc_11ea_b1fb_f2189862d0c5row72_col5\" class=\"data row72 col5\" >Algonquin Young Readers</td>\n",
       "                        <td id=\"T_12ac37e4_48dc_11ea_b1fb_f2189862d0c5row72_col6\" class=\"data row72 col6\" >January</td>\n",
       "                        <td id=\"T_12ac37e4_48dc_11ea_b1fb_f2189862d0c5row72_col7\" class=\"data row72 col7\" >2020</td>\n",
       "                        <td id=\"T_12ac37e4_48dc_11ea_b1fb_f2189862d0c5row72_col8\" class=\"data row72 col8\" >352</td>\n",
       "                        <td id=\"T_12ac37e4_48dc_11ea_b1fb_f2189862d0c5row72_col9\" class=\"data row72 col9\" >Hardcover</td>\n",
       "            </tr>\n",
       "            <tr>\n",
       "                        <th id=\"T_12ac37e4_48dc_11ea_b1fb_f2189862d0c5level0_row73\" class=\"row_heading level0 row73\" >73</th>\n",
       "                        <td id=\"T_12ac37e4_48dc_11ea_b1fb_f2189862d0c5row73_col0\" class=\"data row73 col0\" >The Thief Knot</td>\n",
       "                        <td id=\"T_12ac37e4_48dc_11ea_b1fb_f2189862d0c5row73_col1\" class=\"data row73 col1\" >Kate Milford</td>\n",
       "                        <td id=\"T_12ac37e4_48dc_11ea_b1fb_f2189862d0c5row73_col2\" class=\"data row73 col2\" >4.28</td>\n",
       "                        <td id=\"T_12ac37e4_48dc_11ea_b1fb_f2189862d0c5row73_col3\" class=\"data row73 col3\" >83</td>\n",
       "                        <td id=\"T_12ac37e4_48dc_11ea_b1fb_f2189862d0c5row73_col4\" class=\"data row73 col4\" >33</td>\n",
       "                        <td id=\"T_12ac37e4_48dc_11ea_b1fb_f2189862d0c5row73_col5\" class=\"data row73 col5\" >Clarion Books</td>\n",
       "                        <td id=\"T_12ac37e4_48dc_11ea_b1fb_f2189862d0c5row73_col6\" class=\"data row73 col6\" >January</td>\n",
       "                        <td id=\"T_12ac37e4_48dc_11ea_b1fb_f2189862d0c5row73_col7\" class=\"data row73 col7\" >2020</td>\n",
       "                        <td id=\"T_12ac37e4_48dc_11ea_b1fb_f2189862d0c5row73_col8\" class=\"data row73 col8\" >464</td>\n",
       "                        <td id=\"T_12ac37e4_48dc_11ea_b1fb_f2189862d0c5row73_col9\" class=\"data row73 col9\" >Kindle Edition</td>\n",
       "            </tr>\n",
       "            <tr>\n",
       "                        <th id=\"T_12ac37e4_48dc_11ea_b1fb_f2189862d0c5level0_row74\" class=\"row_heading level0 row74\" >74</th>\n",
       "                        <td id=\"T_12ac37e4_48dc_11ea_b1fb_f2189862d0c5row74_col0\" class=\"data row74 col0\" >Sunnyside Plaza</td>\n",
       "                        <td id=\"T_12ac37e4_48dc_11ea_b1fb_f2189862d0c5row74_col1\" class=\"data row74 col1\" >Scott Simon</td>\n",
       "                        <td id=\"T_12ac37e4_48dc_11ea_b1fb_f2189862d0c5row74_col2\" class=\"data row74 col2\" >3.48</td>\n",
       "                        <td id=\"T_12ac37e4_48dc_11ea_b1fb_f2189862d0c5row74_col3\" class=\"data row74 col3\" >87</td>\n",
       "                        <td id=\"T_12ac37e4_48dc_11ea_b1fb_f2189862d0c5row74_col4\" class=\"data row74 col4\" >33</td>\n",
       "                        <td id=\"T_12ac37e4_48dc_11ea_b1fb_f2189862d0c5row74_col5\" class=\"data row74 col5\" >Little, Brown Books for Young Readers</td>\n",
       "                        <td id=\"T_12ac37e4_48dc_11ea_b1fb_f2189862d0c5row74_col6\" class=\"data row74 col6\" >January</td>\n",
       "                        <td id=\"T_12ac37e4_48dc_11ea_b1fb_f2189862d0c5row74_col7\" class=\"data row74 col7\" >2020</td>\n",
       "                        <td id=\"T_12ac37e4_48dc_11ea_b1fb_f2189862d0c5row74_col8\" class=\"data row74 col8\" >208</td>\n",
       "                        <td id=\"T_12ac37e4_48dc_11ea_b1fb_f2189862d0c5row74_col9\" class=\"data row74 col9\" >Hardcover</td>\n",
       "            </tr>\n",
       "            <tr>\n",
       "                        <th id=\"T_12ac37e4_48dc_11ea_b1fb_f2189862d0c5level0_row75\" class=\"row_heading level0 row75\" >75</th>\n",
       "                        <td id=\"T_12ac37e4_48dc_11ea_b1fb_f2189862d0c5row75_col0\" class=\"data row75 col0\" >The Gimmicks</td>\n",
       "                        <td id=\"T_12ac37e4_48dc_11ea_b1fb_f2189862d0c5row75_col1\" class=\"data row75 col1\" >Chris  McCormick</td>\n",
       "                        <td id=\"T_12ac37e4_48dc_11ea_b1fb_f2189862d0c5row75_col2\" class=\"data row75 col2\" >4.22</td>\n",
       "                        <td id=\"T_12ac37e4_48dc_11ea_b1fb_f2189862d0c5row75_col3\" class=\"data row75 col3\" >55</td>\n",
       "                        <td id=\"T_12ac37e4_48dc_11ea_b1fb_f2189862d0c5row75_col4\" class=\"data row75 col4\" >17</td>\n",
       "                        <td id=\"T_12ac37e4_48dc_11ea_b1fb_f2189862d0c5row75_col5\" class=\"data row75 col5\" >Harper</td>\n",
       "                        <td id=\"T_12ac37e4_48dc_11ea_b1fb_f2189862d0c5row75_col6\" class=\"data row75 col6\" >January</td>\n",
       "                        <td id=\"T_12ac37e4_48dc_11ea_b1fb_f2189862d0c5row75_col7\" class=\"data row75 col7\" >2020</td>\n",
       "                        <td id=\"T_12ac37e4_48dc_11ea_b1fb_f2189862d0c5row75_col8\" class=\"data row75 col8\" >368</td>\n",
       "                        <td id=\"T_12ac37e4_48dc_11ea_b1fb_f2189862d0c5row75_col9\" class=\"data row75 col9\" >ebook</td>\n",
       "            </tr>\n",
       "            <tr>\n",
       "                        <th id=\"T_12ac37e4_48dc_11ea_b1fb_f2189862d0c5level0_row76\" class=\"row_heading level0 row76\" >76</th>\n",
       "                        <td id=\"T_12ac37e4_48dc_11ea_b1fb_f2189862d0c5row76_col0\" class=\"data row76 col0\" >A Beautiful Crime</td>\n",
       "                        <td id=\"T_12ac37e4_48dc_11ea_b1fb_f2189862d0c5row76_col1\" class=\"data row76 col1\" >Christopher Bollen</td>\n",
       "                        <td id=\"T_12ac37e4_48dc_11ea_b1fb_f2189862d0c5row76_col2\" class=\"data row76 col2\" >3.68</td>\n",
       "                        <td id=\"T_12ac37e4_48dc_11ea_b1fb_f2189862d0c5row76_col3\" class=\"data row76 col3\" >41</td>\n",
       "                        <td id=\"T_12ac37e4_48dc_11ea_b1fb_f2189862d0c5row76_col4\" class=\"data row76 col4\" >18</td>\n",
       "                        <td id=\"T_12ac37e4_48dc_11ea_b1fb_f2189862d0c5row76_col5\" class=\"data row76 col5\" >Harper</td>\n",
       "                        <td id=\"T_12ac37e4_48dc_11ea_b1fb_f2189862d0c5row76_col6\" class=\"data row76 col6\" >January</td>\n",
       "                        <td id=\"T_12ac37e4_48dc_11ea_b1fb_f2189862d0c5row76_col7\" class=\"data row76 col7\" >2020</td>\n",
       "                        <td id=\"T_12ac37e4_48dc_11ea_b1fb_f2189862d0c5row76_col8\" class=\"data row76 col8\" >400</td>\n",
       "                        <td id=\"T_12ac37e4_48dc_11ea_b1fb_f2189862d0c5row76_col9\" class=\"data row76 col9\" >ebook</td>\n",
       "            </tr>\n",
       "            <tr>\n",
       "                        <th id=\"T_12ac37e4_48dc_11ea_b1fb_f2189862d0c5level0_row77\" class=\"row_heading level0 row77\" >77</th>\n",
       "                        <td id=\"T_12ac37e4_48dc_11ea_b1fb_f2189862d0c5row77_col0\" class=\"data row77 col0\" >Thistles and Thieves</td>\n",
       "                        <td id=\"T_12ac37e4_48dc_11ea_b1fb_f2189862d0c5row77_col1\" class=\"data row77 col1\" >Molly MacRae</td>\n",
       "                        <td id=\"T_12ac37e4_48dc_11ea_b1fb_f2189862d0c5row77_col2\" class=\"data row77 col2\" >3.84</td>\n",
       "                        <td id=\"T_12ac37e4_48dc_11ea_b1fb_f2189862d0c5row77_col3\" class=\"data row77 col3\" >73</td>\n",
       "                        <td id=\"T_12ac37e4_48dc_11ea_b1fb_f2189862d0c5row77_col4\" class=\"data row77 col4\" >17</td>\n",
       "                        <td id=\"T_12ac37e4_48dc_11ea_b1fb_f2189862d0c5row77_col5\" class=\"data row77 col5\" >Pegasus Books</td>\n",
       "                        <td id=\"T_12ac37e4_48dc_11ea_b1fb_f2189862d0c5row77_col6\" class=\"data row77 col6\" >January</td>\n",
       "                        <td id=\"T_12ac37e4_48dc_11ea_b1fb_f2189862d0c5row77_col7\" class=\"data row77 col7\" >2020</td>\n",
       "                        <td id=\"T_12ac37e4_48dc_11ea_b1fb_f2189862d0c5row77_col8\" class=\"data row77 col8\" >352</td>\n",
       "                        <td id=\"T_12ac37e4_48dc_11ea_b1fb_f2189862d0c5row77_col9\" class=\"data row77 col9\" >Hardcover</td>\n",
       "            </tr>\n",
       "            <tr>\n",
       "                        <th id=\"T_12ac37e4_48dc_11ea_b1fb_f2189862d0c5level0_row78\" class=\"row_heading level0 row78\" >78</th>\n",
       "                        <td id=\"T_12ac37e4_48dc_11ea_b1fb_f2189862d0c5row78_col0\" class=\"data row78 col0\" >Hi Five</td>\n",
       "                        <td id=\"T_12ac37e4_48dc_11ea_b1fb_f2189862d0c5row78_col1\" class=\"data row78 col1\" >Joe Ide</td>\n",
       "                        <td id=\"T_12ac37e4_48dc_11ea_b1fb_f2189862d0c5row78_col2\" class=\"data row78 col2\" >3.69</td>\n",
       "                        <td id=\"T_12ac37e4_48dc_11ea_b1fb_f2189862d0c5row78_col3\" class=\"data row78 col3\" >132</td>\n",
       "                        <td id=\"T_12ac37e4_48dc_11ea_b1fb_f2189862d0c5row78_col4\" class=\"data row78 col4\" >35</td>\n",
       "                        <td id=\"T_12ac37e4_48dc_11ea_b1fb_f2189862d0c5row78_col5\" class=\"data row78 col5\" >Mulholland Books</td>\n",
       "                        <td id=\"T_12ac37e4_48dc_11ea_b1fb_f2189862d0c5row78_col6\" class=\"data row78 col6\" >January</td>\n",
       "                        <td id=\"T_12ac37e4_48dc_11ea_b1fb_f2189862d0c5row78_col7\" class=\"data row78 col7\" >2020</td>\n",
       "                        <td id=\"T_12ac37e4_48dc_11ea_b1fb_f2189862d0c5row78_col8\" class=\"data row78 col8\" >352</td>\n",
       "                        <td id=\"T_12ac37e4_48dc_11ea_b1fb_f2189862d0c5row78_col9\" class=\"data row78 col9\" >Kindle Edition</td>\n",
       "            </tr>\n",
       "            <tr>\n",
       "                        <th id=\"T_12ac37e4_48dc_11ea_b1fb_f2189862d0c5level0_row79\" class=\"row_heading level0 row79\" >79</th>\n",
       "                        <td id=\"T_12ac37e4_48dc_11ea_b1fb_f2189862d0c5row79_col0\" class=\"data row79 col0\" >Parable of the Sower</td>\n",
       "                        <td id=\"T_12ac37e4_48dc_11ea_b1fb_f2189862d0c5row79_col1\" class=\"data row79 col1\" >Damian Duffy</td>\n",
       "                        <td id=\"T_12ac37e4_48dc_11ea_b1fb_f2189862d0c5row79_col2\" class=\"data row79 col2\" >3.85</td>\n",
       "                        <td id=\"T_12ac37e4_48dc_11ea_b1fb_f2189862d0c5row79_col3\" class=\"data row79 col3\" >86</td>\n",
       "                        <td id=\"T_12ac37e4_48dc_11ea_b1fb_f2189862d0c5row79_col4\" class=\"data row79 col4\" >58</td>\n",
       "                        <td id=\"T_12ac37e4_48dc_11ea_b1fb_f2189862d0c5row79_col5\" class=\"data row79 col5\" >Harry N. Abrams</td>\n",
       "                        <td id=\"T_12ac37e4_48dc_11ea_b1fb_f2189862d0c5row79_col6\" class=\"data row79 col6\" >January</td>\n",
       "                        <td id=\"T_12ac37e4_48dc_11ea_b1fb_f2189862d0c5row79_col7\" class=\"data row79 col7\" >2020</td>\n",
       "                        <td id=\"T_12ac37e4_48dc_11ea_b1fb_f2189862d0c5row79_col8\" class=\"data row79 col8\" >272</td>\n",
       "                        <td id=\"T_12ac37e4_48dc_11ea_b1fb_f2189862d0c5row79_col9\" class=\"data row79 col9\" >Hardcover</td>\n",
       "            </tr>\n",
       "            <tr>\n",
       "                        <th id=\"T_12ac37e4_48dc_11ea_b1fb_f2189862d0c5level0_row80\" class=\"row_heading level0 row80\" >80</th>\n",
       "                        <td id=\"T_12ac37e4_48dc_11ea_b1fb_f2189862d0c5row80_col0\" class=\"data row80 col0\" >To the Edge of Sorrow</td>\n",
       "                        <td id=\"T_12ac37e4_48dc_11ea_b1fb_f2189862d0c5row80_col1\" class=\"data row80 col1\" >Aharon Appelfeld</td>\n",
       "                        <td id=\"T_12ac37e4_48dc_11ea_b1fb_f2189862d0c5row80_col2\" class=\"data row80 col2\" >4.33</td>\n",
       "                        <td id=\"T_12ac37e4_48dc_11ea_b1fb_f2189862d0c5row80_col3\" class=\"data row80 col3\" >24</td>\n",
       "                        <td id=\"T_12ac37e4_48dc_11ea_b1fb_f2189862d0c5row80_col4\" class=\"data row80 col4\" >10</td>\n",
       "                        <td id=\"T_12ac37e4_48dc_11ea_b1fb_f2189862d0c5row80_col5\" class=\"data row80 col5\" >Schocken Books Inc</td>\n",
       "                        <td id=\"T_12ac37e4_48dc_11ea_b1fb_f2189862d0c5row80_col6\" class=\"data row80 col6\" >January</td>\n",
       "                        <td id=\"T_12ac37e4_48dc_11ea_b1fb_f2189862d0c5row80_col7\" class=\"data row80 col7\" >2020</td>\n",
       "                        <td id=\"T_12ac37e4_48dc_11ea_b1fb_f2189862d0c5row80_col8\" class=\"data row80 col8\" >304</td>\n",
       "                        <td id=\"T_12ac37e4_48dc_11ea_b1fb_f2189862d0c5row80_col9\" class=\"data row80 col9\" >Hardcover</td>\n",
       "            </tr>\n",
       "            <tr>\n",
       "                        <th id=\"T_12ac37e4_48dc_11ea_b1fb_f2189862d0c5level0_row81\" class=\"row_heading level0 row81\" >81</th>\n",
       "                        <td id=\"T_12ac37e4_48dc_11ea_b1fb_f2189862d0c5row81_col0\" class=\"data row81 col0\" >The Deep & Dark Blue</td>\n",
       "                        <td id=\"T_12ac37e4_48dc_11ea_b1fb_f2189862d0c5row81_col1\" class=\"data row81 col1\" >Niki Smith</td>\n",
       "                        <td id=\"T_12ac37e4_48dc_11ea_b1fb_f2189862d0c5row81_col2\" class=\"data row81 col2\" >4.16</td>\n",
       "                        <td id=\"T_12ac37e4_48dc_11ea_b1fb_f2189862d0c5row81_col3\" class=\"data row81 col3\" >156</td>\n",
       "                        <td id=\"T_12ac37e4_48dc_11ea_b1fb_f2189862d0c5row81_col4\" class=\"data row81 col4\" >51</td>\n",
       "                        <td id=\"T_12ac37e4_48dc_11ea_b1fb_f2189862d0c5row81_col5\" class=\"data row81 col5\" >Little, Brown Books for Young Readers</td>\n",
       "                        <td id=\"T_12ac37e4_48dc_11ea_b1fb_f2189862d0c5row81_col6\" class=\"data row81 col6\" >January</td>\n",
       "                        <td id=\"T_12ac37e4_48dc_11ea_b1fb_f2189862d0c5row81_col7\" class=\"data row81 col7\" >2020</td>\n",
       "                        <td id=\"T_12ac37e4_48dc_11ea_b1fb_f2189862d0c5row81_col8\" class=\"data row81 col8\" >256</td>\n",
       "                        <td id=\"T_12ac37e4_48dc_11ea_b1fb_f2189862d0c5row81_col9\" class=\"data row81 col9\" >Paperback</td>\n",
       "            </tr>\n",
       "            <tr>\n",
       "                        <th id=\"T_12ac37e4_48dc_11ea_b1fb_f2189862d0c5level0_row82\" class=\"row_heading level0 row82\" >82</th>\n",
       "                        <td id=\"T_12ac37e4_48dc_11ea_b1fb_f2189862d0c5row82_col0\" class=\"data row82 col0\" >Pine</td>\n",
       "                        <td id=\"T_12ac37e4_48dc_11ea_b1fb_f2189862d0c5row82_col1\" class=\"data row82 col1\" >Francine Toon</td>\n",
       "                        <td id=\"T_12ac37e4_48dc_11ea_b1fb_f2189862d0c5row82_col2\" class=\"data row82 col2\" >3.97</td>\n",
       "                        <td id=\"T_12ac37e4_48dc_11ea_b1fb_f2189862d0c5row82_col3\" class=\"data row82 col3\" >189</td>\n",
       "                        <td id=\"T_12ac37e4_48dc_11ea_b1fb_f2189862d0c5row82_col4\" class=\"data row82 col4\" >73</td>\n",
       "                        <td id=\"T_12ac37e4_48dc_11ea_b1fb_f2189862d0c5row82_col5\" class=\"data row82 col5\" >Doubleday</td>\n",
       "                        <td id=\"T_12ac37e4_48dc_11ea_b1fb_f2189862d0c5row82_col6\" class=\"data row82 col6\" >January</td>\n",
       "                        <td id=\"T_12ac37e4_48dc_11ea_b1fb_f2189862d0c5row82_col7\" class=\"data row82 col7\" >2020</td>\n",
       "                        <td id=\"T_12ac37e4_48dc_11ea_b1fb_f2189862d0c5row82_col8\" class=\"data row82 col8\" >336</td>\n",
       "                        <td id=\"T_12ac37e4_48dc_11ea_b1fb_f2189862d0c5row82_col9\" class=\"data row82 col9\" >Hardcover</td>\n",
       "            </tr>\n",
       "            <tr>\n",
       "                        <th id=\"T_12ac37e4_48dc_11ea_b1fb_f2189862d0c5level0_row83\" class=\"row_heading level0 row83\" >83</th>\n",
       "                        <td id=\"T_12ac37e4_48dc_11ea_b1fb_f2189862d0c5row83_col0\" class=\"data row83 col0\" >The Lost Scroll of the Physician</td>\n",
       "                        <td id=\"T_12ac37e4_48dc_11ea_b1fb_f2189862d0c5row83_col1\" class=\"data row83 col1\" >Alisha Sevigny</td>\n",
       "                        <td id=\"T_12ac37e4_48dc_11ea_b1fb_f2189862d0c5row83_col2\" class=\"data row83 col2\" >4.13</td>\n",
       "                        <td id=\"T_12ac37e4_48dc_11ea_b1fb_f2189862d0c5row83_col3\" class=\"data row83 col3\" >31</td>\n",
       "                        <td id=\"T_12ac37e4_48dc_11ea_b1fb_f2189862d0c5row83_col4\" class=\"data row83 col4\" >24</td>\n",
       "                        <td id=\"T_12ac37e4_48dc_11ea_b1fb_f2189862d0c5row83_col5\" class=\"data row83 col5\" >Dundurn</td>\n",
       "                        <td id=\"T_12ac37e4_48dc_11ea_b1fb_f2189862d0c5row83_col6\" class=\"data row83 col6\" >January</td>\n",
       "                        <td id=\"T_12ac37e4_48dc_11ea_b1fb_f2189862d0c5row83_col7\" class=\"data row83 col7\" >2020</td>\n",
       "                        <td id=\"T_12ac37e4_48dc_11ea_b1fb_f2189862d0c5row83_col8\" class=\"data row83 col8\" >200</td>\n",
       "                        <td id=\"T_12ac37e4_48dc_11ea_b1fb_f2189862d0c5row83_col9\" class=\"data row83 col9\" >Kindle Edition</td>\n",
       "            </tr>\n",
       "            <tr>\n",
       "                        <th id=\"T_12ac37e4_48dc_11ea_b1fb_f2189862d0c5level0_row84\" class=\"row_heading level0 row84\" >84</th>\n",
       "                        <td id=\"T_12ac37e4_48dc_11ea_b1fb_f2189862d0c5row84_col0\" class=\"data row84 col0\" >Gone by Nightfall</td>\n",
       "                        <td id=\"T_12ac37e4_48dc_11ea_b1fb_f2189862d0c5row84_col1\" class=\"data row84 col1\" >Dee Garretson</td>\n",
       "                        <td id=\"T_12ac37e4_48dc_11ea_b1fb_f2189862d0c5row84_col2\" class=\"data row84 col2\" >4.11</td>\n",
       "                        <td id=\"T_12ac37e4_48dc_11ea_b1fb_f2189862d0c5row84_col3\" class=\"data row84 col3\" >35</td>\n",
       "                        <td id=\"T_12ac37e4_48dc_11ea_b1fb_f2189862d0c5row84_col4\" class=\"data row84 col4\" >28</td>\n",
       "                        <td id=\"T_12ac37e4_48dc_11ea_b1fb_f2189862d0c5row84_col5\" class=\"data row84 col5\" >Swoon Reads</td>\n",
       "                        <td id=\"T_12ac37e4_48dc_11ea_b1fb_f2189862d0c5row84_col6\" class=\"data row84 col6\" >January</td>\n",
       "                        <td id=\"T_12ac37e4_48dc_11ea_b1fb_f2189862d0c5row84_col7\" class=\"data row84 col7\" >2020</td>\n",
       "                        <td id=\"T_12ac37e4_48dc_11ea_b1fb_f2189862d0c5row84_col8\" class=\"data row84 col8\" >304</td>\n",
       "                        <td id=\"T_12ac37e4_48dc_11ea_b1fb_f2189862d0c5row84_col9\" class=\"data row84 col9\" >Hardcover</td>\n",
       "            </tr>\n",
       "            <tr>\n",
       "                        <th id=\"T_12ac37e4_48dc_11ea_b1fb_f2189862d0c5level0_row85\" class=\"row_heading level0 row85\" >85</th>\n",
       "                        <td id=\"T_12ac37e4_48dc_11ea_b1fb_f2189862d0c5row85_col0\" class=\"data row85 col0\" >19 Love Songs</td>\n",
       "                        <td id=\"T_12ac37e4_48dc_11ea_b1fb_f2189862d0c5row85_col1\" class=\"data row85 col1\" >David Levithan</td>\n",
       "                        <td id=\"T_12ac37e4_48dc_11ea_b1fb_f2189862d0c5row85_col2\" class=\"data row85 col2\" >3.89</td>\n",
       "                        <td id=\"T_12ac37e4_48dc_11ea_b1fb_f2189862d0c5row85_col3\" class=\"data row85 col3\" >128</td>\n",
       "                        <td id=\"T_12ac37e4_48dc_11ea_b1fb_f2189862d0c5row85_col4\" class=\"data row85 col4\" >40</td>\n",
       "                        <td id=\"T_12ac37e4_48dc_11ea_b1fb_f2189862d0c5row85_col5\" class=\"data row85 col5\" >Penguin Random House</td>\n",
       "                        <td id=\"T_12ac37e4_48dc_11ea_b1fb_f2189862d0c5row85_col6\" class=\"data row85 col6\" >January</td>\n",
       "                        <td id=\"T_12ac37e4_48dc_11ea_b1fb_f2189862d0c5row85_col7\" class=\"data row85 col7\" >2020</td>\n",
       "                        <td id=\"T_12ac37e4_48dc_11ea_b1fb_f2189862d0c5row85_col8\" class=\"data row85 col8\" >320</td>\n",
       "                        <td id=\"T_12ac37e4_48dc_11ea_b1fb_f2189862d0c5row85_col9\" class=\"data row85 col9\" >Paperback</td>\n",
       "            </tr>\n",
       "            <tr>\n",
       "                        <th id=\"T_12ac37e4_48dc_11ea_b1fb_f2189862d0c5level0_row86\" class=\"row_heading level0 row86\" >86</th>\n",
       "                        <td id=\"T_12ac37e4_48dc_11ea_b1fb_f2189862d0c5row86_col0\" class=\"data row86 col0\" >A Hero Comes Home</td>\n",
       "                        <td id=\"T_12ac37e4_48dc_11ea_b1fb_f2189862d0c5row86_col1\" class=\"data row86 col1\" >Sandra Hill</td>\n",
       "                        <td id=\"T_12ac37e4_48dc_11ea_b1fb_f2189862d0c5row86_col2\" class=\"data row86 col2\" >4.5</td>\n",
       "                        <td id=\"T_12ac37e4_48dc_11ea_b1fb_f2189862d0c5row86_col3\" class=\"data row86 col3\" >32</td>\n",
       "                        <td id=\"T_12ac37e4_48dc_11ea_b1fb_f2189862d0c5row86_col4\" class=\"data row86 col4\" >11</td>\n",
       "                        <td id=\"T_12ac37e4_48dc_11ea_b1fb_f2189862d0c5row86_col5\" class=\"data row86 col5\" >Avon</td>\n",
       "                        <td id=\"T_12ac37e4_48dc_11ea_b1fb_f2189862d0c5row86_col6\" class=\"data row86 col6\" >January</td>\n",
       "                        <td id=\"T_12ac37e4_48dc_11ea_b1fb_f2189862d0c5row86_col7\" class=\"data row86 col7\" >2020</td>\n",
       "                        <td id=\"T_12ac37e4_48dc_11ea_b1fb_f2189862d0c5row86_col8\" class=\"data row86 col8\" >384</td>\n",
       "                        <td id=\"T_12ac37e4_48dc_11ea_b1fb_f2189862d0c5row86_col9\" class=\"data row86 col9\" >ebook</td>\n",
       "            </tr>\n",
       "            <tr>\n",
       "                        <th id=\"T_12ac37e4_48dc_11ea_b1fb_f2189862d0c5level0_row87\" class=\"row_heading level0 row87\" >87</th>\n",
       "                        <td id=\"T_12ac37e4_48dc_11ea_b1fb_f2189862d0c5row87_col0\" class=\"data row87 col0\" >The Girl with the Golden Scissors: A Novel</td>\n",
       "                        <td id=\"T_12ac37e4_48dc_11ea_b1fb_f2189862d0c5row87_col1\" class=\"data row87 col1\" >Julia Drosten</td>\n",
       "                        <td id=\"T_12ac37e4_48dc_11ea_b1fb_f2189862d0c5row87_col2\" class=\"data row87 col2\" >4.21</td>\n",
       "                        <td id=\"T_12ac37e4_48dc_11ea_b1fb_f2189862d0c5row87_col3\" class=\"data row87 col3\" >77</td>\n",
       "                        <td id=\"T_12ac37e4_48dc_11ea_b1fb_f2189862d0c5row87_col4\" class=\"data row87 col4\" >13</td>\n",
       "                        <td id=\"T_12ac37e4_48dc_11ea_b1fb_f2189862d0c5row87_col5\" class=\"data row87 col5\" >Amazon Crossing</td>\n",
       "                        <td id=\"T_12ac37e4_48dc_11ea_b1fb_f2189862d0c5row87_col6\" class=\"data row87 col6\" >January</td>\n",
       "                        <td id=\"T_12ac37e4_48dc_11ea_b1fb_f2189862d0c5row87_col7\" class=\"data row87 col7\" >2020</td>\n",
       "                        <td id=\"T_12ac37e4_48dc_11ea_b1fb_f2189862d0c5row87_col8\" class=\"data row87 col8\" >332</td>\n",
       "                        <td id=\"T_12ac37e4_48dc_11ea_b1fb_f2189862d0c5row87_col9\" class=\"data row87 col9\" >Paperback</td>\n",
       "            </tr>\n",
       "    </tbody></table>"
      ],
      "text/plain": [
       "<pandas.io.formats.style.Styler at 0x1a25ab8c10>"
      ]
     },
     "metadata": {},
     "output_type": "display_data"
    },
    {
     "data": {
      "application/vnd.plotly.v1+json": {
       "config": {
        "linkText": "Export to plot.ly",
        "plotlyServerURL": "https://plot.ly",
        "showLink": false
       },
       "data": [
        {
         "marker": {
          "color": "rgb(49,130,189)"
         },
         "name": "No of Rating",
         "text": [
          4.6,
          4.5,
          4.5,
          4.47,
          4.35,
          4.33,
          4.29,
          4.28,
          4.26,
          4.24
         ],
         "type": "bar",
         "x": [
          "Into the Fire",
          "From the Desk of Zoe Washington",
          "A Hero Comes Home",
          "What I Carry",
          "This Light Between Us",
          "To the Edge of Sorrow",
          "Cleanness",
          "The Thief Knot",
          "Naked Came the Florida Man",
          "Interior Chinatown"
         ],
         "y": [
          808,
          204,
          32,
          102,
          119,
          24,
          452,
          83,
          317,
          160
         ]
        },
        {
         "name": "No of Review",
         "text": [
          4.6,
          4.5,
          4.5,
          4.47,
          4.35,
          4.33,
          4.29,
          4.28,
          4.26,
          4.24
         ],
         "type": "bar",
         "x": [
          "Into the Fire",
          "From the Desk of Zoe Washington",
          "A Hero Comes Home",
          "What I Carry",
          "This Light Between Us",
          "To the Edge of Sorrow",
          "Cleanness",
          "The Thief Knot",
          "Naked Came the Florida Man",
          "Interior Chinatown"
         ],
         "y": [
          267,
          65,
          11,
          31,
          68,
          10,
          102,
          33,
          66,
          48
         ]
        }
       ],
       "layout": {
        "template": {
         "data": {
          "bar": [
           {
            "error_x": {
             "color": "#2a3f5f"
            },
            "error_y": {
             "color": "#2a3f5f"
            },
            "marker": {
             "line": {
              "color": "#E5ECF6",
              "width": 0.5
             }
            },
            "type": "bar"
           }
          ],
          "barpolar": [
           {
            "marker": {
             "line": {
              "color": "#E5ECF6",
              "width": 0.5
             }
            },
            "type": "barpolar"
           }
          ],
          "carpet": [
           {
            "aaxis": {
             "endlinecolor": "#2a3f5f",
             "gridcolor": "white",
             "linecolor": "white",
             "minorgridcolor": "white",
             "startlinecolor": "#2a3f5f"
            },
            "baxis": {
             "endlinecolor": "#2a3f5f",
             "gridcolor": "white",
             "linecolor": "white",
             "minorgridcolor": "white",
             "startlinecolor": "#2a3f5f"
            },
            "type": "carpet"
           }
          ],
          "choropleth": [
           {
            "colorbar": {
             "outlinewidth": 0,
             "ticks": ""
            },
            "type": "choropleth"
           }
          ],
          "contour": [
           {
            "colorbar": {
             "outlinewidth": 0,
             "ticks": ""
            },
            "colorscale": [
             [
              0,
              "#0d0887"
             ],
             [
              0.1111111111111111,
              "#46039f"
             ],
             [
              0.2222222222222222,
              "#7201a8"
             ],
             [
              0.3333333333333333,
              "#9c179e"
             ],
             [
              0.4444444444444444,
              "#bd3786"
             ],
             [
              0.5555555555555556,
              "#d8576b"
             ],
             [
              0.6666666666666666,
              "#ed7953"
             ],
             [
              0.7777777777777778,
              "#fb9f3a"
             ],
             [
              0.8888888888888888,
              "#fdca26"
             ],
             [
              1,
              "#f0f921"
             ]
            ],
            "type": "contour"
           }
          ],
          "contourcarpet": [
           {
            "colorbar": {
             "outlinewidth": 0,
             "ticks": ""
            },
            "type": "contourcarpet"
           }
          ],
          "heatmap": [
           {
            "colorbar": {
             "outlinewidth": 0,
             "ticks": ""
            },
            "colorscale": [
             [
              0,
              "#0d0887"
             ],
             [
              0.1111111111111111,
              "#46039f"
             ],
             [
              0.2222222222222222,
              "#7201a8"
             ],
             [
              0.3333333333333333,
              "#9c179e"
             ],
             [
              0.4444444444444444,
              "#bd3786"
             ],
             [
              0.5555555555555556,
              "#d8576b"
             ],
             [
              0.6666666666666666,
              "#ed7953"
             ],
             [
              0.7777777777777778,
              "#fb9f3a"
             ],
             [
              0.8888888888888888,
              "#fdca26"
             ],
             [
              1,
              "#f0f921"
             ]
            ],
            "type": "heatmap"
           }
          ],
          "heatmapgl": [
           {
            "colorbar": {
             "outlinewidth": 0,
             "ticks": ""
            },
            "colorscale": [
             [
              0,
              "#0d0887"
             ],
             [
              0.1111111111111111,
              "#46039f"
             ],
             [
              0.2222222222222222,
              "#7201a8"
             ],
             [
              0.3333333333333333,
              "#9c179e"
             ],
             [
              0.4444444444444444,
              "#bd3786"
             ],
             [
              0.5555555555555556,
              "#d8576b"
             ],
             [
              0.6666666666666666,
              "#ed7953"
             ],
             [
              0.7777777777777778,
              "#fb9f3a"
             ],
             [
              0.8888888888888888,
              "#fdca26"
             ],
             [
              1,
              "#f0f921"
             ]
            ],
            "type": "heatmapgl"
           }
          ],
          "histogram": [
           {
            "marker": {
             "colorbar": {
              "outlinewidth": 0,
              "ticks": ""
             }
            },
            "type": "histogram"
           }
          ],
          "histogram2d": [
           {
            "colorbar": {
             "outlinewidth": 0,
             "ticks": ""
            },
            "colorscale": [
             [
              0,
              "#0d0887"
             ],
             [
              0.1111111111111111,
              "#46039f"
             ],
             [
              0.2222222222222222,
              "#7201a8"
             ],
             [
              0.3333333333333333,
              "#9c179e"
             ],
             [
              0.4444444444444444,
              "#bd3786"
             ],
             [
              0.5555555555555556,
              "#d8576b"
             ],
             [
              0.6666666666666666,
              "#ed7953"
             ],
             [
              0.7777777777777778,
              "#fb9f3a"
             ],
             [
              0.8888888888888888,
              "#fdca26"
             ],
             [
              1,
              "#f0f921"
             ]
            ],
            "type": "histogram2d"
           }
          ],
          "histogram2dcontour": [
           {
            "colorbar": {
             "outlinewidth": 0,
             "ticks": ""
            },
            "colorscale": [
             [
              0,
              "#0d0887"
             ],
             [
              0.1111111111111111,
              "#46039f"
             ],
             [
              0.2222222222222222,
              "#7201a8"
             ],
             [
              0.3333333333333333,
              "#9c179e"
             ],
             [
              0.4444444444444444,
              "#bd3786"
             ],
             [
              0.5555555555555556,
              "#d8576b"
             ],
             [
              0.6666666666666666,
              "#ed7953"
             ],
             [
              0.7777777777777778,
              "#fb9f3a"
             ],
             [
              0.8888888888888888,
              "#fdca26"
             ],
             [
              1,
              "#f0f921"
             ]
            ],
            "type": "histogram2dcontour"
           }
          ],
          "mesh3d": [
           {
            "colorbar": {
             "outlinewidth": 0,
             "ticks": ""
            },
            "type": "mesh3d"
           }
          ],
          "parcoords": [
           {
            "line": {
             "colorbar": {
              "outlinewidth": 0,
              "ticks": ""
             }
            },
            "type": "parcoords"
           }
          ],
          "scatter": [
           {
            "marker": {
             "colorbar": {
              "outlinewidth": 0,
              "ticks": ""
             }
            },
            "type": "scatter"
           }
          ],
          "scatter3d": [
           {
            "line": {
             "colorbar": {
              "outlinewidth": 0,
              "ticks": ""
             }
            },
            "marker": {
             "colorbar": {
              "outlinewidth": 0,
              "ticks": ""
             }
            },
            "type": "scatter3d"
           }
          ],
          "scattercarpet": [
           {
            "marker": {
             "colorbar": {
              "outlinewidth": 0,
              "ticks": ""
             }
            },
            "type": "scattercarpet"
           }
          ],
          "scattergeo": [
           {
            "marker": {
             "colorbar": {
              "outlinewidth": 0,
              "ticks": ""
             }
            },
            "type": "scattergeo"
           }
          ],
          "scattergl": [
           {
            "marker": {
             "colorbar": {
              "outlinewidth": 0,
              "ticks": ""
             }
            },
            "type": "scattergl"
           }
          ],
          "scattermapbox": [
           {
            "marker": {
             "colorbar": {
              "outlinewidth": 0,
              "ticks": ""
             }
            },
            "type": "scattermapbox"
           }
          ],
          "scatterpolar": [
           {
            "marker": {
             "colorbar": {
              "outlinewidth": 0,
              "ticks": ""
             }
            },
            "type": "scatterpolar"
           }
          ],
          "scatterpolargl": [
           {
            "marker": {
             "colorbar": {
              "outlinewidth": 0,
              "ticks": ""
             }
            },
            "type": "scatterpolargl"
           }
          ],
          "scatterternary": [
           {
            "marker": {
             "colorbar": {
              "outlinewidth": 0,
              "ticks": ""
             }
            },
            "type": "scatterternary"
           }
          ],
          "surface": [
           {
            "colorbar": {
             "outlinewidth": 0,
             "ticks": ""
            },
            "colorscale": [
             [
              0,
              "#0d0887"
             ],
             [
              0.1111111111111111,
              "#46039f"
             ],
             [
              0.2222222222222222,
              "#7201a8"
             ],
             [
              0.3333333333333333,
              "#9c179e"
             ],
             [
              0.4444444444444444,
              "#bd3786"
             ],
             [
              0.5555555555555556,
              "#d8576b"
             ],
             [
              0.6666666666666666,
              "#ed7953"
             ],
             [
              0.7777777777777778,
              "#fb9f3a"
             ],
             [
              0.8888888888888888,
              "#fdca26"
             ],
             [
              1,
              "#f0f921"
             ]
            ],
            "type": "surface"
           }
          ],
          "table": [
           {
            "cells": {
             "fill": {
              "color": "#EBF0F8"
             },
             "line": {
              "color": "white"
             }
            },
            "header": {
             "fill": {
              "color": "#C8D4E3"
             },
             "line": {
              "color": "white"
             }
            },
            "type": "table"
           }
          ]
         },
         "layout": {
          "annotationdefaults": {
           "arrowcolor": "#2a3f5f",
           "arrowhead": 0,
           "arrowwidth": 1
          },
          "colorscale": {
           "diverging": [
            [
             0,
             "#8e0152"
            ],
            [
             0.1,
             "#c51b7d"
            ],
            [
             0.2,
             "#de77ae"
            ],
            [
             0.3,
             "#f1b6da"
            ],
            [
             0.4,
             "#fde0ef"
            ],
            [
             0.5,
             "#f7f7f7"
            ],
            [
             0.6,
             "#e6f5d0"
            ],
            [
             0.7,
             "#b8e186"
            ],
            [
             0.8,
             "#7fbc41"
            ],
            [
             0.9,
             "#4d9221"
            ],
            [
             1,
             "#276419"
            ]
           ],
           "sequential": [
            [
             0,
             "#0d0887"
            ],
            [
             0.1111111111111111,
             "#46039f"
            ],
            [
             0.2222222222222222,
             "#7201a8"
            ],
            [
             0.3333333333333333,
             "#9c179e"
            ],
            [
             0.4444444444444444,
             "#bd3786"
            ],
            [
             0.5555555555555556,
             "#d8576b"
            ],
            [
             0.6666666666666666,
             "#ed7953"
            ],
            [
             0.7777777777777778,
             "#fb9f3a"
            ],
            [
             0.8888888888888888,
             "#fdca26"
            ],
            [
             1,
             "#f0f921"
            ]
           ],
           "sequentialminus": [
            [
             0,
             "#0d0887"
            ],
            [
             0.1111111111111111,
             "#46039f"
            ],
            [
             0.2222222222222222,
             "#7201a8"
            ],
            [
             0.3333333333333333,
             "#9c179e"
            ],
            [
             0.4444444444444444,
             "#bd3786"
            ],
            [
             0.5555555555555556,
             "#d8576b"
            ],
            [
             0.6666666666666666,
             "#ed7953"
            ],
            [
             0.7777777777777778,
             "#fb9f3a"
            ],
            [
             0.8888888888888888,
             "#fdca26"
            ],
            [
             1,
             "#f0f921"
            ]
           ]
          },
          "colorway": [
           "#636efa",
           "#EF553B",
           "#00cc96",
           "#ab63fa",
           "#FFA15A",
           "#19d3f3",
           "#FF6692",
           "#B6E880",
           "#FF97FF",
           "#FECB52"
          ],
          "font": {
           "color": "#2a3f5f"
          },
          "geo": {
           "bgcolor": "white",
           "lakecolor": "white",
           "landcolor": "#E5ECF6",
           "showlakes": true,
           "showland": true,
           "subunitcolor": "white"
          },
          "hoverlabel": {
           "align": "left"
          },
          "hovermode": "closest",
          "mapbox": {
           "style": "light"
          },
          "paper_bgcolor": "white",
          "plot_bgcolor": "#E5ECF6",
          "polar": {
           "angularaxis": {
            "gridcolor": "white",
            "linecolor": "white",
            "ticks": ""
           },
           "bgcolor": "#E5ECF6",
           "radialaxis": {
            "gridcolor": "white",
            "linecolor": "white",
            "ticks": ""
           }
          },
          "scene": {
           "xaxis": {
            "backgroundcolor": "#E5ECF6",
            "gridcolor": "white",
            "gridwidth": 2,
            "linecolor": "white",
            "showbackground": true,
            "ticks": "",
            "zerolinecolor": "white"
           },
           "yaxis": {
            "backgroundcolor": "#E5ECF6",
            "gridcolor": "white",
            "gridwidth": 2,
            "linecolor": "white",
            "showbackground": true,
            "ticks": "",
            "zerolinecolor": "white"
           },
           "zaxis": {
            "backgroundcolor": "#E5ECF6",
            "gridcolor": "white",
            "gridwidth": 2,
            "linecolor": "white",
            "showbackground": true,
            "ticks": "",
            "zerolinecolor": "white"
           }
          },
          "shapedefaults": {
           "line": {
            "color": "#2a3f5f"
           }
          },
          "ternary": {
           "aaxis": {
            "gridcolor": "white",
            "linecolor": "white",
            "ticks": ""
           },
           "baxis": {
            "gridcolor": "white",
            "linecolor": "white",
            "ticks": ""
           },
           "bgcolor": "#E5ECF6",
           "caxis": {
            "gridcolor": "white",
            "linecolor": "white",
            "ticks": ""
           }
          },
          "title": {
           "x": 0.05
          },
          "xaxis": {
           "automargin": true,
           "gridcolor": "white",
           "linecolor": "white",
           "ticks": "",
           "zerolinecolor": "white",
           "zerolinewidth": 2
          },
          "yaxis": {
           "automargin": true,
           "gridcolor": "white",
           "linecolor": "white",
           "ticks": "",
           "zerolinecolor": "white",
           "zerolinewidth": 2
          }
         }
        },
        "title": {
         "text": "Top 10 Books With Highest Average Rating"
        }
       }
      },
      "text/html": [
       "<div>\n",
       "        \n",
       "        \n",
       "            <div id=\"4d25339d-204a-4311-9880-2cbf9da00b77\" class=\"plotly-graph-div\" style=\"height:525px; width:100%;\"></div>\n",
       "            <script type=\"text/javascript\">\n",
       "                require([\"plotly\"], function(Plotly) {\n",
       "                    window.PLOTLYENV=window.PLOTLYENV || {};\n",
       "                    \n",
       "                if (document.getElementById(\"4d25339d-204a-4311-9880-2cbf9da00b77\")) {\n",
       "                    Plotly.newPlot(\n",
       "                        '4d25339d-204a-4311-9880-2cbf9da00b77',\n",
       "                        [{\"marker\": {\"color\": \"rgb(49,130,189)\"}, \"name\": \"No of Rating\", \"text\": [4.6, 4.5, 4.5, 4.47, 4.35, 4.33, 4.29, 4.28, 4.26, 4.24], \"type\": \"bar\", \"x\": [\"Into the Fire\", \"From the Desk of Zoe Washington\", \"A Hero Comes Home\", \"What I Carry\", \"This Light Between Us\", \"To the Edge of Sorrow\", \"Cleanness\", \"The Thief Knot\", \"Naked Came the Florida Man\", \"Interior Chinatown\"], \"y\": [808, 204, 32, 102, 119, 24, 452, 83, 317, 160]}, {\"name\": \"No of Review\", \"text\": [4.6, 4.5, 4.5, 4.47, 4.35, 4.33, 4.29, 4.28, 4.26, 4.24], \"type\": \"bar\", \"x\": [\"Into the Fire\", \"From the Desk of Zoe Washington\", \"A Hero Comes Home\", \"What I Carry\", \"This Light Between Us\", \"To the Edge of Sorrow\", \"Cleanness\", \"The Thief Knot\", \"Naked Came the Florida Man\", \"Interior Chinatown\"], \"y\": [267, 65, 11, 31, 68, 10, 102, 33, 66, 48]}],\n",
       "                        {\"template\": {\"data\": {\"bar\": [{\"error_x\": {\"color\": \"#2a3f5f\"}, \"error_y\": {\"color\": \"#2a3f5f\"}, \"marker\": {\"line\": {\"color\": \"#E5ECF6\", \"width\": 0.5}}, \"type\": \"bar\"}], \"barpolar\": [{\"marker\": {\"line\": {\"color\": \"#E5ECF6\", \"width\": 0.5}}, \"type\": \"barpolar\"}], \"carpet\": [{\"aaxis\": {\"endlinecolor\": \"#2a3f5f\", \"gridcolor\": \"white\", \"linecolor\": \"white\", \"minorgridcolor\": \"white\", \"startlinecolor\": \"#2a3f5f\"}, \"baxis\": {\"endlinecolor\": \"#2a3f5f\", \"gridcolor\": \"white\", \"linecolor\": \"white\", \"minorgridcolor\": \"white\", \"startlinecolor\": \"#2a3f5f\"}, \"type\": \"carpet\"}], \"choropleth\": [{\"colorbar\": {\"outlinewidth\": 0, \"ticks\": \"\"}, \"type\": \"choropleth\"}], \"contour\": [{\"colorbar\": {\"outlinewidth\": 0, \"ticks\": \"\"}, \"colorscale\": [[0.0, \"#0d0887\"], [0.1111111111111111, \"#46039f\"], [0.2222222222222222, \"#7201a8\"], [0.3333333333333333, \"#9c179e\"], [0.4444444444444444, \"#bd3786\"], [0.5555555555555556, \"#d8576b\"], [0.6666666666666666, \"#ed7953\"], [0.7777777777777778, \"#fb9f3a\"], [0.8888888888888888, \"#fdca26\"], [1.0, \"#f0f921\"]], \"type\": \"contour\"}], \"contourcarpet\": [{\"colorbar\": {\"outlinewidth\": 0, \"ticks\": \"\"}, \"type\": \"contourcarpet\"}], \"heatmap\": [{\"colorbar\": {\"outlinewidth\": 0, \"ticks\": \"\"}, \"colorscale\": [[0.0, \"#0d0887\"], [0.1111111111111111, \"#46039f\"], [0.2222222222222222, \"#7201a8\"], [0.3333333333333333, \"#9c179e\"], [0.4444444444444444, \"#bd3786\"], [0.5555555555555556, \"#d8576b\"], [0.6666666666666666, \"#ed7953\"], [0.7777777777777778, \"#fb9f3a\"], [0.8888888888888888, \"#fdca26\"], [1.0, \"#f0f921\"]], \"type\": \"heatmap\"}], \"heatmapgl\": [{\"colorbar\": {\"outlinewidth\": 0, \"ticks\": \"\"}, \"colorscale\": [[0.0, \"#0d0887\"], [0.1111111111111111, \"#46039f\"], [0.2222222222222222, \"#7201a8\"], [0.3333333333333333, \"#9c179e\"], [0.4444444444444444, \"#bd3786\"], [0.5555555555555556, \"#d8576b\"], [0.6666666666666666, \"#ed7953\"], [0.7777777777777778, \"#fb9f3a\"], [0.8888888888888888, \"#fdca26\"], [1.0, \"#f0f921\"]], \"type\": \"heatmapgl\"}], \"histogram\": [{\"marker\": {\"colorbar\": {\"outlinewidth\": 0, \"ticks\": \"\"}}, \"type\": \"histogram\"}], \"histogram2d\": [{\"colorbar\": {\"outlinewidth\": 0, \"ticks\": \"\"}, \"colorscale\": [[0.0, \"#0d0887\"], [0.1111111111111111, \"#46039f\"], [0.2222222222222222, \"#7201a8\"], [0.3333333333333333, \"#9c179e\"], [0.4444444444444444, \"#bd3786\"], [0.5555555555555556, \"#d8576b\"], [0.6666666666666666, \"#ed7953\"], [0.7777777777777778, \"#fb9f3a\"], [0.8888888888888888, \"#fdca26\"], [1.0, \"#f0f921\"]], \"type\": \"histogram2d\"}], \"histogram2dcontour\": [{\"colorbar\": {\"outlinewidth\": 0, \"ticks\": \"\"}, \"colorscale\": [[0.0, \"#0d0887\"], [0.1111111111111111, \"#46039f\"], [0.2222222222222222, \"#7201a8\"], [0.3333333333333333, \"#9c179e\"], [0.4444444444444444, \"#bd3786\"], [0.5555555555555556, \"#d8576b\"], [0.6666666666666666, \"#ed7953\"], [0.7777777777777778, \"#fb9f3a\"], [0.8888888888888888, \"#fdca26\"], [1.0, \"#f0f921\"]], \"type\": \"histogram2dcontour\"}], \"mesh3d\": [{\"colorbar\": {\"outlinewidth\": 0, \"ticks\": \"\"}, \"type\": \"mesh3d\"}], \"parcoords\": [{\"line\": {\"colorbar\": {\"outlinewidth\": 0, \"ticks\": \"\"}}, \"type\": \"parcoords\"}], \"scatter\": [{\"marker\": {\"colorbar\": {\"outlinewidth\": 0, \"ticks\": \"\"}}, \"type\": \"scatter\"}], \"scatter3d\": [{\"line\": {\"colorbar\": {\"outlinewidth\": 0, \"ticks\": \"\"}}, \"marker\": {\"colorbar\": {\"outlinewidth\": 0, \"ticks\": \"\"}}, \"type\": \"scatter3d\"}], \"scattercarpet\": [{\"marker\": {\"colorbar\": {\"outlinewidth\": 0, \"ticks\": \"\"}}, \"type\": \"scattercarpet\"}], \"scattergeo\": [{\"marker\": {\"colorbar\": {\"outlinewidth\": 0, \"ticks\": \"\"}}, \"type\": \"scattergeo\"}], \"scattergl\": [{\"marker\": {\"colorbar\": {\"outlinewidth\": 0, \"ticks\": \"\"}}, \"type\": \"scattergl\"}], \"scattermapbox\": [{\"marker\": {\"colorbar\": {\"outlinewidth\": 0, \"ticks\": \"\"}}, \"type\": \"scattermapbox\"}], \"scatterpolar\": [{\"marker\": {\"colorbar\": {\"outlinewidth\": 0, \"ticks\": \"\"}}, \"type\": \"scatterpolar\"}], \"scatterpolargl\": [{\"marker\": {\"colorbar\": {\"outlinewidth\": 0, \"ticks\": \"\"}}, \"type\": \"scatterpolargl\"}], \"scatterternary\": [{\"marker\": {\"colorbar\": {\"outlinewidth\": 0, \"ticks\": \"\"}}, \"type\": \"scatterternary\"}], \"surface\": [{\"colorbar\": {\"outlinewidth\": 0, \"ticks\": \"\"}, \"colorscale\": [[0.0, \"#0d0887\"], [0.1111111111111111, \"#46039f\"], [0.2222222222222222, \"#7201a8\"], [0.3333333333333333, \"#9c179e\"], [0.4444444444444444, \"#bd3786\"], [0.5555555555555556, \"#d8576b\"], [0.6666666666666666, \"#ed7953\"], [0.7777777777777778, \"#fb9f3a\"], [0.8888888888888888, \"#fdca26\"], [1.0, \"#f0f921\"]], \"type\": \"surface\"}], \"table\": [{\"cells\": {\"fill\": {\"color\": \"#EBF0F8\"}, \"line\": {\"color\": \"white\"}}, \"header\": {\"fill\": {\"color\": \"#C8D4E3\"}, \"line\": {\"color\": \"white\"}}, \"type\": \"table\"}]}, \"layout\": {\"annotationdefaults\": {\"arrowcolor\": \"#2a3f5f\", \"arrowhead\": 0, \"arrowwidth\": 1}, \"colorscale\": {\"diverging\": [[0, \"#8e0152\"], [0.1, \"#c51b7d\"], [0.2, \"#de77ae\"], [0.3, \"#f1b6da\"], [0.4, \"#fde0ef\"], [0.5, \"#f7f7f7\"], [0.6, \"#e6f5d0\"], [0.7, \"#b8e186\"], [0.8, \"#7fbc41\"], [0.9, \"#4d9221\"], [1, \"#276419\"]], \"sequential\": [[0.0, \"#0d0887\"], [0.1111111111111111, \"#46039f\"], [0.2222222222222222, \"#7201a8\"], [0.3333333333333333, \"#9c179e\"], [0.4444444444444444, \"#bd3786\"], [0.5555555555555556, \"#d8576b\"], [0.6666666666666666, \"#ed7953\"], [0.7777777777777778, \"#fb9f3a\"], [0.8888888888888888, \"#fdca26\"], [1.0, \"#f0f921\"]], \"sequentialminus\": [[0.0, \"#0d0887\"], [0.1111111111111111, \"#46039f\"], [0.2222222222222222, \"#7201a8\"], [0.3333333333333333, \"#9c179e\"], [0.4444444444444444, \"#bd3786\"], [0.5555555555555556, \"#d8576b\"], [0.6666666666666666, \"#ed7953\"], [0.7777777777777778, \"#fb9f3a\"], [0.8888888888888888, \"#fdca26\"], [1.0, \"#f0f921\"]]}, \"colorway\": [\"#636efa\", \"#EF553B\", \"#00cc96\", \"#ab63fa\", \"#FFA15A\", \"#19d3f3\", \"#FF6692\", \"#B6E880\", \"#FF97FF\", \"#FECB52\"], \"font\": {\"color\": \"#2a3f5f\"}, \"geo\": {\"bgcolor\": \"white\", \"lakecolor\": \"white\", \"landcolor\": \"#E5ECF6\", \"showlakes\": true, \"showland\": true, \"subunitcolor\": \"white\"}, \"hoverlabel\": {\"align\": \"left\"}, \"hovermode\": \"closest\", \"mapbox\": {\"style\": \"light\"}, \"paper_bgcolor\": \"white\", \"plot_bgcolor\": \"#E5ECF6\", \"polar\": {\"angularaxis\": {\"gridcolor\": \"white\", \"linecolor\": \"white\", \"ticks\": \"\"}, \"bgcolor\": \"#E5ECF6\", \"radialaxis\": {\"gridcolor\": \"white\", \"linecolor\": \"white\", \"ticks\": \"\"}}, \"scene\": {\"xaxis\": {\"backgroundcolor\": \"#E5ECF6\", \"gridcolor\": \"white\", \"gridwidth\": 2, \"linecolor\": \"white\", \"showbackground\": true, \"ticks\": \"\", \"zerolinecolor\": \"white\"}, \"yaxis\": {\"backgroundcolor\": \"#E5ECF6\", \"gridcolor\": \"white\", \"gridwidth\": 2, \"linecolor\": \"white\", \"showbackground\": true, \"ticks\": \"\", \"zerolinecolor\": \"white\"}, \"zaxis\": {\"backgroundcolor\": \"#E5ECF6\", \"gridcolor\": \"white\", \"gridwidth\": 2, \"linecolor\": \"white\", \"showbackground\": true, \"ticks\": \"\", \"zerolinecolor\": \"white\"}}, \"shapedefaults\": {\"line\": {\"color\": \"#2a3f5f\"}}, \"ternary\": {\"aaxis\": {\"gridcolor\": \"white\", \"linecolor\": \"white\", \"ticks\": \"\"}, \"baxis\": {\"gridcolor\": \"white\", \"linecolor\": \"white\", \"ticks\": \"\"}, \"bgcolor\": \"#E5ECF6\", \"caxis\": {\"gridcolor\": \"white\", \"linecolor\": \"white\", \"ticks\": \"\"}}, \"title\": {\"x\": 0.05}, \"xaxis\": {\"automargin\": true, \"gridcolor\": \"white\", \"linecolor\": \"white\", \"ticks\": \"\", \"zerolinecolor\": \"white\", \"zerolinewidth\": 2}, \"yaxis\": {\"automargin\": true, \"gridcolor\": \"white\", \"linecolor\": \"white\", \"ticks\": \"\", \"zerolinecolor\": \"white\", \"zerolinewidth\": 2}}}, \"title\": {\"text\": \"Top 10 Books With Highest Average Rating\"}},\n",
       "                        {\"responsive\": true}\n",
       "                    ).then(function(){\n",
       "                            \n",
       "var gd = document.getElementById('4d25339d-204a-4311-9880-2cbf9da00b77');\n",
       "var x = new MutationObserver(function (mutations, observer) {{\n",
       "        var display = window.getComputedStyle(gd).display;\n",
       "        if (!display || display === 'none') {{\n",
       "            console.log([gd, 'removed!']);\n",
       "            Plotly.purge(gd);\n",
       "            observer.disconnect();\n",
       "        }}\n",
       "}});\n",
       "\n",
       "// Listen for the removal of the full notebook cells\n",
       "var notebookContainer = gd.closest('#notebook-container');\n",
       "if (notebookContainer) {{\n",
       "    x.observe(notebookContainer, {childList: true});\n",
       "}}\n",
       "\n",
       "// Listen for the clearing of the current output cell\n",
       "var outputEl = gd.closest('.output');\n",
       "if (outputEl) {{\n",
       "    x.observe(outputEl, {childList: true});\n",
       "}}\n",
       "\n",
       "                        })\n",
       "                };\n",
       "                });\n",
       "            </script>\n",
       "        </div>"
      ]
     },
     "metadata": {},
     "output_type": "display_data"
    },
    {
     "data": {
      "application/vnd.plotly.v1+json": {
       "config": {
        "linkText": "Export to plot.ly",
        "plotlyServerURL": "https://plot.ly",
        "showLink": false
       },
       "data": [
        {
         "labels": [
          "3.5 and less",
          "4.5-3.5",
          "4.5-5.0"
         ],
         "type": "pie",
         "values": [
          8,
          77,
          3
         ]
        }
       ],
       "layout": {
        "template": {
         "data": {
          "bar": [
           {
            "error_x": {
             "color": "#2a3f5f"
            },
            "error_y": {
             "color": "#2a3f5f"
            },
            "marker": {
             "line": {
              "color": "#E5ECF6",
              "width": 0.5
             }
            },
            "type": "bar"
           }
          ],
          "barpolar": [
           {
            "marker": {
             "line": {
              "color": "#E5ECF6",
              "width": 0.5
             }
            },
            "type": "barpolar"
           }
          ],
          "carpet": [
           {
            "aaxis": {
             "endlinecolor": "#2a3f5f",
             "gridcolor": "white",
             "linecolor": "white",
             "minorgridcolor": "white",
             "startlinecolor": "#2a3f5f"
            },
            "baxis": {
             "endlinecolor": "#2a3f5f",
             "gridcolor": "white",
             "linecolor": "white",
             "minorgridcolor": "white",
             "startlinecolor": "#2a3f5f"
            },
            "type": "carpet"
           }
          ],
          "choropleth": [
           {
            "colorbar": {
             "outlinewidth": 0,
             "ticks": ""
            },
            "type": "choropleth"
           }
          ],
          "contour": [
           {
            "colorbar": {
             "outlinewidth": 0,
             "ticks": ""
            },
            "colorscale": [
             [
              0,
              "#0d0887"
             ],
             [
              0.1111111111111111,
              "#46039f"
             ],
             [
              0.2222222222222222,
              "#7201a8"
             ],
             [
              0.3333333333333333,
              "#9c179e"
             ],
             [
              0.4444444444444444,
              "#bd3786"
             ],
             [
              0.5555555555555556,
              "#d8576b"
             ],
             [
              0.6666666666666666,
              "#ed7953"
             ],
             [
              0.7777777777777778,
              "#fb9f3a"
             ],
             [
              0.8888888888888888,
              "#fdca26"
             ],
             [
              1,
              "#f0f921"
             ]
            ],
            "type": "contour"
           }
          ],
          "contourcarpet": [
           {
            "colorbar": {
             "outlinewidth": 0,
             "ticks": ""
            },
            "type": "contourcarpet"
           }
          ],
          "heatmap": [
           {
            "colorbar": {
             "outlinewidth": 0,
             "ticks": ""
            },
            "colorscale": [
             [
              0,
              "#0d0887"
             ],
             [
              0.1111111111111111,
              "#46039f"
             ],
             [
              0.2222222222222222,
              "#7201a8"
             ],
             [
              0.3333333333333333,
              "#9c179e"
             ],
             [
              0.4444444444444444,
              "#bd3786"
             ],
             [
              0.5555555555555556,
              "#d8576b"
             ],
             [
              0.6666666666666666,
              "#ed7953"
             ],
             [
              0.7777777777777778,
              "#fb9f3a"
             ],
             [
              0.8888888888888888,
              "#fdca26"
             ],
             [
              1,
              "#f0f921"
             ]
            ],
            "type": "heatmap"
           }
          ],
          "heatmapgl": [
           {
            "colorbar": {
             "outlinewidth": 0,
             "ticks": ""
            },
            "colorscale": [
             [
              0,
              "#0d0887"
             ],
             [
              0.1111111111111111,
              "#46039f"
             ],
             [
              0.2222222222222222,
              "#7201a8"
             ],
             [
              0.3333333333333333,
              "#9c179e"
             ],
             [
              0.4444444444444444,
              "#bd3786"
             ],
             [
              0.5555555555555556,
              "#d8576b"
             ],
             [
              0.6666666666666666,
              "#ed7953"
             ],
             [
              0.7777777777777778,
              "#fb9f3a"
             ],
             [
              0.8888888888888888,
              "#fdca26"
             ],
             [
              1,
              "#f0f921"
             ]
            ],
            "type": "heatmapgl"
           }
          ],
          "histogram": [
           {
            "marker": {
             "colorbar": {
              "outlinewidth": 0,
              "ticks": ""
             }
            },
            "type": "histogram"
           }
          ],
          "histogram2d": [
           {
            "colorbar": {
             "outlinewidth": 0,
             "ticks": ""
            },
            "colorscale": [
             [
              0,
              "#0d0887"
             ],
             [
              0.1111111111111111,
              "#46039f"
             ],
             [
              0.2222222222222222,
              "#7201a8"
             ],
             [
              0.3333333333333333,
              "#9c179e"
             ],
             [
              0.4444444444444444,
              "#bd3786"
             ],
             [
              0.5555555555555556,
              "#d8576b"
             ],
             [
              0.6666666666666666,
              "#ed7953"
             ],
             [
              0.7777777777777778,
              "#fb9f3a"
             ],
             [
              0.8888888888888888,
              "#fdca26"
             ],
             [
              1,
              "#f0f921"
             ]
            ],
            "type": "histogram2d"
           }
          ],
          "histogram2dcontour": [
           {
            "colorbar": {
             "outlinewidth": 0,
             "ticks": ""
            },
            "colorscale": [
             [
              0,
              "#0d0887"
             ],
             [
              0.1111111111111111,
              "#46039f"
             ],
             [
              0.2222222222222222,
              "#7201a8"
             ],
             [
              0.3333333333333333,
              "#9c179e"
             ],
             [
              0.4444444444444444,
              "#bd3786"
             ],
             [
              0.5555555555555556,
              "#d8576b"
             ],
             [
              0.6666666666666666,
              "#ed7953"
             ],
             [
              0.7777777777777778,
              "#fb9f3a"
             ],
             [
              0.8888888888888888,
              "#fdca26"
             ],
             [
              1,
              "#f0f921"
             ]
            ],
            "type": "histogram2dcontour"
           }
          ],
          "mesh3d": [
           {
            "colorbar": {
             "outlinewidth": 0,
             "ticks": ""
            },
            "type": "mesh3d"
           }
          ],
          "parcoords": [
           {
            "line": {
             "colorbar": {
              "outlinewidth": 0,
              "ticks": ""
             }
            },
            "type": "parcoords"
           }
          ],
          "scatter": [
           {
            "marker": {
             "colorbar": {
              "outlinewidth": 0,
              "ticks": ""
             }
            },
            "type": "scatter"
           }
          ],
          "scatter3d": [
           {
            "line": {
             "colorbar": {
              "outlinewidth": 0,
              "ticks": ""
             }
            },
            "marker": {
             "colorbar": {
              "outlinewidth": 0,
              "ticks": ""
             }
            },
            "type": "scatter3d"
           }
          ],
          "scattercarpet": [
           {
            "marker": {
             "colorbar": {
              "outlinewidth": 0,
              "ticks": ""
             }
            },
            "type": "scattercarpet"
           }
          ],
          "scattergeo": [
           {
            "marker": {
             "colorbar": {
              "outlinewidth": 0,
              "ticks": ""
             }
            },
            "type": "scattergeo"
           }
          ],
          "scattergl": [
           {
            "marker": {
             "colorbar": {
              "outlinewidth": 0,
              "ticks": ""
             }
            },
            "type": "scattergl"
           }
          ],
          "scattermapbox": [
           {
            "marker": {
             "colorbar": {
              "outlinewidth": 0,
              "ticks": ""
             }
            },
            "type": "scattermapbox"
           }
          ],
          "scatterpolar": [
           {
            "marker": {
             "colorbar": {
              "outlinewidth": 0,
              "ticks": ""
             }
            },
            "type": "scatterpolar"
           }
          ],
          "scatterpolargl": [
           {
            "marker": {
             "colorbar": {
              "outlinewidth": 0,
              "ticks": ""
             }
            },
            "type": "scatterpolargl"
           }
          ],
          "scatterternary": [
           {
            "marker": {
             "colorbar": {
              "outlinewidth": 0,
              "ticks": ""
             }
            },
            "type": "scatterternary"
           }
          ],
          "surface": [
           {
            "colorbar": {
             "outlinewidth": 0,
             "ticks": ""
            },
            "colorscale": [
             [
              0,
              "#0d0887"
             ],
             [
              0.1111111111111111,
              "#46039f"
             ],
             [
              0.2222222222222222,
              "#7201a8"
             ],
             [
              0.3333333333333333,
              "#9c179e"
             ],
             [
              0.4444444444444444,
              "#bd3786"
             ],
             [
              0.5555555555555556,
              "#d8576b"
             ],
             [
              0.6666666666666666,
              "#ed7953"
             ],
             [
              0.7777777777777778,
              "#fb9f3a"
             ],
             [
              0.8888888888888888,
              "#fdca26"
             ],
             [
              1,
              "#f0f921"
             ]
            ],
            "type": "surface"
           }
          ],
          "table": [
           {
            "cells": {
             "fill": {
              "color": "#EBF0F8"
             },
             "line": {
              "color": "white"
             }
            },
            "header": {
             "fill": {
              "color": "#C8D4E3"
             },
             "line": {
              "color": "white"
             }
            },
            "type": "table"
           }
          ]
         },
         "layout": {
          "annotationdefaults": {
           "arrowcolor": "#2a3f5f",
           "arrowhead": 0,
           "arrowwidth": 1
          },
          "colorscale": {
           "diverging": [
            [
             0,
             "#8e0152"
            ],
            [
             0.1,
             "#c51b7d"
            ],
            [
             0.2,
             "#de77ae"
            ],
            [
             0.3,
             "#f1b6da"
            ],
            [
             0.4,
             "#fde0ef"
            ],
            [
             0.5,
             "#f7f7f7"
            ],
            [
             0.6,
             "#e6f5d0"
            ],
            [
             0.7,
             "#b8e186"
            ],
            [
             0.8,
             "#7fbc41"
            ],
            [
             0.9,
             "#4d9221"
            ],
            [
             1,
             "#276419"
            ]
           ],
           "sequential": [
            [
             0,
             "#0d0887"
            ],
            [
             0.1111111111111111,
             "#46039f"
            ],
            [
             0.2222222222222222,
             "#7201a8"
            ],
            [
             0.3333333333333333,
             "#9c179e"
            ],
            [
             0.4444444444444444,
             "#bd3786"
            ],
            [
             0.5555555555555556,
             "#d8576b"
            ],
            [
             0.6666666666666666,
             "#ed7953"
            ],
            [
             0.7777777777777778,
             "#fb9f3a"
            ],
            [
             0.8888888888888888,
             "#fdca26"
            ],
            [
             1,
             "#f0f921"
            ]
           ],
           "sequentialminus": [
            [
             0,
             "#0d0887"
            ],
            [
             0.1111111111111111,
             "#46039f"
            ],
            [
             0.2222222222222222,
             "#7201a8"
            ],
            [
             0.3333333333333333,
             "#9c179e"
            ],
            [
             0.4444444444444444,
             "#bd3786"
            ],
            [
             0.5555555555555556,
             "#d8576b"
            ],
            [
             0.6666666666666666,
             "#ed7953"
            ],
            [
             0.7777777777777778,
             "#fb9f3a"
            ],
            [
             0.8888888888888888,
             "#fdca26"
            ],
            [
             1,
             "#f0f921"
            ]
           ]
          },
          "colorway": [
           "#636efa",
           "#EF553B",
           "#00cc96",
           "#ab63fa",
           "#FFA15A",
           "#19d3f3",
           "#FF6692",
           "#B6E880",
           "#FF97FF",
           "#FECB52"
          ],
          "font": {
           "color": "#2a3f5f"
          },
          "geo": {
           "bgcolor": "white",
           "lakecolor": "white",
           "landcolor": "#E5ECF6",
           "showlakes": true,
           "showland": true,
           "subunitcolor": "white"
          },
          "hoverlabel": {
           "align": "left"
          },
          "hovermode": "closest",
          "mapbox": {
           "style": "light"
          },
          "paper_bgcolor": "white",
          "plot_bgcolor": "#E5ECF6",
          "polar": {
           "angularaxis": {
            "gridcolor": "white",
            "linecolor": "white",
            "ticks": ""
           },
           "bgcolor": "#E5ECF6",
           "radialaxis": {
            "gridcolor": "white",
            "linecolor": "white",
            "ticks": ""
           }
          },
          "scene": {
           "xaxis": {
            "backgroundcolor": "#E5ECF6",
            "gridcolor": "white",
            "gridwidth": 2,
            "linecolor": "white",
            "showbackground": true,
            "ticks": "",
            "zerolinecolor": "white"
           },
           "yaxis": {
            "backgroundcolor": "#E5ECF6",
            "gridcolor": "white",
            "gridwidth": 2,
            "linecolor": "white",
            "showbackground": true,
            "ticks": "",
            "zerolinecolor": "white"
           },
           "zaxis": {
            "backgroundcolor": "#E5ECF6",
            "gridcolor": "white",
            "gridwidth": 2,
            "linecolor": "white",
            "showbackground": true,
            "ticks": "",
            "zerolinecolor": "white"
           }
          },
          "shapedefaults": {
           "line": {
            "color": "#2a3f5f"
           }
          },
          "ternary": {
           "aaxis": {
            "gridcolor": "white",
            "linecolor": "white",
            "ticks": ""
           },
           "baxis": {
            "gridcolor": "white",
            "linecolor": "white",
            "ticks": ""
           },
           "bgcolor": "#E5ECF6",
           "caxis": {
            "gridcolor": "white",
            "linecolor": "white",
            "ticks": ""
           }
          },
          "title": {
           "x": 0.05
          },
          "xaxis": {
           "automargin": true,
           "gridcolor": "white",
           "linecolor": "white",
           "ticks": "",
           "zerolinecolor": "white",
           "zerolinewidth": 2
          },
          "yaxis": {
           "automargin": true,
           "gridcolor": "white",
           "linecolor": "white",
           "ticks": "",
           "zerolinecolor": "white",
           "zerolinewidth": 2
          }
         }
        },
        "title": {
         "text": "Percantage of Books under Each Rating Category"
        }
       }
      },
      "text/html": [
       "<div>\n",
       "        \n",
       "        \n",
       "            <div id=\"79481a97-03a2-4edb-9259-f6d7762590bb\" class=\"plotly-graph-div\" style=\"height:525px; width:100%;\"></div>\n",
       "            <script type=\"text/javascript\">\n",
       "                require([\"plotly\"], function(Plotly) {\n",
       "                    window.PLOTLYENV=window.PLOTLYENV || {};\n",
       "                    \n",
       "                if (document.getElementById(\"79481a97-03a2-4edb-9259-f6d7762590bb\")) {\n",
       "                    Plotly.newPlot(\n",
       "                        '79481a97-03a2-4edb-9259-f6d7762590bb',\n",
       "                        [{\"labels\": [\"3.5 and less\", \"4.5-3.5\", \"4.5-5.0\"], \"type\": \"pie\", \"values\": [8, 77, 3]}],\n",
       "                        {\"template\": {\"data\": {\"bar\": [{\"error_x\": {\"color\": \"#2a3f5f\"}, \"error_y\": {\"color\": \"#2a3f5f\"}, \"marker\": {\"line\": {\"color\": \"#E5ECF6\", \"width\": 0.5}}, \"type\": \"bar\"}], \"barpolar\": [{\"marker\": {\"line\": {\"color\": \"#E5ECF6\", \"width\": 0.5}}, \"type\": \"barpolar\"}], \"carpet\": [{\"aaxis\": {\"endlinecolor\": \"#2a3f5f\", \"gridcolor\": \"white\", \"linecolor\": \"white\", \"minorgridcolor\": \"white\", \"startlinecolor\": \"#2a3f5f\"}, \"baxis\": {\"endlinecolor\": \"#2a3f5f\", \"gridcolor\": \"white\", \"linecolor\": \"white\", \"minorgridcolor\": \"white\", \"startlinecolor\": \"#2a3f5f\"}, \"type\": \"carpet\"}], \"choropleth\": [{\"colorbar\": {\"outlinewidth\": 0, \"ticks\": \"\"}, \"type\": \"choropleth\"}], \"contour\": [{\"colorbar\": {\"outlinewidth\": 0, \"ticks\": \"\"}, \"colorscale\": [[0.0, \"#0d0887\"], [0.1111111111111111, \"#46039f\"], [0.2222222222222222, \"#7201a8\"], [0.3333333333333333, \"#9c179e\"], [0.4444444444444444, \"#bd3786\"], [0.5555555555555556, \"#d8576b\"], [0.6666666666666666, \"#ed7953\"], [0.7777777777777778, \"#fb9f3a\"], [0.8888888888888888, \"#fdca26\"], [1.0, \"#f0f921\"]], \"type\": \"contour\"}], \"contourcarpet\": [{\"colorbar\": {\"outlinewidth\": 0, \"ticks\": \"\"}, \"type\": \"contourcarpet\"}], \"heatmap\": [{\"colorbar\": {\"outlinewidth\": 0, \"ticks\": \"\"}, \"colorscale\": [[0.0, \"#0d0887\"], [0.1111111111111111, \"#46039f\"], [0.2222222222222222, \"#7201a8\"], [0.3333333333333333, \"#9c179e\"], [0.4444444444444444, \"#bd3786\"], [0.5555555555555556, \"#d8576b\"], [0.6666666666666666, \"#ed7953\"], [0.7777777777777778, \"#fb9f3a\"], [0.8888888888888888, \"#fdca26\"], [1.0, \"#f0f921\"]], \"type\": \"heatmap\"}], \"heatmapgl\": [{\"colorbar\": {\"outlinewidth\": 0, \"ticks\": \"\"}, \"colorscale\": [[0.0, \"#0d0887\"], [0.1111111111111111, \"#46039f\"], [0.2222222222222222, \"#7201a8\"], [0.3333333333333333, \"#9c179e\"], [0.4444444444444444, \"#bd3786\"], [0.5555555555555556, \"#d8576b\"], [0.6666666666666666, \"#ed7953\"], [0.7777777777777778, \"#fb9f3a\"], [0.8888888888888888, \"#fdca26\"], [1.0, \"#f0f921\"]], \"type\": \"heatmapgl\"}], \"histogram\": [{\"marker\": {\"colorbar\": {\"outlinewidth\": 0, \"ticks\": \"\"}}, \"type\": \"histogram\"}], \"histogram2d\": [{\"colorbar\": {\"outlinewidth\": 0, \"ticks\": \"\"}, \"colorscale\": [[0.0, \"#0d0887\"], [0.1111111111111111, \"#46039f\"], [0.2222222222222222, \"#7201a8\"], [0.3333333333333333, \"#9c179e\"], [0.4444444444444444, \"#bd3786\"], [0.5555555555555556, \"#d8576b\"], [0.6666666666666666, \"#ed7953\"], [0.7777777777777778, \"#fb9f3a\"], [0.8888888888888888, \"#fdca26\"], [1.0, \"#f0f921\"]], \"type\": \"histogram2d\"}], \"histogram2dcontour\": [{\"colorbar\": {\"outlinewidth\": 0, \"ticks\": \"\"}, \"colorscale\": [[0.0, \"#0d0887\"], [0.1111111111111111, \"#46039f\"], [0.2222222222222222, \"#7201a8\"], [0.3333333333333333, \"#9c179e\"], [0.4444444444444444, \"#bd3786\"], [0.5555555555555556, \"#d8576b\"], [0.6666666666666666, \"#ed7953\"], [0.7777777777777778, \"#fb9f3a\"], [0.8888888888888888, \"#fdca26\"], [1.0, \"#f0f921\"]], \"type\": \"histogram2dcontour\"}], \"mesh3d\": [{\"colorbar\": {\"outlinewidth\": 0, \"ticks\": \"\"}, \"type\": \"mesh3d\"}], \"parcoords\": [{\"line\": {\"colorbar\": {\"outlinewidth\": 0, \"ticks\": \"\"}}, \"type\": \"parcoords\"}], \"scatter\": [{\"marker\": {\"colorbar\": {\"outlinewidth\": 0, \"ticks\": \"\"}}, \"type\": \"scatter\"}], \"scatter3d\": [{\"line\": {\"colorbar\": {\"outlinewidth\": 0, \"ticks\": \"\"}}, \"marker\": {\"colorbar\": {\"outlinewidth\": 0, \"ticks\": \"\"}}, \"type\": \"scatter3d\"}], \"scattercarpet\": [{\"marker\": {\"colorbar\": {\"outlinewidth\": 0, \"ticks\": \"\"}}, \"type\": \"scattercarpet\"}], \"scattergeo\": [{\"marker\": {\"colorbar\": {\"outlinewidth\": 0, \"ticks\": \"\"}}, \"type\": \"scattergeo\"}], \"scattergl\": [{\"marker\": {\"colorbar\": {\"outlinewidth\": 0, \"ticks\": \"\"}}, \"type\": \"scattergl\"}], \"scattermapbox\": [{\"marker\": {\"colorbar\": {\"outlinewidth\": 0, \"ticks\": \"\"}}, \"type\": \"scattermapbox\"}], \"scatterpolar\": [{\"marker\": {\"colorbar\": {\"outlinewidth\": 0, \"ticks\": \"\"}}, \"type\": \"scatterpolar\"}], \"scatterpolargl\": [{\"marker\": {\"colorbar\": {\"outlinewidth\": 0, \"ticks\": \"\"}}, \"type\": \"scatterpolargl\"}], \"scatterternary\": [{\"marker\": {\"colorbar\": {\"outlinewidth\": 0, \"ticks\": \"\"}}, \"type\": \"scatterternary\"}], \"surface\": [{\"colorbar\": {\"outlinewidth\": 0, \"ticks\": \"\"}, \"colorscale\": [[0.0, \"#0d0887\"], [0.1111111111111111, \"#46039f\"], [0.2222222222222222, \"#7201a8\"], [0.3333333333333333, \"#9c179e\"], [0.4444444444444444, \"#bd3786\"], [0.5555555555555556, \"#d8576b\"], [0.6666666666666666, \"#ed7953\"], [0.7777777777777778, \"#fb9f3a\"], [0.8888888888888888, \"#fdca26\"], [1.0, \"#f0f921\"]], \"type\": \"surface\"}], \"table\": [{\"cells\": {\"fill\": {\"color\": \"#EBF0F8\"}, \"line\": {\"color\": \"white\"}}, \"header\": {\"fill\": {\"color\": \"#C8D4E3\"}, \"line\": {\"color\": \"white\"}}, \"type\": \"table\"}]}, \"layout\": {\"annotationdefaults\": {\"arrowcolor\": \"#2a3f5f\", \"arrowhead\": 0, \"arrowwidth\": 1}, \"colorscale\": {\"diverging\": [[0, \"#8e0152\"], [0.1, \"#c51b7d\"], [0.2, \"#de77ae\"], [0.3, \"#f1b6da\"], [0.4, \"#fde0ef\"], [0.5, \"#f7f7f7\"], [0.6, \"#e6f5d0\"], [0.7, \"#b8e186\"], [0.8, \"#7fbc41\"], [0.9, \"#4d9221\"], [1, \"#276419\"]], \"sequential\": [[0.0, \"#0d0887\"], [0.1111111111111111, \"#46039f\"], [0.2222222222222222, \"#7201a8\"], [0.3333333333333333, \"#9c179e\"], [0.4444444444444444, \"#bd3786\"], [0.5555555555555556, \"#d8576b\"], [0.6666666666666666, \"#ed7953\"], [0.7777777777777778, \"#fb9f3a\"], [0.8888888888888888, \"#fdca26\"], [1.0, \"#f0f921\"]], \"sequentialminus\": [[0.0, \"#0d0887\"], [0.1111111111111111, \"#46039f\"], [0.2222222222222222, \"#7201a8\"], [0.3333333333333333, \"#9c179e\"], [0.4444444444444444, \"#bd3786\"], [0.5555555555555556, \"#d8576b\"], [0.6666666666666666, \"#ed7953\"], [0.7777777777777778, \"#fb9f3a\"], [0.8888888888888888, \"#fdca26\"], [1.0, \"#f0f921\"]]}, \"colorway\": [\"#636efa\", \"#EF553B\", \"#00cc96\", \"#ab63fa\", \"#FFA15A\", \"#19d3f3\", \"#FF6692\", \"#B6E880\", \"#FF97FF\", \"#FECB52\"], \"font\": {\"color\": \"#2a3f5f\"}, \"geo\": {\"bgcolor\": \"white\", \"lakecolor\": \"white\", \"landcolor\": \"#E5ECF6\", \"showlakes\": true, \"showland\": true, \"subunitcolor\": \"white\"}, \"hoverlabel\": {\"align\": \"left\"}, \"hovermode\": \"closest\", \"mapbox\": {\"style\": \"light\"}, \"paper_bgcolor\": \"white\", \"plot_bgcolor\": \"#E5ECF6\", \"polar\": {\"angularaxis\": {\"gridcolor\": \"white\", \"linecolor\": \"white\", \"ticks\": \"\"}, \"bgcolor\": \"#E5ECF6\", \"radialaxis\": {\"gridcolor\": \"white\", \"linecolor\": \"white\", \"ticks\": \"\"}}, \"scene\": {\"xaxis\": {\"backgroundcolor\": \"#E5ECF6\", \"gridcolor\": \"white\", \"gridwidth\": 2, \"linecolor\": \"white\", \"showbackground\": true, \"ticks\": \"\", \"zerolinecolor\": \"white\"}, \"yaxis\": {\"backgroundcolor\": \"#E5ECF6\", \"gridcolor\": \"white\", \"gridwidth\": 2, \"linecolor\": \"white\", \"showbackground\": true, \"ticks\": \"\", \"zerolinecolor\": \"white\"}, \"zaxis\": {\"backgroundcolor\": \"#E5ECF6\", \"gridcolor\": \"white\", \"gridwidth\": 2, \"linecolor\": \"white\", \"showbackground\": true, \"ticks\": \"\", \"zerolinecolor\": \"white\"}}, \"shapedefaults\": {\"line\": {\"color\": \"#2a3f5f\"}}, \"ternary\": {\"aaxis\": {\"gridcolor\": \"white\", \"linecolor\": \"white\", \"ticks\": \"\"}, \"baxis\": {\"gridcolor\": \"white\", \"linecolor\": \"white\", \"ticks\": \"\"}, \"bgcolor\": \"#E5ECF6\", \"caxis\": {\"gridcolor\": \"white\", \"linecolor\": \"white\", \"ticks\": \"\"}}, \"title\": {\"x\": 0.05}, \"xaxis\": {\"automargin\": true, \"gridcolor\": \"white\", \"linecolor\": \"white\", \"ticks\": \"\", \"zerolinecolor\": \"white\", \"zerolinewidth\": 2}, \"yaxis\": {\"automargin\": true, \"gridcolor\": \"white\", \"linecolor\": \"white\", \"ticks\": \"\", \"zerolinecolor\": \"white\", \"zerolinewidth\": 2}}}, \"title\": {\"text\": \"Percantage of Books under Each Rating Category\"}},\n",
       "                        {\"responsive\": true}\n",
       "                    ).then(function(){\n",
       "                            \n",
       "var gd = document.getElementById('79481a97-03a2-4edb-9259-f6d7762590bb');\n",
       "var x = new MutationObserver(function (mutations, observer) {{\n",
       "        var display = window.getComputedStyle(gd).display;\n",
       "        if (!display || display === 'none') {{\n",
       "            console.log([gd, 'removed!']);\n",
       "            Plotly.purge(gd);\n",
       "            observer.disconnect();\n",
       "        }}\n",
       "}});\n",
       "\n",
       "// Listen for the removal of the full notebook cells\n",
       "var notebookContainer = gd.closest('#notebook-container');\n",
       "if (notebookContainer) {{\n",
       "    x.observe(notebookContainer, {childList: true});\n",
       "}}\n",
       "\n",
       "// Listen for the clearing of the current output cell\n",
       "var outputEl = gd.closest('.output');\n",
       "if (outputEl) {{\n",
       "    x.observe(outputEl, {childList: true});\n",
       "}}\n",
       "\n",
       "                        })\n",
       "                };\n",
       "                });\n",
       "            </script>\n",
       "        </div>"
      ]
     },
     "metadata": {},
     "output_type": "display_data"
    },
    {
     "data": {
      "application/vnd.plotly.v1+json": {
       "config": {
        "linkText": "Export to plot.ly",
        "plotlyServerURL": "https://plot.ly",
        "showLink": false
       },
       "data": [
        {
         "name": "Page count",
         "text": [
          2.87,
          3.53,
          3.82,
          4.18,
          3.7,
          3.41,
          3.72,
          4.24,
          3.77,
          4.29,
          4.09,
          3.78,
          3.58,
          3.35,
          3.69,
          4.2,
          4.17,
          3.89,
          3.48,
          3.85,
          4.16,
          4.13
         ],
         "type": "bar",
         "x": [
          "Topics of Conversation",
          "Little Gods",
          "Seven Deadly Shadows",
          "Twenty",
          "Creatures",
          "A Good Man",
          "Blood Countess",
          "Interior Chinatown",
          "Run Me to Earth",
          "Cleanness",
          "Riot Baby",
          "The Seep",
          "The Companion",
          "Heart of Junk",
          "Braised Pork",
          "Lullabies for Suffering: Tales of Addiction Horror",
          "Shall We Dance?",
          "Imaginary Museums",
          "Sunnyside Plaza",
          "Parable of the Sower",
          "The Deep & Dark Blue",
          "The Lost Scroll of the Physician"
         ],
         "y": [
          224,
          288,
          288,
          240,
          256,
          224,
          293,
          288,
          272,
          240,
          176,
          216,
          3,
          256,
          240,
          255,
          288,
          128,
          208,
          272,
          256,
          200
         ]
        }
       ],
       "layout": {
        "template": {
         "data": {
          "bar": [
           {
            "error_x": {
             "color": "#2a3f5f"
            },
            "error_y": {
             "color": "#2a3f5f"
            },
            "marker": {
             "line": {
              "color": "#E5ECF6",
              "width": 0.5
             }
            },
            "type": "bar"
           }
          ],
          "barpolar": [
           {
            "marker": {
             "line": {
              "color": "#E5ECF6",
              "width": 0.5
             }
            },
            "type": "barpolar"
           }
          ],
          "carpet": [
           {
            "aaxis": {
             "endlinecolor": "#2a3f5f",
             "gridcolor": "white",
             "linecolor": "white",
             "minorgridcolor": "white",
             "startlinecolor": "#2a3f5f"
            },
            "baxis": {
             "endlinecolor": "#2a3f5f",
             "gridcolor": "white",
             "linecolor": "white",
             "minorgridcolor": "white",
             "startlinecolor": "#2a3f5f"
            },
            "type": "carpet"
           }
          ],
          "choropleth": [
           {
            "colorbar": {
             "outlinewidth": 0,
             "ticks": ""
            },
            "type": "choropleth"
           }
          ],
          "contour": [
           {
            "colorbar": {
             "outlinewidth": 0,
             "ticks": ""
            },
            "colorscale": [
             [
              0,
              "#0d0887"
             ],
             [
              0.1111111111111111,
              "#46039f"
             ],
             [
              0.2222222222222222,
              "#7201a8"
             ],
             [
              0.3333333333333333,
              "#9c179e"
             ],
             [
              0.4444444444444444,
              "#bd3786"
             ],
             [
              0.5555555555555556,
              "#d8576b"
             ],
             [
              0.6666666666666666,
              "#ed7953"
             ],
             [
              0.7777777777777778,
              "#fb9f3a"
             ],
             [
              0.8888888888888888,
              "#fdca26"
             ],
             [
              1,
              "#f0f921"
             ]
            ],
            "type": "contour"
           }
          ],
          "contourcarpet": [
           {
            "colorbar": {
             "outlinewidth": 0,
             "ticks": ""
            },
            "type": "contourcarpet"
           }
          ],
          "heatmap": [
           {
            "colorbar": {
             "outlinewidth": 0,
             "ticks": ""
            },
            "colorscale": [
             [
              0,
              "#0d0887"
             ],
             [
              0.1111111111111111,
              "#46039f"
             ],
             [
              0.2222222222222222,
              "#7201a8"
             ],
             [
              0.3333333333333333,
              "#9c179e"
             ],
             [
              0.4444444444444444,
              "#bd3786"
             ],
             [
              0.5555555555555556,
              "#d8576b"
             ],
             [
              0.6666666666666666,
              "#ed7953"
             ],
             [
              0.7777777777777778,
              "#fb9f3a"
             ],
             [
              0.8888888888888888,
              "#fdca26"
             ],
             [
              1,
              "#f0f921"
             ]
            ],
            "type": "heatmap"
           }
          ],
          "heatmapgl": [
           {
            "colorbar": {
             "outlinewidth": 0,
             "ticks": ""
            },
            "colorscale": [
             [
              0,
              "#0d0887"
             ],
             [
              0.1111111111111111,
              "#46039f"
             ],
             [
              0.2222222222222222,
              "#7201a8"
             ],
             [
              0.3333333333333333,
              "#9c179e"
             ],
             [
              0.4444444444444444,
              "#bd3786"
             ],
             [
              0.5555555555555556,
              "#d8576b"
             ],
             [
              0.6666666666666666,
              "#ed7953"
             ],
             [
              0.7777777777777778,
              "#fb9f3a"
             ],
             [
              0.8888888888888888,
              "#fdca26"
             ],
             [
              1,
              "#f0f921"
             ]
            ],
            "type": "heatmapgl"
           }
          ],
          "histogram": [
           {
            "marker": {
             "colorbar": {
              "outlinewidth": 0,
              "ticks": ""
             }
            },
            "type": "histogram"
           }
          ],
          "histogram2d": [
           {
            "colorbar": {
             "outlinewidth": 0,
             "ticks": ""
            },
            "colorscale": [
             [
              0,
              "#0d0887"
             ],
             [
              0.1111111111111111,
              "#46039f"
             ],
             [
              0.2222222222222222,
              "#7201a8"
             ],
             [
              0.3333333333333333,
              "#9c179e"
             ],
             [
              0.4444444444444444,
              "#bd3786"
             ],
             [
              0.5555555555555556,
              "#d8576b"
             ],
             [
              0.6666666666666666,
              "#ed7953"
             ],
             [
              0.7777777777777778,
              "#fb9f3a"
             ],
             [
              0.8888888888888888,
              "#fdca26"
             ],
             [
              1,
              "#f0f921"
             ]
            ],
            "type": "histogram2d"
           }
          ],
          "histogram2dcontour": [
           {
            "colorbar": {
             "outlinewidth": 0,
             "ticks": ""
            },
            "colorscale": [
             [
              0,
              "#0d0887"
             ],
             [
              0.1111111111111111,
              "#46039f"
             ],
             [
              0.2222222222222222,
              "#7201a8"
             ],
             [
              0.3333333333333333,
              "#9c179e"
             ],
             [
              0.4444444444444444,
              "#bd3786"
             ],
             [
              0.5555555555555556,
              "#d8576b"
             ],
             [
              0.6666666666666666,
              "#ed7953"
             ],
             [
              0.7777777777777778,
              "#fb9f3a"
             ],
             [
              0.8888888888888888,
              "#fdca26"
             ],
             [
              1,
              "#f0f921"
             ]
            ],
            "type": "histogram2dcontour"
           }
          ],
          "mesh3d": [
           {
            "colorbar": {
             "outlinewidth": 0,
             "ticks": ""
            },
            "type": "mesh3d"
           }
          ],
          "parcoords": [
           {
            "line": {
             "colorbar": {
              "outlinewidth": 0,
              "ticks": ""
             }
            },
            "type": "parcoords"
           }
          ],
          "scatter": [
           {
            "marker": {
             "colorbar": {
              "outlinewidth": 0,
              "ticks": ""
             }
            },
            "type": "scatter"
           }
          ],
          "scatter3d": [
           {
            "line": {
             "colorbar": {
              "outlinewidth": 0,
              "ticks": ""
             }
            },
            "marker": {
             "colorbar": {
              "outlinewidth": 0,
              "ticks": ""
             }
            },
            "type": "scatter3d"
           }
          ],
          "scattercarpet": [
           {
            "marker": {
             "colorbar": {
              "outlinewidth": 0,
              "ticks": ""
             }
            },
            "type": "scattercarpet"
           }
          ],
          "scattergeo": [
           {
            "marker": {
             "colorbar": {
              "outlinewidth": 0,
              "ticks": ""
             }
            },
            "type": "scattergeo"
           }
          ],
          "scattergl": [
           {
            "marker": {
             "colorbar": {
              "outlinewidth": 0,
              "ticks": ""
             }
            },
            "type": "scattergl"
           }
          ],
          "scattermapbox": [
           {
            "marker": {
             "colorbar": {
              "outlinewidth": 0,
              "ticks": ""
             }
            },
            "type": "scattermapbox"
           }
          ],
          "scatterpolar": [
           {
            "marker": {
             "colorbar": {
              "outlinewidth": 0,
              "ticks": ""
             }
            },
            "type": "scatterpolar"
           }
          ],
          "scatterpolargl": [
           {
            "marker": {
             "colorbar": {
              "outlinewidth": 0,
              "ticks": ""
             }
            },
            "type": "scatterpolargl"
           }
          ],
          "scatterternary": [
           {
            "marker": {
             "colorbar": {
              "outlinewidth": 0,
              "ticks": ""
             }
            },
            "type": "scatterternary"
           }
          ],
          "surface": [
           {
            "colorbar": {
             "outlinewidth": 0,
             "ticks": ""
            },
            "colorscale": [
             [
              0,
              "#0d0887"
             ],
             [
              0.1111111111111111,
              "#46039f"
             ],
             [
              0.2222222222222222,
              "#7201a8"
             ],
             [
              0.3333333333333333,
              "#9c179e"
             ],
             [
              0.4444444444444444,
              "#bd3786"
             ],
             [
              0.5555555555555556,
              "#d8576b"
             ],
             [
              0.6666666666666666,
              "#ed7953"
             ],
             [
              0.7777777777777778,
              "#fb9f3a"
             ],
             [
              0.8888888888888888,
              "#fdca26"
             ],
             [
              1,
              "#f0f921"
             ]
            ],
            "type": "surface"
           }
          ],
          "table": [
           {
            "cells": {
             "fill": {
              "color": "#EBF0F8"
             },
             "line": {
              "color": "white"
             }
            },
            "header": {
             "fill": {
              "color": "#C8D4E3"
             },
             "line": {
              "color": "white"
             }
            },
            "type": "table"
           }
          ]
         },
         "layout": {
          "annotationdefaults": {
           "arrowcolor": "#2a3f5f",
           "arrowhead": 0,
           "arrowwidth": 1
          },
          "colorscale": {
           "diverging": [
            [
             0,
             "#8e0152"
            ],
            [
             0.1,
             "#c51b7d"
            ],
            [
             0.2,
             "#de77ae"
            ],
            [
             0.3,
             "#f1b6da"
            ],
            [
             0.4,
             "#fde0ef"
            ],
            [
             0.5,
             "#f7f7f7"
            ],
            [
             0.6,
             "#e6f5d0"
            ],
            [
             0.7,
             "#b8e186"
            ],
            [
             0.8,
             "#7fbc41"
            ],
            [
             0.9,
             "#4d9221"
            ],
            [
             1,
             "#276419"
            ]
           ],
           "sequential": [
            [
             0,
             "#0d0887"
            ],
            [
             0.1111111111111111,
             "#46039f"
            ],
            [
             0.2222222222222222,
             "#7201a8"
            ],
            [
             0.3333333333333333,
             "#9c179e"
            ],
            [
             0.4444444444444444,
             "#bd3786"
            ],
            [
             0.5555555555555556,
             "#d8576b"
            ],
            [
             0.6666666666666666,
             "#ed7953"
            ],
            [
             0.7777777777777778,
             "#fb9f3a"
            ],
            [
             0.8888888888888888,
             "#fdca26"
            ],
            [
             1,
             "#f0f921"
            ]
           ],
           "sequentialminus": [
            [
             0,
             "#0d0887"
            ],
            [
             0.1111111111111111,
             "#46039f"
            ],
            [
             0.2222222222222222,
             "#7201a8"
            ],
            [
             0.3333333333333333,
             "#9c179e"
            ],
            [
             0.4444444444444444,
             "#bd3786"
            ],
            [
             0.5555555555555556,
             "#d8576b"
            ],
            [
             0.6666666666666666,
             "#ed7953"
            ],
            [
             0.7777777777777778,
             "#fb9f3a"
            ],
            [
             0.8888888888888888,
             "#fdca26"
            ],
            [
             1,
             "#f0f921"
            ]
           ]
          },
          "colorway": [
           "#636efa",
           "#EF553B",
           "#00cc96",
           "#ab63fa",
           "#FFA15A",
           "#19d3f3",
           "#FF6692",
           "#B6E880",
           "#FF97FF",
           "#FECB52"
          ],
          "font": {
           "color": "#2a3f5f"
          },
          "geo": {
           "bgcolor": "white",
           "lakecolor": "white",
           "landcolor": "#E5ECF6",
           "showlakes": true,
           "showland": true,
           "subunitcolor": "white"
          },
          "hoverlabel": {
           "align": "left"
          },
          "hovermode": "closest",
          "mapbox": {
           "style": "light"
          },
          "paper_bgcolor": "white",
          "plot_bgcolor": "#E5ECF6",
          "polar": {
           "angularaxis": {
            "gridcolor": "white",
            "linecolor": "white",
            "ticks": ""
           },
           "bgcolor": "#E5ECF6",
           "radialaxis": {
            "gridcolor": "white",
            "linecolor": "white",
            "ticks": ""
           }
          },
          "scene": {
           "xaxis": {
            "backgroundcolor": "#E5ECF6",
            "gridcolor": "white",
            "gridwidth": 2,
            "linecolor": "white",
            "showbackground": true,
            "ticks": "",
            "zerolinecolor": "white"
           },
           "yaxis": {
            "backgroundcolor": "#E5ECF6",
            "gridcolor": "white",
            "gridwidth": 2,
            "linecolor": "white",
            "showbackground": true,
            "ticks": "",
            "zerolinecolor": "white"
           },
           "zaxis": {
            "backgroundcolor": "#E5ECF6",
            "gridcolor": "white",
            "gridwidth": 2,
            "linecolor": "white",
            "showbackground": true,
            "ticks": "",
            "zerolinecolor": "white"
           }
          },
          "shapedefaults": {
           "line": {
            "color": "#2a3f5f"
           }
          },
          "ternary": {
           "aaxis": {
            "gridcolor": "white",
            "linecolor": "white",
            "ticks": ""
           },
           "baxis": {
            "gridcolor": "white",
            "linecolor": "white",
            "ticks": ""
           },
           "bgcolor": "#E5ECF6",
           "caxis": {
            "gridcolor": "white",
            "linecolor": "white",
            "ticks": ""
           }
          },
          "title": {
           "x": 0.05
          },
          "xaxis": {
           "automargin": true,
           "gridcolor": "white",
           "linecolor": "white",
           "ticks": "",
           "zerolinecolor": "white",
           "zerolinewidth": 2
          },
          "yaxis": {
           "automargin": true,
           "gridcolor": "white",
           "linecolor": "white",
           "ticks": "",
           "zerolinecolor": "white",
           "zerolinewidth": 2
          }
         }
        },
        "title": {
         "text": "Quick Read Books with less than 300 Pages"
        }
       }
      },
      "text/html": [
       "<div>\n",
       "        \n",
       "        \n",
       "            <div id=\"d492fdd5-aba0-4c0e-b7a5-3ed3a2339036\" class=\"plotly-graph-div\" style=\"height:525px; width:100%;\"></div>\n",
       "            <script type=\"text/javascript\">\n",
       "                require([\"plotly\"], function(Plotly) {\n",
       "                    window.PLOTLYENV=window.PLOTLYENV || {};\n",
       "                    \n",
       "                if (document.getElementById(\"d492fdd5-aba0-4c0e-b7a5-3ed3a2339036\")) {\n",
       "                    Plotly.newPlot(\n",
       "                        'd492fdd5-aba0-4c0e-b7a5-3ed3a2339036',\n",
       "                        [{\"name\": \"Page count\", \"text\": [2.87, 3.53, 3.82, 4.18, 3.7, 3.41, 3.72, 4.24, 3.77, 4.29, 4.09, 3.78, 3.58, 3.35, 3.69, 4.2, 4.17, 3.89, 3.48, 3.85, 4.16, 4.13], \"type\": \"bar\", \"x\": [\"Topics of Conversation\", \"Little Gods\", \"Seven Deadly Shadows\", \"Twenty\", \"Creatures\", \"A Good Man\", \"Blood Countess\", \"Interior Chinatown\", \"Run Me to Earth\", \"Cleanness\", \"Riot Baby\", \"The Seep\", \"The Companion\", \"Heart of Junk\", \"Braised Pork\", \"Lullabies for Suffering: Tales of Addiction Horror\", \"Shall We Dance?\", \"Imaginary Museums\", \"Sunnyside Plaza\", \"Parable of the Sower\", \"The Deep & Dark Blue\", \"The Lost Scroll of the Physician\"], \"y\": [224, 288, 288, 240, 256, 224, 293, 288, 272, 240, 176, 216, 3, 256, 240, 255, 288, 128, 208, 272, 256, 200]}],\n",
       "                        {\"template\": {\"data\": {\"bar\": [{\"error_x\": {\"color\": \"#2a3f5f\"}, \"error_y\": {\"color\": \"#2a3f5f\"}, \"marker\": {\"line\": {\"color\": \"#E5ECF6\", \"width\": 0.5}}, \"type\": \"bar\"}], \"barpolar\": [{\"marker\": {\"line\": {\"color\": \"#E5ECF6\", \"width\": 0.5}}, \"type\": \"barpolar\"}], \"carpet\": [{\"aaxis\": {\"endlinecolor\": \"#2a3f5f\", \"gridcolor\": \"white\", \"linecolor\": \"white\", \"minorgridcolor\": \"white\", \"startlinecolor\": \"#2a3f5f\"}, \"baxis\": {\"endlinecolor\": \"#2a3f5f\", \"gridcolor\": \"white\", \"linecolor\": \"white\", \"minorgridcolor\": \"white\", \"startlinecolor\": \"#2a3f5f\"}, \"type\": \"carpet\"}], \"choropleth\": [{\"colorbar\": {\"outlinewidth\": 0, \"ticks\": \"\"}, \"type\": \"choropleth\"}], \"contour\": [{\"colorbar\": {\"outlinewidth\": 0, \"ticks\": \"\"}, \"colorscale\": [[0.0, \"#0d0887\"], [0.1111111111111111, \"#46039f\"], [0.2222222222222222, \"#7201a8\"], [0.3333333333333333, \"#9c179e\"], [0.4444444444444444, \"#bd3786\"], [0.5555555555555556, \"#d8576b\"], [0.6666666666666666, \"#ed7953\"], [0.7777777777777778, \"#fb9f3a\"], [0.8888888888888888, \"#fdca26\"], [1.0, \"#f0f921\"]], \"type\": \"contour\"}], \"contourcarpet\": [{\"colorbar\": {\"outlinewidth\": 0, \"ticks\": \"\"}, \"type\": \"contourcarpet\"}], \"heatmap\": [{\"colorbar\": {\"outlinewidth\": 0, \"ticks\": \"\"}, \"colorscale\": [[0.0, \"#0d0887\"], [0.1111111111111111, \"#46039f\"], [0.2222222222222222, \"#7201a8\"], [0.3333333333333333, \"#9c179e\"], [0.4444444444444444, \"#bd3786\"], [0.5555555555555556, \"#d8576b\"], [0.6666666666666666, \"#ed7953\"], [0.7777777777777778, \"#fb9f3a\"], [0.8888888888888888, \"#fdca26\"], [1.0, \"#f0f921\"]], \"type\": \"heatmap\"}], \"heatmapgl\": [{\"colorbar\": {\"outlinewidth\": 0, \"ticks\": \"\"}, \"colorscale\": [[0.0, \"#0d0887\"], [0.1111111111111111, \"#46039f\"], [0.2222222222222222, \"#7201a8\"], [0.3333333333333333, \"#9c179e\"], [0.4444444444444444, \"#bd3786\"], [0.5555555555555556, \"#d8576b\"], [0.6666666666666666, \"#ed7953\"], [0.7777777777777778, \"#fb9f3a\"], [0.8888888888888888, \"#fdca26\"], [1.0, \"#f0f921\"]], \"type\": \"heatmapgl\"}], \"histogram\": [{\"marker\": {\"colorbar\": {\"outlinewidth\": 0, \"ticks\": \"\"}}, \"type\": \"histogram\"}], \"histogram2d\": [{\"colorbar\": {\"outlinewidth\": 0, \"ticks\": \"\"}, \"colorscale\": [[0.0, \"#0d0887\"], [0.1111111111111111, \"#46039f\"], [0.2222222222222222, \"#7201a8\"], [0.3333333333333333, \"#9c179e\"], [0.4444444444444444, \"#bd3786\"], [0.5555555555555556, \"#d8576b\"], [0.6666666666666666, \"#ed7953\"], [0.7777777777777778, \"#fb9f3a\"], [0.8888888888888888, \"#fdca26\"], [1.0, \"#f0f921\"]], \"type\": \"histogram2d\"}], \"histogram2dcontour\": [{\"colorbar\": {\"outlinewidth\": 0, \"ticks\": \"\"}, \"colorscale\": [[0.0, \"#0d0887\"], [0.1111111111111111, \"#46039f\"], [0.2222222222222222, \"#7201a8\"], [0.3333333333333333, \"#9c179e\"], [0.4444444444444444, \"#bd3786\"], [0.5555555555555556, \"#d8576b\"], [0.6666666666666666, \"#ed7953\"], [0.7777777777777778, \"#fb9f3a\"], [0.8888888888888888, \"#fdca26\"], [1.0, \"#f0f921\"]], \"type\": \"histogram2dcontour\"}], \"mesh3d\": [{\"colorbar\": {\"outlinewidth\": 0, \"ticks\": \"\"}, \"type\": \"mesh3d\"}], \"parcoords\": [{\"line\": {\"colorbar\": {\"outlinewidth\": 0, \"ticks\": \"\"}}, \"type\": \"parcoords\"}], \"scatter\": [{\"marker\": {\"colorbar\": {\"outlinewidth\": 0, \"ticks\": \"\"}}, \"type\": \"scatter\"}], \"scatter3d\": [{\"line\": {\"colorbar\": {\"outlinewidth\": 0, \"ticks\": \"\"}}, \"marker\": {\"colorbar\": {\"outlinewidth\": 0, \"ticks\": \"\"}}, \"type\": \"scatter3d\"}], \"scattercarpet\": [{\"marker\": {\"colorbar\": {\"outlinewidth\": 0, \"ticks\": \"\"}}, \"type\": \"scattercarpet\"}], \"scattergeo\": [{\"marker\": {\"colorbar\": {\"outlinewidth\": 0, \"ticks\": \"\"}}, \"type\": \"scattergeo\"}], \"scattergl\": [{\"marker\": {\"colorbar\": {\"outlinewidth\": 0, \"ticks\": \"\"}}, \"type\": \"scattergl\"}], \"scattermapbox\": [{\"marker\": {\"colorbar\": {\"outlinewidth\": 0, \"ticks\": \"\"}}, \"type\": \"scattermapbox\"}], \"scatterpolar\": [{\"marker\": {\"colorbar\": {\"outlinewidth\": 0, \"ticks\": \"\"}}, \"type\": \"scatterpolar\"}], \"scatterpolargl\": [{\"marker\": {\"colorbar\": {\"outlinewidth\": 0, \"ticks\": \"\"}}, \"type\": \"scatterpolargl\"}], \"scatterternary\": [{\"marker\": {\"colorbar\": {\"outlinewidth\": 0, \"ticks\": \"\"}}, \"type\": \"scatterternary\"}], \"surface\": [{\"colorbar\": {\"outlinewidth\": 0, \"ticks\": \"\"}, \"colorscale\": [[0.0, \"#0d0887\"], [0.1111111111111111, \"#46039f\"], [0.2222222222222222, \"#7201a8\"], [0.3333333333333333, \"#9c179e\"], [0.4444444444444444, \"#bd3786\"], [0.5555555555555556, \"#d8576b\"], [0.6666666666666666, \"#ed7953\"], [0.7777777777777778, \"#fb9f3a\"], [0.8888888888888888, \"#fdca26\"], [1.0, \"#f0f921\"]], \"type\": \"surface\"}], \"table\": [{\"cells\": {\"fill\": {\"color\": \"#EBF0F8\"}, \"line\": {\"color\": \"white\"}}, \"header\": {\"fill\": {\"color\": \"#C8D4E3\"}, \"line\": {\"color\": \"white\"}}, \"type\": \"table\"}]}, \"layout\": {\"annotationdefaults\": {\"arrowcolor\": \"#2a3f5f\", \"arrowhead\": 0, \"arrowwidth\": 1}, \"colorscale\": {\"diverging\": [[0, \"#8e0152\"], [0.1, \"#c51b7d\"], [0.2, \"#de77ae\"], [0.3, \"#f1b6da\"], [0.4, \"#fde0ef\"], [0.5, \"#f7f7f7\"], [0.6, \"#e6f5d0\"], [0.7, \"#b8e186\"], [0.8, \"#7fbc41\"], [0.9, \"#4d9221\"], [1, \"#276419\"]], \"sequential\": [[0.0, \"#0d0887\"], [0.1111111111111111, \"#46039f\"], [0.2222222222222222, \"#7201a8\"], [0.3333333333333333, \"#9c179e\"], [0.4444444444444444, \"#bd3786\"], [0.5555555555555556, \"#d8576b\"], [0.6666666666666666, \"#ed7953\"], [0.7777777777777778, \"#fb9f3a\"], [0.8888888888888888, \"#fdca26\"], [1.0, \"#f0f921\"]], \"sequentialminus\": [[0.0, \"#0d0887\"], [0.1111111111111111, \"#46039f\"], [0.2222222222222222, \"#7201a8\"], [0.3333333333333333, \"#9c179e\"], [0.4444444444444444, \"#bd3786\"], [0.5555555555555556, \"#d8576b\"], [0.6666666666666666, \"#ed7953\"], [0.7777777777777778, \"#fb9f3a\"], [0.8888888888888888, \"#fdca26\"], [1.0, \"#f0f921\"]]}, \"colorway\": [\"#636efa\", \"#EF553B\", \"#00cc96\", \"#ab63fa\", \"#FFA15A\", \"#19d3f3\", \"#FF6692\", \"#B6E880\", \"#FF97FF\", \"#FECB52\"], \"font\": {\"color\": \"#2a3f5f\"}, \"geo\": {\"bgcolor\": \"white\", \"lakecolor\": \"white\", \"landcolor\": \"#E5ECF6\", \"showlakes\": true, \"showland\": true, \"subunitcolor\": \"white\"}, \"hoverlabel\": {\"align\": \"left\"}, \"hovermode\": \"closest\", \"mapbox\": {\"style\": \"light\"}, \"paper_bgcolor\": \"white\", \"plot_bgcolor\": \"#E5ECF6\", \"polar\": {\"angularaxis\": {\"gridcolor\": \"white\", \"linecolor\": \"white\", \"ticks\": \"\"}, \"bgcolor\": \"#E5ECF6\", \"radialaxis\": {\"gridcolor\": \"white\", \"linecolor\": \"white\", \"ticks\": \"\"}}, \"scene\": {\"xaxis\": {\"backgroundcolor\": \"#E5ECF6\", \"gridcolor\": \"white\", \"gridwidth\": 2, \"linecolor\": \"white\", \"showbackground\": true, \"ticks\": \"\", \"zerolinecolor\": \"white\"}, \"yaxis\": {\"backgroundcolor\": \"#E5ECF6\", \"gridcolor\": \"white\", \"gridwidth\": 2, \"linecolor\": \"white\", \"showbackground\": true, \"ticks\": \"\", \"zerolinecolor\": \"white\"}, \"zaxis\": {\"backgroundcolor\": \"#E5ECF6\", \"gridcolor\": \"white\", \"gridwidth\": 2, \"linecolor\": \"white\", \"showbackground\": true, \"ticks\": \"\", \"zerolinecolor\": \"white\"}}, \"shapedefaults\": {\"line\": {\"color\": \"#2a3f5f\"}}, \"ternary\": {\"aaxis\": {\"gridcolor\": \"white\", \"linecolor\": \"white\", \"ticks\": \"\"}, \"baxis\": {\"gridcolor\": \"white\", \"linecolor\": \"white\", \"ticks\": \"\"}, \"bgcolor\": \"#E5ECF6\", \"caxis\": {\"gridcolor\": \"white\", \"linecolor\": \"white\", \"ticks\": \"\"}}, \"title\": {\"x\": 0.05}, \"xaxis\": {\"automargin\": true, \"gridcolor\": \"white\", \"linecolor\": \"white\", \"ticks\": \"\", \"zerolinecolor\": \"white\", \"zerolinewidth\": 2}, \"yaxis\": {\"automargin\": true, \"gridcolor\": \"white\", \"linecolor\": \"white\", \"ticks\": \"\", \"zerolinecolor\": \"white\", \"zerolinewidth\": 2}}}, \"title\": {\"text\": \"Quick Read Books with less than 300 Pages\"}},\n",
       "                        {\"responsive\": true}\n",
       "                    ).then(function(){\n",
       "                            \n",
       "var gd = document.getElementById('d492fdd5-aba0-4c0e-b7a5-3ed3a2339036');\n",
       "var x = new MutationObserver(function (mutations, observer) {{\n",
       "        var display = window.getComputedStyle(gd).display;\n",
       "        if (!display || display === 'none') {{\n",
       "            console.log([gd, 'removed!']);\n",
       "            Plotly.purge(gd);\n",
       "            observer.disconnect();\n",
       "        }}\n",
       "}});\n",
       "\n",
       "// Listen for the removal of the full notebook cells\n",
       "var notebookContainer = gd.closest('#notebook-container');\n",
       "if (notebookContainer) {{\n",
       "    x.observe(notebookContainer, {childList: true});\n",
       "}}\n",
       "\n",
       "// Listen for the clearing of the current output cell\n",
       "var outputEl = gd.closest('.output');\n",
       "if (outputEl) {{\n",
       "    x.observe(outputEl, {childList: true});\n",
       "}}\n",
       "\n",
       "                        })\n",
       "                };\n",
       "                });\n",
       "            </script>\n",
       "        </div>"
      ]
     },
     "metadata": {},
     "output_type": "display_data"
    },
    {
     "name": "stdout",
     "output_type": "stream",
     "text": [
      "-----Data analyse completed-----\n",
      "Enter the No of Links to be send in mail: 6\n",
      "sending email......\n",
      "email send\n"
     ]
    }
   ],
   "source": [
    "main()"
   ]
  },
  {
   "cell_type": "code",
   "execution_count": null,
   "metadata": {},
   "outputs": [],
   "source": []
  },
  {
   "cell_type": "code",
   "execution_count": null,
   "metadata": {},
   "outputs": [],
   "source": []
  },
  {
   "cell_type": "code",
   "execution_count": null,
   "metadata": {},
   "outputs": [],
   "source": []
  },
  {
   "cell_type": "code",
   "execution_count": null,
   "metadata": {},
   "outputs": [],
   "source": []
  },
  {
   "cell_type": "code",
   "execution_count": null,
   "metadata": {},
   "outputs": [],
   "source": []
  },
  {
   "cell_type": "code",
   "execution_count": null,
   "metadata": {},
   "outputs": [],
   "source": []
  },
  {
   "cell_type": "code",
   "execution_count": null,
   "metadata": {
    "scrolled": true
   },
   "outputs": [],
   "source": []
  },
  {
   "cell_type": "code",
   "execution_count": null,
   "metadata": {},
   "outputs": [],
   "source": []
  },
  {
   "cell_type": "code",
   "execution_count": null,
   "metadata": {},
   "outputs": [],
   "source": []
  }
 ],
 "metadata": {
  "kernelspec": {
   "display_name": "Python 3",
   "language": "python",
   "name": "python3"
  },
  "language_info": {
   "codemirror_mode": {
    "name": "ipython",
    "version": 3
   },
   "file_extension": ".py",
   "mimetype": "text/x-python",
   "name": "python",
   "nbconvert_exporter": "python",
   "pygments_lexer": "ipython3",
   "version": "3.7.4"
  }
 },
 "nbformat": 4,
 "nbformat_minor": 2
}
