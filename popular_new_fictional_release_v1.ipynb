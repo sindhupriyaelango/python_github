{
 "cells": [
  {
   "cell_type": "markdown",
   "metadata": {},
   "source": [
    "## Popular Fiction In The New Release"
   ]
  },
  {
   "cell_type": "markdown",
   "metadata": {},
   "source": [
    "Objective:\n",
    "   \n",
    "   Find the top fictional books for each month from the newly released section, based on the average rating given by readers. At the end of each month, i want to read newly released fictional book which has highest avg rating. I want to automate the process of searching the books with highest avg rating in goodreads and then get the links to order them from bookdepository in my mail.\n",
    "\n",
    "Websites uesd: www.goodreads.com, www.bookdepository.com\n",
    "\n",
    "How to solve the problem using python\n",
    "1. Get the data (booktitle,author,average rating,etc)from www.goodreads.com website and save it in a csv file to make data analysis. This is done using HTTP requests using python's request library and pulling data out of html files with BeautifulSoup library.\n",
    "\n",
    "\n",
    "2. Clean the data extracted from goodreads website. split the data into seperate columns if requires, check for null and NaN values.\n",
    "\n",
    "\n",
    "3. Analyse the data and identify the Top n books based on average rating. For the top n books show the no of ratings and reviews in visual representation with the help of plotting library plotly.\n",
    "\n",
    "\n",
    "4. Generate an eMail with will inculde corresponding bookdepository links (www.bookdepository.com) for each top n book for ordering\n",
    "\n",
    "\n",
    "Individual Project by Elango Sindhu Priya\n"
   ]
  },
  {
   "cell_type": "code",
   "execution_count": null,
   "metadata": {},
   "outputs": [],
   "source": [
    "#import the libraries"
   ]
  },
  {
   "cell_type": "code",
   "execution_count": 26,
   "metadata": {},
   "outputs": [],
   "source": [
    "import requests\n",
    "from bs4 import BeautifulSoup\n",
    "import datetime as dt\n",
    "from tqdm import tqdm as pb\n",
    "import pandas as pd\n",
    "\n",
    "import plotly.graph_objs as go\n",
    "from plotly.offline import download_plotlyjs, init_notebook_mode, plot, iplot\n",
    "\n",
    "import smtplib\n",
    "import os\n",
    "from email.mime.text import MIMEText\n",
    "from email.mime.image import MIMEImage\n",
    "from email.mime.multipart import MIMEMultipart"
   ]
  },
  {
   "cell_type": "code",
   "execution_count": 27,
   "metadata": {},
   "outputs": [
    {
     "data": {
      "text/html": [
       "        <script type=\"text/javascript\">\n",
       "        window.PlotlyConfig = {MathJaxConfig: 'local'};\n",
       "        if (window.MathJax) {MathJax.Hub.Config({SVG: {font: \"STIX-Web\"}});}\n",
       "        if (typeof require !== 'undefined') {\n",
       "        require.undef(\"plotly\");\n",
       "        requirejs.config({\n",
       "            paths: {\n",
       "                'plotly': ['https://cdn.plot.ly/plotly-latest.min']\n",
       "            }\n",
       "        });\n",
       "        require(['plotly'], function(Plotly) {\n",
       "            window._Plotly = Plotly;\n",
       "        });\n",
       "        }\n",
       "        </script>\n",
       "        "
      ]
     },
     "metadata": {},
     "output_type": "display_data"
    }
   ],
   "source": [
    "init_notebook_mode(connected=True)"
   ]
  },
  {
   "cell_type": "markdown",
   "metadata": {},
   "source": [
    "## 1. Data Extraction"
   ]
  },
  {
   "cell_type": "code",
   "execution_count": 28,
   "metadata": {},
   "outputs": [],
   "source": [
    "# func - send the HTTP request and use BeautifulSoup to pull out the data from response\n",
    "def get_soup(url, headers=None):\n",
    "    resp = requests.get(url, headers=headers)\n",
    "    data_html = resp.text\n",
    "    soup = BeautifulSoup(data_html)\n",
    "    return soup"
   ]
  },
  {
   "cell_type": "code",
   "execution_count": 4,
   "metadata": {},
   "outputs": [
    {
     "name": "stderr",
     "output_type": "stream",
     "text": [
      "100%|██████████| 321/321 [04:22<00:00,  1.22it/s]\n"
     ]
    }
   ],
   "source": [
    "# get the required data and save it into csv file\n",
    "url=\"https://www.goodreads.com/genres/new_releases/fiction\"\n",
    "\n",
    "last_month = (pd.Period(dt.datetime.now(), 'M') - 1).strftime('%b')\n",
    "\n",
    "rows= []\n",
    "soup = get_soup(url)   \n",
    "for tag_a in pb(soup.find_all(\"a\")):\n",
    "    book_link = str(tag_a.get(\"href\"))\n",
    "    if book_link.startswith(\"/book/show\"):\n",
    "        fullurl = \"https://www.goodreads.com\" + book_link\n",
    "        soup = get_soup(fullurl)\n",
    "        BookTitle = (soup.find(\"h1\", {\"id\": \"bookTitle\"})).text.strip()\n",
    "        AuthorName = (soup.find(\"span\", {\"itemprop\": \"name\"})).text\n",
    "        Avg_Rating = (soup.find(\"span\", {\"itemprop\": \"ratingValue\"})).text\n",
    "        Rating_Count = (soup.find(\"meta\", {\"itemprop\": \"ratingCount\"})).get(\"content\")\n",
    "        Review_count = (soup.find(\"meta\", {\"itemprop\": \"reviewCount\"})).get(\"content\")\n",
    "        desc = (soup.find(\"div\", {\"id\": \"details\"}))\n",
    "        if desc and len(desc.find_all(\"div\", {\"class\": \"row\"})) == 2:\n",
    "            desc_str= desc.find_all(\"div\", {\"class\": \"row\"})[1].text.strip()\n",
    "        row = (BookTitle,AuthorName,Avg_Rating,Rating_Count,Review_count,desc_str)\n",
    "        rows.append(row)\n",
    "df = pd.DataFrame(rows)\n",
    "\n",
    "columns = ['BookTitle','AuthorName','Avg_Rating','No_of_Rating','No_of_Review','Description']\n",
    "df.to_csv(f'GoodReads_NewRelease_Info_raw_{last_month}.csv', header=columns)"
   ]
  },
  {
   "cell_type": "markdown",
   "metadata": {},
   "source": [
    "## 2. Data Cleansing"
   ]
  },
  {
   "cell_type": "code",
   "execution_count": 29,
   "metadata": {},
   "outputs": [],
   "source": [
    "#open the dataset\n",
    "File_name = f\"GoodReads_NewRelease_Info_raw_{last_month}.csv\"\n",
    "df = pd.read_csv(File_name)"
   ]
  },
  {
   "cell_type": "code",
   "execution_count": 30,
   "metadata": {},
   "outputs": [
    {
     "data": {
      "text/html": [
       "<div>\n",
       "<style scoped>\n",
       "    .dataframe tbody tr th:only-of-type {\n",
       "        vertical-align: middle;\n",
       "    }\n",
       "\n",
       "    .dataframe tbody tr th {\n",
       "        vertical-align: top;\n",
       "    }\n",
       "\n",
       "    .dataframe thead th {\n",
       "        text-align: right;\n",
       "    }\n",
       "</style>\n",
       "<table border=\"1\" class=\"dataframe\">\n",
       "  <thead>\n",
       "    <tr style=\"text-align: right;\">\n",
       "      <th></th>\n",
       "      <th>Unnamed: 0</th>\n",
       "      <th>BookTitle</th>\n",
       "      <th>AuthorName</th>\n",
       "      <th>Avg_Rating</th>\n",
       "      <th>No_of_Rating</th>\n",
       "      <th>No_of_Review</th>\n",
       "      <th>Description</th>\n",
       "    </tr>\n",
       "  </thead>\n",
       "  <tbody>\n",
       "    <tr>\n",
       "      <td>0</td>\n",
       "      <td>0</td>\n",
       "      <td>Imaginary Friend</td>\n",
       "      <td>Stephen Chbosky</td>\n",
       "      <td>3.57</td>\n",
       "      <td>3330</td>\n",
       "      <td>1088</td>\n",
       "      <td>Published\\n        October 1st 2019\\n         ...</td>\n",
       "    </tr>\n",
       "    <tr>\n",
       "      <td>1</td>\n",
       "      <td>1</td>\n",
       "      <td>The Fountains of Silence</td>\n",
       "      <td>Ruta Sepetys</td>\n",
       "      <td>4.34</td>\n",
       "      <td>3239</td>\n",
       "      <td>914</td>\n",
       "      <td>Published\\n        October 1st 2019\\n         ...</td>\n",
       "    </tr>\n",
       "    <tr>\n",
       "      <td>2</td>\n",
       "      <td>2</td>\n",
       "      <td>Olive, Again</td>\n",
       "      <td>Elizabeth Strout</td>\n",
       "      <td>4.37</td>\n",
       "      <td>3895</td>\n",
       "      <td>915</td>\n",
       "      <td>Published\\n        October 15th 2019\\n        ...</td>\n",
       "    </tr>\n",
       "    <tr>\n",
       "      <td>3</td>\n",
       "      <td>3</td>\n",
       "      <td>Find Me</td>\n",
       "      <td>André Aciman</td>\n",
       "      <td>3.49</td>\n",
       "      <td>1956</td>\n",
       "      <td>452</td>\n",
       "      <td>Published\\n        October 29th 2019\\n        ...</td>\n",
       "    </tr>\n",
       "    <tr>\n",
       "      <td>4</td>\n",
       "      <td>4</td>\n",
       "      <td>The Library of the Unwritten</td>\n",
       "      <td>A.J. Hackwith</td>\n",
       "      <td>3.91</td>\n",
       "      <td>806</td>\n",
       "      <td>288</td>\n",
       "      <td>Published\\n        October 1st 2019\\n         ...</td>\n",
       "    </tr>\n",
       "    <tr>\n",
       "      <td>...</td>\n",
       "      <td>...</td>\n",
       "      <td>...</td>\n",
       "      <td>...</td>\n",
       "      <td>...</td>\n",
       "      <td>...</td>\n",
       "      <td>...</td>\n",
       "      <td>...</td>\n",
       "    </tr>\n",
       "    <tr>\n",
       "      <td>95</td>\n",
       "      <td>95</td>\n",
       "      <td>Things We Say in the Dark</td>\n",
       "      <td>Kirsty Logan</td>\n",
       "      <td>4.26</td>\n",
       "      <td>122</td>\n",
       "      <td>33</td>\n",
       "      <td>Published\\n        October 3rd 2019\\n         ...</td>\n",
       "    </tr>\n",
       "    <tr>\n",
       "      <td>96</td>\n",
       "      <td>96</td>\n",
       "      <td>The Weight of a Moment</td>\n",
       "      <td>Michael  Bowe</td>\n",
       "      <td>4.60</td>\n",
       "      <td>52</td>\n",
       "      <td>33</td>\n",
       "      <td>Published\\n        October 1st 2019\\n         ...</td>\n",
       "    </tr>\n",
       "    <tr>\n",
       "      <td>97</td>\n",
       "      <td>97</td>\n",
       "      <td>Bury the Lede</td>\n",
       "      <td>Gaby Dunn</td>\n",
       "      <td>3.47</td>\n",
       "      <td>265</td>\n",
       "      <td>118</td>\n",
       "      <td>Published\\n        October 8th 2019\\n         ...</td>\n",
       "    </tr>\n",
       "    <tr>\n",
       "      <td>98</td>\n",
       "      <td>98</td>\n",
       "      <td>The Testaments</td>\n",
       "      <td>Margaret Atwood</td>\n",
       "      <td>4.25</td>\n",
       "      <td>58250</td>\n",
       "      <td>7970</td>\n",
       "      <td>Published\\n        September 10th 2019\\n      ...</td>\n",
       "    </tr>\n",
       "    <tr>\n",
       "      <td>99</td>\n",
       "      <td>99</td>\n",
       "      <td>The Ten Thousand Doors of January</td>\n",
       "      <td>Alix E. Harrow</td>\n",
       "      <td>4.18</td>\n",
       "      <td>5319</td>\n",
       "      <td>1594</td>\n",
       "      <td>Published\\n        September 10th 2019\\n      ...</td>\n",
       "    </tr>\n",
       "  </tbody>\n",
       "</table>\n",
       "<p>100 rows × 7 columns</p>\n",
       "</div>"
      ],
      "text/plain": [
       "    Unnamed: 0                          BookTitle        AuthorName  \\\n",
       "0            0                   Imaginary Friend   Stephen Chbosky   \n",
       "1            1           The Fountains of Silence      Ruta Sepetys   \n",
       "2            2                       Olive, Again  Elizabeth Strout   \n",
       "3            3                            Find Me      André Aciman   \n",
       "4            4       The Library of the Unwritten     A.J. Hackwith   \n",
       "..         ...                                ...               ...   \n",
       "95          95          Things We Say in the Dark      Kirsty Logan   \n",
       "96          96             The Weight of a Moment     Michael  Bowe   \n",
       "97          97                      Bury the Lede         Gaby Dunn   \n",
       "98          98                     The Testaments   Margaret Atwood   \n",
       "99          99  The Ten Thousand Doors of January    Alix E. Harrow   \n",
       "\n",
       "    Avg_Rating  No_of_Rating  No_of_Review  \\\n",
       "0         3.57          3330          1088   \n",
       "1         4.34          3239           914   \n",
       "2         4.37          3895           915   \n",
       "3         3.49          1956           452   \n",
       "4         3.91           806           288   \n",
       "..         ...           ...           ...   \n",
       "95        4.26           122            33   \n",
       "96        4.60            52            33   \n",
       "97        3.47           265           118   \n",
       "98        4.25         58250          7970   \n",
       "99        4.18          5319          1594   \n",
       "\n",
       "                                          Description  \n",
       "0   Published\\n        October 1st 2019\\n         ...  \n",
       "1   Published\\n        October 1st 2019\\n         ...  \n",
       "2   Published\\n        October 15th 2019\\n        ...  \n",
       "3   Published\\n        October 29th 2019\\n        ...  \n",
       "4   Published\\n        October 1st 2019\\n         ...  \n",
       "..                                                ...  \n",
       "95  Published\\n        October 3rd 2019\\n         ...  \n",
       "96  Published\\n        October 1st 2019\\n         ...  \n",
       "97  Published\\n        October 8th 2019\\n         ...  \n",
       "98  Published\\n        September 10th 2019\\n      ...  \n",
       "99  Published\\n        September 10th 2019\\n      ...  \n",
       "\n",
       "[100 rows x 7 columns]"
      ]
     },
     "execution_count": 30,
     "metadata": {},
     "output_type": "execute_result"
    }
   ],
   "source": [
    "df\n",
    "#df.dtypes"
   ]
  },
  {
   "cell_type": "code",
   "execution_count": 31,
   "metadata": {},
   "outputs": [],
   "source": [
    "#to remove unnamed column\n",
    "df.columns = [\"tmp_col\"] + list(df.columns[1:])\n",
    "df.drop(columns=[\"tmp_col\"], inplace=True)"
   ]
  },
  {
   "cell_type": "code",
   "execution_count": 32,
   "metadata": {},
   "outputs": [
    {
     "data": {
      "text/plain": [
       "'Published\\n        October 1st 2019\\n         by Grand Central Publishing'"
      ]
     },
     "execution_count": 32,
     "metadata": {},
     "output_type": "execute_result"
    }
   ],
   "source": [
    "df['Description'].values[0]"
   ]
  },
  {
   "cell_type": "code",
   "execution_count": 33,
   "metadata": {},
   "outputs": [],
   "source": [
    "#split the Description column into Publication_Month,Publication_Year, Publication_Company using string split()\n",
    "desc_split = df['Description'].str.split(\"\\n\",expand = True) #set expand = True to split into two columns\n",
    "df[\"Publication_Date\"]= desc_split[1].str.strip()\n",
    "df[\"Publication_Company\"]= desc_split[2].str.strip()\n",
    "\n",
    "pcomp_split = df[\"Publication_Company\"].str.split(\"by\",n=1,expand = True) #n=1 max seperation in a string\n",
    "df[\"Publication_Company\"] = pcomp_split[1].str.strip()\n",
    "\n",
    "date_split = df[\"Publication_Date\"].str.split(\" \",expand = True) \n",
    "df['Publication_Month'] =  date_split[0].str.strip()\n",
    "df['Publication_Year'] =  date_split[2].str.strip()\n",
    "\n",
    "df.drop(columns =[\"Description\"], inplace = True) # drop the column\n",
    "df.drop(columns =[\"Publication_Date\"], inplace = True) # drop the column"
   ]
  },
  {
   "cell_type": "code",
   "execution_count": 34,
   "metadata": {},
   "outputs": [
    {
     "data": {
      "text/plain": [
       "array(['October', '2019', 'Grand Central Publishing'], dtype=object)"
      ]
     },
     "execution_count": 34,
     "metadata": {},
     "output_type": "execute_result"
    }
   ],
   "source": [
    "df[['Publication_Month','Publication_Year','Publication_Company']].values[0]"
   ]
  },
  {
   "cell_type": "code",
   "execution_count": 38,
   "metadata": {},
   "outputs": [
    {
     "data": {
      "text/plain": [
       "array(['October'], dtype=object)"
      ]
     },
     "execution_count": 38,
     "metadata": {},
     "output_type": "execute_result"
    }
   ],
   "source": [
    "df.Publication_Month.unique()"
   ]
  },
  {
   "cell_type": "code",
   "execution_count": 39,
   "metadata": {},
   "outputs": [
    {
     "data": {
      "text/plain": [
       "array(['2019'], dtype=object)"
      ]
     },
     "execution_count": 39,
     "metadata": {},
     "output_type": "execute_result"
    }
   ],
   "source": [
    "df.Publication_Year.unique()"
   ]
  },
  {
   "cell_type": "code",
   "execution_count": 37,
   "metadata": {},
   "outputs": [],
   "source": [
    "#Filter the dataset - to include only the data from October 2019\n",
    "#df.dtypes\n",
    "df = df[(df.Publication_Month == \"October\")&(df.Publication_Year == \"2019\")]"
   ]
  },
  {
   "cell_type": "code",
   "execution_count": 40,
   "metadata": {},
   "outputs": [
    {
     "data": {
      "text/plain": [
       "BookTitle              0\n",
       "AuthorName             0\n",
       "Avg_Rating             0\n",
       "No_of_Rating           0\n",
       "No_of_Review           0\n",
       "Publication_Company    0\n",
       "Publication_Month      0\n",
       "Publication_Year       0\n",
       "dtype: int64"
      ]
     },
     "execution_count": 40,
     "metadata": {},
     "output_type": "execute_result"
    }
   ],
   "source": [
    "#check for null/Nan values in dataframe\n",
    "df.isna().sum() #df.isnull().sum() #df.isna().sum()"
   ]
  },
  {
   "cell_type": "code",
   "execution_count": 41,
   "metadata": {},
   "outputs": [
    {
     "data": {
      "text/html": [
       "<div>\n",
       "<style scoped>\n",
       "    .dataframe tbody tr th:only-of-type {\n",
       "        vertical-align: middle;\n",
       "    }\n",
       "\n",
       "    .dataframe tbody tr th {\n",
       "        vertical-align: top;\n",
       "    }\n",
       "\n",
       "    .dataframe thead th {\n",
       "        text-align: right;\n",
       "    }\n",
       "</style>\n",
       "<table border=\"1\" class=\"dataframe\">\n",
       "  <thead>\n",
       "    <tr style=\"text-align: right;\">\n",
       "      <th></th>\n",
       "      <th>BookTitle</th>\n",
       "      <th>AuthorName</th>\n",
       "      <th>Avg_Rating</th>\n",
       "      <th>No_of_Rating</th>\n",
       "      <th>No_of_Review</th>\n",
       "      <th>Publication_Company</th>\n",
       "      <th>Publication_Month</th>\n",
       "      <th>Publication_Year</th>\n",
       "    </tr>\n",
       "  </thead>\n",
       "  <tbody>\n",
       "    <tr>\n",
       "      <td>0</td>\n",
       "      <td>Imaginary Friend</td>\n",
       "      <td>Stephen Chbosky</td>\n",
       "      <td>3.57</td>\n",
       "      <td>3330</td>\n",
       "      <td>1088</td>\n",
       "      <td>Grand Central Publishing</td>\n",
       "      <td>October</td>\n",
       "      <td>2019</td>\n",
       "    </tr>\n",
       "    <tr>\n",
       "      <td>1</td>\n",
       "      <td>The Fountains of Silence</td>\n",
       "      <td>Ruta Sepetys</td>\n",
       "      <td>4.34</td>\n",
       "      <td>3239</td>\n",
       "      <td>914</td>\n",
       "      <td>Philomel Books</td>\n",
       "      <td>October</td>\n",
       "      <td>2019</td>\n",
       "    </tr>\n",
       "    <tr>\n",
       "      <td>2</td>\n",
       "      <td>Olive, Again</td>\n",
       "      <td>Elizabeth Strout</td>\n",
       "      <td>4.37</td>\n",
       "      <td>3895</td>\n",
       "      <td>915</td>\n",
       "      <td>Random House</td>\n",
       "      <td>October</td>\n",
       "      <td>2019</td>\n",
       "    </tr>\n",
       "    <tr>\n",
       "      <td>3</td>\n",
       "      <td>Find Me</td>\n",
       "      <td>André Aciman</td>\n",
       "      <td>3.49</td>\n",
       "      <td>1956</td>\n",
       "      <td>452</td>\n",
       "      <td>Farrar, Straus and Giroux</td>\n",
       "      <td>October</td>\n",
       "      <td>2019</td>\n",
       "    </tr>\n",
       "    <tr>\n",
       "      <td>4</td>\n",
       "      <td>The Library of the Unwritten</td>\n",
       "      <td>A.J. Hackwith</td>\n",
       "      <td>3.91</td>\n",
       "      <td>806</td>\n",
       "      <td>288</td>\n",
       "      <td>Ace Books</td>\n",
       "      <td>October</td>\n",
       "      <td>2019</td>\n",
       "    </tr>\n",
       "    <tr>\n",
       "      <td>...</td>\n",
       "      <td>...</td>\n",
       "      <td>...</td>\n",
       "      <td>...</td>\n",
       "      <td>...</td>\n",
       "      <td>...</td>\n",
       "      <td>...</td>\n",
       "      <td>...</td>\n",
       "      <td>...</td>\n",
       "    </tr>\n",
       "    <tr>\n",
       "      <td>93</td>\n",
       "      <td>Deeplight</td>\n",
       "      <td>Frances Hardinge</td>\n",
       "      <td>4.37</td>\n",
       "      <td>132</td>\n",
       "      <td>63</td>\n",
       "      <td>Macmillan Children's Books</td>\n",
       "      <td>October</td>\n",
       "      <td>2019</td>\n",
       "    </tr>\n",
       "    <tr>\n",
       "      <td>94</td>\n",
       "      <td>Watershed</td>\n",
       "      <td>Mark Barr</td>\n",
       "      <td>4.31</td>\n",
       "      <td>32</td>\n",
       "      <td>9</td>\n",
       "      <td>Hub City Press</td>\n",
       "      <td>October</td>\n",
       "      <td>2019</td>\n",
       "    </tr>\n",
       "    <tr>\n",
       "      <td>95</td>\n",
       "      <td>Things We Say in the Dark</td>\n",
       "      <td>Kirsty Logan</td>\n",
       "      <td>4.26</td>\n",
       "      <td>122</td>\n",
       "      <td>33</td>\n",
       "      <td>Harvill Secker</td>\n",
       "      <td>October</td>\n",
       "      <td>2019</td>\n",
       "    </tr>\n",
       "    <tr>\n",
       "      <td>96</td>\n",
       "      <td>The Weight of a Moment</td>\n",
       "      <td>Michael  Bowe</td>\n",
       "      <td>4.60</td>\n",
       "      <td>52</td>\n",
       "      <td>33</td>\n",
       "      <td>Villa Campanile Press</td>\n",
       "      <td>October</td>\n",
       "      <td>2019</td>\n",
       "    </tr>\n",
       "    <tr>\n",
       "      <td>97</td>\n",
       "      <td>Bury the Lede</td>\n",
       "      <td>Gaby Dunn</td>\n",
       "      <td>3.47</td>\n",
       "      <td>265</td>\n",
       "      <td>118</td>\n",
       "      <td>Boom! Studios</td>\n",
       "      <td>October</td>\n",
       "      <td>2019</td>\n",
       "    </tr>\n",
       "  </tbody>\n",
       "</table>\n",
       "<p>93 rows × 8 columns</p>\n",
       "</div>"
      ],
      "text/plain": [
       "                       BookTitle        AuthorName  Avg_Rating  No_of_Rating  \\\n",
       "0               Imaginary Friend   Stephen Chbosky        3.57          3330   \n",
       "1       The Fountains of Silence      Ruta Sepetys        4.34          3239   \n",
       "2                   Olive, Again  Elizabeth Strout        4.37          3895   \n",
       "3                        Find Me      André Aciman        3.49          1956   \n",
       "4   The Library of the Unwritten     A.J. Hackwith        3.91           806   \n",
       "..                           ...               ...         ...           ...   \n",
       "93                     Deeplight  Frances Hardinge        4.37           132   \n",
       "94                     Watershed         Mark Barr        4.31            32   \n",
       "95     Things We Say in the Dark      Kirsty Logan        4.26           122   \n",
       "96        The Weight of a Moment     Michael  Bowe        4.60            52   \n",
       "97                 Bury the Lede         Gaby Dunn        3.47           265   \n",
       "\n",
       "    No_of_Review         Publication_Company Publication_Month  \\\n",
       "0           1088    Grand Central Publishing           October   \n",
       "1            914              Philomel Books           October   \n",
       "2            915                Random House           October   \n",
       "3            452   Farrar, Straus and Giroux           October   \n",
       "4            288                   Ace Books           October   \n",
       "..           ...                         ...               ...   \n",
       "93            63  Macmillan Children's Books           October   \n",
       "94             9              Hub City Press           October   \n",
       "95            33              Harvill Secker           October   \n",
       "96            33       Villa Campanile Press           October   \n",
       "97           118               Boom! Studios           October   \n",
       "\n",
       "   Publication_Year  \n",
       "0              2019  \n",
       "1              2019  \n",
       "2              2019  \n",
       "3              2019  \n",
       "4              2019  \n",
       "..              ...  \n",
       "93             2019  \n",
       "94             2019  \n",
       "95             2019  \n",
       "96             2019  \n",
       "97             2019  \n",
       "\n",
       "[93 rows x 8 columns]"
      ]
     },
     "execution_count": 41,
     "metadata": {},
     "output_type": "execute_result"
    }
   ],
   "source": [
    "df"
   ]
  },
  {
   "cell_type": "code",
   "execution_count": 42,
   "metadata": {},
   "outputs": [],
   "source": [
    "#save the cleansed dataset into a csv file\n",
    "df.to_csv(f\"GoodReads_NewRelease_Info_clean_{last_month}.csv\")"
   ]
  },
  {
   "cell_type": "markdown",
   "metadata": {},
   "source": [
    "## 3. Analyse the Dataset"
   ]
  },
  {
   "cell_type": "code",
   "execution_count": 43,
   "metadata": {},
   "outputs": [],
   "source": [
    "# to find top books based on the Avg_Rating\n",
    "Avg_Rating_df = df.sort_values('Avg_Rating',ascending=False).copy()"
   ]
  },
  {
   "cell_type": "code",
   "execution_count": 44,
   "metadata": {},
   "outputs": [
    {
     "data": {
      "text/html": [
       "<div>\n",
       "<style scoped>\n",
       "    .dataframe tbody tr th:only-of-type {\n",
       "        vertical-align: middle;\n",
       "    }\n",
       "\n",
       "    .dataframe tbody tr th {\n",
       "        vertical-align: top;\n",
       "    }\n",
       "\n",
       "    .dataframe thead th {\n",
       "        text-align: right;\n",
       "    }\n",
       "</style>\n",
       "<table border=\"1\" class=\"dataframe\">\n",
       "  <thead>\n",
       "    <tr style=\"text-align: right;\">\n",
       "      <th></th>\n",
       "      <th>BookTitle</th>\n",
       "      <th>Avg_Rating</th>\n",
       "    </tr>\n",
       "  </thead>\n",
       "  <tbody>\n",
       "    <tr>\n",
       "      <td>96</td>\n",
       "      <td>The Weight of a Moment</td>\n",
       "      <td>4.60</td>\n",
       "    </tr>\n",
       "    <tr>\n",
       "      <td>79</td>\n",
       "      <td>How Fires End</td>\n",
       "      <td>4.59</td>\n",
       "    </tr>\n",
       "    <tr>\n",
       "      <td>43</td>\n",
       "      <td>Shattered Bonds</td>\n",
       "      <td>4.56</td>\n",
       "    </tr>\n",
       "    <tr>\n",
       "      <td>67</td>\n",
       "      <td>Amber Hollow</td>\n",
       "      <td>4.55</td>\n",
       "    </tr>\n",
       "    <tr>\n",
       "      <td>60</td>\n",
       "      <td>Holding On To Nothing</td>\n",
       "      <td>4.52</td>\n",
       "    </tr>\n",
       "    <tr>\n",
       "      <td>89</td>\n",
       "      <td>The Tornado</td>\n",
       "      <td>4.49</td>\n",
       "    </tr>\n",
       "    <tr>\n",
       "      <td>61</td>\n",
       "      <td>The Painted Castle</td>\n",
       "      <td>4.47</td>\n",
       "    </tr>\n",
       "    <tr>\n",
       "      <td>90</td>\n",
       "      <td>Here Until August: Stories</td>\n",
       "      <td>4.44</td>\n",
       "    </tr>\n",
       "    <tr>\n",
       "      <td>34</td>\n",
       "      <td>Tristan Strong Punches a Hole in the Sky</td>\n",
       "      <td>4.42</td>\n",
       "    </tr>\n",
       "    <tr>\n",
       "      <td>75</td>\n",
       "      <td>Salvation Lost</td>\n",
       "      <td>4.40</td>\n",
       "    </tr>\n",
       "  </tbody>\n",
       "</table>\n",
       "</div>"
      ],
      "text/plain": [
       "                                   BookTitle  Avg_Rating\n",
       "96                    The Weight of a Moment        4.60\n",
       "79                             How Fires End        4.59\n",
       "43                           Shattered Bonds        4.56\n",
       "67                              Amber Hollow        4.55\n",
       "60                     Holding On To Nothing        4.52\n",
       "89                               The Tornado        4.49\n",
       "61                        The Painted Castle        4.47\n",
       "90                Here Until August: Stories        4.44\n",
       "34  Tristan Strong Punches a Hole in the Sky        4.42\n",
       "75                            Salvation Lost        4.40"
      ]
     },
     "execution_count": 44,
     "metadata": {},
     "output_type": "execute_result"
    }
   ],
   "source": [
    "#display the top 10 books based on Avg_Rating\n",
    "Avg_Rating_df[['BookTitle','Avg_Rating']].head(10)"
   ]
  },
  {
   "cell_type": "code",
   "execution_count": 45,
   "metadata": {},
   "outputs": [
    {
     "data": {
      "application/vnd.plotly.v1+json": {
       "config": {
        "linkText": "Export to plot.ly",
        "plotlyServerURL": "https://plot.ly",
        "showLink": false
       },
       "data": [
        {
         "name": "No of Rating",
         "type": "bar",
         "x": [
          "The Weight of a Moment",
          "How Fires End",
          "Shattered Bonds",
          "Amber Hollow",
          "Holding On To Nothing",
          "The Tornado",
          "The Painted Castle",
          "Here Until August: Stories",
          "Tristan Strong Punches a Hole in the Sky",
          "Salvation Lost"
         ],
         "y": [
          52,
          181,
          1114,
          11,
          157,
          69,
          220,
          45,
          318,
          332
         ]
        },
        {
         "name": "No of Review",
         "type": "bar",
         "x": [
          "The Weight of a Moment",
          "How Fires End",
          "Shattered Bonds",
          "Amber Hollow",
          "Holding On To Nothing",
          "The Tornado",
          "The Painted Castle",
          "Here Until August: Stories",
          "Tristan Strong Punches a Hole in the Sky",
          "Salvation Lost"
         ],
         "y": [
          33,
          39,
          212,
          10,
          37,
          38,
          157,
          9,
          132,
          39
         ]
        }
       ],
       "layout": {
        "template": {
         "data": {
          "bar": [
           {
            "error_x": {
             "color": "#2a3f5f"
            },
            "error_y": {
             "color": "#2a3f5f"
            },
            "marker": {
             "line": {
              "color": "#E5ECF6",
              "width": 0.5
             }
            },
            "type": "bar"
           }
          ],
          "barpolar": [
           {
            "marker": {
             "line": {
              "color": "#E5ECF6",
              "width": 0.5
             }
            },
            "type": "barpolar"
           }
          ],
          "carpet": [
           {
            "aaxis": {
             "endlinecolor": "#2a3f5f",
             "gridcolor": "white",
             "linecolor": "white",
             "minorgridcolor": "white",
             "startlinecolor": "#2a3f5f"
            },
            "baxis": {
             "endlinecolor": "#2a3f5f",
             "gridcolor": "white",
             "linecolor": "white",
             "minorgridcolor": "white",
             "startlinecolor": "#2a3f5f"
            },
            "type": "carpet"
           }
          ],
          "choropleth": [
           {
            "colorbar": {
             "outlinewidth": 0,
             "ticks": ""
            },
            "type": "choropleth"
           }
          ],
          "contour": [
           {
            "colorbar": {
             "outlinewidth": 0,
             "ticks": ""
            },
            "colorscale": [
             [
              0,
              "#0d0887"
             ],
             [
              0.1111111111111111,
              "#46039f"
             ],
             [
              0.2222222222222222,
              "#7201a8"
             ],
             [
              0.3333333333333333,
              "#9c179e"
             ],
             [
              0.4444444444444444,
              "#bd3786"
             ],
             [
              0.5555555555555556,
              "#d8576b"
             ],
             [
              0.6666666666666666,
              "#ed7953"
             ],
             [
              0.7777777777777778,
              "#fb9f3a"
             ],
             [
              0.8888888888888888,
              "#fdca26"
             ],
             [
              1,
              "#f0f921"
             ]
            ],
            "type": "contour"
           }
          ],
          "contourcarpet": [
           {
            "colorbar": {
             "outlinewidth": 0,
             "ticks": ""
            },
            "type": "contourcarpet"
           }
          ],
          "heatmap": [
           {
            "colorbar": {
             "outlinewidth": 0,
             "ticks": ""
            },
            "colorscale": [
             [
              0,
              "#0d0887"
             ],
             [
              0.1111111111111111,
              "#46039f"
             ],
             [
              0.2222222222222222,
              "#7201a8"
             ],
             [
              0.3333333333333333,
              "#9c179e"
             ],
             [
              0.4444444444444444,
              "#bd3786"
             ],
             [
              0.5555555555555556,
              "#d8576b"
             ],
             [
              0.6666666666666666,
              "#ed7953"
             ],
             [
              0.7777777777777778,
              "#fb9f3a"
             ],
             [
              0.8888888888888888,
              "#fdca26"
             ],
             [
              1,
              "#f0f921"
             ]
            ],
            "type": "heatmap"
           }
          ],
          "heatmapgl": [
           {
            "colorbar": {
             "outlinewidth": 0,
             "ticks": ""
            },
            "colorscale": [
             [
              0,
              "#0d0887"
             ],
             [
              0.1111111111111111,
              "#46039f"
             ],
             [
              0.2222222222222222,
              "#7201a8"
             ],
             [
              0.3333333333333333,
              "#9c179e"
             ],
             [
              0.4444444444444444,
              "#bd3786"
             ],
             [
              0.5555555555555556,
              "#d8576b"
             ],
             [
              0.6666666666666666,
              "#ed7953"
             ],
             [
              0.7777777777777778,
              "#fb9f3a"
             ],
             [
              0.8888888888888888,
              "#fdca26"
             ],
             [
              1,
              "#f0f921"
             ]
            ],
            "type": "heatmapgl"
           }
          ],
          "histogram": [
           {
            "marker": {
             "colorbar": {
              "outlinewidth": 0,
              "ticks": ""
             }
            },
            "type": "histogram"
           }
          ],
          "histogram2d": [
           {
            "colorbar": {
             "outlinewidth": 0,
             "ticks": ""
            },
            "colorscale": [
             [
              0,
              "#0d0887"
             ],
             [
              0.1111111111111111,
              "#46039f"
             ],
             [
              0.2222222222222222,
              "#7201a8"
             ],
             [
              0.3333333333333333,
              "#9c179e"
             ],
             [
              0.4444444444444444,
              "#bd3786"
             ],
             [
              0.5555555555555556,
              "#d8576b"
             ],
             [
              0.6666666666666666,
              "#ed7953"
             ],
             [
              0.7777777777777778,
              "#fb9f3a"
             ],
             [
              0.8888888888888888,
              "#fdca26"
             ],
             [
              1,
              "#f0f921"
             ]
            ],
            "type": "histogram2d"
           }
          ],
          "histogram2dcontour": [
           {
            "colorbar": {
             "outlinewidth": 0,
             "ticks": ""
            },
            "colorscale": [
             [
              0,
              "#0d0887"
             ],
             [
              0.1111111111111111,
              "#46039f"
             ],
             [
              0.2222222222222222,
              "#7201a8"
             ],
             [
              0.3333333333333333,
              "#9c179e"
             ],
             [
              0.4444444444444444,
              "#bd3786"
             ],
             [
              0.5555555555555556,
              "#d8576b"
             ],
             [
              0.6666666666666666,
              "#ed7953"
             ],
             [
              0.7777777777777778,
              "#fb9f3a"
             ],
             [
              0.8888888888888888,
              "#fdca26"
             ],
             [
              1,
              "#f0f921"
             ]
            ],
            "type": "histogram2dcontour"
           }
          ],
          "mesh3d": [
           {
            "colorbar": {
             "outlinewidth": 0,
             "ticks": ""
            },
            "type": "mesh3d"
           }
          ],
          "parcoords": [
           {
            "line": {
             "colorbar": {
              "outlinewidth": 0,
              "ticks": ""
             }
            },
            "type": "parcoords"
           }
          ],
          "scatter": [
           {
            "marker": {
             "colorbar": {
              "outlinewidth": 0,
              "ticks": ""
             }
            },
            "type": "scatter"
           }
          ],
          "scatter3d": [
           {
            "line": {
             "colorbar": {
              "outlinewidth": 0,
              "ticks": ""
             }
            },
            "marker": {
             "colorbar": {
              "outlinewidth": 0,
              "ticks": ""
             }
            },
            "type": "scatter3d"
           }
          ],
          "scattercarpet": [
           {
            "marker": {
             "colorbar": {
              "outlinewidth": 0,
              "ticks": ""
             }
            },
            "type": "scattercarpet"
           }
          ],
          "scattergeo": [
           {
            "marker": {
             "colorbar": {
              "outlinewidth": 0,
              "ticks": ""
             }
            },
            "type": "scattergeo"
           }
          ],
          "scattergl": [
           {
            "marker": {
             "colorbar": {
              "outlinewidth": 0,
              "ticks": ""
             }
            },
            "type": "scattergl"
           }
          ],
          "scattermapbox": [
           {
            "marker": {
             "colorbar": {
              "outlinewidth": 0,
              "ticks": ""
             }
            },
            "type": "scattermapbox"
           }
          ],
          "scatterpolar": [
           {
            "marker": {
             "colorbar": {
              "outlinewidth": 0,
              "ticks": ""
             }
            },
            "type": "scatterpolar"
           }
          ],
          "scatterpolargl": [
           {
            "marker": {
             "colorbar": {
              "outlinewidth": 0,
              "ticks": ""
             }
            },
            "type": "scatterpolargl"
           }
          ],
          "scatterternary": [
           {
            "marker": {
             "colorbar": {
              "outlinewidth": 0,
              "ticks": ""
             }
            },
            "type": "scatterternary"
           }
          ],
          "surface": [
           {
            "colorbar": {
             "outlinewidth": 0,
             "ticks": ""
            },
            "colorscale": [
             [
              0,
              "#0d0887"
             ],
             [
              0.1111111111111111,
              "#46039f"
             ],
             [
              0.2222222222222222,
              "#7201a8"
             ],
             [
              0.3333333333333333,
              "#9c179e"
             ],
             [
              0.4444444444444444,
              "#bd3786"
             ],
             [
              0.5555555555555556,
              "#d8576b"
             ],
             [
              0.6666666666666666,
              "#ed7953"
             ],
             [
              0.7777777777777778,
              "#fb9f3a"
             ],
             [
              0.8888888888888888,
              "#fdca26"
             ],
             [
              1,
              "#f0f921"
             ]
            ],
            "type": "surface"
           }
          ],
          "table": [
           {
            "cells": {
             "fill": {
              "color": "#EBF0F8"
             },
             "line": {
              "color": "white"
             }
            },
            "header": {
             "fill": {
              "color": "#C8D4E3"
             },
             "line": {
              "color": "white"
             }
            },
            "type": "table"
           }
          ]
         },
         "layout": {
          "annotationdefaults": {
           "arrowcolor": "#2a3f5f",
           "arrowhead": 0,
           "arrowwidth": 1
          },
          "colorscale": {
           "diverging": [
            [
             0,
             "#8e0152"
            ],
            [
             0.1,
             "#c51b7d"
            ],
            [
             0.2,
             "#de77ae"
            ],
            [
             0.3,
             "#f1b6da"
            ],
            [
             0.4,
             "#fde0ef"
            ],
            [
             0.5,
             "#f7f7f7"
            ],
            [
             0.6,
             "#e6f5d0"
            ],
            [
             0.7,
             "#b8e186"
            ],
            [
             0.8,
             "#7fbc41"
            ],
            [
             0.9,
             "#4d9221"
            ],
            [
             1,
             "#276419"
            ]
           ],
           "sequential": [
            [
             0,
             "#0d0887"
            ],
            [
             0.1111111111111111,
             "#46039f"
            ],
            [
             0.2222222222222222,
             "#7201a8"
            ],
            [
             0.3333333333333333,
             "#9c179e"
            ],
            [
             0.4444444444444444,
             "#bd3786"
            ],
            [
             0.5555555555555556,
             "#d8576b"
            ],
            [
             0.6666666666666666,
             "#ed7953"
            ],
            [
             0.7777777777777778,
             "#fb9f3a"
            ],
            [
             0.8888888888888888,
             "#fdca26"
            ],
            [
             1,
             "#f0f921"
            ]
           ],
           "sequentialminus": [
            [
             0,
             "#0d0887"
            ],
            [
             0.1111111111111111,
             "#46039f"
            ],
            [
             0.2222222222222222,
             "#7201a8"
            ],
            [
             0.3333333333333333,
             "#9c179e"
            ],
            [
             0.4444444444444444,
             "#bd3786"
            ],
            [
             0.5555555555555556,
             "#d8576b"
            ],
            [
             0.6666666666666666,
             "#ed7953"
            ],
            [
             0.7777777777777778,
             "#fb9f3a"
            ],
            [
             0.8888888888888888,
             "#fdca26"
            ],
            [
             1,
             "#f0f921"
            ]
           ]
          },
          "colorway": [
           "#636efa",
           "#EF553B",
           "#00cc96",
           "#ab63fa",
           "#FFA15A",
           "#19d3f3",
           "#FF6692",
           "#B6E880",
           "#FF97FF",
           "#FECB52"
          ],
          "font": {
           "color": "#2a3f5f"
          },
          "geo": {
           "bgcolor": "white",
           "lakecolor": "white",
           "landcolor": "#E5ECF6",
           "showlakes": true,
           "showland": true,
           "subunitcolor": "white"
          },
          "hoverlabel": {
           "align": "left"
          },
          "hovermode": "closest",
          "mapbox": {
           "style": "light"
          },
          "paper_bgcolor": "white",
          "plot_bgcolor": "#E5ECF6",
          "polar": {
           "angularaxis": {
            "gridcolor": "white",
            "linecolor": "white",
            "ticks": ""
           },
           "bgcolor": "#E5ECF6",
           "radialaxis": {
            "gridcolor": "white",
            "linecolor": "white",
            "ticks": ""
           }
          },
          "scene": {
           "xaxis": {
            "backgroundcolor": "#E5ECF6",
            "gridcolor": "white",
            "gridwidth": 2,
            "linecolor": "white",
            "showbackground": true,
            "ticks": "",
            "zerolinecolor": "white"
           },
           "yaxis": {
            "backgroundcolor": "#E5ECF6",
            "gridcolor": "white",
            "gridwidth": 2,
            "linecolor": "white",
            "showbackground": true,
            "ticks": "",
            "zerolinecolor": "white"
           },
           "zaxis": {
            "backgroundcolor": "#E5ECF6",
            "gridcolor": "white",
            "gridwidth": 2,
            "linecolor": "white",
            "showbackground": true,
            "ticks": "",
            "zerolinecolor": "white"
           }
          },
          "shapedefaults": {
           "line": {
            "color": "#2a3f5f"
           }
          },
          "ternary": {
           "aaxis": {
            "gridcolor": "white",
            "linecolor": "white",
            "ticks": ""
           },
           "baxis": {
            "gridcolor": "white",
            "linecolor": "white",
            "ticks": ""
           },
           "bgcolor": "#E5ECF6",
           "caxis": {
            "gridcolor": "white",
            "linecolor": "white",
            "ticks": ""
           }
          },
          "title": {
           "x": 0.05
          },
          "xaxis": {
           "automargin": true,
           "gridcolor": "white",
           "linecolor": "white",
           "ticks": "",
           "zerolinecolor": "white",
           "zerolinewidth": 2
          },
          "yaxis": {
           "automargin": true,
           "gridcolor": "white",
           "linecolor": "white",
           "ticks": "",
           "zerolinecolor": "white",
           "zerolinewidth": 2
          }
         }
        }
       }
      },
      "text/html": [
       "<div>\n",
       "        \n",
       "        \n",
       "            <div id=\"542e9247-4b91-4d92-a4a9-110fbb3f1ae8\" class=\"plotly-graph-div\" style=\"height:525px; width:100%;\"></div>\n",
       "            <script type=\"text/javascript\">\n",
       "                require([\"plotly\"], function(Plotly) {\n",
       "                    window.PLOTLYENV=window.PLOTLYENV || {};\n",
       "                    \n",
       "                if (document.getElementById(\"542e9247-4b91-4d92-a4a9-110fbb3f1ae8\")) {\n",
       "                    Plotly.newPlot(\n",
       "                        '542e9247-4b91-4d92-a4a9-110fbb3f1ae8',\n",
       "                        [{\"name\": \"No of Rating\", \"type\": \"bar\", \"x\": [\"The Weight of a Moment\", \"How Fires End\", \"Shattered Bonds\", \"Amber Hollow\", \"Holding On To Nothing\", \"The Tornado\", \"The Painted Castle\", \"Here Until August: Stories\", \"Tristan Strong Punches a Hole in the Sky\", \"Salvation Lost\"], \"y\": [52, 181, 1114, 11, 157, 69, 220, 45, 318, 332]}, {\"name\": \"No of Review\", \"type\": \"bar\", \"x\": [\"The Weight of a Moment\", \"How Fires End\", \"Shattered Bonds\", \"Amber Hollow\", \"Holding On To Nothing\", \"The Tornado\", \"The Painted Castle\", \"Here Until August: Stories\", \"Tristan Strong Punches a Hole in the Sky\", \"Salvation Lost\"], \"y\": [33, 39, 212, 10, 37, 38, 157, 9, 132, 39]}],\n",
       "                        {\"template\": {\"data\": {\"bar\": [{\"error_x\": {\"color\": \"#2a3f5f\"}, \"error_y\": {\"color\": \"#2a3f5f\"}, \"marker\": {\"line\": {\"color\": \"#E5ECF6\", \"width\": 0.5}}, \"type\": \"bar\"}], \"barpolar\": [{\"marker\": {\"line\": {\"color\": \"#E5ECF6\", \"width\": 0.5}}, \"type\": \"barpolar\"}], \"carpet\": [{\"aaxis\": {\"endlinecolor\": \"#2a3f5f\", \"gridcolor\": \"white\", \"linecolor\": \"white\", \"minorgridcolor\": \"white\", \"startlinecolor\": \"#2a3f5f\"}, \"baxis\": {\"endlinecolor\": \"#2a3f5f\", \"gridcolor\": \"white\", \"linecolor\": \"white\", \"minorgridcolor\": \"white\", \"startlinecolor\": \"#2a3f5f\"}, \"type\": \"carpet\"}], \"choropleth\": [{\"colorbar\": {\"outlinewidth\": 0, \"ticks\": \"\"}, \"type\": \"choropleth\"}], \"contour\": [{\"colorbar\": {\"outlinewidth\": 0, \"ticks\": \"\"}, \"colorscale\": [[0.0, \"#0d0887\"], [0.1111111111111111, \"#46039f\"], [0.2222222222222222, \"#7201a8\"], [0.3333333333333333, \"#9c179e\"], [0.4444444444444444, \"#bd3786\"], [0.5555555555555556, \"#d8576b\"], [0.6666666666666666, \"#ed7953\"], [0.7777777777777778, \"#fb9f3a\"], [0.8888888888888888, \"#fdca26\"], [1.0, \"#f0f921\"]], \"type\": \"contour\"}], \"contourcarpet\": [{\"colorbar\": {\"outlinewidth\": 0, \"ticks\": \"\"}, \"type\": \"contourcarpet\"}], \"heatmap\": [{\"colorbar\": {\"outlinewidth\": 0, \"ticks\": \"\"}, \"colorscale\": [[0.0, \"#0d0887\"], [0.1111111111111111, \"#46039f\"], [0.2222222222222222, \"#7201a8\"], [0.3333333333333333, \"#9c179e\"], [0.4444444444444444, \"#bd3786\"], [0.5555555555555556, \"#d8576b\"], [0.6666666666666666, \"#ed7953\"], [0.7777777777777778, \"#fb9f3a\"], [0.8888888888888888, \"#fdca26\"], [1.0, \"#f0f921\"]], \"type\": \"heatmap\"}], \"heatmapgl\": [{\"colorbar\": {\"outlinewidth\": 0, \"ticks\": \"\"}, \"colorscale\": [[0.0, \"#0d0887\"], [0.1111111111111111, \"#46039f\"], [0.2222222222222222, \"#7201a8\"], [0.3333333333333333, \"#9c179e\"], [0.4444444444444444, \"#bd3786\"], [0.5555555555555556, \"#d8576b\"], [0.6666666666666666, \"#ed7953\"], [0.7777777777777778, \"#fb9f3a\"], [0.8888888888888888, \"#fdca26\"], [1.0, \"#f0f921\"]], \"type\": \"heatmapgl\"}], \"histogram\": [{\"marker\": {\"colorbar\": {\"outlinewidth\": 0, \"ticks\": \"\"}}, \"type\": \"histogram\"}], \"histogram2d\": [{\"colorbar\": {\"outlinewidth\": 0, \"ticks\": \"\"}, \"colorscale\": [[0.0, \"#0d0887\"], [0.1111111111111111, \"#46039f\"], [0.2222222222222222, \"#7201a8\"], [0.3333333333333333, \"#9c179e\"], [0.4444444444444444, \"#bd3786\"], [0.5555555555555556, \"#d8576b\"], [0.6666666666666666, \"#ed7953\"], [0.7777777777777778, \"#fb9f3a\"], [0.8888888888888888, \"#fdca26\"], [1.0, \"#f0f921\"]], \"type\": \"histogram2d\"}], \"histogram2dcontour\": [{\"colorbar\": {\"outlinewidth\": 0, \"ticks\": \"\"}, \"colorscale\": [[0.0, \"#0d0887\"], [0.1111111111111111, \"#46039f\"], [0.2222222222222222, \"#7201a8\"], [0.3333333333333333, \"#9c179e\"], [0.4444444444444444, \"#bd3786\"], [0.5555555555555556, \"#d8576b\"], [0.6666666666666666, \"#ed7953\"], [0.7777777777777778, \"#fb9f3a\"], [0.8888888888888888, \"#fdca26\"], [1.0, \"#f0f921\"]], \"type\": \"histogram2dcontour\"}], \"mesh3d\": [{\"colorbar\": {\"outlinewidth\": 0, \"ticks\": \"\"}, \"type\": \"mesh3d\"}], \"parcoords\": [{\"line\": {\"colorbar\": {\"outlinewidth\": 0, \"ticks\": \"\"}}, \"type\": \"parcoords\"}], \"scatter\": [{\"marker\": {\"colorbar\": {\"outlinewidth\": 0, \"ticks\": \"\"}}, \"type\": \"scatter\"}], \"scatter3d\": [{\"line\": {\"colorbar\": {\"outlinewidth\": 0, \"ticks\": \"\"}}, \"marker\": {\"colorbar\": {\"outlinewidth\": 0, \"ticks\": \"\"}}, \"type\": \"scatter3d\"}], \"scattercarpet\": [{\"marker\": {\"colorbar\": {\"outlinewidth\": 0, \"ticks\": \"\"}}, \"type\": \"scattercarpet\"}], \"scattergeo\": [{\"marker\": {\"colorbar\": {\"outlinewidth\": 0, \"ticks\": \"\"}}, \"type\": \"scattergeo\"}], \"scattergl\": [{\"marker\": {\"colorbar\": {\"outlinewidth\": 0, \"ticks\": \"\"}}, \"type\": \"scattergl\"}], \"scattermapbox\": [{\"marker\": {\"colorbar\": {\"outlinewidth\": 0, \"ticks\": \"\"}}, \"type\": \"scattermapbox\"}], \"scatterpolar\": [{\"marker\": {\"colorbar\": {\"outlinewidth\": 0, \"ticks\": \"\"}}, \"type\": \"scatterpolar\"}], \"scatterpolargl\": [{\"marker\": {\"colorbar\": {\"outlinewidth\": 0, \"ticks\": \"\"}}, \"type\": \"scatterpolargl\"}], \"scatterternary\": [{\"marker\": {\"colorbar\": {\"outlinewidth\": 0, \"ticks\": \"\"}}, \"type\": \"scatterternary\"}], \"surface\": [{\"colorbar\": {\"outlinewidth\": 0, \"ticks\": \"\"}, \"colorscale\": [[0.0, \"#0d0887\"], [0.1111111111111111, \"#46039f\"], [0.2222222222222222, \"#7201a8\"], [0.3333333333333333, \"#9c179e\"], [0.4444444444444444, \"#bd3786\"], [0.5555555555555556, \"#d8576b\"], [0.6666666666666666, \"#ed7953\"], [0.7777777777777778, \"#fb9f3a\"], [0.8888888888888888, \"#fdca26\"], [1.0, \"#f0f921\"]], \"type\": \"surface\"}], \"table\": [{\"cells\": {\"fill\": {\"color\": \"#EBF0F8\"}, \"line\": {\"color\": \"white\"}}, \"header\": {\"fill\": {\"color\": \"#C8D4E3\"}, \"line\": {\"color\": \"white\"}}, \"type\": \"table\"}]}, \"layout\": {\"annotationdefaults\": {\"arrowcolor\": \"#2a3f5f\", \"arrowhead\": 0, \"arrowwidth\": 1}, \"colorscale\": {\"diverging\": [[0, \"#8e0152\"], [0.1, \"#c51b7d\"], [0.2, \"#de77ae\"], [0.3, \"#f1b6da\"], [0.4, \"#fde0ef\"], [0.5, \"#f7f7f7\"], [0.6, \"#e6f5d0\"], [0.7, \"#b8e186\"], [0.8, \"#7fbc41\"], [0.9, \"#4d9221\"], [1, \"#276419\"]], \"sequential\": [[0.0, \"#0d0887\"], [0.1111111111111111, \"#46039f\"], [0.2222222222222222, \"#7201a8\"], [0.3333333333333333, \"#9c179e\"], [0.4444444444444444, \"#bd3786\"], [0.5555555555555556, \"#d8576b\"], [0.6666666666666666, \"#ed7953\"], [0.7777777777777778, \"#fb9f3a\"], [0.8888888888888888, \"#fdca26\"], [1.0, \"#f0f921\"]], \"sequentialminus\": [[0.0, \"#0d0887\"], [0.1111111111111111, \"#46039f\"], [0.2222222222222222, \"#7201a8\"], [0.3333333333333333, \"#9c179e\"], [0.4444444444444444, \"#bd3786\"], [0.5555555555555556, \"#d8576b\"], [0.6666666666666666, \"#ed7953\"], [0.7777777777777778, \"#fb9f3a\"], [0.8888888888888888, \"#fdca26\"], [1.0, \"#f0f921\"]]}, \"colorway\": [\"#636efa\", \"#EF553B\", \"#00cc96\", \"#ab63fa\", \"#FFA15A\", \"#19d3f3\", \"#FF6692\", \"#B6E880\", \"#FF97FF\", \"#FECB52\"], \"font\": {\"color\": \"#2a3f5f\"}, \"geo\": {\"bgcolor\": \"white\", \"lakecolor\": \"white\", \"landcolor\": \"#E5ECF6\", \"showlakes\": true, \"showland\": true, \"subunitcolor\": \"white\"}, \"hoverlabel\": {\"align\": \"left\"}, \"hovermode\": \"closest\", \"mapbox\": {\"style\": \"light\"}, \"paper_bgcolor\": \"white\", \"plot_bgcolor\": \"#E5ECF6\", \"polar\": {\"angularaxis\": {\"gridcolor\": \"white\", \"linecolor\": \"white\", \"ticks\": \"\"}, \"bgcolor\": \"#E5ECF6\", \"radialaxis\": {\"gridcolor\": \"white\", \"linecolor\": \"white\", \"ticks\": \"\"}}, \"scene\": {\"xaxis\": {\"backgroundcolor\": \"#E5ECF6\", \"gridcolor\": \"white\", \"gridwidth\": 2, \"linecolor\": \"white\", \"showbackground\": true, \"ticks\": \"\", \"zerolinecolor\": \"white\"}, \"yaxis\": {\"backgroundcolor\": \"#E5ECF6\", \"gridcolor\": \"white\", \"gridwidth\": 2, \"linecolor\": \"white\", \"showbackground\": true, \"ticks\": \"\", \"zerolinecolor\": \"white\"}, \"zaxis\": {\"backgroundcolor\": \"#E5ECF6\", \"gridcolor\": \"white\", \"gridwidth\": 2, \"linecolor\": \"white\", \"showbackground\": true, \"ticks\": \"\", \"zerolinecolor\": \"white\"}}, \"shapedefaults\": {\"line\": {\"color\": \"#2a3f5f\"}}, \"ternary\": {\"aaxis\": {\"gridcolor\": \"white\", \"linecolor\": \"white\", \"ticks\": \"\"}, \"baxis\": {\"gridcolor\": \"white\", \"linecolor\": \"white\", \"ticks\": \"\"}, \"bgcolor\": \"#E5ECF6\", \"caxis\": {\"gridcolor\": \"white\", \"linecolor\": \"white\", \"ticks\": \"\"}}, \"title\": {\"x\": 0.05}, \"xaxis\": {\"automargin\": true, \"gridcolor\": \"white\", \"linecolor\": \"white\", \"ticks\": \"\", \"zerolinecolor\": \"white\", \"zerolinewidth\": 2}, \"yaxis\": {\"automargin\": true, \"gridcolor\": \"white\", \"linecolor\": \"white\", \"ticks\": \"\", \"zerolinecolor\": \"white\", \"zerolinewidth\": 2}}}},\n",
       "                        {\"responsive\": true}\n",
       "                    ).then(function(){\n",
       "                            \n",
       "var gd = document.getElementById('542e9247-4b91-4d92-a4a9-110fbb3f1ae8');\n",
       "var x = new MutationObserver(function (mutations, observer) {{\n",
       "        var display = window.getComputedStyle(gd).display;\n",
       "        if (!display || display === 'none') {{\n",
       "            console.log([gd, 'removed!']);\n",
       "            Plotly.purge(gd);\n",
       "            observer.disconnect();\n",
       "        }}\n",
       "}});\n",
       "\n",
       "// Listen for the removal of the full notebook cells\n",
       "var notebookContainer = gd.closest('#notebook-container');\n",
       "if (notebookContainer) {{\n",
       "    x.observe(notebookContainer, {childList: true});\n",
       "}}\n",
       "\n",
       "// Listen for the clearing of the current output cell\n",
       "var outputEl = gd.closest('.output');\n",
       "if (outputEl) {{\n",
       "    x.observe(outputEl, {childList: true});\n",
       "}}\n",
       "\n",
       "                        })\n",
       "                };\n",
       "                });\n",
       "            </script>\n",
       "        </div>"
      ]
     },
     "metadata": {},
     "output_type": "display_data"
    }
   ],
   "source": [
    "#plot the grapg to show the no of ratings and review for each\\ top n books having highest Avg_Rating\n",
    "df1 = (df.nlargest(10,\"Avg_Rating\"))\n",
    "objs = [\n",
    "    go.Bar(x=df1.BookTitle, y=df1.No_of_Rating, name=\"No of Rating\"),\n",
    "    go.Bar(x=df1.BookTitle, y=df1.No_of_Review, name=\"No of Review\"),\n",
    "]\n",
    "iplot(objs)"
   ]
  },
  {
   "cell_type": "markdown",
   "metadata": {},
   "source": [
    "## 4. Generate an email"
   ]
  },
  {
   "cell_type": "code",
   "execution_count": 46,
   "metadata": {},
   "outputs": [],
   "source": [
    "#func to send mail  \n",
    "#include book details(name & author) and links in the email body\n",
    "def send_mail(data,No_of_links = 0):\n",
    "    \n",
    "    #smtp connetion to send mail\n",
    "    smtp_ssl_host = 'smtp.gmail.com'  # smtp.mail.yahoo.com\n",
    "    smtp_ssl_port = 465\n",
    "    username = 'pthnproject@gmail.com'\n",
    "    password = 'XXXXXXXXXXXXXXXXX'\n",
    "    sender = 'pthnproject@gmail.com'\n",
    "    targets = 'abc@gmail.com'\n",
    "    \n",
    "    msg = MIMEMultipart()\n",
    "    \n",
    "    msg['Subject'] = f\"Happy Reading {last_month}\"\n",
    "    msg['From'] = sender\n",
    "    msg['To'] = ', '.join(targets)\n",
    "    \n",
    "    #intro\n",
    "    intro = f\"\"\"<pre>\n",
    "        Book Depository Links to October Releases \n",
    "        Top {No_of_links} Books with Highest Average Rating in the fictional section \n",
    "    \n",
    "        Clink on the Links to order</pre>\"\"\"\n",
    "    txt = MIMEText(intro,'html')\n",
    "    msg.attach(txt)\n",
    "    \n",
    "    #body\n",
    "    item_no =1\n",
    "    for item in range(0,No_of_links):\n",
    "        book_details = ((data['BookTitle'].values[item]).strip()) +\" by \"+ ((data['AuthorName'].values[item]).strip())\n",
    "        book_link = book_details.replace(\" \", \"+\")\n",
    "        url = f\"https://www.bookdepository.com/search?searchTerm={book_link}\"\n",
    "        Link = url\n",
    "        \n",
    "        email_body= f\"\"\"<pre> \n",
    "        {item_no}.{book_details}\n",
    "        {Link}</pre>\"\"\"\n",
    "        item_no +=1\n",
    "        \n",
    "        txt = MIMEText(email_body,'html')\n",
    "        msg.attach(txt)\n",
    "    \n",
    "    #image\n",
    "    filepath = \"Reading quotes.jpeg\"\n",
    "    with open(filepath, 'rb') as f:\n",
    "        img = MIMEImage(f.read())\n",
    "\n",
    "    img.add_header('Content-Disposition',\n",
    "               'attachment',\n",
    "               filename=os.path.basename(filepath))\n",
    "    msg.attach(img)\n",
    "\n",
    "    server = smtplib.SMTP_SSL(smtp_ssl_host, smtp_ssl_port)\n",
    "    server.login(username, password)\n",
    "    server.sendmail(sender, targets, msg.as_string())\n",
    "    server.quit()"
   ]
  },
  {
   "cell_type": "code",
   "execution_count": 47,
   "metadata": {},
   "outputs": [],
   "source": [
    "#call the func to get the order links for each top n books in the email\n",
    "send_mail(Avg_Rating_df,No_of_links = 5)"
   ]
  },
  {
   "cell_type": "markdown",
   "metadata": {},
   "source": []
  },
  {
   "cell_type": "code",
   "execution_count": null,
   "metadata": {},
   "outputs": [],
   "source": []
  }
 ],
 "metadata": {
  "kernelspec": {
   "display_name": "Python 3",
   "language": "python",
   "name": "python3"
  },
  "language_info": {
   "codemirror_mode": {
    "name": "ipython",
    "version": 3
   },
   "file_extension": ".py",
   "mimetype": "text/x-python",
   "name": "python",
   "nbconvert_exporter": "python",
   "pygments_lexer": "ipython3",
   "version": "3.7.4"
  }
 },
 "nbformat": 4,
 "nbformat_minor": 2
}
